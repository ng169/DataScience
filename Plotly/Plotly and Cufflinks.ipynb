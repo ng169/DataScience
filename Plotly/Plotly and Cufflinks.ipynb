{
 "cells": [
  {
   "cell_type": "markdown",
   "metadata": {},
   "source": [
    "# Plotly and Cufflinks"
   ]
  },
  {
   "cell_type": "markdown",
   "metadata": {},
   "source": [
    "Plotly is a library that allows you to create interactive plots that you can use in dashboards or websites (you can save them as html files or static images).\n",
    "\n",
    "## Installation\n",
    "\n",
    "In order for this all to work, you'll need to install plotly and cufflinks to call plots directly off of a pandas dataframe. These libraries are not currently available through**conda**but are available through**pip**. Install the libraries at your command line/terminal using:\n",
    "\n",
    "    pip install plotly\n",
    "    pip install cufflinks\n",
    "\n",
    "## Imports and Set-up"
   ]
  },
  {
   "cell_type": "code",
   "execution_count": 1,
   "metadata": {},
   "outputs": [],
   "source": [
    "import pandas as pd\n",
    "import numpy as np\n",
    "%matplotlib inline"
   ]
  },
  {
   "cell_type": "code",
   "execution_count": 2,
   "metadata": {},
   "outputs": [
    {
     "name": "stdout",
     "output_type": "stream",
     "text": [
      "5.6.0\n"
     ]
    }
   ],
   "source": [
    "from plotly import __version__\n",
    "from plotly.offline import download_plotlyjs, init_notebook_mode, plot, iplot\n",
    "\n",
    "print(__version__) # requires version >= 1.9.0"
   ]
  },
  {
   "cell_type": "code",
   "execution_count": 3,
   "metadata": {},
   "outputs": [],
   "source": [
    "import cufflinks as cf"
   ]
  },
  {
   "cell_type": "code",
   "execution_count": 4,
   "metadata": {},
   "outputs": [
    {
     "data": {
      "text/html": [
       "        <script type=\"text/javascript\">\n",
       "        window.PlotlyConfig = {MathJaxConfig: 'local'};\n",
       "        if (window.MathJax) {MathJax.Hub.Config({SVG: {font: \"STIX-Web\"}});}\n",
       "        if (typeof require !== 'undefined') {\n",
       "        require.undef(\"plotly\");\n",
       "        requirejs.config({\n",
       "            paths: {\n",
       "                'plotly': ['https://cdn.plot.ly/plotly-2.9.0.min']\n",
       "            }\n",
       "        });\n",
       "        require(['plotly'], function(Plotly) {\n",
       "            window._Plotly = Plotly;\n",
       "        });\n",
       "        }\n",
       "        </script>\n",
       "        "
      ]
     },
     "metadata": {},
     "output_type": "display_data"
    }
   ],
   "source": [
    "# For Notebooks\n",
    "init_notebook_mode(connected=True)"
   ]
  },
  {
   "cell_type": "code",
   "execution_count": 5,
   "metadata": {},
   "outputs": [
    {
     "data": {
      "text/html": [
       "        <script type=\"text/javascript\">\n",
       "        window.PlotlyConfig = {MathJaxConfig: 'local'};\n",
       "        if (window.MathJax) {MathJax.Hub.Config({SVG: {font: \"STIX-Web\"}});}\n",
       "        if (typeof require !== 'undefined') {\n",
       "        require.undef(\"plotly\");\n",
       "        requirejs.config({\n",
       "            paths: {\n",
       "                'plotly': ['https://cdn.plot.ly/plotly-2.9.0.min']\n",
       "            }\n",
       "        });\n",
       "        require(['plotly'], function(Plotly) {\n",
       "            window._Plotly = Plotly;\n",
       "        });\n",
       "        }\n",
       "        </script>\n",
       "        "
      ]
     },
     "metadata": {},
     "output_type": "display_data"
    }
   ],
   "source": [
    "# For offline use\n",
    "cf.go_offline()"
   ]
  },
  {
   "cell_type": "markdown",
   "metadata": {},
   "source": [
    "### Fake Data"
   ]
  },
  {
   "cell_type": "code",
   "execution_count": 6,
   "metadata": {},
   "outputs": [],
   "source": [
    "df = pd.DataFrame(np.random.randn(100,4),columns='A B C D'.split())"
   ]
  },
  {
   "cell_type": "code",
   "execution_count": 7,
   "metadata": {},
   "outputs": [
    {
     "data": {
      "text/html": [
       "<div>\n",
       "<style scoped>\n",
       "    .dataframe tbody tr th:only-of-type {\n",
       "        vertical-align: middle;\n",
       "    }\n",
       "\n",
       "    .dataframe tbody tr th {\n",
       "        vertical-align: top;\n",
       "    }\n",
       "\n",
       "    .dataframe thead th {\n",
       "        text-align: right;\n",
       "    }\n",
       "</style>\n",
       "<table border=\"1\" class=\"dataframe\">\n",
       "  <thead>\n",
       "    <tr style=\"text-align: right;\">\n",
       "      <th></th>\n",
       "      <th>A</th>\n",
       "      <th>B</th>\n",
       "      <th>C</th>\n",
       "      <th>D</th>\n",
       "    </tr>\n",
       "  </thead>\n",
       "  <tbody>\n",
       "    <tr>\n",
       "      <th>0</th>\n",
       "      <td>0.439512</td>\n",
       "      <td>0.428071</td>\n",
       "      <td>-1.378715</td>\n",
       "      <td>-1.196729</td>\n",
       "    </tr>\n",
       "    <tr>\n",
       "      <th>1</th>\n",
       "      <td>0.020153</td>\n",
       "      <td>0.718042</td>\n",
       "      <td>-0.726116</td>\n",
       "      <td>1.208443</td>\n",
       "    </tr>\n",
       "    <tr>\n",
       "      <th>2</th>\n",
       "      <td>-0.374074</td>\n",
       "      <td>0.039018</td>\n",
       "      <td>0.222436</td>\n",
       "      <td>0.893391</td>\n",
       "    </tr>\n",
       "    <tr>\n",
       "      <th>3</th>\n",
       "      <td>-0.539926</td>\n",
       "      <td>-2.223254</td>\n",
       "      <td>1.147762</td>\n",
       "      <td>-0.837016</td>\n",
       "    </tr>\n",
       "    <tr>\n",
       "      <th>4</th>\n",
       "      <td>-1.141514</td>\n",
       "      <td>-0.875572</td>\n",
       "      <td>-1.437757</td>\n",
       "      <td>0.054950</td>\n",
       "    </tr>\n",
       "  </tbody>\n",
       "</table>\n",
       "</div>"
      ],
      "text/plain": [
       "          A         B         C         D\n",
       "0  0.439512  0.428071 -1.378715 -1.196729\n",
       "1  0.020153  0.718042 -0.726116  1.208443\n",
       "2 -0.374074  0.039018  0.222436  0.893391\n",
       "3 -0.539926 -2.223254  1.147762 -0.837016\n",
       "4 -1.141514 -0.875572 -1.437757  0.054950"
      ]
     },
     "execution_count": 7,
     "metadata": {},
     "output_type": "execute_result"
    }
   ],
   "source": [
    "df.head()"
   ]
  },
  {
   "cell_type": "code",
   "execution_count": 8,
   "metadata": {},
   "outputs": [],
   "source": [
    "df2 = pd.DataFrame({'Category':['A','B','C'],'Values':[32,43,50]})"
   ]
  },
  {
   "cell_type": "code",
   "execution_count": 9,
   "metadata": {},
   "outputs": [
    {
     "data": {
      "text/html": [
       "<div>\n",
       "<style scoped>\n",
       "    .dataframe tbody tr th:only-of-type {\n",
       "        vertical-align: middle;\n",
       "    }\n",
       "\n",
       "    .dataframe tbody tr th {\n",
       "        vertical-align: top;\n",
       "    }\n",
       "\n",
       "    .dataframe thead th {\n",
       "        text-align: right;\n",
       "    }\n",
       "</style>\n",
       "<table border=\"1\" class=\"dataframe\">\n",
       "  <thead>\n",
       "    <tr style=\"text-align: right;\">\n",
       "      <th></th>\n",
       "      <th>Category</th>\n",
       "      <th>Values</th>\n",
       "    </tr>\n",
       "  </thead>\n",
       "  <tbody>\n",
       "    <tr>\n",
       "      <th>0</th>\n",
       "      <td>A</td>\n",
       "      <td>32</td>\n",
       "    </tr>\n",
       "    <tr>\n",
       "      <th>1</th>\n",
       "      <td>B</td>\n",
       "      <td>43</td>\n",
       "    </tr>\n",
       "    <tr>\n",
       "      <th>2</th>\n",
       "      <td>C</td>\n",
       "      <td>50</td>\n",
       "    </tr>\n",
       "  </tbody>\n",
       "</table>\n",
       "</div>"
      ],
      "text/plain": [
       "  Category  Values\n",
       "0        A      32\n",
       "1        B      43\n",
       "2        C      50"
      ]
     },
     "execution_count": 9,
     "metadata": {},
     "output_type": "execute_result"
    }
   ],
   "source": [
    "df2.head()"
   ]
  },
  {
   "cell_type": "markdown",
   "metadata": {},
   "source": [
    "## Using Cufflinks and iplot()\n",
    "\n",
    "* scatter\n",
    "* bar\n",
    "* box\n",
    "* spread\n",
    "* ratio\n",
    "* heatmap\n",
    "* surface\n",
    "* histogram\n",
    "* bubble"
   ]
  },
  {
   "cell_type": "markdown",
   "metadata": {},
   "source": [
    "## Scatter"
   ]
  },
  {
   "cell_type": "code",
   "execution_count": 10,
   "metadata": {},
   "outputs": [
    {
     "data": {
      "application/vnd.plotly.v1+json": {
       "config": {
        "linkText": "Export to plot.ly",
        "plotlyServerURL": "https://plot.ly",
        "showLink": true
       },
       "data": [
        {
         "line": {
          "color": "rgba(255, 153, 51, 1.0)",
          "dash": "solid",
          "shape": "linear",
          "width": 1.3
         },
         "marker": {
          "size": 10,
          "symbol": "circle"
         },
         "mode": "markers",
         "name": "B",
         "text": "",
         "type": "scatter",
         "x": [
          0.4395119976966545,
          0.020152580888882565,
          -0.37407441444430184,
          -0.539926331737172,
          -1.1415136887036064,
          0.8166657567438118,
          -0.6224297536168503,
          0.7308894349710953,
          0.7203192879102357,
          -1.3737647648303697,
          -1.23119009378185,
          0.3198538375639925,
          0.26348650235568355,
          0.6488757306353029,
          -0.00728590715634182,
          -0.7565433586862875,
          -0.6563581332656321,
          -0.2718198150238515,
          2.3006887217341485,
          -0.0016354406682298403,
          -0.44155799103745624,
          -0.05360096166018684,
          0.1482445798661521,
          -0.31540345886485455,
          -1.0965840430633944,
          0.10640896879094265,
          -0.6070796967732894,
          -0.22733509919143075,
          1.9043079760497075,
          0.15758544829888035,
          -0.8467557485348001,
          -0.05415976370766293,
          -0.9788011598549242,
          -1.6583630823284712,
          0.8159503058015778,
          -0.25181207826404073,
          -0.8324733961614146,
          -0.6260559102319855,
          -0.31995726864785823,
          1.1849051256609375,
          -0.284668437153468,
          -1.3551041866389977,
          -0.44227550517139147,
          -0.6564605155145264,
          1.4465930611506095,
          0.025068373987287135,
          -0.7669606770160547,
          -0.5443292144876736,
          1.8675957298506896,
          0.598656129228373,
          -1.4141874887718855,
          -0.22207017252161643,
          -0.5557646921062268,
          0.023795421367580435,
          0.2591414523453681,
          0.16506972348129514,
          -1.6995486727841598,
          0.495897711386881,
          -2.16172874318155,
          0.4695045378281316,
          0.8808506673427354,
          -0.2849864405045829,
          -1.3827658787536463,
          -1.9087429354622187,
          0.5103912430314287,
          -0.569148889572966,
          -0.39583345631377553,
          1.6927286444863971,
          1.3794804856602336,
          1.02340631443928,
          -0.8786847928090047,
          -0.22365353139572725,
          -0.6286343213996785,
          0.1852315531564232,
          0.13414886930901337,
          -1.6146835134016613,
          1.6490844301298115,
          -1.5550285792794807,
          1.344854834805804,
          -1.2139962371553352,
          -1.8529045686615873,
          0.159159120937591,
          1.0210668604863389,
          -0.5824035944285543,
          0.08560547669436594,
          -0.3686773747493008,
          1.214718224277028,
          -0.051241433224650676,
          0.08303529764650347,
          0.9092419090260879,
          -1.0618356396353699,
          -1.3732900879073142,
          -1.751218488708866,
          -0.13388061656749478,
          0.18032175371235448,
          -0.2244659045304318,
          1.1168388101991757,
          -0.5571809881209141,
          -1.577732479354081,
          0.4027152366654449
         ],
         "y": [
          0.4280706362665727,
          0.7180418134509058,
          0.039018123521560956,
          -2.223254471201788,
          -0.875572466427057,
          0.31082962918417856,
          0.04164485460440668,
          -1.3375954608338874,
          -1.3405437149873514,
          0.8572242598587281,
          -0.16188928162123553,
          -0.7187491678629951,
          0.3999681853251334,
          -0.8651274609324161,
          1.9398556052996982,
          0.37170042818699983,
          -1.2034611707274985,
          0.8393246337713155,
          0.41155942561230474,
          0.00033315878116852473,
          -1.6639121984076959,
          -1.2939308121993591,
          0.2302461943473713,
          -1.1860250330934174,
          -1.1250630573271623,
          0.3411966117332432,
          -0.08281182615268948,
          0.41842194008398625,
          -1.7521218805724776,
          1.8722464063131021,
          0.9523448471366392,
          0.5797894008773923,
          0.28708326315953325,
          -3.0335772092969595,
          0.12008245165224005,
          -0.9692412532879529,
          1.236861712762151,
          -1.813670708984641,
          -0.6640423586276856,
          2.0857608212633116,
          0.07078185544215489,
          0.13316552342725502,
          1.118793257633992,
          0.22109987484931612,
          0.4816167266503535,
          0.9007965084713055,
          0.23136190333438797,
          -0.6211815746593071,
          1.1791990907833874,
          -1.0184759389708393,
          0.7935063885328861,
          0.4739578995446759,
          -0.22569428492832613,
          2.1111501661267114,
          0.5805731683953766,
          -1.1774151325024085,
          0.4804288376175385,
          0.9389295688799837,
          1.3394547064736422,
          0.09157486827855868,
          0.32021176932753054,
          0.1508485044753879,
          0.0678145670140172,
          0.5951231144203691,
          -1.6454252033113301,
          -1.2999466345158284,
          0.30014825283198915,
          -0.9261425193798055,
          -0.7233485416807636,
          -0.3357183086594954,
          0.7741014105468014,
          -0.9680340081985276,
          -0.6843133483970795,
          0.2208022680602893,
          -0.7041034231797588,
          1.2476835296624578,
          0.36575625493327446,
          -0.7078241513496009,
          0.006963710275013258,
          -0.16294101108078116,
          1.5251683930463749,
          -0.52052292400051,
          0.09330851367827822,
          0.1980403455685616,
          0.16031321326067646,
          0.4522372122430764,
          1.288266420667494,
          -0.08501136423912654,
          -0.537993634388944,
          0.18898741128953095,
          -0.6879271077969086,
          -0.8118986993420849,
          -0.5951301224776799,
          0.849275846698981,
          0.48172786564149733,
          1.389259766341688,
          -0.02855002125459373,
          0.824790991786847,
          0.702338016465698,
          1.2060183630123236
         ]
        }
       ],
       "layout": {
        "legend": {
         "bgcolor": "#F5F6F9",
         "font": {
          "color": "#4D5663"
         }
        },
        "paper_bgcolor": "#F5F6F9",
        "plot_bgcolor": "#F5F6F9",
        "template": {
         "data": {
          "bar": [
           {
            "error_x": {
             "color": "#2a3f5f"
            },
            "error_y": {
             "color": "#2a3f5f"
            },
            "marker": {
             "line": {
              "color": "#E5ECF6",
              "width": 0.5
             },
             "pattern": {
              "fillmode": "overlay",
              "size": 10,
              "solidity": 0.2
             }
            },
            "type": "bar"
           }
          ],
          "barpolar": [
           {
            "marker": {
             "line": {
              "color": "#E5ECF6",
              "width": 0.5
             },
             "pattern": {
              "fillmode": "overlay",
              "size": 10,
              "solidity": 0.2
             }
            },
            "type": "barpolar"
           }
          ],
          "carpet": [
           {
            "aaxis": {
             "endlinecolor": "#2a3f5f",
             "gridcolor": "white",
             "linecolor": "white",
             "minorgridcolor": "white",
             "startlinecolor": "#2a3f5f"
            },
            "baxis": {
             "endlinecolor": "#2a3f5f",
             "gridcolor": "white",
             "linecolor": "white",
             "minorgridcolor": "white",
             "startlinecolor": "#2a3f5f"
            },
            "type": "carpet"
           }
          ],
          "choropleth": [
           {
            "colorbar": {
             "outlinewidth": 0,
             "ticks": ""
            },
            "type": "choropleth"
           }
          ],
          "contour": [
           {
            "colorbar": {
             "outlinewidth": 0,
             "ticks": ""
            },
            "colorscale": [
             [
              0,
              "#0d0887"
             ],
             [
              0.1111111111111111,
              "#46039f"
             ],
             [
              0.2222222222222222,
              "#7201a8"
             ],
             [
              0.3333333333333333,
              "#9c179e"
             ],
             [
              0.4444444444444444,
              "#bd3786"
             ],
             [
              0.5555555555555556,
              "#d8576b"
             ],
             [
              0.6666666666666666,
              "#ed7953"
             ],
             [
              0.7777777777777778,
              "#fb9f3a"
             ],
             [
              0.8888888888888888,
              "#fdca26"
             ],
             [
              1,
              "#f0f921"
             ]
            ],
            "type": "contour"
           }
          ],
          "contourcarpet": [
           {
            "colorbar": {
             "outlinewidth": 0,
             "ticks": ""
            },
            "type": "contourcarpet"
           }
          ],
          "heatmap": [
           {
            "colorbar": {
             "outlinewidth": 0,
             "ticks": ""
            },
            "colorscale": [
             [
              0,
              "#0d0887"
             ],
             [
              0.1111111111111111,
              "#46039f"
             ],
             [
              0.2222222222222222,
              "#7201a8"
             ],
             [
              0.3333333333333333,
              "#9c179e"
             ],
             [
              0.4444444444444444,
              "#bd3786"
             ],
             [
              0.5555555555555556,
              "#d8576b"
             ],
             [
              0.6666666666666666,
              "#ed7953"
             ],
             [
              0.7777777777777778,
              "#fb9f3a"
             ],
             [
              0.8888888888888888,
              "#fdca26"
             ],
             [
              1,
              "#f0f921"
             ]
            ],
            "type": "heatmap"
           }
          ],
          "heatmapgl": [
           {
            "colorbar": {
             "outlinewidth": 0,
             "ticks": ""
            },
            "colorscale": [
             [
              0,
              "#0d0887"
             ],
             [
              0.1111111111111111,
              "#46039f"
             ],
             [
              0.2222222222222222,
              "#7201a8"
             ],
             [
              0.3333333333333333,
              "#9c179e"
             ],
             [
              0.4444444444444444,
              "#bd3786"
             ],
             [
              0.5555555555555556,
              "#d8576b"
             ],
             [
              0.6666666666666666,
              "#ed7953"
             ],
             [
              0.7777777777777778,
              "#fb9f3a"
             ],
             [
              0.8888888888888888,
              "#fdca26"
             ],
             [
              1,
              "#f0f921"
             ]
            ],
            "type": "heatmapgl"
           }
          ],
          "histogram": [
           {
            "marker": {
             "pattern": {
              "fillmode": "overlay",
              "size": 10,
              "solidity": 0.2
             }
            },
            "type": "histogram"
           }
          ],
          "histogram2d": [
           {
            "colorbar": {
             "outlinewidth": 0,
             "ticks": ""
            },
            "colorscale": [
             [
              0,
              "#0d0887"
             ],
             [
              0.1111111111111111,
              "#46039f"
             ],
             [
              0.2222222222222222,
              "#7201a8"
             ],
             [
              0.3333333333333333,
              "#9c179e"
             ],
             [
              0.4444444444444444,
              "#bd3786"
             ],
             [
              0.5555555555555556,
              "#d8576b"
             ],
             [
              0.6666666666666666,
              "#ed7953"
             ],
             [
              0.7777777777777778,
              "#fb9f3a"
             ],
             [
              0.8888888888888888,
              "#fdca26"
             ],
             [
              1,
              "#f0f921"
             ]
            ],
            "type": "histogram2d"
           }
          ],
          "histogram2dcontour": [
           {
            "colorbar": {
             "outlinewidth": 0,
             "ticks": ""
            },
            "colorscale": [
             [
              0,
              "#0d0887"
             ],
             [
              0.1111111111111111,
              "#46039f"
             ],
             [
              0.2222222222222222,
              "#7201a8"
             ],
             [
              0.3333333333333333,
              "#9c179e"
             ],
             [
              0.4444444444444444,
              "#bd3786"
             ],
             [
              0.5555555555555556,
              "#d8576b"
             ],
             [
              0.6666666666666666,
              "#ed7953"
             ],
             [
              0.7777777777777778,
              "#fb9f3a"
             ],
             [
              0.8888888888888888,
              "#fdca26"
             ],
             [
              1,
              "#f0f921"
             ]
            ],
            "type": "histogram2dcontour"
           }
          ],
          "mesh3d": [
           {
            "colorbar": {
             "outlinewidth": 0,
             "ticks": ""
            },
            "type": "mesh3d"
           }
          ],
          "parcoords": [
           {
            "line": {
             "colorbar": {
              "outlinewidth": 0,
              "ticks": ""
             }
            },
            "type": "parcoords"
           }
          ],
          "pie": [
           {
            "automargin": true,
            "type": "pie"
           }
          ],
          "scatter": [
           {
            "marker": {
             "colorbar": {
              "outlinewidth": 0,
              "ticks": ""
             }
            },
            "type": "scatter"
           }
          ],
          "scatter3d": [
           {
            "line": {
             "colorbar": {
              "outlinewidth": 0,
              "ticks": ""
             }
            },
            "marker": {
             "colorbar": {
              "outlinewidth": 0,
              "ticks": ""
             }
            },
            "type": "scatter3d"
           }
          ],
          "scattercarpet": [
           {
            "marker": {
             "colorbar": {
              "outlinewidth": 0,
              "ticks": ""
             }
            },
            "type": "scattercarpet"
           }
          ],
          "scattergeo": [
           {
            "marker": {
             "colorbar": {
              "outlinewidth": 0,
              "ticks": ""
             }
            },
            "type": "scattergeo"
           }
          ],
          "scattergl": [
           {
            "marker": {
             "colorbar": {
              "outlinewidth": 0,
              "ticks": ""
             }
            },
            "type": "scattergl"
           }
          ],
          "scattermapbox": [
           {
            "marker": {
             "colorbar": {
              "outlinewidth": 0,
              "ticks": ""
             }
            },
            "type": "scattermapbox"
           }
          ],
          "scatterpolar": [
           {
            "marker": {
             "colorbar": {
              "outlinewidth": 0,
              "ticks": ""
             }
            },
            "type": "scatterpolar"
           }
          ],
          "scatterpolargl": [
           {
            "marker": {
             "colorbar": {
              "outlinewidth": 0,
              "ticks": ""
             }
            },
            "type": "scatterpolargl"
           }
          ],
          "scatterternary": [
           {
            "marker": {
             "colorbar": {
              "outlinewidth": 0,
              "ticks": ""
             }
            },
            "type": "scatterternary"
           }
          ],
          "surface": [
           {
            "colorbar": {
             "outlinewidth": 0,
             "ticks": ""
            },
            "colorscale": [
             [
              0,
              "#0d0887"
             ],
             [
              0.1111111111111111,
              "#46039f"
             ],
             [
              0.2222222222222222,
              "#7201a8"
             ],
             [
              0.3333333333333333,
              "#9c179e"
             ],
             [
              0.4444444444444444,
              "#bd3786"
             ],
             [
              0.5555555555555556,
              "#d8576b"
             ],
             [
              0.6666666666666666,
              "#ed7953"
             ],
             [
              0.7777777777777778,
              "#fb9f3a"
             ],
             [
              0.8888888888888888,
              "#fdca26"
             ],
             [
              1,
              "#f0f921"
             ]
            ],
            "type": "surface"
           }
          ],
          "table": [
           {
            "cells": {
             "fill": {
              "color": "#EBF0F8"
             },
             "line": {
              "color": "white"
             }
            },
            "header": {
             "fill": {
              "color": "#C8D4E3"
             },
             "line": {
              "color": "white"
             }
            },
            "type": "table"
           }
          ]
         },
         "layout": {
          "annotationdefaults": {
           "arrowcolor": "#2a3f5f",
           "arrowhead": 0,
           "arrowwidth": 1
          },
          "autotypenumbers": "strict",
          "coloraxis": {
           "colorbar": {
            "outlinewidth": 0,
            "ticks": ""
           }
          },
          "colorscale": {
           "diverging": [
            [
             0,
             "#8e0152"
            ],
            [
             0.1,
             "#c51b7d"
            ],
            [
             0.2,
             "#de77ae"
            ],
            [
             0.3,
             "#f1b6da"
            ],
            [
             0.4,
             "#fde0ef"
            ],
            [
             0.5,
             "#f7f7f7"
            ],
            [
             0.6,
             "#e6f5d0"
            ],
            [
             0.7,
             "#b8e186"
            ],
            [
             0.8,
             "#7fbc41"
            ],
            [
             0.9,
             "#4d9221"
            ],
            [
             1,
             "#276419"
            ]
           ],
           "sequential": [
            [
             0,
             "#0d0887"
            ],
            [
             0.1111111111111111,
             "#46039f"
            ],
            [
             0.2222222222222222,
             "#7201a8"
            ],
            [
             0.3333333333333333,
             "#9c179e"
            ],
            [
             0.4444444444444444,
             "#bd3786"
            ],
            [
             0.5555555555555556,
             "#d8576b"
            ],
            [
             0.6666666666666666,
             "#ed7953"
            ],
            [
             0.7777777777777778,
             "#fb9f3a"
            ],
            [
             0.8888888888888888,
             "#fdca26"
            ],
            [
             1,
             "#f0f921"
            ]
           ],
           "sequentialminus": [
            [
             0,
             "#0d0887"
            ],
            [
             0.1111111111111111,
             "#46039f"
            ],
            [
             0.2222222222222222,
             "#7201a8"
            ],
            [
             0.3333333333333333,
             "#9c179e"
            ],
            [
             0.4444444444444444,
             "#bd3786"
            ],
            [
             0.5555555555555556,
             "#d8576b"
            ],
            [
             0.6666666666666666,
             "#ed7953"
            ],
            [
             0.7777777777777778,
             "#fb9f3a"
            ],
            [
             0.8888888888888888,
             "#fdca26"
            ],
            [
             1,
             "#f0f921"
            ]
           ]
          },
          "colorway": [
           "#636efa",
           "#EF553B",
           "#00cc96",
           "#ab63fa",
           "#FFA15A",
           "#19d3f3",
           "#FF6692",
           "#B6E880",
           "#FF97FF",
           "#FECB52"
          ],
          "font": {
           "color": "#2a3f5f"
          },
          "geo": {
           "bgcolor": "white",
           "lakecolor": "white",
           "landcolor": "#E5ECF6",
           "showlakes": true,
           "showland": true,
           "subunitcolor": "white"
          },
          "hoverlabel": {
           "align": "left"
          },
          "hovermode": "closest",
          "mapbox": {
           "style": "light"
          },
          "paper_bgcolor": "white",
          "plot_bgcolor": "#E5ECF6",
          "polar": {
           "angularaxis": {
            "gridcolor": "white",
            "linecolor": "white",
            "ticks": ""
           },
           "bgcolor": "#E5ECF6",
           "radialaxis": {
            "gridcolor": "white",
            "linecolor": "white",
            "ticks": ""
           }
          },
          "scene": {
           "xaxis": {
            "backgroundcolor": "#E5ECF6",
            "gridcolor": "white",
            "gridwidth": 2,
            "linecolor": "white",
            "showbackground": true,
            "ticks": "",
            "zerolinecolor": "white"
           },
           "yaxis": {
            "backgroundcolor": "#E5ECF6",
            "gridcolor": "white",
            "gridwidth": 2,
            "linecolor": "white",
            "showbackground": true,
            "ticks": "",
            "zerolinecolor": "white"
           },
           "zaxis": {
            "backgroundcolor": "#E5ECF6",
            "gridcolor": "white",
            "gridwidth": 2,
            "linecolor": "white",
            "showbackground": true,
            "ticks": "",
            "zerolinecolor": "white"
           }
          },
          "shapedefaults": {
           "line": {
            "color": "#2a3f5f"
           }
          },
          "ternary": {
           "aaxis": {
            "gridcolor": "white",
            "linecolor": "white",
            "ticks": ""
           },
           "baxis": {
            "gridcolor": "white",
            "linecolor": "white",
            "ticks": ""
           },
           "bgcolor": "#E5ECF6",
           "caxis": {
            "gridcolor": "white",
            "linecolor": "white",
            "ticks": ""
           }
          },
          "title": {
           "x": 0.05
          },
          "xaxis": {
           "automargin": true,
           "gridcolor": "white",
           "linecolor": "white",
           "ticks": "",
           "title": {
            "standoff": 15
           },
           "zerolinecolor": "white",
           "zerolinewidth": 2
          },
          "yaxis": {
           "automargin": true,
           "gridcolor": "white",
           "linecolor": "white",
           "ticks": "",
           "title": {
            "standoff": 15
           },
           "zerolinecolor": "white",
           "zerolinewidth": 2
          }
         }
        },
        "title": {
         "font": {
          "color": "#4D5663"
         }
        },
        "xaxis": {
         "gridcolor": "#E1E5ED",
         "showgrid": true,
         "tickfont": {
          "color": "#4D5663"
         },
         "title": {
          "font": {
           "color": "#4D5663"
          },
          "text": ""
         },
         "zerolinecolor": "#E1E5ED"
        },
        "yaxis": {
         "gridcolor": "#E1E5ED",
         "showgrid": true,
         "tickfont": {
          "color": "#4D5663"
         },
         "title": {
          "font": {
           "color": "#4D5663"
          },
          "text": ""
         },
         "zerolinecolor": "#E1E5ED"
        }
       }
      },
      "text/html": [
       "<div>                            <div id=\"6e36fb60-2955-449e-8823-b2053e559053\" class=\"plotly-graph-div\" style=\"height:525px; width:100%;\"></div>            <script type=\"text/javascript\">                require([\"plotly\"], function(Plotly) {                    window.PLOTLYENV=window.PLOTLYENV || {};\n",
       "                    window.PLOTLYENV.BASE_URL='https://plot.ly';                                    if (document.getElementById(\"6e36fb60-2955-449e-8823-b2053e559053\")) {                    Plotly.newPlot(                        \"6e36fb60-2955-449e-8823-b2053e559053\",                        [{\"line\":{\"color\":\"rgba(255, 153, 51, 1.0)\",\"dash\":\"solid\",\"shape\":\"linear\",\"width\":1.3},\"marker\":{\"size\":10,\"symbol\":\"circle\"},\"mode\":\"markers\",\"name\":\"B\",\"text\":\"\",\"x\":[0.4395119976966545,0.020152580888882565,-0.37407441444430184,-0.539926331737172,-1.1415136887036064,0.8166657567438118,-0.6224297536168503,0.7308894349710953,0.7203192879102357,-1.3737647648303697,-1.23119009378185,0.3198538375639925,0.26348650235568355,0.6488757306353029,-0.00728590715634182,-0.7565433586862875,-0.6563581332656321,-0.2718198150238515,2.3006887217341485,-0.0016354406682298403,-0.44155799103745624,-0.05360096166018684,0.1482445798661521,-0.31540345886485455,-1.0965840430633944,0.10640896879094265,-0.6070796967732894,-0.22733509919143075,1.9043079760497075,0.15758544829888035,-0.8467557485348001,-0.05415976370766293,-0.9788011598549242,-1.6583630823284712,0.8159503058015778,-0.25181207826404073,-0.8324733961614146,-0.6260559102319855,-0.31995726864785823,1.1849051256609375,-0.284668437153468,-1.3551041866389977,-0.44227550517139147,-0.6564605155145264,1.4465930611506095,0.025068373987287135,-0.7669606770160547,-0.5443292144876736,1.8675957298506896,0.598656129228373,-1.4141874887718855,-0.22207017252161643,-0.5557646921062268,0.023795421367580435,0.2591414523453681,0.16506972348129514,-1.6995486727841598,0.495897711386881,-2.16172874318155,0.4695045378281316,0.8808506673427354,-0.2849864405045829,-1.3827658787536463,-1.9087429354622187,0.5103912430314287,-0.569148889572966,-0.39583345631377553,1.6927286444863971,1.3794804856602336,1.02340631443928,-0.8786847928090047,-0.22365353139572725,-0.6286343213996785,0.1852315531564232,0.13414886930901337,-1.6146835134016613,1.6490844301298115,-1.5550285792794807,1.344854834805804,-1.2139962371553352,-1.8529045686615873,0.159159120937591,1.0210668604863389,-0.5824035944285543,0.08560547669436594,-0.3686773747493008,1.214718224277028,-0.051241433224650676,0.08303529764650347,0.9092419090260879,-1.0618356396353699,-1.3732900879073142,-1.751218488708866,-0.13388061656749478,0.18032175371235448,-0.2244659045304318,1.1168388101991757,-0.5571809881209141,-1.577732479354081,0.4027152366654449],\"y\":[0.4280706362665727,0.7180418134509058,0.039018123521560956,-2.223254471201788,-0.875572466427057,0.31082962918417856,0.04164485460440668,-1.3375954608338874,-1.3405437149873514,0.8572242598587281,-0.16188928162123553,-0.7187491678629951,0.3999681853251334,-0.8651274609324161,1.9398556052996982,0.37170042818699983,-1.2034611707274985,0.8393246337713155,0.41155942561230474,0.00033315878116852473,-1.6639121984076959,-1.2939308121993591,0.2302461943473713,-1.1860250330934174,-1.1250630573271623,0.3411966117332432,-0.08281182615268948,0.41842194008398625,-1.7521218805724776,1.8722464063131021,0.9523448471366392,0.5797894008773923,0.28708326315953325,-3.0335772092969595,0.12008245165224005,-0.9692412532879529,1.236861712762151,-1.813670708984641,-0.6640423586276856,2.0857608212633116,0.07078185544215489,0.13316552342725502,1.118793257633992,0.22109987484931612,0.4816167266503535,0.9007965084713055,0.23136190333438797,-0.6211815746593071,1.1791990907833874,-1.0184759389708393,0.7935063885328861,0.4739578995446759,-0.22569428492832613,2.1111501661267114,0.5805731683953766,-1.1774151325024085,0.4804288376175385,0.9389295688799837,1.3394547064736422,0.09157486827855868,0.32021176932753054,0.1508485044753879,0.0678145670140172,0.5951231144203691,-1.6454252033113301,-1.2999466345158284,0.30014825283198915,-0.9261425193798055,-0.7233485416807636,-0.3357183086594954,0.7741014105468014,-0.9680340081985276,-0.6843133483970795,0.2208022680602893,-0.7041034231797588,1.2476835296624578,0.36575625493327446,-0.7078241513496009,0.006963710275013258,-0.16294101108078116,1.5251683930463749,-0.52052292400051,0.09330851367827822,0.1980403455685616,0.16031321326067646,0.4522372122430764,1.288266420667494,-0.08501136423912654,-0.537993634388944,0.18898741128953095,-0.6879271077969086,-0.8118986993420849,-0.5951301224776799,0.849275846698981,0.48172786564149733,1.389259766341688,-0.02855002125459373,0.824790991786847,0.702338016465698,1.2060183630123236],\"type\":\"scatter\"}],                        {\"legend\":{\"bgcolor\":\"#F5F6F9\",\"font\":{\"color\":\"#4D5663\"}},\"paper_bgcolor\":\"#F5F6F9\",\"plot_bgcolor\":\"#F5F6F9\",\"template\":{\"data\":{\"barpolar\":[{\"marker\":{\"line\":{\"color\":\"#E5ECF6\",\"width\":0.5},\"pattern\":{\"fillmode\":\"overlay\",\"size\":10,\"solidity\":0.2}},\"type\":\"barpolar\"}],\"bar\":[{\"error_x\":{\"color\":\"#2a3f5f\"},\"error_y\":{\"color\":\"#2a3f5f\"},\"marker\":{\"line\":{\"color\":\"#E5ECF6\",\"width\":0.5},\"pattern\":{\"fillmode\":\"overlay\",\"size\":10,\"solidity\":0.2}},\"type\":\"bar\"}],\"carpet\":[{\"aaxis\":{\"endlinecolor\":\"#2a3f5f\",\"gridcolor\":\"white\",\"linecolor\":\"white\",\"minorgridcolor\":\"white\",\"startlinecolor\":\"#2a3f5f\"},\"baxis\":{\"endlinecolor\":\"#2a3f5f\",\"gridcolor\":\"white\",\"linecolor\":\"white\",\"minorgridcolor\":\"white\",\"startlinecolor\":\"#2a3f5f\"},\"type\":\"carpet\"}],\"choropleth\":[{\"colorbar\":{\"outlinewidth\":0,\"ticks\":\"\"},\"type\":\"choropleth\"}],\"contourcarpet\":[{\"colorbar\":{\"outlinewidth\":0,\"ticks\":\"\"},\"type\":\"contourcarpet\"}],\"contour\":[{\"colorbar\":{\"outlinewidth\":0,\"ticks\":\"\"},\"colorscale\":[[0.0,\"#0d0887\"],[0.1111111111111111,\"#46039f\"],[0.2222222222222222,\"#7201a8\"],[0.3333333333333333,\"#9c179e\"],[0.4444444444444444,\"#bd3786\"],[0.5555555555555556,\"#d8576b\"],[0.6666666666666666,\"#ed7953\"],[0.7777777777777778,\"#fb9f3a\"],[0.8888888888888888,\"#fdca26\"],[1.0,\"#f0f921\"]],\"type\":\"contour\"}],\"heatmapgl\":[{\"colorbar\":{\"outlinewidth\":0,\"ticks\":\"\"},\"colorscale\":[[0.0,\"#0d0887\"],[0.1111111111111111,\"#46039f\"],[0.2222222222222222,\"#7201a8\"],[0.3333333333333333,\"#9c179e\"],[0.4444444444444444,\"#bd3786\"],[0.5555555555555556,\"#d8576b\"],[0.6666666666666666,\"#ed7953\"],[0.7777777777777778,\"#fb9f3a\"],[0.8888888888888888,\"#fdca26\"],[1.0,\"#f0f921\"]],\"type\":\"heatmapgl\"}],\"heatmap\":[{\"colorbar\":{\"outlinewidth\":0,\"ticks\":\"\"},\"colorscale\":[[0.0,\"#0d0887\"],[0.1111111111111111,\"#46039f\"],[0.2222222222222222,\"#7201a8\"],[0.3333333333333333,\"#9c179e\"],[0.4444444444444444,\"#bd3786\"],[0.5555555555555556,\"#d8576b\"],[0.6666666666666666,\"#ed7953\"],[0.7777777777777778,\"#fb9f3a\"],[0.8888888888888888,\"#fdca26\"],[1.0,\"#f0f921\"]],\"type\":\"heatmap\"}],\"histogram2dcontour\":[{\"colorbar\":{\"outlinewidth\":0,\"ticks\":\"\"},\"colorscale\":[[0.0,\"#0d0887\"],[0.1111111111111111,\"#46039f\"],[0.2222222222222222,\"#7201a8\"],[0.3333333333333333,\"#9c179e\"],[0.4444444444444444,\"#bd3786\"],[0.5555555555555556,\"#d8576b\"],[0.6666666666666666,\"#ed7953\"],[0.7777777777777778,\"#fb9f3a\"],[0.8888888888888888,\"#fdca26\"],[1.0,\"#f0f921\"]],\"type\":\"histogram2dcontour\"}],\"histogram2d\":[{\"colorbar\":{\"outlinewidth\":0,\"ticks\":\"\"},\"colorscale\":[[0.0,\"#0d0887\"],[0.1111111111111111,\"#46039f\"],[0.2222222222222222,\"#7201a8\"],[0.3333333333333333,\"#9c179e\"],[0.4444444444444444,\"#bd3786\"],[0.5555555555555556,\"#d8576b\"],[0.6666666666666666,\"#ed7953\"],[0.7777777777777778,\"#fb9f3a\"],[0.8888888888888888,\"#fdca26\"],[1.0,\"#f0f921\"]],\"type\":\"histogram2d\"}],\"histogram\":[{\"marker\":{\"pattern\":{\"fillmode\":\"overlay\",\"size\":10,\"solidity\":0.2}},\"type\":\"histogram\"}],\"mesh3d\":[{\"colorbar\":{\"outlinewidth\":0,\"ticks\":\"\"},\"type\":\"mesh3d\"}],\"parcoords\":[{\"line\":{\"colorbar\":{\"outlinewidth\":0,\"ticks\":\"\"}},\"type\":\"parcoords\"}],\"pie\":[{\"automargin\":true,\"type\":\"pie\"}],\"scatter3d\":[{\"line\":{\"colorbar\":{\"outlinewidth\":0,\"ticks\":\"\"}},\"marker\":{\"colorbar\":{\"outlinewidth\":0,\"ticks\":\"\"}},\"type\":\"scatter3d\"}],\"scattercarpet\":[{\"marker\":{\"colorbar\":{\"outlinewidth\":0,\"ticks\":\"\"}},\"type\":\"scattercarpet\"}],\"scattergeo\":[{\"marker\":{\"colorbar\":{\"outlinewidth\":0,\"ticks\":\"\"}},\"type\":\"scattergeo\"}],\"scattergl\":[{\"marker\":{\"colorbar\":{\"outlinewidth\":0,\"ticks\":\"\"}},\"type\":\"scattergl\"}],\"scattermapbox\":[{\"marker\":{\"colorbar\":{\"outlinewidth\":0,\"ticks\":\"\"}},\"type\":\"scattermapbox\"}],\"scatterpolargl\":[{\"marker\":{\"colorbar\":{\"outlinewidth\":0,\"ticks\":\"\"}},\"type\":\"scatterpolargl\"}],\"scatterpolar\":[{\"marker\":{\"colorbar\":{\"outlinewidth\":0,\"ticks\":\"\"}},\"type\":\"scatterpolar\"}],\"scatter\":[{\"marker\":{\"colorbar\":{\"outlinewidth\":0,\"ticks\":\"\"}},\"type\":\"scatter\"}],\"scatterternary\":[{\"marker\":{\"colorbar\":{\"outlinewidth\":0,\"ticks\":\"\"}},\"type\":\"scatterternary\"}],\"surface\":[{\"colorbar\":{\"outlinewidth\":0,\"ticks\":\"\"},\"colorscale\":[[0.0,\"#0d0887\"],[0.1111111111111111,\"#46039f\"],[0.2222222222222222,\"#7201a8\"],[0.3333333333333333,\"#9c179e\"],[0.4444444444444444,\"#bd3786\"],[0.5555555555555556,\"#d8576b\"],[0.6666666666666666,\"#ed7953\"],[0.7777777777777778,\"#fb9f3a\"],[0.8888888888888888,\"#fdca26\"],[1.0,\"#f0f921\"]],\"type\":\"surface\"}],\"table\":[{\"cells\":{\"fill\":{\"color\":\"#EBF0F8\"},\"line\":{\"color\":\"white\"}},\"header\":{\"fill\":{\"color\":\"#C8D4E3\"},\"line\":{\"color\":\"white\"}},\"type\":\"table\"}]},\"layout\":{\"annotationdefaults\":{\"arrowcolor\":\"#2a3f5f\",\"arrowhead\":0,\"arrowwidth\":1},\"autotypenumbers\":\"strict\",\"coloraxis\":{\"colorbar\":{\"outlinewidth\":0,\"ticks\":\"\"}},\"colorscale\":{\"diverging\":[[0,\"#8e0152\"],[0.1,\"#c51b7d\"],[0.2,\"#de77ae\"],[0.3,\"#f1b6da\"],[0.4,\"#fde0ef\"],[0.5,\"#f7f7f7\"],[0.6,\"#e6f5d0\"],[0.7,\"#b8e186\"],[0.8,\"#7fbc41\"],[0.9,\"#4d9221\"],[1,\"#276419\"]],\"sequential\":[[0.0,\"#0d0887\"],[0.1111111111111111,\"#46039f\"],[0.2222222222222222,\"#7201a8\"],[0.3333333333333333,\"#9c179e\"],[0.4444444444444444,\"#bd3786\"],[0.5555555555555556,\"#d8576b\"],[0.6666666666666666,\"#ed7953\"],[0.7777777777777778,\"#fb9f3a\"],[0.8888888888888888,\"#fdca26\"],[1.0,\"#f0f921\"]],\"sequentialminus\":[[0.0,\"#0d0887\"],[0.1111111111111111,\"#46039f\"],[0.2222222222222222,\"#7201a8\"],[0.3333333333333333,\"#9c179e\"],[0.4444444444444444,\"#bd3786\"],[0.5555555555555556,\"#d8576b\"],[0.6666666666666666,\"#ed7953\"],[0.7777777777777778,\"#fb9f3a\"],[0.8888888888888888,\"#fdca26\"],[1.0,\"#f0f921\"]]},\"colorway\":[\"#636efa\",\"#EF553B\",\"#00cc96\",\"#ab63fa\",\"#FFA15A\",\"#19d3f3\",\"#FF6692\",\"#B6E880\",\"#FF97FF\",\"#FECB52\"],\"font\":{\"color\":\"#2a3f5f\"},\"geo\":{\"bgcolor\":\"white\",\"lakecolor\":\"white\",\"landcolor\":\"#E5ECF6\",\"showlakes\":true,\"showland\":true,\"subunitcolor\":\"white\"},\"hoverlabel\":{\"align\":\"left\"},\"hovermode\":\"closest\",\"mapbox\":{\"style\":\"light\"},\"paper_bgcolor\":\"white\",\"plot_bgcolor\":\"#E5ECF6\",\"polar\":{\"angularaxis\":{\"gridcolor\":\"white\",\"linecolor\":\"white\",\"ticks\":\"\"},\"bgcolor\":\"#E5ECF6\",\"radialaxis\":{\"gridcolor\":\"white\",\"linecolor\":\"white\",\"ticks\":\"\"}},\"scene\":{\"xaxis\":{\"backgroundcolor\":\"#E5ECF6\",\"gridcolor\":\"white\",\"gridwidth\":2,\"linecolor\":\"white\",\"showbackground\":true,\"ticks\":\"\",\"zerolinecolor\":\"white\"},\"yaxis\":{\"backgroundcolor\":\"#E5ECF6\",\"gridcolor\":\"white\",\"gridwidth\":2,\"linecolor\":\"white\",\"showbackground\":true,\"ticks\":\"\",\"zerolinecolor\":\"white\"},\"zaxis\":{\"backgroundcolor\":\"#E5ECF6\",\"gridcolor\":\"white\",\"gridwidth\":2,\"linecolor\":\"white\",\"showbackground\":true,\"ticks\":\"\",\"zerolinecolor\":\"white\"}},\"shapedefaults\":{\"line\":{\"color\":\"#2a3f5f\"}},\"ternary\":{\"aaxis\":{\"gridcolor\":\"white\",\"linecolor\":\"white\",\"ticks\":\"\"},\"baxis\":{\"gridcolor\":\"white\",\"linecolor\":\"white\",\"ticks\":\"\"},\"bgcolor\":\"#E5ECF6\",\"caxis\":{\"gridcolor\":\"white\",\"linecolor\":\"white\",\"ticks\":\"\"}},\"title\":{\"x\":0.05},\"xaxis\":{\"automargin\":true,\"gridcolor\":\"white\",\"linecolor\":\"white\",\"ticks\":\"\",\"title\":{\"standoff\":15},\"zerolinecolor\":\"white\",\"zerolinewidth\":2},\"yaxis\":{\"automargin\":true,\"gridcolor\":\"white\",\"linecolor\":\"white\",\"ticks\":\"\",\"title\":{\"standoff\":15},\"zerolinecolor\":\"white\",\"zerolinewidth\":2}}},\"title\":{\"font\":{\"color\":\"#4D5663\"}},\"xaxis\":{\"gridcolor\":\"#E1E5ED\",\"showgrid\":true,\"tickfont\":{\"color\":\"#4D5663\"},\"title\":{\"font\":{\"color\":\"#4D5663\"},\"text\":\"\"},\"zerolinecolor\":\"#E1E5ED\"},\"yaxis\":{\"gridcolor\":\"#E1E5ED\",\"showgrid\":true,\"tickfont\":{\"color\":\"#4D5663\"},\"title\":{\"font\":{\"color\":\"#4D5663\"},\"text\":\"\"},\"zerolinecolor\":\"#E1E5ED\"}},                        {\"showLink\": true, \"linkText\": \"Export to plot.ly\", \"plotlyServerURL\": \"https://plot.ly\", \"responsive\": true}                    ).then(function(){\n",
       "                            \n",
       "var gd = document.getElementById('6e36fb60-2955-449e-8823-b2053e559053');\n",
       "var x = new MutationObserver(function (mutations, observer) {{\n",
       "        var display = window.getComputedStyle(gd).display;\n",
       "        if (!display || display === 'none') {{\n",
       "            console.log([gd, 'removed!']);\n",
       "            Plotly.purge(gd);\n",
       "            observer.disconnect();\n",
       "        }}\n",
       "}});\n",
       "\n",
       "// Listen for the removal of the full notebook cells\n",
       "var notebookContainer = gd.closest('#notebook-container');\n",
       "if (notebookContainer) {{\n",
       "    x.observe(notebookContainer, {childList: true});\n",
       "}}\n",
       "\n",
       "// Listen for the clearing of the current output cell\n",
       "var outputEl = gd.closest('.output');\n",
       "if (outputEl) {{\n",
       "    x.observe(outputEl, {childList: true});\n",
       "}}\n",
       "\n",
       "                        })                };                });            </script>        </div>"
      ]
     },
     "metadata": {},
     "output_type": "display_data"
    }
   ],
   "source": [
    "df.iplot(kind='scatter',x='A',y='B',mode='markers',size=10)"
   ]
  },
  {
   "cell_type": "markdown",
   "metadata": {},
   "source": [
    "## Bar Plots"
   ]
  },
  {
   "cell_type": "code",
   "execution_count": 11,
   "metadata": {},
   "outputs": [
    {
     "data": {
      "application/vnd.plotly.v1+json": {
       "config": {
        "linkText": "Export to plot.ly",
        "plotlyServerURL": "https://plot.ly",
        "showLink": true
       },
       "data": [
        {
         "marker": {
          "color": "rgba(255, 153, 51, 0.6)",
          "line": {
           "color": "rgba(255, 153, 51, 1.0)",
           "width": 1
          }
         },
         "name": "Values",
         "orientation": "v",
         "text": "",
         "type": "bar",
         "x": [
          "A",
          "B",
          "C"
         ],
         "y": [
          32,
          43,
          50
         ]
        }
       ],
       "layout": {
        "legend": {
         "bgcolor": "#F5F6F9",
         "font": {
          "color": "#4D5663"
         }
        },
        "paper_bgcolor": "#F5F6F9",
        "plot_bgcolor": "#F5F6F9",
        "template": {
         "data": {
          "bar": [
           {
            "error_x": {
             "color": "#2a3f5f"
            },
            "error_y": {
             "color": "#2a3f5f"
            },
            "marker": {
             "line": {
              "color": "#E5ECF6",
              "width": 0.5
             },
             "pattern": {
              "fillmode": "overlay",
              "size": 10,
              "solidity": 0.2
             }
            },
            "type": "bar"
           }
          ],
          "barpolar": [
           {
            "marker": {
             "line": {
              "color": "#E5ECF6",
              "width": 0.5
             },
             "pattern": {
              "fillmode": "overlay",
              "size": 10,
              "solidity": 0.2
             }
            },
            "type": "barpolar"
           }
          ],
          "carpet": [
           {
            "aaxis": {
             "endlinecolor": "#2a3f5f",
             "gridcolor": "white",
             "linecolor": "white",
             "minorgridcolor": "white",
             "startlinecolor": "#2a3f5f"
            },
            "baxis": {
             "endlinecolor": "#2a3f5f",
             "gridcolor": "white",
             "linecolor": "white",
             "minorgridcolor": "white",
             "startlinecolor": "#2a3f5f"
            },
            "type": "carpet"
           }
          ],
          "choropleth": [
           {
            "colorbar": {
             "outlinewidth": 0,
             "ticks": ""
            },
            "type": "choropleth"
           }
          ],
          "contour": [
           {
            "colorbar": {
             "outlinewidth": 0,
             "ticks": ""
            },
            "colorscale": [
             [
              0,
              "#0d0887"
             ],
             [
              0.1111111111111111,
              "#46039f"
             ],
             [
              0.2222222222222222,
              "#7201a8"
             ],
             [
              0.3333333333333333,
              "#9c179e"
             ],
             [
              0.4444444444444444,
              "#bd3786"
             ],
             [
              0.5555555555555556,
              "#d8576b"
             ],
             [
              0.6666666666666666,
              "#ed7953"
             ],
             [
              0.7777777777777778,
              "#fb9f3a"
             ],
             [
              0.8888888888888888,
              "#fdca26"
             ],
             [
              1,
              "#f0f921"
             ]
            ],
            "type": "contour"
           }
          ],
          "contourcarpet": [
           {
            "colorbar": {
             "outlinewidth": 0,
             "ticks": ""
            },
            "type": "contourcarpet"
           }
          ],
          "heatmap": [
           {
            "colorbar": {
             "outlinewidth": 0,
             "ticks": ""
            },
            "colorscale": [
             [
              0,
              "#0d0887"
             ],
             [
              0.1111111111111111,
              "#46039f"
             ],
             [
              0.2222222222222222,
              "#7201a8"
             ],
             [
              0.3333333333333333,
              "#9c179e"
             ],
             [
              0.4444444444444444,
              "#bd3786"
             ],
             [
              0.5555555555555556,
              "#d8576b"
             ],
             [
              0.6666666666666666,
              "#ed7953"
             ],
             [
              0.7777777777777778,
              "#fb9f3a"
             ],
             [
              0.8888888888888888,
              "#fdca26"
             ],
             [
              1,
              "#f0f921"
             ]
            ],
            "type": "heatmap"
           }
          ],
          "heatmapgl": [
           {
            "colorbar": {
             "outlinewidth": 0,
             "ticks": ""
            },
            "colorscale": [
             [
              0,
              "#0d0887"
             ],
             [
              0.1111111111111111,
              "#46039f"
             ],
             [
              0.2222222222222222,
              "#7201a8"
             ],
             [
              0.3333333333333333,
              "#9c179e"
             ],
             [
              0.4444444444444444,
              "#bd3786"
             ],
             [
              0.5555555555555556,
              "#d8576b"
             ],
             [
              0.6666666666666666,
              "#ed7953"
             ],
             [
              0.7777777777777778,
              "#fb9f3a"
             ],
             [
              0.8888888888888888,
              "#fdca26"
             ],
             [
              1,
              "#f0f921"
             ]
            ],
            "type": "heatmapgl"
           }
          ],
          "histogram": [
           {
            "marker": {
             "pattern": {
              "fillmode": "overlay",
              "size": 10,
              "solidity": 0.2
             }
            },
            "type": "histogram"
           }
          ],
          "histogram2d": [
           {
            "colorbar": {
             "outlinewidth": 0,
             "ticks": ""
            },
            "colorscale": [
             [
              0,
              "#0d0887"
             ],
             [
              0.1111111111111111,
              "#46039f"
             ],
             [
              0.2222222222222222,
              "#7201a8"
             ],
             [
              0.3333333333333333,
              "#9c179e"
             ],
             [
              0.4444444444444444,
              "#bd3786"
             ],
             [
              0.5555555555555556,
              "#d8576b"
             ],
             [
              0.6666666666666666,
              "#ed7953"
             ],
             [
              0.7777777777777778,
              "#fb9f3a"
             ],
             [
              0.8888888888888888,
              "#fdca26"
             ],
             [
              1,
              "#f0f921"
             ]
            ],
            "type": "histogram2d"
           }
          ],
          "histogram2dcontour": [
           {
            "colorbar": {
             "outlinewidth": 0,
             "ticks": ""
            },
            "colorscale": [
             [
              0,
              "#0d0887"
             ],
             [
              0.1111111111111111,
              "#46039f"
             ],
             [
              0.2222222222222222,
              "#7201a8"
             ],
             [
              0.3333333333333333,
              "#9c179e"
             ],
             [
              0.4444444444444444,
              "#bd3786"
             ],
             [
              0.5555555555555556,
              "#d8576b"
             ],
             [
              0.6666666666666666,
              "#ed7953"
             ],
             [
              0.7777777777777778,
              "#fb9f3a"
             ],
             [
              0.8888888888888888,
              "#fdca26"
             ],
             [
              1,
              "#f0f921"
             ]
            ],
            "type": "histogram2dcontour"
           }
          ],
          "mesh3d": [
           {
            "colorbar": {
             "outlinewidth": 0,
             "ticks": ""
            },
            "type": "mesh3d"
           }
          ],
          "parcoords": [
           {
            "line": {
             "colorbar": {
              "outlinewidth": 0,
              "ticks": ""
             }
            },
            "type": "parcoords"
           }
          ],
          "pie": [
           {
            "automargin": true,
            "type": "pie"
           }
          ],
          "scatter": [
           {
            "marker": {
             "colorbar": {
              "outlinewidth": 0,
              "ticks": ""
             }
            },
            "type": "scatter"
           }
          ],
          "scatter3d": [
           {
            "line": {
             "colorbar": {
              "outlinewidth": 0,
              "ticks": ""
             }
            },
            "marker": {
             "colorbar": {
              "outlinewidth": 0,
              "ticks": ""
             }
            },
            "type": "scatter3d"
           }
          ],
          "scattercarpet": [
           {
            "marker": {
             "colorbar": {
              "outlinewidth": 0,
              "ticks": ""
             }
            },
            "type": "scattercarpet"
           }
          ],
          "scattergeo": [
           {
            "marker": {
             "colorbar": {
              "outlinewidth": 0,
              "ticks": ""
             }
            },
            "type": "scattergeo"
           }
          ],
          "scattergl": [
           {
            "marker": {
             "colorbar": {
              "outlinewidth": 0,
              "ticks": ""
             }
            },
            "type": "scattergl"
           }
          ],
          "scattermapbox": [
           {
            "marker": {
             "colorbar": {
              "outlinewidth": 0,
              "ticks": ""
             }
            },
            "type": "scattermapbox"
           }
          ],
          "scatterpolar": [
           {
            "marker": {
             "colorbar": {
              "outlinewidth": 0,
              "ticks": ""
             }
            },
            "type": "scatterpolar"
           }
          ],
          "scatterpolargl": [
           {
            "marker": {
             "colorbar": {
              "outlinewidth": 0,
              "ticks": ""
             }
            },
            "type": "scatterpolargl"
           }
          ],
          "scatterternary": [
           {
            "marker": {
             "colorbar": {
              "outlinewidth": 0,
              "ticks": ""
             }
            },
            "type": "scatterternary"
           }
          ],
          "surface": [
           {
            "colorbar": {
             "outlinewidth": 0,
             "ticks": ""
            },
            "colorscale": [
             [
              0,
              "#0d0887"
             ],
             [
              0.1111111111111111,
              "#46039f"
             ],
             [
              0.2222222222222222,
              "#7201a8"
             ],
             [
              0.3333333333333333,
              "#9c179e"
             ],
             [
              0.4444444444444444,
              "#bd3786"
             ],
             [
              0.5555555555555556,
              "#d8576b"
             ],
             [
              0.6666666666666666,
              "#ed7953"
             ],
             [
              0.7777777777777778,
              "#fb9f3a"
             ],
             [
              0.8888888888888888,
              "#fdca26"
             ],
             [
              1,
              "#f0f921"
             ]
            ],
            "type": "surface"
           }
          ],
          "table": [
           {
            "cells": {
             "fill": {
              "color": "#EBF0F8"
             },
             "line": {
              "color": "white"
             }
            },
            "header": {
             "fill": {
              "color": "#C8D4E3"
             },
             "line": {
              "color": "white"
             }
            },
            "type": "table"
           }
          ]
         },
         "layout": {
          "annotationdefaults": {
           "arrowcolor": "#2a3f5f",
           "arrowhead": 0,
           "arrowwidth": 1
          },
          "autotypenumbers": "strict",
          "coloraxis": {
           "colorbar": {
            "outlinewidth": 0,
            "ticks": ""
           }
          },
          "colorscale": {
           "diverging": [
            [
             0,
             "#8e0152"
            ],
            [
             0.1,
             "#c51b7d"
            ],
            [
             0.2,
             "#de77ae"
            ],
            [
             0.3,
             "#f1b6da"
            ],
            [
             0.4,
             "#fde0ef"
            ],
            [
             0.5,
             "#f7f7f7"
            ],
            [
             0.6,
             "#e6f5d0"
            ],
            [
             0.7,
             "#b8e186"
            ],
            [
             0.8,
             "#7fbc41"
            ],
            [
             0.9,
             "#4d9221"
            ],
            [
             1,
             "#276419"
            ]
           ],
           "sequential": [
            [
             0,
             "#0d0887"
            ],
            [
             0.1111111111111111,
             "#46039f"
            ],
            [
             0.2222222222222222,
             "#7201a8"
            ],
            [
             0.3333333333333333,
             "#9c179e"
            ],
            [
             0.4444444444444444,
             "#bd3786"
            ],
            [
             0.5555555555555556,
             "#d8576b"
            ],
            [
             0.6666666666666666,
             "#ed7953"
            ],
            [
             0.7777777777777778,
             "#fb9f3a"
            ],
            [
             0.8888888888888888,
             "#fdca26"
            ],
            [
             1,
             "#f0f921"
            ]
           ],
           "sequentialminus": [
            [
             0,
             "#0d0887"
            ],
            [
             0.1111111111111111,
             "#46039f"
            ],
            [
             0.2222222222222222,
             "#7201a8"
            ],
            [
             0.3333333333333333,
             "#9c179e"
            ],
            [
             0.4444444444444444,
             "#bd3786"
            ],
            [
             0.5555555555555556,
             "#d8576b"
            ],
            [
             0.6666666666666666,
             "#ed7953"
            ],
            [
             0.7777777777777778,
             "#fb9f3a"
            ],
            [
             0.8888888888888888,
             "#fdca26"
            ],
            [
             1,
             "#f0f921"
            ]
           ]
          },
          "colorway": [
           "#636efa",
           "#EF553B",
           "#00cc96",
           "#ab63fa",
           "#FFA15A",
           "#19d3f3",
           "#FF6692",
           "#B6E880",
           "#FF97FF",
           "#FECB52"
          ],
          "font": {
           "color": "#2a3f5f"
          },
          "geo": {
           "bgcolor": "white",
           "lakecolor": "white",
           "landcolor": "#E5ECF6",
           "showlakes": true,
           "showland": true,
           "subunitcolor": "white"
          },
          "hoverlabel": {
           "align": "left"
          },
          "hovermode": "closest",
          "mapbox": {
           "style": "light"
          },
          "paper_bgcolor": "white",
          "plot_bgcolor": "#E5ECF6",
          "polar": {
           "angularaxis": {
            "gridcolor": "white",
            "linecolor": "white",
            "ticks": ""
           },
           "bgcolor": "#E5ECF6",
           "radialaxis": {
            "gridcolor": "white",
            "linecolor": "white",
            "ticks": ""
           }
          },
          "scene": {
           "xaxis": {
            "backgroundcolor": "#E5ECF6",
            "gridcolor": "white",
            "gridwidth": 2,
            "linecolor": "white",
            "showbackground": true,
            "ticks": "",
            "zerolinecolor": "white"
           },
           "yaxis": {
            "backgroundcolor": "#E5ECF6",
            "gridcolor": "white",
            "gridwidth": 2,
            "linecolor": "white",
            "showbackground": true,
            "ticks": "",
            "zerolinecolor": "white"
           },
           "zaxis": {
            "backgroundcolor": "#E5ECF6",
            "gridcolor": "white",
            "gridwidth": 2,
            "linecolor": "white",
            "showbackground": true,
            "ticks": "",
            "zerolinecolor": "white"
           }
          },
          "shapedefaults": {
           "line": {
            "color": "#2a3f5f"
           }
          },
          "ternary": {
           "aaxis": {
            "gridcolor": "white",
            "linecolor": "white",
            "ticks": ""
           },
           "baxis": {
            "gridcolor": "white",
            "linecolor": "white",
            "ticks": ""
           },
           "bgcolor": "#E5ECF6",
           "caxis": {
            "gridcolor": "white",
            "linecolor": "white",
            "ticks": ""
           }
          },
          "title": {
           "x": 0.05
          },
          "xaxis": {
           "automargin": true,
           "gridcolor": "white",
           "linecolor": "white",
           "ticks": "",
           "title": {
            "standoff": 15
           },
           "zerolinecolor": "white",
           "zerolinewidth": 2
          },
          "yaxis": {
           "automargin": true,
           "gridcolor": "white",
           "linecolor": "white",
           "ticks": "",
           "title": {
            "standoff": 15
           },
           "zerolinecolor": "white",
           "zerolinewidth": 2
          }
         }
        },
        "title": {
         "font": {
          "color": "#4D5663"
         }
        },
        "xaxis": {
         "gridcolor": "#E1E5ED",
         "showgrid": true,
         "tickfont": {
          "color": "#4D5663"
         },
         "title": {
          "font": {
           "color": "#4D5663"
          },
          "text": ""
         },
         "zerolinecolor": "#E1E5ED"
        },
        "yaxis": {
         "gridcolor": "#E1E5ED",
         "showgrid": true,
         "tickfont": {
          "color": "#4D5663"
         },
         "title": {
          "font": {
           "color": "#4D5663"
          },
          "text": ""
         },
         "zerolinecolor": "#E1E5ED"
        }
       }
      },
      "text/html": [
       "<div>                            <div id=\"451808eb-1300-454a-8dcf-e8cc5ee8f422\" class=\"plotly-graph-div\" style=\"height:525px; width:100%;\"></div>            <script type=\"text/javascript\">                require([\"plotly\"], function(Plotly) {                    window.PLOTLYENV=window.PLOTLYENV || {};\n",
       "                    window.PLOTLYENV.BASE_URL='https://plot.ly';                                    if (document.getElementById(\"451808eb-1300-454a-8dcf-e8cc5ee8f422\")) {                    Plotly.newPlot(                        \"451808eb-1300-454a-8dcf-e8cc5ee8f422\",                        [{\"marker\":{\"color\":\"rgba(255, 153, 51, 0.6)\",\"line\":{\"color\":\"rgba(255, 153, 51, 1.0)\",\"width\":1}},\"name\":\"Values\",\"orientation\":\"v\",\"text\":\"\",\"x\":[\"A\",\"B\",\"C\"],\"y\":[32,43,50],\"type\":\"bar\"}],                        {\"legend\":{\"bgcolor\":\"#F5F6F9\",\"font\":{\"color\":\"#4D5663\"}},\"paper_bgcolor\":\"#F5F6F9\",\"plot_bgcolor\":\"#F5F6F9\",\"template\":{\"data\":{\"barpolar\":[{\"marker\":{\"line\":{\"color\":\"#E5ECF6\",\"width\":0.5},\"pattern\":{\"fillmode\":\"overlay\",\"size\":10,\"solidity\":0.2}},\"type\":\"barpolar\"}],\"bar\":[{\"error_x\":{\"color\":\"#2a3f5f\"},\"error_y\":{\"color\":\"#2a3f5f\"},\"marker\":{\"line\":{\"color\":\"#E5ECF6\",\"width\":0.5},\"pattern\":{\"fillmode\":\"overlay\",\"size\":10,\"solidity\":0.2}},\"type\":\"bar\"}],\"carpet\":[{\"aaxis\":{\"endlinecolor\":\"#2a3f5f\",\"gridcolor\":\"white\",\"linecolor\":\"white\",\"minorgridcolor\":\"white\",\"startlinecolor\":\"#2a3f5f\"},\"baxis\":{\"endlinecolor\":\"#2a3f5f\",\"gridcolor\":\"white\",\"linecolor\":\"white\",\"minorgridcolor\":\"white\",\"startlinecolor\":\"#2a3f5f\"},\"type\":\"carpet\"}],\"choropleth\":[{\"colorbar\":{\"outlinewidth\":0,\"ticks\":\"\"},\"type\":\"choropleth\"}],\"contourcarpet\":[{\"colorbar\":{\"outlinewidth\":0,\"ticks\":\"\"},\"type\":\"contourcarpet\"}],\"contour\":[{\"colorbar\":{\"outlinewidth\":0,\"ticks\":\"\"},\"colorscale\":[[0.0,\"#0d0887\"],[0.1111111111111111,\"#46039f\"],[0.2222222222222222,\"#7201a8\"],[0.3333333333333333,\"#9c179e\"],[0.4444444444444444,\"#bd3786\"],[0.5555555555555556,\"#d8576b\"],[0.6666666666666666,\"#ed7953\"],[0.7777777777777778,\"#fb9f3a\"],[0.8888888888888888,\"#fdca26\"],[1.0,\"#f0f921\"]],\"type\":\"contour\"}],\"heatmapgl\":[{\"colorbar\":{\"outlinewidth\":0,\"ticks\":\"\"},\"colorscale\":[[0.0,\"#0d0887\"],[0.1111111111111111,\"#46039f\"],[0.2222222222222222,\"#7201a8\"],[0.3333333333333333,\"#9c179e\"],[0.4444444444444444,\"#bd3786\"],[0.5555555555555556,\"#d8576b\"],[0.6666666666666666,\"#ed7953\"],[0.7777777777777778,\"#fb9f3a\"],[0.8888888888888888,\"#fdca26\"],[1.0,\"#f0f921\"]],\"type\":\"heatmapgl\"}],\"heatmap\":[{\"colorbar\":{\"outlinewidth\":0,\"ticks\":\"\"},\"colorscale\":[[0.0,\"#0d0887\"],[0.1111111111111111,\"#46039f\"],[0.2222222222222222,\"#7201a8\"],[0.3333333333333333,\"#9c179e\"],[0.4444444444444444,\"#bd3786\"],[0.5555555555555556,\"#d8576b\"],[0.6666666666666666,\"#ed7953\"],[0.7777777777777778,\"#fb9f3a\"],[0.8888888888888888,\"#fdca26\"],[1.0,\"#f0f921\"]],\"type\":\"heatmap\"}],\"histogram2dcontour\":[{\"colorbar\":{\"outlinewidth\":0,\"ticks\":\"\"},\"colorscale\":[[0.0,\"#0d0887\"],[0.1111111111111111,\"#46039f\"],[0.2222222222222222,\"#7201a8\"],[0.3333333333333333,\"#9c179e\"],[0.4444444444444444,\"#bd3786\"],[0.5555555555555556,\"#d8576b\"],[0.6666666666666666,\"#ed7953\"],[0.7777777777777778,\"#fb9f3a\"],[0.8888888888888888,\"#fdca26\"],[1.0,\"#f0f921\"]],\"type\":\"histogram2dcontour\"}],\"histogram2d\":[{\"colorbar\":{\"outlinewidth\":0,\"ticks\":\"\"},\"colorscale\":[[0.0,\"#0d0887\"],[0.1111111111111111,\"#46039f\"],[0.2222222222222222,\"#7201a8\"],[0.3333333333333333,\"#9c179e\"],[0.4444444444444444,\"#bd3786\"],[0.5555555555555556,\"#d8576b\"],[0.6666666666666666,\"#ed7953\"],[0.7777777777777778,\"#fb9f3a\"],[0.8888888888888888,\"#fdca26\"],[1.0,\"#f0f921\"]],\"type\":\"histogram2d\"}],\"histogram\":[{\"marker\":{\"pattern\":{\"fillmode\":\"overlay\",\"size\":10,\"solidity\":0.2}},\"type\":\"histogram\"}],\"mesh3d\":[{\"colorbar\":{\"outlinewidth\":0,\"ticks\":\"\"},\"type\":\"mesh3d\"}],\"parcoords\":[{\"line\":{\"colorbar\":{\"outlinewidth\":0,\"ticks\":\"\"}},\"type\":\"parcoords\"}],\"pie\":[{\"automargin\":true,\"type\":\"pie\"}],\"scatter3d\":[{\"line\":{\"colorbar\":{\"outlinewidth\":0,\"ticks\":\"\"}},\"marker\":{\"colorbar\":{\"outlinewidth\":0,\"ticks\":\"\"}},\"type\":\"scatter3d\"}],\"scattercarpet\":[{\"marker\":{\"colorbar\":{\"outlinewidth\":0,\"ticks\":\"\"}},\"type\":\"scattercarpet\"}],\"scattergeo\":[{\"marker\":{\"colorbar\":{\"outlinewidth\":0,\"ticks\":\"\"}},\"type\":\"scattergeo\"}],\"scattergl\":[{\"marker\":{\"colorbar\":{\"outlinewidth\":0,\"ticks\":\"\"}},\"type\":\"scattergl\"}],\"scattermapbox\":[{\"marker\":{\"colorbar\":{\"outlinewidth\":0,\"ticks\":\"\"}},\"type\":\"scattermapbox\"}],\"scatterpolargl\":[{\"marker\":{\"colorbar\":{\"outlinewidth\":0,\"ticks\":\"\"}},\"type\":\"scatterpolargl\"}],\"scatterpolar\":[{\"marker\":{\"colorbar\":{\"outlinewidth\":0,\"ticks\":\"\"}},\"type\":\"scatterpolar\"}],\"scatter\":[{\"marker\":{\"colorbar\":{\"outlinewidth\":0,\"ticks\":\"\"}},\"type\":\"scatter\"}],\"scatterternary\":[{\"marker\":{\"colorbar\":{\"outlinewidth\":0,\"ticks\":\"\"}},\"type\":\"scatterternary\"}],\"surface\":[{\"colorbar\":{\"outlinewidth\":0,\"ticks\":\"\"},\"colorscale\":[[0.0,\"#0d0887\"],[0.1111111111111111,\"#46039f\"],[0.2222222222222222,\"#7201a8\"],[0.3333333333333333,\"#9c179e\"],[0.4444444444444444,\"#bd3786\"],[0.5555555555555556,\"#d8576b\"],[0.6666666666666666,\"#ed7953\"],[0.7777777777777778,\"#fb9f3a\"],[0.8888888888888888,\"#fdca26\"],[1.0,\"#f0f921\"]],\"type\":\"surface\"}],\"table\":[{\"cells\":{\"fill\":{\"color\":\"#EBF0F8\"},\"line\":{\"color\":\"white\"}},\"header\":{\"fill\":{\"color\":\"#C8D4E3\"},\"line\":{\"color\":\"white\"}},\"type\":\"table\"}]},\"layout\":{\"annotationdefaults\":{\"arrowcolor\":\"#2a3f5f\",\"arrowhead\":0,\"arrowwidth\":1},\"autotypenumbers\":\"strict\",\"coloraxis\":{\"colorbar\":{\"outlinewidth\":0,\"ticks\":\"\"}},\"colorscale\":{\"diverging\":[[0,\"#8e0152\"],[0.1,\"#c51b7d\"],[0.2,\"#de77ae\"],[0.3,\"#f1b6da\"],[0.4,\"#fde0ef\"],[0.5,\"#f7f7f7\"],[0.6,\"#e6f5d0\"],[0.7,\"#b8e186\"],[0.8,\"#7fbc41\"],[0.9,\"#4d9221\"],[1,\"#276419\"]],\"sequential\":[[0.0,\"#0d0887\"],[0.1111111111111111,\"#46039f\"],[0.2222222222222222,\"#7201a8\"],[0.3333333333333333,\"#9c179e\"],[0.4444444444444444,\"#bd3786\"],[0.5555555555555556,\"#d8576b\"],[0.6666666666666666,\"#ed7953\"],[0.7777777777777778,\"#fb9f3a\"],[0.8888888888888888,\"#fdca26\"],[1.0,\"#f0f921\"]],\"sequentialminus\":[[0.0,\"#0d0887\"],[0.1111111111111111,\"#46039f\"],[0.2222222222222222,\"#7201a8\"],[0.3333333333333333,\"#9c179e\"],[0.4444444444444444,\"#bd3786\"],[0.5555555555555556,\"#d8576b\"],[0.6666666666666666,\"#ed7953\"],[0.7777777777777778,\"#fb9f3a\"],[0.8888888888888888,\"#fdca26\"],[1.0,\"#f0f921\"]]},\"colorway\":[\"#636efa\",\"#EF553B\",\"#00cc96\",\"#ab63fa\",\"#FFA15A\",\"#19d3f3\",\"#FF6692\",\"#B6E880\",\"#FF97FF\",\"#FECB52\"],\"font\":{\"color\":\"#2a3f5f\"},\"geo\":{\"bgcolor\":\"white\",\"lakecolor\":\"white\",\"landcolor\":\"#E5ECF6\",\"showlakes\":true,\"showland\":true,\"subunitcolor\":\"white\"},\"hoverlabel\":{\"align\":\"left\"},\"hovermode\":\"closest\",\"mapbox\":{\"style\":\"light\"},\"paper_bgcolor\":\"white\",\"plot_bgcolor\":\"#E5ECF6\",\"polar\":{\"angularaxis\":{\"gridcolor\":\"white\",\"linecolor\":\"white\",\"ticks\":\"\"},\"bgcolor\":\"#E5ECF6\",\"radialaxis\":{\"gridcolor\":\"white\",\"linecolor\":\"white\",\"ticks\":\"\"}},\"scene\":{\"xaxis\":{\"backgroundcolor\":\"#E5ECF6\",\"gridcolor\":\"white\",\"gridwidth\":2,\"linecolor\":\"white\",\"showbackground\":true,\"ticks\":\"\",\"zerolinecolor\":\"white\"},\"yaxis\":{\"backgroundcolor\":\"#E5ECF6\",\"gridcolor\":\"white\",\"gridwidth\":2,\"linecolor\":\"white\",\"showbackground\":true,\"ticks\":\"\",\"zerolinecolor\":\"white\"},\"zaxis\":{\"backgroundcolor\":\"#E5ECF6\",\"gridcolor\":\"white\",\"gridwidth\":2,\"linecolor\":\"white\",\"showbackground\":true,\"ticks\":\"\",\"zerolinecolor\":\"white\"}},\"shapedefaults\":{\"line\":{\"color\":\"#2a3f5f\"}},\"ternary\":{\"aaxis\":{\"gridcolor\":\"white\",\"linecolor\":\"white\",\"ticks\":\"\"},\"baxis\":{\"gridcolor\":\"white\",\"linecolor\":\"white\",\"ticks\":\"\"},\"bgcolor\":\"#E5ECF6\",\"caxis\":{\"gridcolor\":\"white\",\"linecolor\":\"white\",\"ticks\":\"\"}},\"title\":{\"x\":0.05},\"xaxis\":{\"automargin\":true,\"gridcolor\":\"white\",\"linecolor\":\"white\",\"ticks\":\"\",\"title\":{\"standoff\":15},\"zerolinecolor\":\"white\",\"zerolinewidth\":2},\"yaxis\":{\"automargin\":true,\"gridcolor\":\"white\",\"linecolor\":\"white\",\"ticks\":\"\",\"title\":{\"standoff\":15},\"zerolinecolor\":\"white\",\"zerolinewidth\":2}}},\"title\":{\"font\":{\"color\":\"#4D5663\"}},\"xaxis\":{\"gridcolor\":\"#E1E5ED\",\"showgrid\":true,\"tickfont\":{\"color\":\"#4D5663\"},\"title\":{\"font\":{\"color\":\"#4D5663\"},\"text\":\"\"},\"zerolinecolor\":\"#E1E5ED\"},\"yaxis\":{\"gridcolor\":\"#E1E5ED\",\"showgrid\":true,\"tickfont\":{\"color\":\"#4D5663\"},\"title\":{\"font\":{\"color\":\"#4D5663\"},\"text\":\"\"},\"zerolinecolor\":\"#E1E5ED\"}},                        {\"showLink\": true, \"linkText\": \"Export to plot.ly\", \"plotlyServerURL\": \"https://plot.ly\", \"responsive\": true}                    ).then(function(){\n",
       "                            \n",
       "var gd = document.getElementById('451808eb-1300-454a-8dcf-e8cc5ee8f422');\n",
       "var x = new MutationObserver(function (mutations, observer) {{\n",
       "        var display = window.getComputedStyle(gd).display;\n",
       "        if (!display || display === 'none') {{\n",
       "            console.log([gd, 'removed!']);\n",
       "            Plotly.purge(gd);\n",
       "            observer.disconnect();\n",
       "        }}\n",
       "}});\n",
       "\n",
       "// Listen for the removal of the full notebook cells\n",
       "var notebookContainer = gd.closest('#notebook-container');\n",
       "if (notebookContainer) {{\n",
       "    x.observe(notebookContainer, {childList: true});\n",
       "}}\n",
       "\n",
       "// Listen for the clearing of the current output cell\n",
       "var outputEl = gd.closest('.output');\n",
       "if (outputEl) {{\n",
       "    x.observe(outputEl, {childList: true});\n",
       "}}\n",
       "\n",
       "                        })                };                });            </script>        </div>"
      ]
     },
     "metadata": {},
     "output_type": "display_data"
    }
   ],
   "source": [
    "df2.iplot(kind='bar',x='Category',y='Values')"
   ]
  },
  {
   "cell_type": "code",
   "execution_count": 12,
   "metadata": {},
   "outputs": [
    {
     "data": {
      "application/vnd.plotly.v1+json": {
       "config": {
        "linkText": "Export to plot.ly",
        "plotlyServerURL": "https://plot.ly",
        "showLink": true
       },
       "data": [
        {
         "marker": {
          "color": "rgba(255, 153, 51, 0.6)",
          "line": {
           "color": "rgba(255, 153, 51, 1.0)",
           "width": 1
          }
         },
         "name": "None",
         "orientation": "v",
         "text": "",
         "type": "bar",
         "x": [
          "A",
          "B",
          "C",
          "D"
         ],
         "y": [
          -15.678521289920214,
          2.258993002023658,
          -10.602075928378454,
          6.957063940679453
         ]
        }
       ],
       "layout": {
        "legend": {
         "bgcolor": "#F5F6F9",
         "font": {
          "color": "#4D5663"
         }
        },
        "paper_bgcolor": "#F5F6F9",
        "plot_bgcolor": "#F5F6F9",
        "template": {
         "data": {
          "bar": [
           {
            "error_x": {
             "color": "#2a3f5f"
            },
            "error_y": {
             "color": "#2a3f5f"
            },
            "marker": {
             "line": {
              "color": "#E5ECF6",
              "width": 0.5
             },
             "pattern": {
              "fillmode": "overlay",
              "size": 10,
              "solidity": 0.2
             }
            },
            "type": "bar"
           }
          ],
          "barpolar": [
           {
            "marker": {
             "line": {
              "color": "#E5ECF6",
              "width": 0.5
             },
             "pattern": {
              "fillmode": "overlay",
              "size": 10,
              "solidity": 0.2
             }
            },
            "type": "barpolar"
           }
          ],
          "carpet": [
           {
            "aaxis": {
             "endlinecolor": "#2a3f5f",
             "gridcolor": "white",
             "linecolor": "white",
             "minorgridcolor": "white",
             "startlinecolor": "#2a3f5f"
            },
            "baxis": {
             "endlinecolor": "#2a3f5f",
             "gridcolor": "white",
             "linecolor": "white",
             "minorgridcolor": "white",
             "startlinecolor": "#2a3f5f"
            },
            "type": "carpet"
           }
          ],
          "choropleth": [
           {
            "colorbar": {
             "outlinewidth": 0,
             "ticks": ""
            },
            "type": "choropleth"
           }
          ],
          "contour": [
           {
            "colorbar": {
             "outlinewidth": 0,
             "ticks": ""
            },
            "colorscale": [
             [
              0,
              "#0d0887"
             ],
             [
              0.1111111111111111,
              "#46039f"
             ],
             [
              0.2222222222222222,
              "#7201a8"
             ],
             [
              0.3333333333333333,
              "#9c179e"
             ],
             [
              0.4444444444444444,
              "#bd3786"
             ],
             [
              0.5555555555555556,
              "#d8576b"
             ],
             [
              0.6666666666666666,
              "#ed7953"
             ],
             [
              0.7777777777777778,
              "#fb9f3a"
             ],
             [
              0.8888888888888888,
              "#fdca26"
             ],
             [
              1,
              "#f0f921"
             ]
            ],
            "type": "contour"
           }
          ],
          "contourcarpet": [
           {
            "colorbar": {
             "outlinewidth": 0,
             "ticks": ""
            },
            "type": "contourcarpet"
           }
          ],
          "heatmap": [
           {
            "colorbar": {
             "outlinewidth": 0,
             "ticks": ""
            },
            "colorscale": [
             [
              0,
              "#0d0887"
             ],
             [
              0.1111111111111111,
              "#46039f"
             ],
             [
              0.2222222222222222,
              "#7201a8"
             ],
             [
              0.3333333333333333,
              "#9c179e"
             ],
             [
              0.4444444444444444,
              "#bd3786"
             ],
             [
              0.5555555555555556,
              "#d8576b"
             ],
             [
              0.6666666666666666,
              "#ed7953"
             ],
             [
              0.7777777777777778,
              "#fb9f3a"
             ],
             [
              0.8888888888888888,
              "#fdca26"
             ],
             [
              1,
              "#f0f921"
             ]
            ],
            "type": "heatmap"
           }
          ],
          "heatmapgl": [
           {
            "colorbar": {
             "outlinewidth": 0,
             "ticks": ""
            },
            "colorscale": [
             [
              0,
              "#0d0887"
             ],
             [
              0.1111111111111111,
              "#46039f"
             ],
             [
              0.2222222222222222,
              "#7201a8"
             ],
             [
              0.3333333333333333,
              "#9c179e"
             ],
             [
              0.4444444444444444,
              "#bd3786"
             ],
             [
              0.5555555555555556,
              "#d8576b"
             ],
             [
              0.6666666666666666,
              "#ed7953"
             ],
             [
              0.7777777777777778,
              "#fb9f3a"
             ],
             [
              0.8888888888888888,
              "#fdca26"
             ],
             [
              1,
              "#f0f921"
             ]
            ],
            "type": "heatmapgl"
           }
          ],
          "histogram": [
           {
            "marker": {
             "pattern": {
              "fillmode": "overlay",
              "size": 10,
              "solidity": 0.2
             }
            },
            "type": "histogram"
           }
          ],
          "histogram2d": [
           {
            "colorbar": {
             "outlinewidth": 0,
             "ticks": ""
            },
            "colorscale": [
             [
              0,
              "#0d0887"
             ],
             [
              0.1111111111111111,
              "#46039f"
             ],
             [
              0.2222222222222222,
              "#7201a8"
             ],
             [
              0.3333333333333333,
              "#9c179e"
             ],
             [
              0.4444444444444444,
              "#bd3786"
             ],
             [
              0.5555555555555556,
              "#d8576b"
             ],
             [
              0.6666666666666666,
              "#ed7953"
             ],
             [
              0.7777777777777778,
              "#fb9f3a"
             ],
             [
              0.8888888888888888,
              "#fdca26"
             ],
             [
              1,
              "#f0f921"
             ]
            ],
            "type": "histogram2d"
           }
          ],
          "histogram2dcontour": [
           {
            "colorbar": {
             "outlinewidth": 0,
             "ticks": ""
            },
            "colorscale": [
             [
              0,
              "#0d0887"
             ],
             [
              0.1111111111111111,
              "#46039f"
             ],
             [
              0.2222222222222222,
              "#7201a8"
             ],
             [
              0.3333333333333333,
              "#9c179e"
             ],
             [
              0.4444444444444444,
              "#bd3786"
             ],
             [
              0.5555555555555556,
              "#d8576b"
             ],
             [
              0.6666666666666666,
              "#ed7953"
             ],
             [
              0.7777777777777778,
              "#fb9f3a"
             ],
             [
              0.8888888888888888,
              "#fdca26"
             ],
             [
              1,
              "#f0f921"
             ]
            ],
            "type": "histogram2dcontour"
           }
          ],
          "mesh3d": [
           {
            "colorbar": {
             "outlinewidth": 0,
             "ticks": ""
            },
            "type": "mesh3d"
           }
          ],
          "parcoords": [
           {
            "line": {
             "colorbar": {
              "outlinewidth": 0,
              "ticks": ""
             }
            },
            "type": "parcoords"
           }
          ],
          "pie": [
           {
            "automargin": true,
            "type": "pie"
           }
          ],
          "scatter": [
           {
            "marker": {
             "colorbar": {
              "outlinewidth": 0,
              "ticks": ""
             }
            },
            "type": "scatter"
           }
          ],
          "scatter3d": [
           {
            "line": {
             "colorbar": {
              "outlinewidth": 0,
              "ticks": ""
             }
            },
            "marker": {
             "colorbar": {
              "outlinewidth": 0,
              "ticks": ""
             }
            },
            "type": "scatter3d"
           }
          ],
          "scattercarpet": [
           {
            "marker": {
             "colorbar": {
              "outlinewidth": 0,
              "ticks": ""
             }
            },
            "type": "scattercarpet"
           }
          ],
          "scattergeo": [
           {
            "marker": {
             "colorbar": {
              "outlinewidth": 0,
              "ticks": ""
             }
            },
            "type": "scattergeo"
           }
          ],
          "scattergl": [
           {
            "marker": {
             "colorbar": {
              "outlinewidth": 0,
              "ticks": ""
             }
            },
            "type": "scattergl"
           }
          ],
          "scattermapbox": [
           {
            "marker": {
             "colorbar": {
              "outlinewidth": 0,
              "ticks": ""
             }
            },
            "type": "scattermapbox"
           }
          ],
          "scatterpolar": [
           {
            "marker": {
             "colorbar": {
              "outlinewidth": 0,
              "ticks": ""
             }
            },
            "type": "scatterpolar"
           }
          ],
          "scatterpolargl": [
           {
            "marker": {
             "colorbar": {
              "outlinewidth": 0,
              "ticks": ""
             }
            },
            "type": "scatterpolargl"
           }
          ],
          "scatterternary": [
           {
            "marker": {
             "colorbar": {
              "outlinewidth": 0,
              "ticks": ""
             }
            },
            "type": "scatterternary"
           }
          ],
          "surface": [
           {
            "colorbar": {
             "outlinewidth": 0,
             "ticks": ""
            },
            "colorscale": [
             [
              0,
              "#0d0887"
             ],
             [
              0.1111111111111111,
              "#46039f"
             ],
             [
              0.2222222222222222,
              "#7201a8"
             ],
             [
              0.3333333333333333,
              "#9c179e"
             ],
             [
              0.4444444444444444,
              "#bd3786"
             ],
             [
              0.5555555555555556,
              "#d8576b"
             ],
             [
              0.6666666666666666,
              "#ed7953"
             ],
             [
              0.7777777777777778,
              "#fb9f3a"
             ],
             [
              0.8888888888888888,
              "#fdca26"
             ],
             [
              1,
              "#f0f921"
             ]
            ],
            "type": "surface"
           }
          ],
          "table": [
           {
            "cells": {
             "fill": {
              "color": "#EBF0F8"
             },
             "line": {
              "color": "white"
             }
            },
            "header": {
             "fill": {
              "color": "#C8D4E3"
             },
             "line": {
              "color": "white"
             }
            },
            "type": "table"
           }
          ]
         },
         "layout": {
          "annotationdefaults": {
           "arrowcolor": "#2a3f5f",
           "arrowhead": 0,
           "arrowwidth": 1
          },
          "autotypenumbers": "strict",
          "coloraxis": {
           "colorbar": {
            "outlinewidth": 0,
            "ticks": ""
           }
          },
          "colorscale": {
           "diverging": [
            [
             0,
             "#8e0152"
            ],
            [
             0.1,
             "#c51b7d"
            ],
            [
             0.2,
             "#de77ae"
            ],
            [
             0.3,
             "#f1b6da"
            ],
            [
             0.4,
             "#fde0ef"
            ],
            [
             0.5,
             "#f7f7f7"
            ],
            [
             0.6,
             "#e6f5d0"
            ],
            [
             0.7,
             "#b8e186"
            ],
            [
             0.8,
             "#7fbc41"
            ],
            [
             0.9,
             "#4d9221"
            ],
            [
             1,
             "#276419"
            ]
           ],
           "sequential": [
            [
             0,
             "#0d0887"
            ],
            [
             0.1111111111111111,
             "#46039f"
            ],
            [
             0.2222222222222222,
             "#7201a8"
            ],
            [
             0.3333333333333333,
             "#9c179e"
            ],
            [
             0.4444444444444444,
             "#bd3786"
            ],
            [
             0.5555555555555556,
             "#d8576b"
            ],
            [
             0.6666666666666666,
             "#ed7953"
            ],
            [
             0.7777777777777778,
             "#fb9f3a"
            ],
            [
             0.8888888888888888,
             "#fdca26"
            ],
            [
             1,
             "#f0f921"
            ]
           ],
           "sequentialminus": [
            [
             0,
             "#0d0887"
            ],
            [
             0.1111111111111111,
             "#46039f"
            ],
            [
             0.2222222222222222,
             "#7201a8"
            ],
            [
             0.3333333333333333,
             "#9c179e"
            ],
            [
             0.4444444444444444,
             "#bd3786"
            ],
            [
             0.5555555555555556,
             "#d8576b"
            ],
            [
             0.6666666666666666,
             "#ed7953"
            ],
            [
             0.7777777777777778,
             "#fb9f3a"
            ],
            [
             0.8888888888888888,
             "#fdca26"
            ],
            [
             1,
             "#f0f921"
            ]
           ]
          },
          "colorway": [
           "#636efa",
           "#EF553B",
           "#00cc96",
           "#ab63fa",
           "#FFA15A",
           "#19d3f3",
           "#FF6692",
           "#B6E880",
           "#FF97FF",
           "#FECB52"
          ],
          "font": {
           "color": "#2a3f5f"
          },
          "geo": {
           "bgcolor": "white",
           "lakecolor": "white",
           "landcolor": "#E5ECF6",
           "showlakes": true,
           "showland": true,
           "subunitcolor": "white"
          },
          "hoverlabel": {
           "align": "left"
          },
          "hovermode": "closest",
          "mapbox": {
           "style": "light"
          },
          "paper_bgcolor": "white",
          "plot_bgcolor": "#E5ECF6",
          "polar": {
           "angularaxis": {
            "gridcolor": "white",
            "linecolor": "white",
            "ticks": ""
           },
           "bgcolor": "#E5ECF6",
           "radialaxis": {
            "gridcolor": "white",
            "linecolor": "white",
            "ticks": ""
           }
          },
          "scene": {
           "xaxis": {
            "backgroundcolor": "#E5ECF6",
            "gridcolor": "white",
            "gridwidth": 2,
            "linecolor": "white",
            "showbackground": true,
            "ticks": "",
            "zerolinecolor": "white"
           },
           "yaxis": {
            "backgroundcolor": "#E5ECF6",
            "gridcolor": "white",
            "gridwidth": 2,
            "linecolor": "white",
            "showbackground": true,
            "ticks": "",
            "zerolinecolor": "white"
           },
           "zaxis": {
            "backgroundcolor": "#E5ECF6",
            "gridcolor": "white",
            "gridwidth": 2,
            "linecolor": "white",
            "showbackground": true,
            "ticks": "",
            "zerolinecolor": "white"
           }
          },
          "shapedefaults": {
           "line": {
            "color": "#2a3f5f"
           }
          },
          "ternary": {
           "aaxis": {
            "gridcolor": "white",
            "linecolor": "white",
            "ticks": ""
           },
           "baxis": {
            "gridcolor": "white",
            "linecolor": "white",
            "ticks": ""
           },
           "bgcolor": "#E5ECF6",
           "caxis": {
            "gridcolor": "white",
            "linecolor": "white",
            "ticks": ""
           }
          },
          "title": {
           "x": 0.05
          },
          "xaxis": {
           "automargin": true,
           "gridcolor": "white",
           "linecolor": "white",
           "ticks": "",
           "title": {
            "standoff": 15
           },
           "zerolinecolor": "white",
           "zerolinewidth": 2
          },
          "yaxis": {
           "automargin": true,
           "gridcolor": "white",
           "linecolor": "white",
           "ticks": "",
           "title": {
            "standoff": 15
           },
           "zerolinecolor": "white",
           "zerolinewidth": 2
          }
         }
        },
        "title": {
         "font": {
          "color": "#4D5663"
         }
        },
        "xaxis": {
         "gridcolor": "#E1E5ED",
         "showgrid": true,
         "tickfont": {
          "color": "#4D5663"
         },
         "title": {
          "font": {
           "color": "#4D5663"
          },
          "text": ""
         },
         "zerolinecolor": "#E1E5ED"
        },
        "yaxis": {
         "gridcolor": "#E1E5ED",
         "showgrid": true,
         "tickfont": {
          "color": "#4D5663"
         },
         "title": {
          "font": {
           "color": "#4D5663"
          },
          "text": ""
         },
         "zerolinecolor": "#E1E5ED"
        }
       }
      },
      "text/html": [
       "<div>                            <div id=\"8172cb0d-6d1f-4571-97ee-73507fc9f818\" class=\"plotly-graph-div\" style=\"height:525px; width:100%;\"></div>            <script type=\"text/javascript\">                require([\"plotly\"], function(Plotly) {                    window.PLOTLYENV=window.PLOTLYENV || {};\n",
       "                    window.PLOTLYENV.BASE_URL='https://plot.ly';                                    if (document.getElementById(\"8172cb0d-6d1f-4571-97ee-73507fc9f818\")) {                    Plotly.newPlot(                        \"8172cb0d-6d1f-4571-97ee-73507fc9f818\",                        [{\"marker\":{\"color\":\"rgba(255, 153, 51, 0.6)\",\"line\":{\"color\":\"rgba(255, 153, 51, 1.0)\",\"width\":1}},\"name\":\"None\",\"orientation\":\"v\",\"text\":\"\",\"x\":[\"A\",\"B\",\"C\",\"D\"],\"y\":[-15.678521289920214,2.258993002023658,-10.602075928378454,6.957063940679453],\"type\":\"bar\"}],                        {\"legend\":{\"bgcolor\":\"#F5F6F9\",\"font\":{\"color\":\"#4D5663\"}},\"paper_bgcolor\":\"#F5F6F9\",\"plot_bgcolor\":\"#F5F6F9\",\"template\":{\"data\":{\"barpolar\":[{\"marker\":{\"line\":{\"color\":\"#E5ECF6\",\"width\":0.5},\"pattern\":{\"fillmode\":\"overlay\",\"size\":10,\"solidity\":0.2}},\"type\":\"barpolar\"}],\"bar\":[{\"error_x\":{\"color\":\"#2a3f5f\"},\"error_y\":{\"color\":\"#2a3f5f\"},\"marker\":{\"line\":{\"color\":\"#E5ECF6\",\"width\":0.5},\"pattern\":{\"fillmode\":\"overlay\",\"size\":10,\"solidity\":0.2}},\"type\":\"bar\"}],\"carpet\":[{\"aaxis\":{\"endlinecolor\":\"#2a3f5f\",\"gridcolor\":\"white\",\"linecolor\":\"white\",\"minorgridcolor\":\"white\",\"startlinecolor\":\"#2a3f5f\"},\"baxis\":{\"endlinecolor\":\"#2a3f5f\",\"gridcolor\":\"white\",\"linecolor\":\"white\",\"minorgridcolor\":\"white\",\"startlinecolor\":\"#2a3f5f\"},\"type\":\"carpet\"}],\"choropleth\":[{\"colorbar\":{\"outlinewidth\":0,\"ticks\":\"\"},\"type\":\"choropleth\"}],\"contourcarpet\":[{\"colorbar\":{\"outlinewidth\":0,\"ticks\":\"\"},\"type\":\"contourcarpet\"}],\"contour\":[{\"colorbar\":{\"outlinewidth\":0,\"ticks\":\"\"},\"colorscale\":[[0.0,\"#0d0887\"],[0.1111111111111111,\"#46039f\"],[0.2222222222222222,\"#7201a8\"],[0.3333333333333333,\"#9c179e\"],[0.4444444444444444,\"#bd3786\"],[0.5555555555555556,\"#d8576b\"],[0.6666666666666666,\"#ed7953\"],[0.7777777777777778,\"#fb9f3a\"],[0.8888888888888888,\"#fdca26\"],[1.0,\"#f0f921\"]],\"type\":\"contour\"}],\"heatmapgl\":[{\"colorbar\":{\"outlinewidth\":0,\"ticks\":\"\"},\"colorscale\":[[0.0,\"#0d0887\"],[0.1111111111111111,\"#46039f\"],[0.2222222222222222,\"#7201a8\"],[0.3333333333333333,\"#9c179e\"],[0.4444444444444444,\"#bd3786\"],[0.5555555555555556,\"#d8576b\"],[0.6666666666666666,\"#ed7953\"],[0.7777777777777778,\"#fb9f3a\"],[0.8888888888888888,\"#fdca26\"],[1.0,\"#f0f921\"]],\"type\":\"heatmapgl\"}],\"heatmap\":[{\"colorbar\":{\"outlinewidth\":0,\"ticks\":\"\"},\"colorscale\":[[0.0,\"#0d0887\"],[0.1111111111111111,\"#46039f\"],[0.2222222222222222,\"#7201a8\"],[0.3333333333333333,\"#9c179e\"],[0.4444444444444444,\"#bd3786\"],[0.5555555555555556,\"#d8576b\"],[0.6666666666666666,\"#ed7953\"],[0.7777777777777778,\"#fb9f3a\"],[0.8888888888888888,\"#fdca26\"],[1.0,\"#f0f921\"]],\"type\":\"heatmap\"}],\"histogram2dcontour\":[{\"colorbar\":{\"outlinewidth\":0,\"ticks\":\"\"},\"colorscale\":[[0.0,\"#0d0887\"],[0.1111111111111111,\"#46039f\"],[0.2222222222222222,\"#7201a8\"],[0.3333333333333333,\"#9c179e\"],[0.4444444444444444,\"#bd3786\"],[0.5555555555555556,\"#d8576b\"],[0.6666666666666666,\"#ed7953\"],[0.7777777777777778,\"#fb9f3a\"],[0.8888888888888888,\"#fdca26\"],[1.0,\"#f0f921\"]],\"type\":\"histogram2dcontour\"}],\"histogram2d\":[{\"colorbar\":{\"outlinewidth\":0,\"ticks\":\"\"},\"colorscale\":[[0.0,\"#0d0887\"],[0.1111111111111111,\"#46039f\"],[0.2222222222222222,\"#7201a8\"],[0.3333333333333333,\"#9c179e\"],[0.4444444444444444,\"#bd3786\"],[0.5555555555555556,\"#d8576b\"],[0.6666666666666666,\"#ed7953\"],[0.7777777777777778,\"#fb9f3a\"],[0.8888888888888888,\"#fdca26\"],[1.0,\"#f0f921\"]],\"type\":\"histogram2d\"}],\"histogram\":[{\"marker\":{\"pattern\":{\"fillmode\":\"overlay\",\"size\":10,\"solidity\":0.2}},\"type\":\"histogram\"}],\"mesh3d\":[{\"colorbar\":{\"outlinewidth\":0,\"ticks\":\"\"},\"type\":\"mesh3d\"}],\"parcoords\":[{\"line\":{\"colorbar\":{\"outlinewidth\":0,\"ticks\":\"\"}},\"type\":\"parcoords\"}],\"pie\":[{\"automargin\":true,\"type\":\"pie\"}],\"scatter3d\":[{\"line\":{\"colorbar\":{\"outlinewidth\":0,\"ticks\":\"\"}},\"marker\":{\"colorbar\":{\"outlinewidth\":0,\"ticks\":\"\"}},\"type\":\"scatter3d\"}],\"scattercarpet\":[{\"marker\":{\"colorbar\":{\"outlinewidth\":0,\"ticks\":\"\"}},\"type\":\"scattercarpet\"}],\"scattergeo\":[{\"marker\":{\"colorbar\":{\"outlinewidth\":0,\"ticks\":\"\"}},\"type\":\"scattergeo\"}],\"scattergl\":[{\"marker\":{\"colorbar\":{\"outlinewidth\":0,\"ticks\":\"\"}},\"type\":\"scattergl\"}],\"scattermapbox\":[{\"marker\":{\"colorbar\":{\"outlinewidth\":0,\"ticks\":\"\"}},\"type\":\"scattermapbox\"}],\"scatterpolargl\":[{\"marker\":{\"colorbar\":{\"outlinewidth\":0,\"ticks\":\"\"}},\"type\":\"scatterpolargl\"}],\"scatterpolar\":[{\"marker\":{\"colorbar\":{\"outlinewidth\":0,\"ticks\":\"\"}},\"type\":\"scatterpolar\"}],\"scatter\":[{\"marker\":{\"colorbar\":{\"outlinewidth\":0,\"ticks\":\"\"}},\"type\":\"scatter\"}],\"scatterternary\":[{\"marker\":{\"colorbar\":{\"outlinewidth\":0,\"ticks\":\"\"}},\"type\":\"scatterternary\"}],\"surface\":[{\"colorbar\":{\"outlinewidth\":0,\"ticks\":\"\"},\"colorscale\":[[0.0,\"#0d0887\"],[0.1111111111111111,\"#46039f\"],[0.2222222222222222,\"#7201a8\"],[0.3333333333333333,\"#9c179e\"],[0.4444444444444444,\"#bd3786\"],[0.5555555555555556,\"#d8576b\"],[0.6666666666666666,\"#ed7953\"],[0.7777777777777778,\"#fb9f3a\"],[0.8888888888888888,\"#fdca26\"],[1.0,\"#f0f921\"]],\"type\":\"surface\"}],\"table\":[{\"cells\":{\"fill\":{\"color\":\"#EBF0F8\"},\"line\":{\"color\":\"white\"}},\"header\":{\"fill\":{\"color\":\"#C8D4E3\"},\"line\":{\"color\":\"white\"}},\"type\":\"table\"}]},\"layout\":{\"annotationdefaults\":{\"arrowcolor\":\"#2a3f5f\",\"arrowhead\":0,\"arrowwidth\":1},\"autotypenumbers\":\"strict\",\"coloraxis\":{\"colorbar\":{\"outlinewidth\":0,\"ticks\":\"\"}},\"colorscale\":{\"diverging\":[[0,\"#8e0152\"],[0.1,\"#c51b7d\"],[0.2,\"#de77ae\"],[0.3,\"#f1b6da\"],[0.4,\"#fde0ef\"],[0.5,\"#f7f7f7\"],[0.6,\"#e6f5d0\"],[0.7,\"#b8e186\"],[0.8,\"#7fbc41\"],[0.9,\"#4d9221\"],[1,\"#276419\"]],\"sequential\":[[0.0,\"#0d0887\"],[0.1111111111111111,\"#46039f\"],[0.2222222222222222,\"#7201a8\"],[0.3333333333333333,\"#9c179e\"],[0.4444444444444444,\"#bd3786\"],[0.5555555555555556,\"#d8576b\"],[0.6666666666666666,\"#ed7953\"],[0.7777777777777778,\"#fb9f3a\"],[0.8888888888888888,\"#fdca26\"],[1.0,\"#f0f921\"]],\"sequentialminus\":[[0.0,\"#0d0887\"],[0.1111111111111111,\"#46039f\"],[0.2222222222222222,\"#7201a8\"],[0.3333333333333333,\"#9c179e\"],[0.4444444444444444,\"#bd3786\"],[0.5555555555555556,\"#d8576b\"],[0.6666666666666666,\"#ed7953\"],[0.7777777777777778,\"#fb9f3a\"],[0.8888888888888888,\"#fdca26\"],[1.0,\"#f0f921\"]]},\"colorway\":[\"#636efa\",\"#EF553B\",\"#00cc96\",\"#ab63fa\",\"#FFA15A\",\"#19d3f3\",\"#FF6692\",\"#B6E880\",\"#FF97FF\",\"#FECB52\"],\"font\":{\"color\":\"#2a3f5f\"},\"geo\":{\"bgcolor\":\"white\",\"lakecolor\":\"white\",\"landcolor\":\"#E5ECF6\",\"showlakes\":true,\"showland\":true,\"subunitcolor\":\"white\"},\"hoverlabel\":{\"align\":\"left\"},\"hovermode\":\"closest\",\"mapbox\":{\"style\":\"light\"},\"paper_bgcolor\":\"white\",\"plot_bgcolor\":\"#E5ECF6\",\"polar\":{\"angularaxis\":{\"gridcolor\":\"white\",\"linecolor\":\"white\",\"ticks\":\"\"},\"bgcolor\":\"#E5ECF6\",\"radialaxis\":{\"gridcolor\":\"white\",\"linecolor\":\"white\",\"ticks\":\"\"}},\"scene\":{\"xaxis\":{\"backgroundcolor\":\"#E5ECF6\",\"gridcolor\":\"white\",\"gridwidth\":2,\"linecolor\":\"white\",\"showbackground\":true,\"ticks\":\"\",\"zerolinecolor\":\"white\"},\"yaxis\":{\"backgroundcolor\":\"#E5ECF6\",\"gridcolor\":\"white\",\"gridwidth\":2,\"linecolor\":\"white\",\"showbackground\":true,\"ticks\":\"\",\"zerolinecolor\":\"white\"},\"zaxis\":{\"backgroundcolor\":\"#E5ECF6\",\"gridcolor\":\"white\",\"gridwidth\":2,\"linecolor\":\"white\",\"showbackground\":true,\"ticks\":\"\",\"zerolinecolor\":\"white\"}},\"shapedefaults\":{\"line\":{\"color\":\"#2a3f5f\"}},\"ternary\":{\"aaxis\":{\"gridcolor\":\"white\",\"linecolor\":\"white\",\"ticks\":\"\"},\"baxis\":{\"gridcolor\":\"white\",\"linecolor\":\"white\",\"ticks\":\"\"},\"bgcolor\":\"#E5ECF6\",\"caxis\":{\"gridcolor\":\"white\",\"linecolor\":\"white\",\"ticks\":\"\"}},\"title\":{\"x\":0.05},\"xaxis\":{\"automargin\":true,\"gridcolor\":\"white\",\"linecolor\":\"white\",\"ticks\":\"\",\"title\":{\"standoff\":15},\"zerolinecolor\":\"white\",\"zerolinewidth\":2},\"yaxis\":{\"automargin\":true,\"gridcolor\":\"white\",\"linecolor\":\"white\",\"ticks\":\"\",\"title\":{\"standoff\":15},\"zerolinecolor\":\"white\",\"zerolinewidth\":2}}},\"title\":{\"font\":{\"color\":\"#4D5663\"}},\"xaxis\":{\"gridcolor\":\"#E1E5ED\",\"showgrid\":true,\"tickfont\":{\"color\":\"#4D5663\"},\"title\":{\"font\":{\"color\":\"#4D5663\"},\"text\":\"\"},\"zerolinecolor\":\"#E1E5ED\"},\"yaxis\":{\"gridcolor\":\"#E1E5ED\",\"showgrid\":true,\"tickfont\":{\"color\":\"#4D5663\"},\"title\":{\"font\":{\"color\":\"#4D5663\"},\"text\":\"\"},\"zerolinecolor\":\"#E1E5ED\"}},                        {\"showLink\": true, \"linkText\": \"Export to plot.ly\", \"plotlyServerURL\": \"https://plot.ly\", \"responsive\": true}                    ).then(function(){\n",
       "                            \n",
       "var gd = document.getElementById('8172cb0d-6d1f-4571-97ee-73507fc9f818');\n",
       "var x = new MutationObserver(function (mutations, observer) {{\n",
       "        var display = window.getComputedStyle(gd).display;\n",
       "        if (!display || display === 'none') {{\n",
       "            console.log([gd, 'removed!']);\n",
       "            Plotly.purge(gd);\n",
       "            observer.disconnect();\n",
       "        }}\n",
       "}});\n",
       "\n",
       "// Listen for the removal of the full notebook cells\n",
       "var notebookContainer = gd.closest('#notebook-container');\n",
       "if (notebookContainer) {{\n",
       "    x.observe(notebookContainer, {childList: true});\n",
       "}}\n",
       "\n",
       "// Listen for the clearing of the current output cell\n",
       "var outputEl = gd.closest('.output');\n",
       "if (outputEl) {{\n",
       "    x.observe(outputEl, {childList: true});\n",
       "}}\n",
       "\n",
       "                        })                };                });            </script>        </div>"
      ]
     },
     "metadata": {},
     "output_type": "display_data"
    }
   ],
   "source": [
    "df.sum().iplot(kind='bar')"
   ]
  },
  {
   "cell_type": "markdown",
   "metadata": {},
   "source": [
    "## Boxplots"
   ]
  },
  {
   "cell_type": "code",
   "execution_count": 13,
   "metadata": {},
   "outputs": [
    {
     "data": {
      "application/vnd.plotly.v1+json": {
       "config": {
        "linkText": "Export to plot.ly",
        "plotlyServerURL": "https://plot.ly",
        "showLink": true
       },
       "data": [
        {
         "boxpoints": false,
         "line": {
          "width": 1.3
         },
         "marker": {
          "color": "rgba(255, 153, 51, 1.0)"
         },
         "name": "A",
         "orientation": "v",
         "type": "box",
         "y": [
          0.4395119976966545,
          0.020152580888882565,
          -0.37407441444430184,
          -0.539926331737172,
          -1.1415136887036064,
          0.8166657567438118,
          -0.6224297536168503,
          0.7308894349710953,
          0.7203192879102357,
          -1.3737647648303697,
          -1.23119009378185,
          0.3198538375639925,
          0.26348650235568355,
          0.6488757306353029,
          -0.00728590715634182,
          -0.7565433586862875,
          -0.6563581332656321,
          -0.2718198150238515,
          2.3006887217341485,
          -0.0016354406682298403,
          -0.44155799103745624,
          -0.05360096166018684,
          0.1482445798661521,
          -0.31540345886485455,
          -1.0965840430633944,
          0.10640896879094265,
          -0.6070796967732894,
          -0.22733509919143075,
          1.9043079760497075,
          0.15758544829888035,
          -0.8467557485348001,
          -0.05415976370766293,
          -0.9788011598549242,
          -1.6583630823284712,
          0.8159503058015778,
          -0.25181207826404073,
          -0.8324733961614146,
          -0.6260559102319855,
          -0.31995726864785823,
          1.1849051256609375,
          -0.284668437153468,
          -1.3551041866389977,
          -0.44227550517139147,
          -0.6564605155145264,
          1.4465930611506095,
          0.025068373987287135,
          -0.7669606770160547,
          -0.5443292144876736,
          1.8675957298506896,
          0.598656129228373,
          -1.4141874887718855,
          -0.22207017252161643,
          -0.5557646921062268,
          0.023795421367580435,
          0.2591414523453681,
          0.16506972348129514,
          -1.6995486727841598,
          0.495897711386881,
          -2.16172874318155,
          0.4695045378281316,
          0.8808506673427354,
          -0.2849864405045829,
          -1.3827658787536463,
          -1.9087429354622187,
          0.5103912430314287,
          -0.569148889572966,
          -0.39583345631377553,
          1.6927286444863971,
          1.3794804856602336,
          1.02340631443928,
          -0.8786847928090047,
          -0.22365353139572725,
          -0.6286343213996785,
          0.1852315531564232,
          0.13414886930901337,
          -1.6146835134016613,
          1.6490844301298115,
          -1.5550285792794807,
          1.344854834805804,
          -1.2139962371553352,
          -1.8529045686615873,
          0.159159120937591,
          1.0210668604863389,
          -0.5824035944285543,
          0.08560547669436594,
          -0.3686773747493008,
          1.214718224277028,
          -0.051241433224650676,
          0.08303529764650347,
          0.9092419090260879,
          -1.0618356396353699,
          -1.3732900879073142,
          -1.751218488708866,
          -0.13388061656749478,
          0.18032175371235448,
          -0.2244659045304318,
          1.1168388101991757,
          -0.5571809881209141,
          -1.577732479354081,
          0.4027152366654449
         ]
        },
        {
         "boxpoints": false,
         "line": {
          "width": 1.3
         },
         "marker": {
          "color": "rgba(55, 128, 191, 1.0)"
         },
         "name": "B",
         "orientation": "v",
         "type": "box",
         "y": [
          0.4280706362665727,
          0.7180418134509058,
          0.039018123521560956,
          -2.223254471201788,
          -0.875572466427057,
          0.31082962918417856,
          0.04164485460440668,
          -1.3375954608338874,
          -1.3405437149873514,
          0.8572242598587281,
          -0.16188928162123553,
          -0.7187491678629951,
          0.3999681853251334,
          -0.8651274609324161,
          1.9398556052996982,
          0.37170042818699983,
          -1.2034611707274985,
          0.8393246337713155,
          0.41155942561230474,
          0.00033315878116852473,
          -1.6639121984076959,
          -1.2939308121993591,
          0.2302461943473713,
          -1.1860250330934174,
          -1.1250630573271623,
          0.3411966117332432,
          -0.08281182615268948,
          0.41842194008398625,
          -1.7521218805724776,
          1.8722464063131021,
          0.9523448471366392,
          0.5797894008773923,
          0.28708326315953325,
          -3.0335772092969595,
          0.12008245165224005,
          -0.9692412532879529,
          1.236861712762151,
          -1.813670708984641,
          -0.6640423586276856,
          2.0857608212633116,
          0.07078185544215489,
          0.13316552342725502,
          1.118793257633992,
          0.22109987484931612,
          0.4816167266503535,
          0.9007965084713055,
          0.23136190333438797,
          -0.6211815746593071,
          1.1791990907833874,
          -1.0184759389708393,
          0.7935063885328861,
          0.4739578995446759,
          -0.22569428492832613,
          2.1111501661267114,
          0.5805731683953766,
          -1.1774151325024085,
          0.4804288376175385,
          0.9389295688799837,
          1.3394547064736422,
          0.09157486827855868,
          0.32021176932753054,
          0.1508485044753879,
          0.0678145670140172,
          0.5951231144203691,
          -1.6454252033113301,
          -1.2999466345158284,
          0.30014825283198915,
          -0.9261425193798055,
          -0.7233485416807636,
          -0.3357183086594954,
          0.7741014105468014,
          -0.9680340081985276,
          -0.6843133483970795,
          0.2208022680602893,
          -0.7041034231797588,
          1.2476835296624578,
          0.36575625493327446,
          -0.7078241513496009,
          0.006963710275013258,
          -0.16294101108078116,
          1.5251683930463749,
          -0.52052292400051,
          0.09330851367827822,
          0.1980403455685616,
          0.16031321326067646,
          0.4522372122430764,
          1.288266420667494,
          -0.08501136423912654,
          -0.537993634388944,
          0.18898741128953095,
          -0.6879271077969086,
          -0.8118986993420849,
          -0.5951301224776799,
          0.849275846698981,
          0.48172786564149733,
          1.389259766341688,
          -0.02855002125459373,
          0.824790991786847,
          0.702338016465698,
          1.2060183630123236
         ]
        },
        {
         "boxpoints": false,
         "line": {
          "width": 1.3
         },
         "marker": {
          "color": "rgba(50, 171, 96, 1.0)"
         },
         "name": "C",
         "orientation": "v",
         "type": "box",
         "y": [
          -1.3787152783508723,
          -0.7261164047389449,
          0.2224364093928684,
          1.1477624692750603,
          -1.43775668031013,
          0.03134895951287714,
          0.5744870610575307,
          -1.266687721886195,
          -0.19289617140422258,
          1.511559448278765,
          -0.5119282086892993,
          -2.2392587865674574,
          -0.6209115834293467,
          1.1137304776579646,
          1.0742908031611498,
          0.2037310729229849,
          -0.747303255099262,
          -0.9692202000526821,
          -1.089312084525815,
          -0.8833887607330014,
          0.13506777324616978,
          0.0707313620850424,
          1.823478001044083,
          0.0017497707721843754,
          0.8812661765541764,
          1.0235957674378207,
          0.23657683002359883,
          0.3550476835109541,
          1.4749191367053716,
          -0.5724932191421319,
          -0.6151418387655972,
          -0.785001406471968,
          -0.06993434253506313,
          -0.21535988326079006,
          0.47982251383891333,
          0.9716315951462331,
          -0.15185219545189366,
          1.9164780515109556,
          0.5987294120376846,
          -0.22795902511024854,
          -0.5585658480008592,
          -1.6913077332985833,
          0.25352182758564246,
          0.11803801505601494,
          0.7879975858188688,
          -0.5032812994273885,
          -1.7239067650251179,
          -0.5218210287612856,
          1.3743061449298846,
          0.9563603916667522,
          -0.10302531350948356,
          -1.0078148568916971,
          0.8530414622148793,
          0.3267258270809262,
          2.3855970082680136,
          -1.2679195947325799,
          -0.7032649912550678,
          0.6859312164945162,
          -0.11386304522157245,
          -1.0909068628349752,
          -0.13485185096848448,
          0.3129069963160951,
          0.3251879215144967,
          -2.464840591968921,
          -0.4136242042591343,
          -0.31016615436486994,
          -1.4840374002833763,
          -1.2562717159180883,
          -0.1916699473663112,
          0.29825808080300975,
          0.8299314382112951,
          -2.679638974552658,
          -1.4593854710372014,
          0.02556938465970596,
          1.0089076132913224,
          -0.2562859582883714,
          -0.05081801986273233,
          -0.7239080962437932,
          1.4006042469358264,
          0.26662768618565924,
          0.07141262901645731,
          -1.1891995815160468,
          -0.8464327135962876,
          -0.1493251183698699,
          0.20426726621922955,
          -0.014680966834019888,
          -0.6686931887825628,
          0.7801346385676716,
          1.3176659548439453,
          -1.2567470968963135,
          0.5083603229557176,
          -1.210794346863032,
          0.49075215782348397,
          -0.23425557424750665,
          -0.491208269335909,
          -0.41090303463772354,
          0.1253723206034941,
          -0.1770910238483198,
          0.64196514060045,
          -0.7382162956891389
         ]
        },
        {
         "boxpoints": false,
         "line": {
          "width": 1.3
         },
         "marker": {
          "color": "rgba(128, 0, 128, 1.0)"
         },
         "name": "D",
         "orientation": "v",
         "type": "box",
         "y": [
          -1.1967289396768255,
          1.2084432000283791,
          0.8933907011808402,
          -0.8370158225021228,
          0.054950493197835515,
          0.5860648950484921,
          -1.206159653786153,
          -1.3367167539770204,
          2.8497056325844543,
          0.9956369394940869,
          0.6540089889820164,
          0.9585317492454164,
          0.3019461375428145,
          0.19767604148168808,
          -0.4960146597360244,
          1.0756165309549053,
          -0.8027153007638427,
          -0.08034286733634763,
          -1.204866882713637,
          -0.41572374720294475,
          -0.5287185888597782,
          -1.14707233465738,
          1.3446654002925569,
          0.2568536330956374,
          -0.5323714140329171,
          1.2398961931457892,
          1.4442012086018585,
          1.069815796772237,
          0.5253046744459509,
          0.36848600823081673,
          -1.1847475275339265,
          0.18463520870993408,
          -0.7335492239208102,
          -0.6608140230403634,
          0.5541255252479335,
          -0.6511684460602217,
          1.3966857462767777,
          -1.2765360716787524,
          -0.5152702421444836,
          1.9961919196856333,
          -0.039022698835690046,
          -0.2711135131224415,
          0.8157118601985619,
          -0.5444507317925322,
          2.1148452807225313,
          0.7065047348761125,
          -0.4122010677180778,
          0.9562033334417854,
          -0.3343863542874556,
          1.0635811975822256,
          -0.8901113319022214,
          -0.9707319048907495,
          0.11750305277438047,
          0.5125801934010197,
          0.8820371120292264,
          -1.5127005028648477,
          -1.3452836762709413,
          -1.9690238357572543,
          0.3724814484372588,
          -1.8661858341078816,
          0.7366606002034869,
          0.6041716774061525,
          0.2879542430778189,
          -0.6754479161116611,
          0.26904873586986455,
          0.06412280548588511,
          0.06204911990921217,
          0.0738620732575893,
          -0.04608161944249293,
          1.5052820485557334,
          -0.558234092678066,
          1.694079222413143,
          -0.9859262016838821,
          -0.5568580147130638,
          -0.5628776136903292,
          -1.7797469095823264,
          2.336554074194825,
          1.2159567018224806,
          3.0013639387321267,
          -0.6690431278261364,
          0.5831165054421106,
          -0.17957168727507763,
          -1.05408682762937,
          1.054388650493122,
          0.8090774739975908,
          -0.6579767901037481,
          -0.9504732356908544,
          -0.5229477945471815,
          -1.597724701485542,
          -0.6646905240051703,
          2.6778532402627384,
          -0.7649615732126199,
          -0.48474264712567455,
          1.9086937085617424,
          -0.5947555058493647,
          -1.9752792336692437,
          0.07151503161795482,
          -0.1619635020316879,
          0.28942867811686473,
          0.418738043076987
         ]
        }
       ],
       "layout": {
        "legend": {
         "bgcolor": "#F5F6F9",
         "font": {
          "color": "#4D5663"
         }
        },
        "paper_bgcolor": "#F5F6F9",
        "plot_bgcolor": "#F5F6F9",
        "template": {
         "data": {
          "bar": [
           {
            "error_x": {
             "color": "#2a3f5f"
            },
            "error_y": {
             "color": "#2a3f5f"
            },
            "marker": {
             "line": {
              "color": "#E5ECF6",
              "width": 0.5
             },
             "pattern": {
              "fillmode": "overlay",
              "size": 10,
              "solidity": 0.2
             }
            },
            "type": "bar"
           }
          ],
          "barpolar": [
           {
            "marker": {
             "line": {
              "color": "#E5ECF6",
              "width": 0.5
             },
             "pattern": {
              "fillmode": "overlay",
              "size": 10,
              "solidity": 0.2
             }
            },
            "type": "barpolar"
           }
          ],
          "carpet": [
           {
            "aaxis": {
             "endlinecolor": "#2a3f5f",
             "gridcolor": "white",
             "linecolor": "white",
             "minorgridcolor": "white",
             "startlinecolor": "#2a3f5f"
            },
            "baxis": {
             "endlinecolor": "#2a3f5f",
             "gridcolor": "white",
             "linecolor": "white",
             "minorgridcolor": "white",
             "startlinecolor": "#2a3f5f"
            },
            "type": "carpet"
           }
          ],
          "choropleth": [
           {
            "colorbar": {
             "outlinewidth": 0,
             "ticks": ""
            },
            "type": "choropleth"
           }
          ],
          "contour": [
           {
            "colorbar": {
             "outlinewidth": 0,
             "ticks": ""
            },
            "colorscale": [
             [
              0,
              "#0d0887"
             ],
             [
              0.1111111111111111,
              "#46039f"
             ],
             [
              0.2222222222222222,
              "#7201a8"
             ],
             [
              0.3333333333333333,
              "#9c179e"
             ],
             [
              0.4444444444444444,
              "#bd3786"
             ],
             [
              0.5555555555555556,
              "#d8576b"
             ],
             [
              0.6666666666666666,
              "#ed7953"
             ],
             [
              0.7777777777777778,
              "#fb9f3a"
             ],
             [
              0.8888888888888888,
              "#fdca26"
             ],
             [
              1,
              "#f0f921"
             ]
            ],
            "type": "contour"
           }
          ],
          "contourcarpet": [
           {
            "colorbar": {
             "outlinewidth": 0,
             "ticks": ""
            },
            "type": "contourcarpet"
           }
          ],
          "heatmap": [
           {
            "colorbar": {
             "outlinewidth": 0,
             "ticks": ""
            },
            "colorscale": [
             [
              0,
              "#0d0887"
             ],
             [
              0.1111111111111111,
              "#46039f"
             ],
             [
              0.2222222222222222,
              "#7201a8"
             ],
             [
              0.3333333333333333,
              "#9c179e"
             ],
             [
              0.4444444444444444,
              "#bd3786"
             ],
             [
              0.5555555555555556,
              "#d8576b"
             ],
             [
              0.6666666666666666,
              "#ed7953"
             ],
             [
              0.7777777777777778,
              "#fb9f3a"
             ],
             [
              0.8888888888888888,
              "#fdca26"
             ],
             [
              1,
              "#f0f921"
             ]
            ],
            "type": "heatmap"
           }
          ],
          "heatmapgl": [
           {
            "colorbar": {
             "outlinewidth": 0,
             "ticks": ""
            },
            "colorscale": [
             [
              0,
              "#0d0887"
             ],
             [
              0.1111111111111111,
              "#46039f"
             ],
             [
              0.2222222222222222,
              "#7201a8"
             ],
             [
              0.3333333333333333,
              "#9c179e"
             ],
             [
              0.4444444444444444,
              "#bd3786"
             ],
             [
              0.5555555555555556,
              "#d8576b"
             ],
             [
              0.6666666666666666,
              "#ed7953"
             ],
             [
              0.7777777777777778,
              "#fb9f3a"
             ],
             [
              0.8888888888888888,
              "#fdca26"
             ],
             [
              1,
              "#f0f921"
             ]
            ],
            "type": "heatmapgl"
           }
          ],
          "histogram": [
           {
            "marker": {
             "pattern": {
              "fillmode": "overlay",
              "size": 10,
              "solidity": 0.2
             }
            },
            "type": "histogram"
           }
          ],
          "histogram2d": [
           {
            "colorbar": {
             "outlinewidth": 0,
             "ticks": ""
            },
            "colorscale": [
             [
              0,
              "#0d0887"
             ],
             [
              0.1111111111111111,
              "#46039f"
             ],
             [
              0.2222222222222222,
              "#7201a8"
             ],
             [
              0.3333333333333333,
              "#9c179e"
             ],
             [
              0.4444444444444444,
              "#bd3786"
             ],
             [
              0.5555555555555556,
              "#d8576b"
             ],
             [
              0.6666666666666666,
              "#ed7953"
             ],
             [
              0.7777777777777778,
              "#fb9f3a"
             ],
             [
              0.8888888888888888,
              "#fdca26"
             ],
             [
              1,
              "#f0f921"
             ]
            ],
            "type": "histogram2d"
           }
          ],
          "histogram2dcontour": [
           {
            "colorbar": {
             "outlinewidth": 0,
             "ticks": ""
            },
            "colorscale": [
             [
              0,
              "#0d0887"
             ],
             [
              0.1111111111111111,
              "#46039f"
             ],
             [
              0.2222222222222222,
              "#7201a8"
             ],
             [
              0.3333333333333333,
              "#9c179e"
             ],
             [
              0.4444444444444444,
              "#bd3786"
             ],
             [
              0.5555555555555556,
              "#d8576b"
             ],
             [
              0.6666666666666666,
              "#ed7953"
             ],
             [
              0.7777777777777778,
              "#fb9f3a"
             ],
             [
              0.8888888888888888,
              "#fdca26"
             ],
             [
              1,
              "#f0f921"
             ]
            ],
            "type": "histogram2dcontour"
           }
          ],
          "mesh3d": [
           {
            "colorbar": {
             "outlinewidth": 0,
             "ticks": ""
            },
            "type": "mesh3d"
           }
          ],
          "parcoords": [
           {
            "line": {
             "colorbar": {
              "outlinewidth": 0,
              "ticks": ""
             }
            },
            "type": "parcoords"
           }
          ],
          "pie": [
           {
            "automargin": true,
            "type": "pie"
           }
          ],
          "scatter": [
           {
            "marker": {
             "colorbar": {
              "outlinewidth": 0,
              "ticks": ""
             }
            },
            "type": "scatter"
           }
          ],
          "scatter3d": [
           {
            "line": {
             "colorbar": {
              "outlinewidth": 0,
              "ticks": ""
             }
            },
            "marker": {
             "colorbar": {
              "outlinewidth": 0,
              "ticks": ""
             }
            },
            "type": "scatter3d"
           }
          ],
          "scattercarpet": [
           {
            "marker": {
             "colorbar": {
              "outlinewidth": 0,
              "ticks": ""
             }
            },
            "type": "scattercarpet"
           }
          ],
          "scattergeo": [
           {
            "marker": {
             "colorbar": {
              "outlinewidth": 0,
              "ticks": ""
             }
            },
            "type": "scattergeo"
           }
          ],
          "scattergl": [
           {
            "marker": {
             "colorbar": {
              "outlinewidth": 0,
              "ticks": ""
             }
            },
            "type": "scattergl"
           }
          ],
          "scattermapbox": [
           {
            "marker": {
             "colorbar": {
              "outlinewidth": 0,
              "ticks": ""
             }
            },
            "type": "scattermapbox"
           }
          ],
          "scatterpolar": [
           {
            "marker": {
             "colorbar": {
              "outlinewidth": 0,
              "ticks": ""
             }
            },
            "type": "scatterpolar"
           }
          ],
          "scatterpolargl": [
           {
            "marker": {
             "colorbar": {
              "outlinewidth": 0,
              "ticks": ""
             }
            },
            "type": "scatterpolargl"
           }
          ],
          "scatterternary": [
           {
            "marker": {
             "colorbar": {
              "outlinewidth": 0,
              "ticks": ""
             }
            },
            "type": "scatterternary"
           }
          ],
          "surface": [
           {
            "colorbar": {
             "outlinewidth": 0,
             "ticks": ""
            },
            "colorscale": [
             [
              0,
              "#0d0887"
             ],
             [
              0.1111111111111111,
              "#46039f"
             ],
             [
              0.2222222222222222,
              "#7201a8"
             ],
             [
              0.3333333333333333,
              "#9c179e"
             ],
             [
              0.4444444444444444,
              "#bd3786"
             ],
             [
              0.5555555555555556,
              "#d8576b"
             ],
             [
              0.6666666666666666,
              "#ed7953"
             ],
             [
              0.7777777777777778,
              "#fb9f3a"
             ],
             [
              0.8888888888888888,
              "#fdca26"
             ],
             [
              1,
              "#f0f921"
             ]
            ],
            "type": "surface"
           }
          ],
          "table": [
           {
            "cells": {
             "fill": {
              "color": "#EBF0F8"
             },
             "line": {
              "color": "white"
             }
            },
            "header": {
             "fill": {
              "color": "#C8D4E3"
             },
             "line": {
              "color": "white"
             }
            },
            "type": "table"
           }
          ]
         },
         "layout": {
          "annotationdefaults": {
           "arrowcolor": "#2a3f5f",
           "arrowhead": 0,
           "arrowwidth": 1
          },
          "autotypenumbers": "strict",
          "coloraxis": {
           "colorbar": {
            "outlinewidth": 0,
            "ticks": ""
           }
          },
          "colorscale": {
           "diverging": [
            [
             0,
             "#8e0152"
            ],
            [
             0.1,
             "#c51b7d"
            ],
            [
             0.2,
             "#de77ae"
            ],
            [
             0.3,
             "#f1b6da"
            ],
            [
             0.4,
             "#fde0ef"
            ],
            [
             0.5,
             "#f7f7f7"
            ],
            [
             0.6,
             "#e6f5d0"
            ],
            [
             0.7,
             "#b8e186"
            ],
            [
             0.8,
             "#7fbc41"
            ],
            [
             0.9,
             "#4d9221"
            ],
            [
             1,
             "#276419"
            ]
           ],
           "sequential": [
            [
             0,
             "#0d0887"
            ],
            [
             0.1111111111111111,
             "#46039f"
            ],
            [
             0.2222222222222222,
             "#7201a8"
            ],
            [
             0.3333333333333333,
             "#9c179e"
            ],
            [
             0.4444444444444444,
             "#bd3786"
            ],
            [
             0.5555555555555556,
             "#d8576b"
            ],
            [
             0.6666666666666666,
             "#ed7953"
            ],
            [
             0.7777777777777778,
             "#fb9f3a"
            ],
            [
             0.8888888888888888,
             "#fdca26"
            ],
            [
             1,
             "#f0f921"
            ]
           ],
           "sequentialminus": [
            [
             0,
             "#0d0887"
            ],
            [
             0.1111111111111111,
             "#46039f"
            ],
            [
             0.2222222222222222,
             "#7201a8"
            ],
            [
             0.3333333333333333,
             "#9c179e"
            ],
            [
             0.4444444444444444,
             "#bd3786"
            ],
            [
             0.5555555555555556,
             "#d8576b"
            ],
            [
             0.6666666666666666,
             "#ed7953"
            ],
            [
             0.7777777777777778,
             "#fb9f3a"
            ],
            [
             0.8888888888888888,
             "#fdca26"
            ],
            [
             1,
             "#f0f921"
            ]
           ]
          },
          "colorway": [
           "#636efa",
           "#EF553B",
           "#00cc96",
           "#ab63fa",
           "#FFA15A",
           "#19d3f3",
           "#FF6692",
           "#B6E880",
           "#FF97FF",
           "#FECB52"
          ],
          "font": {
           "color": "#2a3f5f"
          },
          "geo": {
           "bgcolor": "white",
           "lakecolor": "white",
           "landcolor": "#E5ECF6",
           "showlakes": true,
           "showland": true,
           "subunitcolor": "white"
          },
          "hoverlabel": {
           "align": "left"
          },
          "hovermode": "closest",
          "mapbox": {
           "style": "light"
          },
          "paper_bgcolor": "white",
          "plot_bgcolor": "#E5ECF6",
          "polar": {
           "angularaxis": {
            "gridcolor": "white",
            "linecolor": "white",
            "ticks": ""
           },
           "bgcolor": "#E5ECF6",
           "radialaxis": {
            "gridcolor": "white",
            "linecolor": "white",
            "ticks": ""
           }
          },
          "scene": {
           "xaxis": {
            "backgroundcolor": "#E5ECF6",
            "gridcolor": "white",
            "gridwidth": 2,
            "linecolor": "white",
            "showbackground": true,
            "ticks": "",
            "zerolinecolor": "white"
           },
           "yaxis": {
            "backgroundcolor": "#E5ECF6",
            "gridcolor": "white",
            "gridwidth": 2,
            "linecolor": "white",
            "showbackground": true,
            "ticks": "",
            "zerolinecolor": "white"
           },
           "zaxis": {
            "backgroundcolor": "#E5ECF6",
            "gridcolor": "white",
            "gridwidth": 2,
            "linecolor": "white",
            "showbackground": true,
            "ticks": "",
            "zerolinecolor": "white"
           }
          },
          "shapedefaults": {
           "line": {
            "color": "#2a3f5f"
           }
          },
          "ternary": {
           "aaxis": {
            "gridcolor": "white",
            "linecolor": "white",
            "ticks": ""
           },
           "baxis": {
            "gridcolor": "white",
            "linecolor": "white",
            "ticks": ""
           },
           "bgcolor": "#E5ECF6",
           "caxis": {
            "gridcolor": "white",
            "linecolor": "white",
            "ticks": ""
           }
          },
          "title": {
           "x": 0.05
          },
          "xaxis": {
           "automargin": true,
           "gridcolor": "white",
           "linecolor": "white",
           "ticks": "",
           "title": {
            "standoff": 15
           },
           "zerolinecolor": "white",
           "zerolinewidth": 2
          },
          "yaxis": {
           "automargin": true,
           "gridcolor": "white",
           "linecolor": "white",
           "ticks": "",
           "title": {
            "standoff": 15
           },
           "zerolinecolor": "white",
           "zerolinewidth": 2
          }
         }
        },
        "title": {
         "font": {
          "color": "#4D5663"
         }
        },
        "xaxis": {
         "gridcolor": "#E1E5ED",
         "showgrid": true,
         "tickfont": {
          "color": "#4D5663"
         },
         "title": {
          "font": {
           "color": "#4D5663"
          },
          "text": ""
         },
         "zerolinecolor": "#E1E5ED"
        },
        "yaxis": {
         "gridcolor": "#E1E5ED",
         "showgrid": true,
         "tickfont": {
          "color": "#4D5663"
         },
         "title": {
          "font": {
           "color": "#4D5663"
          },
          "text": ""
         },
         "zerolinecolor": "#E1E5ED"
        }
       }
      },
      "text/html": [
       "<div>                            <div id=\"b5cfc449-1f0c-4a18-9fe3-d7150c9120b6\" class=\"plotly-graph-div\" style=\"height:525px; width:100%;\"></div>            <script type=\"text/javascript\">                require([\"plotly\"], function(Plotly) {                    window.PLOTLYENV=window.PLOTLYENV || {};\n",
       "                    window.PLOTLYENV.BASE_URL='https://plot.ly';                                    if (document.getElementById(\"b5cfc449-1f0c-4a18-9fe3-d7150c9120b6\")) {                    Plotly.newPlot(                        \"b5cfc449-1f0c-4a18-9fe3-d7150c9120b6\",                        [{\"boxpoints\":false,\"line\":{\"width\":1.3},\"marker\":{\"color\":\"rgba(255, 153, 51, 1.0)\"},\"name\":\"A\",\"orientation\":\"v\",\"y\":[0.4395119976966545,0.020152580888882565,-0.37407441444430184,-0.539926331737172,-1.1415136887036064,0.8166657567438118,-0.6224297536168503,0.7308894349710953,0.7203192879102357,-1.3737647648303697,-1.23119009378185,0.3198538375639925,0.26348650235568355,0.6488757306353029,-0.00728590715634182,-0.7565433586862875,-0.6563581332656321,-0.2718198150238515,2.3006887217341485,-0.0016354406682298403,-0.44155799103745624,-0.05360096166018684,0.1482445798661521,-0.31540345886485455,-1.0965840430633944,0.10640896879094265,-0.6070796967732894,-0.22733509919143075,1.9043079760497075,0.15758544829888035,-0.8467557485348001,-0.05415976370766293,-0.9788011598549242,-1.6583630823284712,0.8159503058015778,-0.25181207826404073,-0.8324733961614146,-0.6260559102319855,-0.31995726864785823,1.1849051256609375,-0.284668437153468,-1.3551041866389977,-0.44227550517139147,-0.6564605155145264,1.4465930611506095,0.025068373987287135,-0.7669606770160547,-0.5443292144876736,1.8675957298506896,0.598656129228373,-1.4141874887718855,-0.22207017252161643,-0.5557646921062268,0.023795421367580435,0.2591414523453681,0.16506972348129514,-1.6995486727841598,0.495897711386881,-2.16172874318155,0.4695045378281316,0.8808506673427354,-0.2849864405045829,-1.3827658787536463,-1.9087429354622187,0.5103912430314287,-0.569148889572966,-0.39583345631377553,1.6927286444863971,1.3794804856602336,1.02340631443928,-0.8786847928090047,-0.22365353139572725,-0.6286343213996785,0.1852315531564232,0.13414886930901337,-1.6146835134016613,1.6490844301298115,-1.5550285792794807,1.344854834805804,-1.2139962371553352,-1.8529045686615873,0.159159120937591,1.0210668604863389,-0.5824035944285543,0.08560547669436594,-0.3686773747493008,1.214718224277028,-0.051241433224650676,0.08303529764650347,0.9092419090260879,-1.0618356396353699,-1.3732900879073142,-1.751218488708866,-0.13388061656749478,0.18032175371235448,-0.2244659045304318,1.1168388101991757,-0.5571809881209141,-1.577732479354081,0.4027152366654449],\"type\":\"box\"},{\"boxpoints\":false,\"line\":{\"width\":1.3},\"marker\":{\"color\":\"rgba(55, 128, 191, 1.0)\"},\"name\":\"B\",\"orientation\":\"v\",\"y\":[0.4280706362665727,0.7180418134509058,0.039018123521560956,-2.223254471201788,-0.875572466427057,0.31082962918417856,0.04164485460440668,-1.3375954608338874,-1.3405437149873514,0.8572242598587281,-0.16188928162123553,-0.7187491678629951,0.3999681853251334,-0.8651274609324161,1.9398556052996982,0.37170042818699983,-1.2034611707274985,0.8393246337713155,0.41155942561230474,0.00033315878116852473,-1.6639121984076959,-1.2939308121993591,0.2302461943473713,-1.1860250330934174,-1.1250630573271623,0.3411966117332432,-0.08281182615268948,0.41842194008398625,-1.7521218805724776,1.8722464063131021,0.9523448471366392,0.5797894008773923,0.28708326315953325,-3.0335772092969595,0.12008245165224005,-0.9692412532879529,1.236861712762151,-1.813670708984641,-0.6640423586276856,2.0857608212633116,0.07078185544215489,0.13316552342725502,1.118793257633992,0.22109987484931612,0.4816167266503535,0.9007965084713055,0.23136190333438797,-0.6211815746593071,1.1791990907833874,-1.0184759389708393,0.7935063885328861,0.4739578995446759,-0.22569428492832613,2.1111501661267114,0.5805731683953766,-1.1774151325024085,0.4804288376175385,0.9389295688799837,1.3394547064736422,0.09157486827855868,0.32021176932753054,0.1508485044753879,0.0678145670140172,0.5951231144203691,-1.6454252033113301,-1.2999466345158284,0.30014825283198915,-0.9261425193798055,-0.7233485416807636,-0.3357183086594954,0.7741014105468014,-0.9680340081985276,-0.6843133483970795,0.2208022680602893,-0.7041034231797588,1.2476835296624578,0.36575625493327446,-0.7078241513496009,0.006963710275013258,-0.16294101108078116,1.5251683930463749,-0.52052292400051,0.09330851367827822,0.1980403455685616,0.16031321326067646,0.4522372122430764,1.288266420667494,-0.08501136423912654,-0.537993634388944,0.18898741128953095,-0.6879271077969086,-0.8118986993420849,-0.5951301224776799,0.849275846698981,0.48172786564149733,1.389259766341688,-0.02855002125459373,0.824790991786847,0.702338016465698,1.2060183630123236],\"type\":\"box\"},{\"boxpoints\":false,\"line\":{\"width\":1.3},\"marker\":{\"color\":\"rgba(50, 171, 96, 1.0)\"},\"name\":\"C\",\"orientation\":\"v\",\"y\":[-1.3787152783508723,-0.7261164047389449,0.2224364093928684,1.1477624692750603,-1.43775668031013,0.03134895951287714,0.5744870610575307,-1.266687721886195,-0.19289617140422258,1.511559448278765,-0.5119282086892993,-2.2392587865674574,-0.6209115834293467,1.1137304776579646,1.0742908031611498,0.2037310729229849,-0.747303255099262,-0.9692202000526821,-1.089312084525815,-0.8833887607330014,0.13506777324616978,0.0707313620850424,1.823478001044083,0.0017497707721843754,0.8812661765541764,1.0235957674378207,0.23657683002359883,0.3550476835109541,1.4749191367053716,-0.5724932191421319,-0.6151418387655972,-0.785001406471968,-0.06993434253506313,-0.21535988326079006,0.47982251383891333,0.9716315951462331,-0.15185219545189366,1.9164780515109556,0.5987294120376846,-0.22795902511024854,-0.5585658480008592,-1.6913077332985833,0.25352182758564246,0.11803801505601494,0.7879975858188688,-0.5032812994273885,-1.7239067650251179,-0.5218210287612856,1.3743061449298846,0.9563603916667522,-0.10302531350948356,-1.0078148568916971,0.8530414622148793,0.3267258270809262,2.3855970082680136,-1.2679195947325799,-0.7032649912550678,0.6859312164945162,-0.11386304522157245,-1.0909068628349752,-0.13485185096848448,0.3129069963160951,0.3251879215144967,-2.464840591968921,-0.4136242042591343,-0.31016615436486994,-1.4840374002833763,-1.2562717159180883,-0.1916699473663112,0.29825808080300975,0.8299314382112951,-2.679638974552658,-1.4593854710372014,0.02556938465970596,1.0089076132913224,-0.2562859582883714,-0.05081801986273233,-0.7239080962437932,1.4006042469358264,0.26662768618565924,0.07141262901645731,-1.1891995815160468,-0.8464327135962876,-0.1493251183698699,0.20426726621922955,-0.014680966834019888,-0.6686931887825628,0.7801346385676716,1.3176659548439453,-1.2567470968963135,0.5083603229557176,-1.210794346863032,0.49075215782348397,-0.23425557424750665,-0.491208269335909,-0.41090303463772354,0.1253723206034941,-0.1770910238483198,0.64196514060045,-0.7382162956891389],\"type\":\"box\"},{\"boxpoints\":false,\"line\":{\"width\":1.3},\"marker\":{\"color\":\"rgba(128, 0, 128, 1.0)\"},\"name\":\"D\",\"orientation\":\"v\",\"y\":[-1.1967289396768255,1.2084432000283791,0.8933907011808402,-0.8370158225021228,0.054950493197835515,0.5860648950484921,-1.206159653786153,-1.3367167539770204,2.8497056325844543,0.9956369394940869,0.6540089889820164,0.9585317492454164,0.3019461375428145,0.19767604148168808,-0.4960146597360244,1.0756165309549053,-0.8027153007638427,-0.08034286733634763,-1.204866882713637,-0.41572374720294475,-0.5287185888597782,-1.14707233465738,1.3446654002925569,0.2568536330956374,-0.5323714140329171,1.2398961931457892,1.4442012086018585,1.069815796772237,0.5253046744459509,0.36848600823081673,-1.1847475275339265,0.18463520870993408,-0.7335492239208102,-0.6608140230403634,0.5541255252479335,-0.6511684460602217,1.3966857462767777,-1.2765360716787524,-0.5152702421444836,1.9961919196856333,-0.039022698835690046,-0.2711135131224415,0.8157118601985619,-0.5444507317925322,2.1148452807225313,0.7065047348761125,-0.4122010677180778,0.9562033334417854,-0.3343863542874556,1.0635811975822256,-0.8901113319022214,-0.9707319048907495,0.11750305277438047,0.5125801934010197,0.8820371120292264,-1.5127005028648477,-1.3452836762709413,-1.9690238357572543,0.3724814484372588,-1.8661858341078816,0.7366606002034869,0.6041716774061525,0.2879542430778189,-0.6754479161116611,0.26904873586986455,0.06412280548588511,0.06204911990921217,0.0738620732575893,-0.04608161944249293,1.5052820485557334,-0.558234092678066,1.694079222413143,-0.9859262016838821,-0.5568580147130638,-0.5628776136903292,-1.7797469095823264,2.336554074194825,1.2159567018224806,3.0013639387321267,-0.6690431278261364,0.5831165054421106,-0.17957168727507763,-1.05408682762937,1.054388650493122,0.8090774739975908,-0.6579767901037481,-0.9504732356908544,-0.5229477945471815,-1.597724701485542,-0.6646905240051703,2.6778532402627384,-0.7649615732126199,-0.48474264712567455,1.9086937085617424,-0.5947555058493647,-1.9752792336692437,0.07151503161795482,-0.1619635020316879,0.28942867811686473,0.418738043076987],\"type\":\"box\"}],                        {\"legend\":{\"bgcolor\":\"#F5F6F9\",\"font\":{\"color\":\"#4D5663\"}},\"paper_bgcolor\":\"#F5F6F9\",\"plot_bgcolor\":\"#F5F6F9\",\"template\":{\"data\":{\"barpolar\":[{\"marker\":{\"line\":{\"color\":\"#E5ECF6\",\"width\":0.5},\"pattern\":{\"fillmode\":\"overlay\",\"size\":10,\"solidity\":0.2}},\"type\":\"barpolar\"}],\"bar\":[{\"error_x\":{\"color\":\"#2a3f5f\"},\"error_y\":{\"color\":\"#2a3f5f\"},\"marker\":{\"line\":{\"color\":\"#E5ECF6\",\"width\":0.5},\"pattern\":{\"fillmode\":\"overlay\",\"size\":10,\"solidity\":0.2}},\"type\":\"bar\"}],\"carpet\":[{\"aaxis\":{\"endlinecolor\":\"#2a3f5f\",\"gridcolor\":\"white\",\"linecolor\":\"white\",\"minorgridcolor\":\"white\",\"startlinecolor\":\"#2a3f5f\"},\"baxis\":{\"endlinecolor\":\"#2a3f5f\",\"gridcolor\":\"white\",\"linecolor\":\"white\",\"minorgridcolor\":\"white\",\"startlinecolor\":\"#2a3f5f\"},\"type\":\"carpet\"}],\"choropleth\":[{\"colorbar\":{\"outlinewidth\":0,\"ticks\":\"\"},\"type\":\"choropleth\"}],\"contourcarpet\":[{\"colorbar\":{\"outlinewidth\":0,\"ticks\":\"\"},\"type\":\"contourcarpet\"}],\"contour\":[{\"colorbar\":{\"outlinewidth\":0,\"ticks\":\"\"},\"colorscale\":[[0.0,\"#0d0887\"],[0.1111111111111111,\"#46039f\"],[0.2222222222222222,\"#7201a8\"],[0.3333333333333333,\"#9c179e\"],[0.4444444444444444,\"#bd3786\"],[0.5555555555555556,\"#d8576b\"],[0.6666666666666666,\"#ed7953\"],[0.7777777777777778,\"#fb9f3a\"],[0.8888888888888888,\"#fdca26\"],[1.0,\"#f0f921\"]],\"type\":\"contour\"}],\"heatmapgl\":[{\"colorbar\":{\"outlinewidth\":0,\"ticks\":\"\"},\"colorscale\":[[0.0,\"#0d0887\"],[0.1111111111111111,\"#46039f\"],[0.2222222222222222,\"#7201a8\"],[0.3333333333333333,\"#9c179e\"],[0.4444444444444444,\"#bd3786\"],[0.5555555555555556,\"#d8576b\"],[0.6666666666666666,\"#ed7953\"],[0.7777777777777778,\"#fb9f3a\"],[0.8888888888888888,\"#fdca26\"],[1.0,\"#f0f921\"]],\"type\":\"heatmapgl\"}],\"heatmap\":[{\"colorbar\":{\"outlinewidth\":0,\"ticks\":\"\"},\"colorscale\":[[0.0,\"#0d0887\"],[0.1111111111111111,\"#46039f\"],[0.2222222222222222,\"#7201a8\"],[0.3333333333333333,\"#9c179e\"],[0.4444444444444444,\"#bd3786\"],[0.5555555555555556,\"#d8576b\"],[0.6666666666666666,\"#ed7953\"],[0.7777777777777778,\"#fb9f3a\"],[0.8888888888888888,\"#fdca26\"],[1.0,\"#f0f921\"]],\"type\":\"heatmap\"}],\"histogram2dcontour\":[{\"colorbar\":{\"outlinewidth\":0,\"ticks\":\"\"},\"colorscale\":[[0.0,\"#0d0887\"],[0.1111111111111111,\"#46039f\"],[0.2222222222222222,\"#7201a8\"],[0.3333333333333333,\"#9c179e\"],[0.4444444444444444,\"#bd3786\"],[0.5555555555555556,\"#d8576b\"],[0.6666666666666666,\"#ed7953\"],[0.7777777777777778,\"#fb9f3a\"],[0.8888888888888888,\"#fdca26\"],[1.0,\"#f0f921\"]],\"type\":\"histogram2dcontour\"}],\"histogram2d\":[{\"colorbar\":{\"outlinewidth\":0,\"ticks\":\"\"},\"colorscale\":[[0.0,\"#0d0887\"],[0.1111111111111111,\"#46039f\"],[0.2222222222222222,\"#7201a8\"],[0.3333333333333333,\"#9c179e\"],[0.4444444444444444,\"#bd3786\"],[0.5555555555555556,\"#d8576b\"],[0.6666666666666666,\"#ed7953\"],[0.7777777777777778,\"#fb9f3a\"],[0.8888888888888888,\"#fdca26\"],[1.0,\"#f0f921\"]],\"type\":\"histogram2d\"}],\"histogram\":[{\"marker\":{\"pattern\":{\"fillmode\":\"overlay\",\"size\":10,\"solidity\":0.2}},\"type\":\"histogram\"}],\"mesh3d\":[{\"colorbar\":{\"outlinewidth\":0,\"ticks\":\"\"},\"type\":\"mesh3d\"}],\"parcoords\":[{\"line\":{\"colorbar\":{\"outlinewidth\":0,\"ticks\":\"\"}},\"type\":\"parcoords\"}],\"pie\":[{\"automargin\":true,\"type\":\"pie\"}],\"scatter3d\":[{\"line\":{\"colorbar\":{\"outlinewidth\":0,\"ticks\":\"\"}},\"marker\":{\"colorbar\":{\"outlinewidth\":0,\"ticks\":\"\"}},\"type\":\"scatter3d\"}],\"scattercarpet\":[{\"marker\":{\"colorbar\":{\"outlinewidth\":0,\"ticks\":\"\"}},\"type\":\"scattercarpet\"}],\"scattergeo\":[{\"marker\":{\"colorbar\":{\"outlinewidth\":0,\"ticks\":\"\"}},\"type\":\"scattergeo\"}],\"scattergl\":[{\"marker\":{\"colorbar\":{\"outlinewidth\":0,\"ticks\":\"\"}},\"type\":\"scattergl\"}],\"scattermapbox\":[{\"marker\":{\"colorbar\":{\"outlinewidth\":0,\"ticks\":\"\"}},\"type\":\"scattermapbox\"}],\"scatterpolargl\":[{\"marker\":{\"colorbar\":{\"outlinewidth\":0,\"ticks\":\"\"}},\"type\":\"scatterpolargl\"}],\"scatterpolar\":[{\"marker\":{\"colorbar\":{\"outlinewidth\":0,\"ticks\":\"\"}},\"type\":\"scatterpolar\"}],\"scatter\":[{\"marker\":{\"colorbar\":{\"outlinewidth\":0,\"ticks\":\"\"}},\"type\":\"scatter\"}],\"scatterternary\":[{\"marker\":{\"colorbar\":{\"outlinewidth\":0,\"ticks\":\"\"}},\"type\":\"scatterternary\"}],\"surface\":[{\"colorbar\":{\"outlinewidth\":0,\"ticks\":\"\"},\"colorscale\":[[0.0,\"#0d0887\"],[0.1111111111111111,\"#46039f\"],[0.2222222222222222,\"#7201a8\"],[0.3333333333333333,\"#9c179e\"],[0.4444444444444444,\"#bd3786\"],[0.5555555555555556,\"#d8576b\"],[0.6666666666666666,\"#ed7953\"],[0.7777777777777778,\"#fb9f3a\"],[0.8888888888888888,\"#fdca26\"],[1.0,\"#f0f921\"]],\"type\":\"surface\"}],\"table\":[{\"cells\":{\"fill\":{\"color\":\"#EBF0F8\"},\"line\":{\"color\":\"white\"}},\"header\":{\"fill\":{\"color\":\"#C8D4E3\"},\"line\":{\"color\":\"white\"}},\"type\":\"table\"}]},\"layout\":{\"annotationdefaults\":{\"arrowcolor\":\"#2a3f5f\",\"arrowhead\":0,\"arrowwidth\":1},\"autotypenumbers\":\"strict\",\"coloraxis\":{\"colorbar\":{\"outlinewidth\":0,\"ticks\":\"\"}},\"colorscale\":{\"diverging\":[[0,\"#8e0152\"],[0.1,\"#c51b7d\"],[0.2,\"#de77ae\"],[0.3,\"#f1b6da\"],[0.4,\"#fde0ef\"],[0.5,\"#f7f7f7\"],[0.6,\"#e6f5d0\"],[0.7,\"#b8e186\"],[0.8,\"#7fbc41\"],[0.9,\"#4d9221\"],[1,\"#276419\"]],\"sequential\":[[0.0,\"#0d0887\"],[0.1111111111111111,\"#46039f\"],[0.2222222222222222,\"#7201a8\"],[0.3333333333333333,\"#9c179e\"],[0.4444444444444444,\"#bd3786\"],[0.5555555555555556,\"#d8576b\"],[0.6666666666666666,\"#ed7953\"],[0.7777777777777778,\"#fb9f3a\"],[0.8888888888888888,\"#fdca26\"],[1.0,\"#f0f921\"]],\"sequentialminus\":[[0.0,\"#0d0887\"],[0.1111111111111111,\"#46039f\"],[0.2222222222222222,\"#7201a8\"],[0.3333333333333333,\"#9c179e\"],[0.4444444444444444,\"#bd3786\"],[0.5555555555555556,\"#d8576b\"],[0.6666666666666666,\"#ed7953\"],[0.7777777777777778,\"#fb9f3a\"],[0.8888888888888888,\"#fdca26\"],[1.0,\"#f0f921\"]]},\"colorway\":[\"#636efa\",\"#EF553B\",\"#00cc96\",\"#ab63fa\",\"#FFA15A\",\"#19d3f3\",\"#FF6692\",\"#B6E880\",\"#FF97FF\",\"#FECB52\"],\"font\":{\"color\":\"#2a3f5f\"},\"geo\":{\"bgcolor\":\"white\",\"lakecolor\":\"white\",\"landcolor\":\"#E5ECF6\",\"showlakes\":true,\"showland\":true,\"subunitcolor\":\"white\"},\"hoverlabel\":{\"align\":\"left\"},\"hovermode\":\"closest\",\"mapbox\":{\"style\":\"light\"},\"paper_bgcolor\":\"white\",\"plot_bgcolor\":\"#E5ECF6\",\"polar\":{\"angularaxis\":{\"gridcolor\":\"white\",\"linecolor\":\"white\",\"ticks\":\"\"},\"bgcolor\":\"#E5ECF6\",\"radialaxis\":{\"gridcolor\":\"white\",\"linecolor\":\"white\",\"ticks\":\"\"}},\"scene\":{\"xaxis\":{\"backgroundcolor\":\"#E5ECF6\",\"gridcolor\":\"white\",\"gridwidth\":2,\"linecolor\":\"white\",\"showbackground\":true,\"ticks\":\"\",\"zerolinecolor\":\"white\"},\"yaxis\":{\"backgroundcolor\":\"#E5ECF6\",\"gridcolor\":\"white\",\"gridwidth\":2,\"linecolor\":\"white\",\"showbackground\":true,\"ticks\":\"\",\"zerolinecolor\":\"white\"},\"zaxis\":{\"backgroundcolor\":\"#E5ECF6\",\"gridcolor\":\"white\",\"gridwidth\":2,\"linecolor\":\"white\",\"showbackground\":true,\"ticks\":\"\",\"zerolinecolor\":\"white\"}},\"shapedefaults\":{\"line\":{\"color\":\"#2a3f5f\"}},\"ternary\":{\"aaxis\":{\"gridcolor\":\"white\",\"linecolor\":\"white\",\"ticks\":\"\"},\"baxis\":{\"gridcolor\":\"white\",\"linecolor\":\"white\",\"ticks\":\"\"},\"bgcolor\":\"#E5ECF6\",\"caxis\":{\"gridcolor\":\"white\",\"linecolor\":\"white\",\"ticks\":\"\"}},\"title\":{\"x\":0.05},\"xaxis\":{\"automargin\":true,\"gridcolor\":\"white\",\"linecolor\":\"white\",\"ticks\":\"\",\"title\":{\"standoff\":15},\"zerolinecolor\":\"white\",\"zerolinewidth\":2},\"yaxis\":{\"automargin\":true,\"gridcolor\":\"white\",\"linecolor\":\"white\",\"ticks\":\"\",\"title\":{\"standoff\":15},\"zerolinecolor\":\"white\",\"zerolinewidth\":2}}},\"title\":{\"font\":{\"color\":\"#4D5663\"}},\"xaxis\":{\"gridcolor\":\"#E1E5ED\",\"showgrid\":true,\"tickfont\":{\"color\":\"#4D5663\"},\"title\":{\"font\":{\"color\":\"#4D5663\"},\"text\":\"\"},\"zerolinecolor\":\"#E1E5ED\"},\"yaxis\":{\"gridcolor\":\"#E1E5ED\",\"showgrid\":true,\"tickfont\":{\"color\":\"#4D5663\"},\"title\":{\"font\":{\"color\":\"#4D5663\"},\"text\":\"\"},\"zerolinecolor\":\"#E1E5ED\"}},                        {\"showLink\": true, \"linkText\": \"Export to plot.ly\", \"plotlyServerURL\": \"https://plot.ly\", \"responsive\": true}                    ).then(function(){\n",
       "                            \n",
       "var gd = document.getElementById('b5cfc449-1f0c-4a18-9fe3-d7150c9120b6');\n",
       "var x = new MutationObserver(function (mutations, observer) {{\n",
       "        var display = window.getComputedStyle(gd).display;\n",
       "        if (!display || display === 'none') {{\n",
       "            console.log([gd, 'removed!']);\n",
       "            Plotly.purge(gd);\n",
       "            observer.disconnect();\n",
       "        }}\n",
       "}});\n",
       "\n",
       "// Listen for the removal of the full notebook cells\n",
       "var notebookContainer = gd.closest('#notebook-container');\n",
       "if (notebookContainer) {{\n",
       "    x.observe(notebookContainer, {childList: true});\n",
       "}}\n",
       "\n",
       "// Listen for the clearing of the current output cell\n",
       "var outputEl = gd.closest('.output');\n",
       "if (outputEl) {{\n",
       "    x.observe(outputEl, {childList: true});\n",
       "}}\n",
       "\n",
       "                        })                };                });            </script>        </div>"
      ]
     },
     "metadata": {},
     "output_type": "display_data"
    }
   ],
   "source": [
    "df.iplot(kind='box')"
   ]
  },
  {
   "cell_type": "markdown",
   "metadata": {},
   "source": [
    "## 3d Surface"
   ]
  },
  {
   "cell_type": "code",
   "execution_count": 14,
   "metadata": {},
   "outputs": [
    {
     "data": {
      "application/vnd.plotly.v1+json": {
       "config": {
        "linkText": "Export to plot.ly",
        "plotlyServerURL": "https://plot.ly",
        "showLink": true
       },
       "data": [
        {
         "colorscale": [
          [
           0,
           "rgb(165,0,38)"
          ],
          [
           0.1,
           "rgb(215,48,39)"
          ],
          [
           0.2,
           "rgb(244,109,67)"
          ],
          [
           0.3,
           "rgb(253,174,97)"
          ],
          [
           0.4,
           "rgb(254,224,144)"
          ],
          [
           0.5,
           "rgb(255,255,191)"
          ],
          [
           0.6,
           "rgb(224,243,248)"
          ],
          [
           0.7,
           "rgb(171,217,233)"
          ],
          [
           0.8,
           "rgb(116,173,209)"
          ],
          [
           0.9,
           "rgb(69,117,180)"
          ],
          [
           1,
           "rgb(49,54,149)"
          ]
         ],
         "type": "surface",
         "x": [
          0,
          1,
          2,
          3,
          4
         ],
         "y": [
          "x",
          "y",
          "z"
         ],
         "z": [
          [
           1,
           2,
           3,
           4,
           5
          ],
          [
           10,
           20,
           30,
           20,
           10
          ],
          [
           5,
           4,
           3,
           2,
           1
          ]
         ]
        }
       ],
       "layout": {
        "legend": {
         "bgcolor": "#F5F6F9",
         "font": {
          "color": "#4D5663"
         }
        },
        "paper_bgcolor": "#F5F6F9",
        "plot_bgcolor": "#F5F6F9",
        "template": {
         "data": {
          "bar": [
           {
            "error_x": {
             "color": "#2a3f5f"
            },
            "error_y": {
             "color": "#2a3f5f"
            },
            "marker": {
             "line": {
              "color": "#E5ECF6",
              "width": 0.5
             },
             "pattern": {
              "fillmode": "overlay",
              "size": 10,
              "solidity": 0.2
             }
            },
            "type": "bar"
           }
          ],
          "barpolar": [
           {
            "marker": {
             "line": {
              "color": "#E5ECF6",
              "width": 0.5
             },
             "pattern": {
              "fillmode": "overlay",
              "size": 10,
              "solidity": 0.2
             }
            },
            "type": "barpolar"
           }
          ],
          "carpet": [
           {
            "aaxis": {
             "endlinecolor": "#2a3f5f",
             "gridcolor": "white",
             "linecolor": "white",
             "minorgridcolor": "white",
             "startlinecolor": "#2a3f5f"
            },
            "baxis": {
             "endlinecolor": "#2a3f5f",
             "gridcolor": "white",
             "linecolor": "white",
             "minorgridcolor": "white",
             "startlinecolor": "#2a3f5f"
            },
            "type": "carpet"
           }
          ],
          "choropleth": [
           {
            "colorbar": {
             "outlinewidth": 0,
             "ticks": ""
            },
            "type": "choropleth"
           }
          ],
          "contour": [
           {
            "colorbar": {
             "outlinewidth": 0,
             "ticks": ""
            },
            "colorscale": [
             [
              0,
              "#0d0887"
             ],
             [
              0.1111111111111111,
              "#46039f"
             ],
             [
              0.2222222222222222,
              "#7201a8"
             ],
             [
              0.3333333333333333,
              "#9c179e"
             ],
             [
              0.4444444444444444,
              "#bd3786"
             ],
             [
              0.5555555555555556,
              "#d8576b"
             ],
             [
              0.6666666666666666,
              "#ed7953"
             ],
             [
              0.7777777777777778,
              "#fb9f3a"
             ],
             [
              0.8888888888888888,
              "#fdca26"
             ],
             [
              1,
              "#f0f921"
             ]
            ],
            "type": "contour"
           }
          ],
          "contourcarpet": [
           {
            "colorbar": {
             "outlinewidth": 0,
             "ticks": ""
            },
            "type": "contourcarpet"
           }
          ],
          "heatmap": [
           {
            "colorbar": {
             "outlinewidth": 0,
             "ticks": ""
            },
            "colorscale": [
             [
              0,
              "#0d0887"
             ],
             [
              0.1111111111111111,
              "#46039f"
             ],
             [
              0.2222222222222222,
              "#7201a8"
             ],
             [
              0.3333333333333333,
              "#9c179e"
             ],
             [
              0.4444444444444444,
              "#bd3786"
             ],
             [
              0.5555555555555556,
              "#d8576b"
             ],
             [
              0.6666666666666666,
              "#ed7953"
             ],
             [
              0.7777777777777778,
              "#fb9f3a"
             ],
             [
              0.8888888888888888,
              "#fdca26"
             ],
             [
              1,
              "#f0f921"
             ]
            ],
            "type": "heatmap"
           }
          ],
          "heatmapgl": [
           {
            "colorbar": {
             "outlinewidth": 0,
             "ticks": ""
            },
            "colorscale": [
             [
              0,
              "#0d0887"
             ],
             [
              0.1111111111111111,
              "#46039f"
             ],
             [
              0.2222222222222222,
              "#7201a8"
             ],
             [
              0.3333333333333333,
              "#9c179e"
             ],
             [
              0.4444444444444444,
              "#bd3786"
             ],
             [
              0.5555555555555556,
              "#d8576b"
             ],
             [
              0.6666666666666666,
              "#ed7953"
             ],
             [
              0.7777777777777778,
              "#fb9f3a"
             ],
             [
              0.8888888888888888,
              "#fdca26"
             ],
             [
              1,
              "#f0f921"
             ]
            ],
            "type": "heatmapgl"
           }
          ],
          "histogram": [
           {
            "marker": {
             "pattern": {
              "fillmode": "overlay",
              "size": 10,
              "solidity": 0.2
             }
            },
            "type": "histogram"
           }
          ],
          "histogram2d": [
           {
            "colorbar": {
             "outlinewidth": 0,
             "ticks": ""
            },
            "colorscale": [
             [
              0,
              "#0d0887"
             ],
             [
              0.1111111111111111,
              "#46039f"
             ],
             [
              0.2222222222222222,
              "#7201a8"
             ],
             [
              0.3333333333333333,
              "#9c179e"
             ],
             [
              0.4444444444444444,
              "#bd3786"
             ],
             [
              0.5555555555555556,
              "#d8576b"
             ],
             [
              0.6666666666666666,
              "#ed7953"
             ],
             [
              0.7777777777777778,
              "#fb9f3a"
             ],
             [
              0.8888888888888888,
              "#fdca26"
             ],
             [
              1,
              "#f0f921"
             ]
            ],
            "type": "histogram2d"
           }
          ],
          "histogram2dcontour": [
           {
            "colorbar": {
             "outlinewidth": 0,
             "ticks": ""
            },
            "colorscale": [
             [
              0,
              "#0d0887"
             ],
             [
              0.1111111111111111,
              "#46039f"
             ],
             [
              0.2222222222222222,
              "#7201a8"
             ],
             [
              0.3333333333333333,
              "#9c179e"
             ],
             [
              0.4444444444444444,
              "#bd3786"
             ],
             [
              0.5555555555555556,
              "#d8576b"
             ],
             [
              0.6666666666666666,
              "#ed7953"
             ],
             [
              0.7777777777777778,
              "#fb9f3a"
             ],
             [
              0.8888888888888888,
              "#fdca26"
             ],
             [
              1,
              "#f0f921"
             ]
            ],
            "type": "histogram2dcontour"
           }
          ],
          "mesh3d": [
           {
            "colorbar": {
             "outlinewidth": 0,
             "ticks": ""
            },
            "type": "mesh3d"
           }
          ],
          "parcoords": [
           {
            "line": {
             "colorbar": {
              "outlinewidth": 0,
              "ticks": ""
             }
            },
            "type": "parcoords"
           }
          ],
          "pie": [
           {
            "automargin": true,
            "type": "pie"
           }
          ],
          "scatter": [
           {
            "marker": {
             "colorbar": {
              "outlinewidth": 0,
              "ticks": ""
             }
            },
            "type": "scatter"
           }
          ],
          "scatter3d": [
           {
            "line": {
             "colorbar": {
              "outlinewidth": 0,
              "ticks": ""
             }
            },
            "marker": {
             "colorbar": {
              "outlinewidth": 0,
              "ticks": ""
             }
            },
            "type": "scatter3d"
           }
          ],
          "scattercarpet": [
           {
            "marker": {
             "colorbar": {
              "outlinewidth": 0,
              "ticks": ""
             }
            },
            "type": "scattercarpet"
           }
          ],
          "scattergeo": [
           {
            "marker": {
             "colorbar": {
              "outlinewidth": 0,
              "ticks": ""
             }
            },
            "type": "scattergeo"
           }
          ],
          "scattergl": [
           {
            "marker": {
             "colorbar": {
              "outlinewidth": 0,
              "ticks": ""
             }
            },
            "type": "scattergl"
           }
          ],
          "scattermapbox": [
           {
            "marker": {
             "colorbar": {
              "outlinewidth": 0,
              "ticks": ""
             }
            },
            "type": "scattermapbox"
           }
          ],
          "scatterpolar": [
           {
            "marker": {
             "colorbar": {
              "outlinewidth": 0,
              "ticks": ""
             }
            },
            "type": "scatterpolar"
           }
          ],
          "scatterpolargl": [
           {
            "marker": {
             "colorbar": {
              "outlinewidth": 0,
              "ticks": ""
             }
            },
            "type": "scatterpolargl"
           }
          ],
          "scatterternary": [
           {
            "marker": {
             "colorbar": {
              "outlinewidth": 0,
              "ticks": ""
             }
            },
            "type": "scatterternary"
           }
          ],
          "surface": [
           {
            "colorbar": {
             "outlinewidth": 0,
             "ticks": ""
            },
            "colorscale": [
             [
              0,
              "#0d0887"
             ],
             [
              0.1111111111111111,
              "#46039f"
             ],
             [
              0.2222222222222222,
              "#7201a8"
             ],
             [
              0.3333333333333333,
              "#9c179e"
             ],
             [
              0.4444444444444444,
              "#bd3786"
             ],
             [
              0.5555555555555556,
              "#d8576b"
             ],
             [
              0.6666666666666666,
              "#ed7953"
             ],
             [
              0.7777777777777778,
              "#fb9f3a"
             ],
             [
              0.8888888888888888,
              "#fdca26"
             ],
             [
              1,
              "#f0f921"
             ]
            ],
            "type": "surface"
           }
          ],
          "table": [
           {
            "cells": {
             "fill": {
              "color": "#EBF0F8"
             },
             "line": {
              "color": "white"
             }
            },
            "header": {
             "fill": {
              "color": "#C8D4E3"
             },
             "line": {
              "color": "white"
             }
            },
            "type": "table"
           }
          ]
         },
         "layout": {
          "annotationdefaults": {
           "arrowcolor": "#2a3f5f",
           "arrowhead": 0,
           "arrowwidth": 1
          },
          "autotypenumbers": "strict",
          "coloraxis": {
           "colorbar": {
            "outlinewidth": 0,
            "ticks": ""
           }
          },
          "colorscale": {
           "diverging": [
            [
             0,
             "#8e0152"
            ],
            [
             0.1,
             "#c51b7d"
            ],
            [
             0.2,
             "#de77ae"
            ],
            [
             0.3,
             "#f1b6da"
            ],
            [
             0.4,
             "#fde0ef"
            ],
            [
             0.5,
             "#f7f7f7"
            ],
            [
             0.6,
             "#e6f5d0"
            ],
            [
             0.7,
             "#b8e186"
            ],
            [
             0.8,
             "#7fbc41"
            ],
            [
             0.9,
             "#4d9221"
            ],
            [
             1,
             "#276419"
            ]
           ],
           "sequential": [
            [
             0,
             "#0d0887"
            ],
            [
             0.1111111111111111,
             "#46039f"
            ],
            [
             0.2222222222222222,
             "#7201a8"
            ],
            [
             0.3333333333333333,
             "#9c179e"
            ],
            [
             0.4444444444444444,
             "#bd3786"
            ],
            [
             0.5555555555555556,
             "#d8576b"
            ],
            [
             0.6666666666666666,
             "#ed7953"
            ],
            [
             0.7777777777777778,
             "#fb9f3a"
            ],
            [
             0.8888888888888888,
             "#fdca26"
            ],
            [
             1,
             "#f0f921"
            ]
           ],
           "sequentialminus": [
            [
             0,
             "#0d0887"
            ],
            [
             0.1111111111111111,
             "#46039f"
            ],
            [
             0.2222222222222222,
             "#7201a8"
            ],
            [
             0.3333333333333333,
             "#9c179e"
            ],
            [
             0.4444444444444444,
             "#bd3786"
            ],
            [
             0.5555555555555556,
             "#d8576b"
            ],
            [
             0.6666666666666666,
             "#ed7953"
            ],
            [
             0.7777777777777778,
             "#fb9f3a"
            ],
            [
             0.8888888888888888,
             "#fdca26"
            ],
            [
             1,
             "#f0f921"
            ]
           ]
          },
          "colorway": [
           "#636efa",
           "#EF553B",
           "#00cc96",
           "#ab63fa",
           "#FFA15A",
           "#19d3f3",
           "#FF6692",
           "#B6E880",
           "#FF97FF",
           "#FECB52"
          ],
          "font": {
           "color": "#2a3f5f"
          },
          "geo": {
           "bgcolor": "white",
           "lakecolor": "white",
           "landcolor": "#E5ECF6",
           "showlakes": true,
           "showland": true,
           "subunitcolor": "white"
          },
          "hoverlabel": {
           "align": "left"
          },
          "hovermode": "closest",
          "mapbox": {
           "style": "light"
          },
          "paper_bgcolor": "white",
          "plot_bgcolor": "#E5ECF6",
          "polar": {
           "angularaxis": {
            "gridcolor": "white",
            "linecolor": "white",
            "ticks": ""
           },
           "bgcolor": "#E5ECF6",
           "radialaxis": {
            "gridcolor": "white",
            "linecolor": "white",
            "ticks": ""
           }
          },
          "scene": {
           "xaxis": {
            "backgroundcolor": "#E5ECF6",
            "gridcolor": "white",
            "gridwidth": 2,
            "linecolor": "white",
            "showbackground": true,
            "ticks": "",
            "zerolinecolor": "white"
           },
           "yaxis": {
            "backgroundcolor": "#E5ECF6",
            "gridcolor": "white",
            "gridwidth": 2,
            "linecolor": "white",
            "showbackground": true,
            "ticks": "",
            "zerolinecolor": "white"
           },
           "zaxis": {
            "backgroundcolor": "#E5ECF6",
            "gridcolor": "white",
            "gridwidth": 2,
            "linecolor": "white",
            "showbackground": true,
            "ticks": "",
            "zerolinecolor": "white"
           }
          },
          "shapedefaults": {
           "line": {
            "color": "#2a3f5f"
           }
          },
          "ternary": {
           "aaxis": {
            "gridcolor": "white",
            "linecolor": "white",
            "ticks": ""
           },
           "baxis": {
            "gridcolor": "white",
            "linecolor": "white",
            "ticks": ""
           },
           "bgcolor": "#E5ECF6",
           "caxis": {
            "gridcolor": "white",
            "linecolor": "white",
            "ticks": ""
           }
          },
          "title": {
           "x": 0.05
          },
          "xaxis": {
           "automargin": true,
           "gridcolor": "white",
           "linecolor": "white",
           "ticks": "",
           "title": {
            "standoff": 15
           },
           "zerolinecolor": "white",
           "zerolinewidth": 2
          },
          "yaxis": {
           "automargin": true,
           "gridcolor": "white",
           "linecolor": "white",
           "ticks": "",
           "title": {
            "standoff": 15
           },
           "zerolinecolor": "white",
           "zerolinewidth": 2
          }
         }
        },
        "title": {
         "font": {
          "color": "#4D5663"
         }
        },
        "xaxis": {
         "gridcolor": "#E1E5ED",
         "showgrid": true,
         "tickfont": {
          "color": "#4D5663"
         },
         "title": {
          "font": {
           "color": "#4D5663"
          },
          "text": ""
         },
         "zerolinecolor": "#E1E5ED"
        },
        "yaxis": {
         "gridcolor": "#E1E5ED",
         "showgrid": true,
         "tickfont": {
          "color": "#4D5663"
         },
         "title": {
          "font": {
           "color": "#4D5663"
          },
          "text": ""
         },
         "zerolinecolor": "#E1E5ED"
        }
       }
      },
      "text/html": [
       "<div>                            <div id=\"9ea433d9-9f67-47b9-a80e-2022643fdcfa\" class=\"plotly-graph-div\" style=\"height:525px; width:100%;\"></div>            <script type=\"text/javascript\">                require([\"plotly\"], function(Plotly) {                    window.PLOTLYENV=window.PLOTLYENV || {};\n",
       "                    window.PLOTLYENV.BASE_URL='https://plot.ly';                                    if (document.getElementById(\"9ea433d9-9f67-47b9-a80e-2022643fdcfa\")) {                    Plotly.newPlot(                        \"9ea433d9-9f67-47b9-a80e-2022643fdcfa\",                        [{\"colorscale\":[[0.0,\"rgb(165,0,38)\"],[0.1,\"rgb(215,48,39)\"],[0.2,\"rgb(244,109,67)\"],[0.3,\"rgb(253,174,97)\"],[0.4,\"rgb(254,224,144)\"],[0.5,\"rgb(255,255,191)\"],[0.6,\"rgb(224,243,248)\"],[0.7,\"rgb(171,217,233)\"],[0.8,\"rgb(116,173,209)\"],[0.9,\"rgb(69,117,180)\"],[1.0,\"rgb(49,54,149)\"]],\"x\":[0,1,2,3,4],\"y\":[\"x\",\"y\",\"z\"],\"z\":[[1,2,3,4,5],[10,20,30,20,10],[5,4,3,2,1]],\"type\":\"surface\"}],                        {\"legend\":{\"bgcolor\":\"#F5F6F9\",\"font\":{\"color\":\"#4D5663\"}},\"paper_bgcolor\":\"#F5F6F9\",\"plot_bgcolor\":\"#F5F6F9\",\"template\":{\"data\":{\"barpolar\":[{\"marker\":{\"line\":{\"color\":\"#E5ECF6\",\"width\":0.5},\"pattern\":{\"fillmode\":\"overlay\",\"size\":10,\"solidity\":0.2}},\"type\":\"barpolar\"}],\"bar\":[{\"error_x\":{\"color\":\"#2a3f5f\"},\"error_y\":{\"color\":\"#2a3f5f\"},\"marker\":{\"line\":{\"color\":\"#E5ECF6\",\"width\":0.5},\"pattern\":{\"fillmode\":\"overlay\",\"size\":10,\"solidity\":0.2}},\"type\":\"bar\"}],\"carpet\":[{\"aaxis\":{\"endlinecolor\":\"#2a3f5f\",\"gridcolor\":\"white\",\"linecolor\":\"white\",\"minorgridcolor\":\"white\",\"startlinecolor\":\"#2a3f5f\"},\"baxis\":{\"endlinecolor\":\"#2a3f5f\",\"gridcolor\":\"white\",\"linecolor\":\"white\",\"minorgridcolor\":\"white\",\"startlinecolor\":\"#2a3f5f\"},\"type\":\"carpet\"}],\"choropleth\":[{\"colorbar\":{\"outlinewidth\":0,\"ticks\":\"\"},\"type\":\"choropleth\"}],\"contourcarpet\":[{\"colorbar\":{\"outlinewidth\":0,\"ticks\":\"\"},\"type\":\"contourcarpet\"}],\"contour\":[{\"colorbar\":{\"outlinewidth\":0,\"ticks\":\"\"},\"colorscale\":[[0.0,\"#0d0887\"],[0.1111111111111111,\"#46039f\"],[0.2222222222222222,\"#7201a8\"],[0.3333333333333333,\"#9c179e\"],[0.4444444444444444,\"#bd3786\"],[0.5555555555555556,\"#d8576b\"],[0.6666666666666666,\"#ed7953\"],[0.7777777777777778,\"#fb9f3a\"],[0.8888888888888888,\"#fdca26\"],[1.0,\"#f0f921\"]],\"type\":\"contour\"}],\"heatmapgl\":[{\"colorbar\":{\"outlinewidth\":0,\"ticks\":\"\"},\"colorscale\":[[0.0,\"#0d0887\"],[0.1111111111111111,\"#46039f\"],[0.2222222222222222,\"#7201a8\"],[0.3333333333333333,\"#9c179e\"],[0.4444444444444444,\"#bd3786\"],[0.5555555555555556,\"#d8576b\"],[0.6666666666666666,\"#ed7953\"],[0.7777777777777778,\"#fb9f3a\"],[0.8888888888888888,\"#fdca26\"],[1.0,\"#f0f921\"]],\"type\":\"heatmapgl\"}],\"heatmap\":[{\"colorbar\":{\"outlinewidth\":0,\"ticks\":\"\"},\"colorscale\":[[0.0,\"#0d0887\"],[0.1111111111111111,\"#46039f\"],[0.2222222222222222,\"#7201a8\"],[0.3333333333333333,\"#9c179e\"],[0.4444444444444444,\"#bd3786\"],[0.5555555555555556,\"#d8576b\"],[0.6666666666666666,\"#ed7953\"],[0.7777777777777778,\"#fb9f3a\"],[0.8888888888888888,\"#fdca26\"],[1.0,\"#f0f921\"]],\"type\":\"heatmap\"}],\"histogram2dcontour\":[{\"colorbar\":{\"outlinewidth\":0,\"ticks\":\"\"},\"colorscale\":[[0.0,\"#0d0887\"],[0.1111111111111111,\"#46039f\"],[0.2222222222222222,\"#7201a8\"],[0.3333333333333333,\"#9c179e\"],[0.4444444444444444,\"#bd3786\"],[0.5555555555555556,\"#d8576b\"],[0.6666666666666666,\"#ed7953\"],[0.7777777777777778,\"#fb9f3a\"],[0.8888888888888888,\"#fdca26\"],[1.0,\"#f0f921\"]],\"type\":\"histogram2dcontour\"}],\"histogram2d\":[{\"colorbar\":{\"outlinewidth\":0,\"ticks\":\"\"},\"colorscale\":[[0.0,\"#0d0887\"],[0.1111111111111111,\"#46039f\"],[0.2222222222222222,\"#7201a8\"],[0.3333333333333333,\"#9c179e\"],[0.4444444444444444,\"#bd3786\"],[0.5555555555555556,\"#d8576b\"],[0.6666666666666666,\"#ed7953\"],[0.7777777777777778,\"#fb9f3a\"],[0.8888888888888888,\"#fdca26\"],[1.0,\"#f0f921\"]],\"type\":\"histogram2d\"}],\"histogram\":[{\"marker\":{\"pattern\":{\"fillmode\":\"overlay\",\"size\":10,\"solidity\":0.2}},\"type\":\"histogram\"}],\"mesh3d\":[{\"colorbar\":{\"outlinewidth\":0,\"ticks\":\"\"},\"type\":\"mesh3d\"}],\"parcoords\":[{\"line\":{\"colorbar\":{\"outlinewidth\":0,\"ticks\":\"\"}},\"type\":\"parcoords\"}],\"pie\":[{\"automargin\":true,\"type\":\"pie\"}],\"scatter3d\":[{\"line\":{\"colorbar\":{\"outlinewidth\":0,\"ticks\":\"\"}},\"marker\":{\"colorbar\":{\"outlinewidth\":0,\"ticks\":\"\"}},\"type\":\"scatter3d\"}],\"scattercarpet\":[{\"marker\":{\"colorbar\":{\"outlinewidth\":0,\"ticks\":\"\"}},\"type\":\"scattercarpet\"}],\"scattergeo\":[{\"marker\":{\"colorbar\":{\"outlinewidth\":0,\"ticks\":\"\"}},\"type\":\"scattergeo\"}],\"scattergl\":[{\"marker\":{\"colorbar\":{\"outlinewidth\":0,\"ticks\":\"\"}},\"type\":\"scattergl\"}],\"scattermapbox\":[{\"marker\":{\"colorbar\":{\"outlinewidth\":0,\"ticks\":\"\"}},\"type\":\"scattermapbox\"}],\"scatterpolargl\":[{\"marker\":{\"colorbar\":{\"outlinewidth\":0,\"ticks\":\"\"}},\"type\":\"scatterpolargl\"}],\"scatterpolar\":[{\"marker\":{\"colorbar\":{\"outlinewidth\":0,\"ticks\":\"\"}},\"type\":\"scatterpolar\"}],\"scatter\":[{\"marker\":{\"colorbar\":{\"outlinewidth\":0,\"ticks\":\"\"}},\"type\":\"scatter\"}],\"scatterternary\":[{\"marker\":{\"colorbar\":{\"outlinewidth\":0,\"ticks\":\"\"}},\"type\":\"scatterternary\"}],\"surface\":[{\"colorbar\":{\"outlinewidth\":0,\"ticks\":\"\"},\"colorscale\":[[0.0,\"#0d0887\"],[0.1111111111111111,\"#46039f\"],[0.2222222222222222,\"#7201a8\"],[0.3333333333333333,\"#9c179e\"],[0.4444444444444444,\"#bd3786\"],[0.5555555555555556,\"#d8576b\"],[0.6666666666666666,\"#ed7953\"],[0.7777777777777778,\"#fb9f3a\"],[0.8888888888888888,\"#fdca26\"],[1.0,\"#f0f921\"]],\"type\":\"surface\"}],\"table\":[{\"cells\":{\"fill\":{\"color\":\"#EBF0F8\"},\"line\":{\"color\":\"white\"}},\"header\":{\"fill\":{\"color\":\"#C8D4E3\"},\"line\":{\"color\":\"white\"}},\"type\":\"table\"}]},\"layout\":{\"annotationdefaults\":{\"arrowcolor\":\"#2a3f5f\",\"arrowhead\":0,\"arrowwidth\":1},\"autotypenumbers\":\"strict\",\"coloraxis\":{\"colorbar\":{\"outlinewidth\":0,\"ticks\":\"\"}},\"colorscale\":{\"diverging\":[[0,\"#8e0152\"],[0.1,\"#c51b7d\"],[0.2,\"#de77ae\"],[0.3,\"#f1b6da\"],[0.4,\"#fde0ef\"],[0.5,\"#f7f7f7\"],[0.6,\"#e6f5d0\"],[0.7,\"#b8e186\"],[0.8,\"#7fbc41\"],[0.9,\"#4d9221\"],[1,\"#276419\"]],\"sequential\":[[0.0,\"#0d0887\"],[0.1111111111111111,\"#46039f\"],[0.2222222222222222,\"#7201a8\"],[0.3333333333333333,\"#9c179e\"],[0.4444444444444444,\"#bd3786\"],[0.5555555555555556,\"#d8576b\"],[0.6666666666666666,\"#ed7953\"],[0.7777777777777778,\"#fb9f3a\"],[0.8888888888888888,\"#fdca26\"],[1.0,\"#f0f921\"]],\"sequentialminus\":[[0.0,\"#0d0887\"],[0.1111111111111111,\"#46039f\"],[0.2222222222222222,\"#7201a8\"],[0.3333333333333333,\"#9c179e\"],[0.4444444444444444,\"#bd3786\"],[0.5555555555555556,\"#d8576b\"],[0.6666666666666666,\"#ed7953\"],[0.7777777777777778,\"#fb9f3a\"],[0.8888888888888888,\"#fdca26\"],[1.0,\"#f0f921\"]]},\"colorway\":[\"#636efa\",\"#EF553B\",\"#00cc96\",\"#ab63fa\",\"#FFA15A\",\"#19d3f3\",\"#FF6692\",\"#B6E880\",\"#FF97FF\",\"#FECB52\"],\"font\":{\"color\":\"#2a3f5f\"},\"geo\":{\"bgcolor\":\"white\",\"lakecolor\":\"white\",\"landcolor\":\"#E5ECF6\",\"showlakes\":true,\"showland\":true,\"subunitcolor\":\"white\"},\"hoverlabel\":{\"align\":\"left\"},\"hovermode\":\"closest\",\"mapbox\":{\"style\":\"light\"},\"paper_bgcolor\":\"white\",\"plot_bgcolor\":\"#E5ECF6\",\"polar\":{\"angularaxis\":{\"gridcolor\":\"white\",\"linecolor\":\"white\",\"ticks\":\"\"},\"bgcolor\":\"#E5ECF6\",\"radialaxis\":{\"gridcolor\":\"white\",\"linecolor\":\"white\",\"ticks\":\"\"}},\"scene\":{\"xaxis\":{\"backgroundcolor\":\"#E5ECF6\",\"gridcolor\":\"white\",\"gridwidth\":2,\"linecolor\":\"white\",\"showbackground\":true,\"ticks\":\"\",\"zerolinecolor\":\"white\"},\"yaxis\":{\"backgroundcolor\":\"#E5ECF6\",\"gridcolor\":\"white\",\"gridwidth\":2,\"linecolor\":\"white\",\"showbackground\":true,\"ticks\":\"\",\"zerolinecolor\":\"white\"},\"zaxis\":{\"backgroundcolor\":\"#E5ECF6\",\"gridcolor\":\"white\",\"gridwidth\":2,\"linecolor\":\"white\",\"showbackground\":true,\"ticks\":\"\",\"zerolinecolor\":\"white\"}},\"shapedefaults\":{\"line\":{\"color\":\"#2a3f5f\"}},\"ternary\":{\"aaxis\":{\"gridcolor\":\"white\",\"linecolor\":\"white\",\"ticks\":\"\"},\"baxis\":{\"gridcolor\":\"white\",\"linecolor\":\"white\",\"ticks\":\"\"},\"bgcolor\":\"#E5ECF6\",\"caxis\":{\"gridcolor\":\"white\",\"linecolor\":\"white\",\"ticks\":\"\"}},\"title\":{\"x\":0.05},\"xaxis\":{\"automargin\":true,\"gridcolor\":\"white\",\"linecolor\":\"white\",\"ticks\":\"\",\"title\":{\"standoff\":15},\"zerolinecolor\":\"white\",\"zerolinewidth\":2},\"yaxis\":{\"automargin\":true,\"gridcolor\":\"white\",\"linecolor\":\"white\",\"ticks\":\"\",\"title\":{\"standoff\":15},\"zerolinecolor\":\"white\",\"zerolinewidth\":2}}},\"title\":{\"font\":{\"color\":\"#4D5663\"}},\"xaxis\":{\"gridcolor\":\"#E1E5ED\",\"showgrid\":true,\"tickfont\":{\"color\":\"#4D5663\"},\"title\":{\"font\":{\"color\":\"#4D5663\"},\"text\":\"\"},\"zerolinecolor\":\"#E1E5ED\"},\"yaxis\":{\"gridcolor\":\"#E1E5ED\",\"showgrid\":true,\"tickfont\":{\"color\":\"#4D5663\"},\"title\":{\"font\":{\"color\":\"#4D5663\"},\"text\":\"\"},\"zerolinecolor\":\"#E1E5ED\"}},                        {\"showLink\": true, \"linkText\": \"Export to plot.ly\", \"plotlyServerURL\": \"https://plot.ly\", \"responsive\": true}                    ).then(function(){\n",
       "                            \n",
       "var gd = document.getElementById('9ea433d9-9f67-47b9-a80e-2022643fdcfa');\n",
       "var x = new MutationObserver(function (mutations, observer) {{\n",
       "        var display = window.getComputedStyle(gd).display;\n",
       "        if (!display || display === 'none') {{\n",
       "            console.log([gd, 'removed!']);\n",
       "            Plotly.purge(gd);\n",
       "            observer.disconnect();\n",
       "        }}\n",
       "}});\n",
       "\n",
       "// Listen for the removal of the full notebook cells\n",
       "var notebookContainer = gd.closest('#notebook-container');\n",
       "if (notebookContainer) {{\n",
       "    x.observe(notebookContainer, {childList: true});\n",
       "}}\n",
       "\n",
       "// Listen for the clearing of the current output cell\n",
       "var outputEl = gd.closest('.output');\n",
       "if (outputEl) {{\n",
       "    x.observe(outputEl, {childList: true});\n",
       "}}\n",
       "\n",
       "                        })                };                });            </script>        </div>"
      ]
     },
     "metadata": {},
     "output_type": "display_data"
    }
   ],
   "source": [
    "df3 = pd.DataFrame({'x':[1,2,3,4,5],'y':[10,20,30,20,10],'z':[5,4,3,2,1]})\n",
    "df3.iplot(kind='surface',colorscale='rdylbu')"
   ]
  },
  {
   "cell_type": "markdown",
   "metadata": {},
   "source": [
    "## Spread"
   ]
  },
  {
   "cell_type": "code",
   "execution_count": 15,
   "metadata": {},
   "outputs": [
    {
     "name": "stderr",
     "output_type": "stream",
     "text": [
      "C:\\Users\\aksk1\\AppData\\Roaming\\Python\\Python39\\site-packages\\cufflinks\\plotlytools.py:849: FutureWarning:\n",
      "\n",
      "The pandas.np module is deprecated and will be removed from pandas in a future version. Import numpy directly instead.\n",
      "\n",
      "C:\\Users\\aksk1\\AppData\\Roaming\\Python\\Python39\\site-packages\\cufflinks\\plotlytools.py:850: FutureWarning:\n",
      "\n",
      "The pandas.np module is deprecated and will be removed from pandas in a future version. Import numpy directly instead.\n",
      "\n"
     ]
    },
    {
     "data": {
      "application/vnd.plotly.v1+json": {
       "config": {
        "linkText": "Export to plot.ly",
        "plotlyServerURL": "https://plot.ly",
        "showLink": true
       },
       "data": [
        {
         "line": {
          "color": "rgba(255, 153, 51, 1.0)",
          "dash": "solid",
          "shape": "linear",
          "width": 1.3
         },
         "mode": "lines",
         "name": "A",
         "text": "",
         "type": "scatter",
         "x": [
          0,
          1,
          2,
          3,
          4,
          5,
          6,
          7,
          8,
          9,
          10,
          11,
          12,
          13,
          14,
          15,
          16,
          17,
          18,
          19,
          20,
          21,
          22,
          23,
          24,
          25,
          26,
          27,
          28,
          29,
          30,
          31,
          32,
          33,
          34,
          35,
          36,
          37,
          38,
          39,
          40,
          41,
          42,
          43,
          44,
          45,
          46,
          47,
          48,
          49,
          50,
          51,
          52,
          53,
          54,
          55,
          56,
          57,
          58,
          59,
          60,
          61,
          62,
          63,
          64,
          65,
          66,
          67,
          68,
          69,
          70,
          71,
          72,
          73,
          74,
          75,
          76,
          77,
          78,
          79,
          80,
          81,
          82,
          83,
          84,
          85,
          86,
          87,
          88,
          89,
          90,
          91,
          92,
          93,
          94,
          95,
          96,
          97,
          98,
          99
         ],
         "y": [
          0.4395119976966545,
          0.020152580888882565,
          -0.37407441444430184,
          -0.539926331737172,
          -1.1415136887036064,
          0.8166657567438118,
          -0.6224297536168503,
          0.7308894349710953,
          0.7203192879102357,
          -1.3737647648303697,
          -1.23119009378185,
          0.3198538375639925,
          0.26348650235568355,
          0.6488757306353029,
          -0.00728590715634182,
          -0.7565433586862875,
          -0.6563581332656321,
          -0.2718198150238515,
          2.3006887217341485,
          -0.0016354406682298403,
          -0.44155799103745624,
          -0.05360096166018684,
          0.1482445798661521,
          -0.31540345886485455,
          -1.0965840430633944,
          0.10640896879094265,
          -0.6070796967732894,
          -0.22733509919143075,
          1.9043079760497075,
          0.15758544829888035,
          -0.8467557485348001,
          -0.05415976370766293,
          -0.9788011598549242,
          -1.6583630823284712,
          0.8159503058015778,
          -0.25181207826404073,
          -0.8324733961614146,
          -0.6260559102319855,
          -0.31995726864785823,
          1.1849051256609375,
          -0.284668437153468,
          -1.3551041866389977,
          -0.44227550517139147,
          -0.6564605155145264,
          1.4465930611506095,
          0.025068373987287135,
          -0.7669606770160547,
          -0.5443292144876736,
          1.8675957298506896,
          0.598656129228373,
          -1.4141874887718855,
          -0.22207017252161643,
          -0.5557646921062268,
          0.023795421367580435,
          0.2591414523453681,
          0.16506972348129514,
          -1.6995486727841598,
          0.495897711386881,
          -2.16172874318155,
          0.4695045378281316,
          0.8808506673427354,
          -0.2849864405045829,
          -1.3827658787536463,
          -1.9087429354622187,
          0.5103912430314287,
          -0.569148889572966,
          -0.39583345631377553,
          1.6927286444863971,
          1.3794804856602336,
          1.02340631443928,
          -0.8786847928090047,
          -0.22365353139572725,
          -0.6286343213996785,
          0.1852315531564232,
          0.13414886930901337,
          -1.6146835134016613,
          1.6490844301298115,
          -1.5550285792794807,
          1.344854834805804,
          -1.2139962371553352,
          -1.8529045686615873,
          0.159159120937591,
          1.0210668604863389,
          -0.5824035944285543,
          0.08560547669436594,
          -0.3686773747493008,
          1.214718224277028,
          -0.051241433224650676,
          0.08303529764650347,
          0.9092419090260879,
          -1.0618356396353699,
          -1.3732900879073142,
          -1.751218488708866,
          -0.13388061656749478,
          0.18032175371235448,
          -0.2244659045304318,
          1.1168388101991757,
          -0.5571809881209141,
          -1.577732479354081,
          0.4027152366654449
         ]
        },
        {
         "line": {
          "color": "rgba(55, 128, 191, 1.0)",
          "dash": "solid",
          "shape": "linear",
          "width": 1.3
         },
         "mode": "lines",
         "name": "B",
         "text": "",
         "type": "scatter",
         "x": [
          0,
          1,
          2,
          3,
          4,
          5,
          6,
          7,
          8,
          9,
          10,
          11,
          12,
          13,
          14,
          15,
          16,
          17,
          18,
          19,
          20,
          21,
          22,
          23,
          24,
          25,
          26,
          27,
          28,
          29,
          30,
          31,
          32,
          33,
          34,
          35,
          36,
          37,
          38,
          39,
          40,
          41,
          42,
          43,
          44,
          45,
          46,
          47,
          48,
          49,
          50,
          51,
          52,
          53,
          54,
          55,
          56,
          57,
          58,
          59,
          60,
          61,
          62,
          63,
          64,
          65,
          66,
          67,
          68,
          69,
          70,
          71,
          72,
          73,
          74,
          75,
          76,
          77,
          78,
          79,
          80,
          81,
          82,
          83,
          84,
          85,
          86,
          87,
          88,
          89,
          90,
          91,
          92,
          93,
          94,
          95,
          96,
          97,
          98,
          99
         ],
         "y": [
          0.4280706362665727,
          0.7180418134509058,
          0.039018123521560956,
          -2.223254471201788,
          -0.875572466427057,
          0.31082962918417856,
          0.04164485460440668,
          -1.3375954608338874,
          -1.3405437149873514,
          0.8572242598587281,
          -0.16188928162123553,
          -0.7187491678629951,
          0.3999681853251334,
          -0.8651274609324161,
          1.9398556052996982,
          0.37170042818699983,
          -1.2034611707274985,
          0.8393246337713155,
          0.41155942561230474,
          0.00033315878116852473,
          -1.6639121984076959,
          -1.2939308121993591,
          0.2302461943473713,
          -1.1860250330934174,
          -1.1250630573271623,
          0.3411966117332432,
          -0.08281182615268948,
          0.41842194008398625,
          -1.7521218805724776,
          1.8722464063131021,
          0.9523448471366392,
          0.5797894008773923,
          0.28708326315953325,
          -3.0335772092969595,
          0.12008245165224005,
          -0.9692412532879529,
          1.236861712762151,
          -1.813670708984641,
          -0.6640423586276856,
          2.0857608212633116,
          0.07078185544215489,
          0.13316552342725502,
          1.118793257633992,
          0.22109987484931612,
          0.4816167266503535,
          0.9007965084713055,
          0.23136190333438797,
          -0.6211815746593071,
          1.1791990907833874,
          -1.0184759389708393,
          0.7935063885328861,
          0.4739578995446759,
          -0.22569428492832613,
          2.1111501661267114,
          0.5805731683953766,
          -1.1774151325024085,
          0.4804288376175385,
          0.9389295688799837,
          1.3394547064736422,
          0.09157486827855868,
          0.32021176932753054,
          0.1508485044753879,
          0.0678145670140172,
          0.5951231144203691,
          -1.6454252033113301,
          -1.2999466345158284,
          0.30014825283198915,
          -0.9261425193798055,
          -0.7233485416807636,
          -0.3357183086594954,
          0.7741014105468014,
          -0.9680340081985276,
          -0.6843133483970795,
          0.2208022680602893,
          -0.7041034231797588,
          1.2476835296624578,
          0.36575625493327446,
          -0.7078241513496009,
          0.006963710275013258,
          -0.16294101108078116,
          1.5251683930463749,
          -0.52052292400051,
          0.09330851367827822,
          0.1980403455685616,
          0.16031321326067646,
          0.4522372122430764,
          1.288266420667494,
          -0.08501136423912654,
          -0.537993634388944,
          0.18898741128953095,
          -0.6879271077969086,
          -0.8118986993420849,
          -0.5951301224776799,
          0.849275846698981,
          0.48172786564149733,
          1.389259766341688,
          -0.02855002125459373,
          0.824790991786847,
          0.702338016465698,
          1.2060183630123236
         ]
        },
        {
         "connectgaps": false,
         "fill": "tozeroy",
         "line": {
          "color": "green",
          "dash": "solid",
          "shape": "linear",
          "width": 0.5
         },
         "mode": "lines",
         "name": "Spread",
         "showlegend": false,
         "type": "scatter",
         "x": [
          0,
          1,
          2,
          3,
          4,
          5,
          6,
          7,
          8,
          9,
          10,
          11,
          12,
          13,
          14,
          15,
          16,
          17,
          18,
          19,
          20,
          21,
          22,
          23,
          24,
          25,
          26,
          27,
          28,
          29,
          30,
          31,
          32,
          33,
          34,
          35,
          36,
          37,
          38,
          39,
          40,
          41,
          42,
          43,
          44,
          45,
          46,
          47,
          48,
          49,
          50,
          51,
          52,
          53,
          54,
          55,
          56,
          57,
          58,
          59,
          60,
          61,
          62,
          63,
          64,
          65,
          66,
          67,
          68,
          69,
          70,
          71,
          72,
          73,
          74,
          75,
          76,
          77,
          78,
          79,
          80,
          81,
          82,
          83,
          84,
          85,
          86,
          87,
          88,
          89,
          90,
          91,
          92,
          93,
          94,
          95,
          96,
          97,
          98,
          99
         ],
         "xaxis": "x2",
         "y": [
          0.011441361430081787,
          "",
          "",
          1.6833281394646162,
          "",
          0.5058361275596333,
          "",
          2.068484895804983,
          2.060863002897587,
          "",
          "",
          1.0386030054269877,
          "",
          1.514003191567719,
          "",
          "",
          0.5471030374618664,
          "",
          1.8891292961218438,
          "",
          1.2223542073702396,
          1.2403298505391722,
          "",
          0.8706215742285629,
          0.028479014263767866,
          "",
          "",
          "",
          3.656429856622185,
          "",
          "",
          "",
          "",
          1.3752141269684883,
          0.6958678541493377,
          0.7174291750239121,
          "",
          1.1876147987526555,
          0.34408508997982734,
          "",
          "",
          "",
          "",
          "",
          0.964976334500256,
          "",
          "",
          0.07685236017163355,
          0.6883966390673022,
          1.6171320681992123,
          "",
          "",
          "",
          "",
          "",
          1.3424848559837037,
          "",
          "",
          "",
          0.37792966954957297,
          0.5606388980152048,
          "",
          "",
          "",
          2.155816446342759,
          0.7307977449428623,
          "",
          2.618871163866203,
          2.1028290273409973,
          1.3591246230987755,
          "",
          0.7443804768028004,
          0.055679026997401015,
          "",
          0.8382522924887722,
          "",
          1.283328175196537,
          "",
          1.3378911245307907,
          "",
          "",
          0.679682044938101,
          0.9277583468080607,
          "",
          "",
          "",
          "",
          0.03376993101447587,
          0.6210289320354474,
          0.720254497736557,
          "",
          "",
          "",
          "",
          "",
          "",
          1.1453888314537695,
          "",
          "",
          ""
         ],
         "yaxis": "y2"
        },
        {
         "connectgaps": false,
         "fill": "tozeroy",
         "line": {
          "color": "red",
          "dash": "solid",
          "shape": "linear",
          "width": 0.5
         },
         "mode": "lines",
         "name": "Spread",
         "showlegend": false,
         "type": "scatter",
         "x": [
          0,
          1,
          2,
          3,
          4,
          5,
          6,
          7,
          8,
          9,
          10,
          11,
          12,
          13,
          14,
          15,
          16,
          17,
          18,
          19,
          20,
          21,
          22,
          23,
          24,
          25,
          26,
          27,
          28,
          29,
          30,
          31,
          32,
          33,
          34,
          35,
          36,
          37,
          38,
          39,
          40,
          41,
          42,
          43,
          44,
          45,
          46,
          47,
          48,
          49,
          50,
          51,
          52,
          53,
          54,
          55,
          56,
          57,
          58,
          59,
          60,
          61,
          62,
          63,
          64,
          65,
          66,
          67,
          68,
          69,
          70,
          71,
          72,
          73,
          74,
          75,
          76,
          77,
          78,
          79,
          80,
          81,
          82,
          83,
          84,
          85,
          86,
          87,
          88,
          89,
          90,
          91,
          92,
          93,
          94,
          95,
          96,
          97,
          98,
          99
         ],
         "xaxis": "x2",
         "y": [
          "",
          -0.6978892325620232,
          -0.4130925379658628,
          "",
          -0.26594122227654937,
          "",
          -0.664074608221257,
          "",
          "",
          -2.230989024689098,
          -1.0693008121606145,
          "",
          -0.13648168296944985,
          "",
          -1.94714151245604,
          -1.1282437868732873,
          "",
          -1.111144448795167,
          "",
          -0.001968599449398365,
          "",
          "",
          -0.0820016144812192,
          "",
          "",
          -0.2347876429423006,
          -0.5242678706206,
          -0.645757039275417,
          "",
          -1.7146609580142218,
          -1.7991005956714394,
          -0.6339491645850552,
          -1.2658844230144575,
          "",
          "",
          "",
          -2.069335108923566,
          "",
          "",
          -0.9008556956023741,
          -0.3554502925956229,
          -1.4882697100662527,
          -1.5610687628053834,
          -0.8775603903638426,
          "",
          -0.8757281344840184,
          -0.9983225803504427,
          "",
          "",
          "",
          -2.207693877304772,
          -0.6960280720662924,
          -0.3300704071779007,
          -2.0873547447591307,
          -0.32143171605000853,
          "",
          -2.1799775104016983,
          -0.4430318574931027,
          -3.5011834496551923,
          "",
          "",
          -0.4358349449799708,
          -1.4505804457676634,
          -2.5038660498825878,
          "",
          "",
          -0.6959817091457647,
          "",
          "",
          "",
          -1.652786203355806,
          "",
          "",
          -0.035570714903866096,
          "",
          -2.8623670430641193,
          "",
          -0.8472044279298798,
          "",
          -1.051055226074554,
          -3.378072961707962,
          "",
          "",
          -0.7804439399971159,
          -0.07470773656631052,
          -0.8209145869923772,
          -0.07354819639046606,
          "",
          "",
          "",
          -0.3739085318384613,
          -0.5613913885652293,
          -1.156088366231186,
          -0.9831564632664758,
          -0.30140611192914285,
          -1.6137256708721197,
          "",
          -1.3819719799077612,
          -2.2800704958197793,
          -0.8033031263468786
         ],
         "yaxis": "y2"
        }
       ],
       "layout": {
        "hovermode": "x",
        "legend": {
         "bgcolor": "#F5F6F9",
         "font": {
          "color": "#4D5663"
         }
        },
        "paper_bgcolor": "#F5F6F9",
        "plot_bgcolor": "#F5F6F9",
        "template": {
         "data": {
          "bar": [
           {
            "error_x": {
             "color": "#2a3f5f"
            },
            "error_y": {
             "color": "#2a3f5f"
            },
            "marker": {
             "line": {
              "color": "#E5ECF6",
              "width": 0.5
             },
             "pattern": {
              "fillmode": "overlay",
              "size": 10,
              "solidity": 0.2
             }
            },
            "type": "bar"
           }
          ],
          "barpolar": [
           {
            "marker": {
             "line": {
              "color": "#E5ECF6",
              "width": 0.5
             },
             "pattern": {
              "fillmode": "overlay",
              "size": 10,
              "solidity": 0.2
             }
            },
            "type": "barpolar"
           }
          ],
          "carpet": [
           {
            "aaxis": {
             "endlinecolor": "#2a3f5f",
             "gridcolor": "white",
             "linecolor": "white",
             "minorgridcolor": "white",
             "startlinecolor": "#2a3f5f"
            },
            "baxis": {
             "endlinecolor": "#2a3f5f",
             "gridcolor": "white",
             "linecolor": "white",
             "minorgridcolor": "white",
             "startlinecolor": "#2a3f5f"
            },
            "type": "carpet"
           }
          ],
          "choropleth": [
           {
            "colorbar": {
             "outlinewidth": 0,
             "ticks": ""
            },
            "type": "choropleth"
           }
          ],
          "contour": [
           {
            "colorbar": {
             "outlinewidth": 0,
             "ticks": ""
            },
            "colorscale": [
             [
              0,
              "#0d0887"
             ],
             [
              0.1111111111111111,
              "#46039f"
             ],
             [
              0.2222222222222222,
              "#7201a8"
             ],
             [
              0.3333333333333333,
              "#9c179e"
             ],
             [
              0.4444444444444444,
              "#bd3786"
             ],
             [
              0.5555555555555556,
              "#d8576b"
             ],
             [
              0.6666666666666666,
              "#ed7953"
             ],
             [
              0.7777777777777778,
              "#fb9f3a"
             ],
             [
              0.8888888888888888,
              "#fdca26"
             ],
             [
              1,
              "#f0f921"
             ]
            ],
            "type": "contour"
           }
          ],
          "contourcarpet": [
           {
            "colorbar": {
             "outlinewidth": 0,
             "ticks": ""
            },
            "type": "contourcarpet"
           }
          ],
          "heatmap": [
           {
            "colorbar": {
             "outlinewidth": 0,
             "ticks": ""
            },
            "colorscale": [
             [
              0,
              "#0d0887"
             ],
             [
              0.1111111111111111,
              "#46039f"
             ],
             [
              0.2222222222222222,
              "#7201a8"
             ],
             [
              0.3333333333333333,
              "#9c179e"
             ],
             [
              0.4444444444444444,
              "#bd3786"
             ],
             [
              0.5555555555555556,
              "#d8576b"
             ],
             [
              0.6666666666666666,
              "#ed7953"
             ],
             [
              0.7777777777777778,
              "#fb9f3a"
             ],
             [
              0.8888888888888888,
              "#fdca26"
             ],
             [
              1,
              "#f0f921"
             ]
            ],
            "type": "heatmap"
           }
          ],
          "heatmapgl": [
           {
            "colorbar": {
             "outlinewidth": 0,
             "ticks": ""
            },
            "colorscale": [
             [
              0,
              "#0d0887"
             ],
             [
              0.1111111111111111,
              "#46039f"
             ],
             [
              0.2222222222222222,
              "#7201a8"
             ],
             [
              0.3333333333333333,
              "#9c179e"
             ],
             [
              0.4444444444444444,
              "#bd3786"
             ],
             [
              0.5555555555555556,
              "#d8576b"
             ],
             [
              0.6666666666666666,
              "#ed7953"
             ],
             [
              0.7777777777777778,
              "#fb9f3a"
             ],
             [
              0.8888888888888888,
              "#fdca26"
             ],
             [
              1,
              "#f0f921"
             ]
            ],
            "type": "heatmapgl"
           }
          ],
          "histogram": [
           {
            "marker": {
             "pattern": {
              "fillmode": "overlay",
              "size": 10,
              "solidity": 0.2
             }
            },
            "type": "histogram"
           }
          ],
          "histogram2d": [
           {
            "colorbar": {
             "outlinewidth": 0,
             "ticks": ""
            },
            "colorscale": [
             [
              0,
              "#0d0887"
             ],
             [
              0.1111111111111111,
              "#46039f"
             ],
             [
              0.2222222222222222,
              "#7201a8"
             ],
             [
              0.3333333333333333,
              "#9c179e"
             ],
             [
              0.4444444444444444,
              "#bd3786"
             ],
             [
              0.5555555555555556,
              "#d8576b"
             ],
             [
              0.6666666666666666,
              "#ed7953"
             ],
             [
              0.7777777777777778,
              "#fb9f3a"
             ],
             [
              0.8888888888888888,
              "#fdca26"
             ],
             [
              1,
              "#f0f921"
             ]
            ],
            "type": "histogram2d"
           }
          ],
          "histogram2dcontour": [
           {
            "colorbar": {
             "outlinewidth": 0,
             "ticks": ""
            },
            "colorscale": [
             [
              0,
              "#0d0887"
             ],
             [
              0.1111111111111111,
              "#46039f"
             ],
             [
              0.2222222222222222,
              "#7201a8"
             ],
             [
              0.3333333333333333,
              "#9c179e"
             ],
             [
              0.4444444444444444,
              "#bd3786"
             ],
             [
              0.5555555555555556,
              "#d8576b"
             ],
             [
              0.6666666666666666,
              "#ed7953"
             ],
             [
              0.7777777777777778,
              "#fb9f3a"
             ],
             [
              0.8888888888888888,
              "#fdca26"
             ],
             [
              1,
              "#f0f921"
             ]
            ],
            "type": "histogram2dcontour"
           }
          ],
          "mesh3d": [
           {
            "colorbar": {
             "outlinewidth": 0,
             "ticks": ""
            },
            "type": "mesh3d"
           }
          ],
          "parcoords": [
           {
            "line": {
             "colorbar": {
              "outlinewidth": 0,
              "ticks": ""
             }
            },
            "type": "parcoords"
           }
          ],
          "pie": [
           {
            "automargin": true,
            "type": "pie"
           }
          ],
          "scatter": [
           {
            "marker": {
             "colorbar": {
              "outlinewidth": 0,
              "ticks": ""
             }
            },
            "type": "scatter"
           }
          ],
          "scatter3d": [
           {
            "line": {
             "colorbar": {
              "outlinewidth": 0,
              "ticks": ""
             }
            },
            "marker": {
             "colorbar": {
              "outlinewidth": 0,
              "ticks": ""
             }
            },
            "type": "scatter3d"
           }
          ],
          "scattercarpet": [
           {
            "marker": {
             "colorbar": {
              "outlinewidth": 0,
              "ticks": ""
             }
            },
            "type": "scattercarpet"
           }
          ],
          "scattergeo": [
           {
            "marker": {
             "colorbar": {
              "outlinewidth": 0,
              "ticks": ""
             }
            },
            "type": "scattergeo"
           }
          ],
          "scattergl": [
           {
            "marker": {
             "colorbar": {
              "outlinewidth": 0,
              "ticks": ""
             }
            },
            "type": "scattergl"
           }
          ],
          "scattermapbox": [
           {
            "marker": {
             "colorbar": {
              "outlinewidth": 0,
              "ticks": ""
             }
            },
            "type": "scattermapbox"
           }
          ],
          "scatterpolar": [
           {
            "marker": {
             "colorbar": {
              "outlinewidth": 0,
              "ticks": ""
             }
            },
            "type": "scatterpolar"
           }
          ],
          "scatterpolargl": [
           {
            "marker": {
             "colorbar": {
              "outlinewidth": 0,
              "ticks": ""
             }
            },
            "type": "scatterpolargl"
           }
          ],
          "scatterternary": [
           {
            "marker": {
             "colorbar": {
              "outlinewidth": 0,
              "ticks": ""
             }
            },
            "type": "scatterternary"
           }
          ],
          "surface": [
           {
            "colorbar": {
             "outlinewidth": 0,
             "ticks": ""
            },
            "colorscale": [
             [
              0,
              "#0d0887"
             ],
             [
              0.1111111111111111,
              "#46039f"
             ],
             [
              0.2222222222222222,
              "#7201a8"
             ],
             [
              0.3333333333333333,
              "#9c179e"
             ],
             [
              0.4444444444444444,
              "#bd3786"
             ],
             [
              0.5555555555555556,
              "#d8576b"
             ],
             [
              0.6666666666666666,
              "#ed7953"
             ],
             [
              0.7777777777777778,
              "#fb9f3a"
             ],
             [
              0.8888888888888888,
              "#fdca26"
             ],
             [
              1,
              "#f0f921"
             ]
            ],
            "type": "surface"
           }
          ],
          "table": [
           {
            "cells": {
             "fill": {
              "color": "#EBF0F8"
             },
             "line": {
              "color": "white"
             }
            },
            "header": {
             "fill": {
              "color": "#C8D4E3"
             },
             "line": {
              "color": "white"
             }
            },
            "type": "table"
           }
          ]
         },
         "layout": {
          "annotationdefaults": {
           "arrowcolor": "#2a3f5f",
           "arrowhead": 0,
           "arrowwidth": 1
          },
          "autotypenumbers": "strict",
          "coloraxis": {
           "colorbar": {
            "outlinewidth": 0,
            "ticks": ""
           }
          },
          "colorscale": {
           "diverging": [
            [
             0,
             "#8e0152"
            ],
            [
             0.1,
             "#c51b7d"
            ],
            [
             0.2,
             "#de77ae"
            ],
            [
             0.3,
             "#f1b6da"
            ],
            [
             0.4,
             "#fde0ef"
            ],
            [
             0.5,
             "#f7f7f7"
            ],
            [
             0.6,
             "#e6f5d0"
            ],
            [
             0.7,
             "#b8e186"
            ],
            [
             0.8,
             "#7fbc41"
            ],
            [
             0.9,
             "#4d9221"
            ],
            [
             1,
             "#276419"
            ]
           ],
           "sequential": [
            [
             0,
             "#0d0887"
            ],
            [
             0.1111111111111111,
             "#46039f"
            ],
            [
             0.2222222222222222,
             "#7201a8"
            ],
            [
             0.3333333333333333,
             "#9c179e"
            ],
            [
             0.4444444444444444,
             "#bd3786"
            ],
            [
             0.5555555555555556,
             "#d8576b"
            ],
            [
             0.6666666666666666,
             "#ed7953"
            ],
            [
             0.7777777777777778,
             "#fb9f3a"
            ],
            [
             0.8888888888888888,
             "#fdca26"
            ],
            [
             1,
             "#f0f921"
            ]
           ],
           "sequentialminus": [
            [
             0,
             "#0d0887"
            ],
            [
             0.1111111111111111,
             "#46039f"
            ],
            [
             0.2222222222222222,
             "#7201a8"
            ],
            [
             0.3333333333333333,
             "#9c179e"
            ],
            [
             0.4444444444444444,
             "#bd3786"
            ],
            [
             0.5555555555555556,
             "#d8576b"
            ],
            [
             0.6666666666666666,
             "#ed7953"
            ],
            [
             0.7777777777777778,
             "#fb9f3a"
            ],
            [
             0.8888888888888888,
             "#fdca26"
            ],
            [
             1,
             "#f0f921"
            ]
           ]
          },
          "colorway": [
           "#636efa",
           "#EF553B",
           "#00cc96",
           "#ab63fa",
           "#FFA15A",
           "#19d3f3",
           "#FF6692",
           "#B6E880",
           "#FF97FF",
           "#FECB52"
          ],
          "font": {
           "color": "#2a3f5f"
          },
          "geo": {
           "bgcolor": "white",
           "lakecolor": "white",
           "landcolor": "#E5ECF6",
           "showlakes": true,
           "showland": true,
           "subunitcolor": "white"
          },
          "hoverlabel": {
           "align": "left"
          },
          "hovermode": "closest",
          "mapbox": {
           "style": "light"
          },
          "paper_bgcolor": "white",
          "plot_bgcolor": "#E5ECF6",
          "polar": {
           "angularaxis": {
            "gridcolor": "white",
            "linecolor": "white",
            "ticks": ""
           },
           "bgcolor": "#E5ECF6",
           "radialaxis": {
            "gridcolor": "white",
            "linecolor": "white",
            "ticks": ""
           }
          },
          "scene": {
           "xaxis": {
            "backgroundcolor": "#E5ECF6",
            "gridcolor": "white",
            "gridwidth": 2,
            "linecolor": "white",
            "showbackground": true,
            "ticks": "",
            "zerolinecolor": "white"
           },
           "yaxis": {
            "backgroundcolor": "#E5ECF6",
            "gridcolor": "white",
            "gridwidth": 2,
            "linecolor": "white",
            "showbackground": true,
            "ticks": "",
            "zerolinecolor": "white"
           },
           "zaxis": {
            "backgroundcolor": "#E5ECF6",
            "gridcolor": "white",
            "gridwidth": 2,
            "linecolor": "white",
            "showbackground": true,
            "ticks": "",
            "zerolinecolor": "white"
           }
          },
          "shapedefaults": {
           "line": {
            "color": "#2a3f5f"
           }
          },
          "ternary": {
           "aaxis": {
            "gridcolor": "white",
            "linecolor": "white",
            "ticks": ""
           },
           "baxis": {
            "gridcolor": "white",
            "linecolor": "white",
            "ticks": ""
           },
           "bgcolor": "#E5ECF6",
           "caxis": {
            "gridcolor": "white",
            "linecolor": "white",
            "ticks": ""
           }
          },
          "title": {
           "x": 0.05
          },
          "xaxis": {
           "automargin": true,
           "gridcolor": "white",
           "linecolor": "white",
           "ticks": "",
           "title": {
            "standoff": 15
           },
           "zerolinecolor": "white",
           "zerolinewidth": 2
          },
          "yaxis": {
           "automargin": true,
           "gridcolor": "white",
           "linecolor": "white",
           "ticks": "",
           "title": {
            "standoff": 15
           },
           "zerolinecolor": "white",
           "zerolinewidth": 2
          }
         }
        },
        "title": {
         "font": {
          "color": "#4D5663"
         }
        },
        "xaxis": {
         "gridcolor": "#E1E5ED",
         "showgrid": true,
         "tickfont": {
          "color": "#4D5663"
         },
         "title": {
          "font": {
           "color": "#4D5663"
          },
          "text": ""
         },
         "zerolinecolor": "#E1E5ED"
        },
        "xaxis2": {
         "anchor": "y2",
         "gridcolor": "#E1E5ED",
         "showgrid": true,
         "showticklabels": false,
         "tickfont": {
          "color": "#4D5663"
         },
         "title": {
          "font": {
           "color": "#4D5663"
          },
          "text": ""
         },
         "zerolinecolor": "#E1E5ED"
        },
        "yaxis": {
         "domain": [
          0.3,
          1
         ],
         "gridcolor": "#E1E5ED",
         "showgrid": true,
         "tickfont": {
          "color": "#4D5663"
         },
         "title": {
          "font": {
           "color": "#4D5663"
          },
          "text": ""
         },
         "zerolinecolor": "#E1E5ED"
        },
        "yaxis2": {
         "domain": [
          0,
          0.25
         ],
         "gridcolor": "#E1E5ED",
         "showgrid": true,
         "tickfont": {
          "color": "#4D5663"
         },
         "title": {
          "font": {
           "color": "#4D5663"
          },
          "text": "Spread"
         },
         "zerolinecolor": "#E1E5ED"
        }
       }
      },
      "text/html": [
       "<div>                            <div id=\"543fbe55-87f7-4fc2-8376-2a86fd58de5f\" class=\"plotly-graph-div\" style=\"height:525px; width:100%;\"></div>            <script type=\"text/javascript\">                require([\"plotly\"], function(Plotly) {                    window.PLOTLYENV=window.PLOTLYENV || {};\n",
       "                    window.PLOTLYENV.BASE_URL='https://plot.ly';                                    if (document.getElementById(\"543fbe55-87f7-4fc2-8376-2a86fd58de5f\")) {                    Plotly.newPlot(                        \"543fbe55-87f7-4fc2-8376-2a86fd58de5f\",                        [{\"line\":{\"color\":\"rgba(255, 153, 51, 1.0)\",\"dash\":\"solid\",\"shape\":\"linear\",\"width\":1.3},\"mode\":\"lines\",\"name\":\"A\",\"text\":\"\",\"x\":[0,1,2,3,4,5,6,7,8,9,10,11,12,13,14,15,16,17,18,19,20,21,22,23,24,25,26,27,28,29,30,31,32,33,34,35,36,37,38,39,40,41,42,43,44,45,46,47,48,49,50,51,52,53,54,55,56,57,58,59,60,61,62,63,64,65,66,67,68,69,70,71,72,73,74,75,76,77,78,79,80,81,82,83,84,85,86,87,88,89,90,91,92,93,94,95,96,97,98,99],\"y\":[0.4395119976966545,0.020152580888882565,-0.37407441444430184,-0.539926331737172,-1.1415136887036064,0.8166657567438118,-0.6224297536168503,0.7308894349710953,0.7203192879102357,-1.3737647648303697,-1.23119009378185,0.3198538375639925,0.26348650235568355,0.6488757306353029,-0.00728590715634182,-0.7565433586862875,-0.6563581332656321,-0.2718198150238515,2.3006887217341485,-0.0016354406682298403,-0.44155799103745624,-0.05360096166018684,0.1482445798661521,-0.31540345886485455,-1.0965840430633944,0.10640896879094265,-0.6070796967732894,-0.22733509919143075,1.9043079760497075,0.15758544829888035,-0.8467557485348001,-0.05415976370766293,-0.9788011598549242,-1.6583630823284712,0.8159503058015778,-0.25181207826404073,-0.8324733961614146,-0.6260559102319855,-0.31995726864785823,1.1849051256609375,-0.284668437153468,-1.3551041866389977,-0.44227550517139147,-0.6564605155145264,1.4465930611506095,0.025068373987287135,-0.7669606770160547,-0.5443292144876736,1.8675957298506896,0.598656129228373,-1.4141874887718855,-0.22207017252161643,-0.5557646921062268,0.023795421367580435,0.2591414523453681,0.16506972348129514,-1.6995486727841598,0.495897711386881,-2.16172874318155,0.4695045378281316,0.8808506673427354,-0.2849864405045829,-1.3827658787536463,-1.9087429354622187,0.5103912430314287,-0.569148889572966,-0.39583345631377553,1.6927286444863971,1.3794804856602336,1.02340631443928,-0.8786847928090047,-0.22365353139572725,-0.6286343213996785,0.1852315531564232,0.13414886930901337,-1.6146835134016613,1.6490844301298115,-1.5550285792794807,1.344854834805804,-1.2139962371553352,-1.8529045686615873,0.159159120937591,1.0210668604863389,-0.5824035944285543,0.08560547669436594,-0.3686773747493008,1.214718224277028,-0.051241433224650676,0.08303529764650347,0.9092419090260879,-1.0618356396353699,-1.3732900879073142,-1.751218488708866,-0.13388061656749478,0.18032175371235448,-0.2244659045304318,1.1168388101991757,-0.5571809881209141,-1.577732479354081,0.4027152366654449],\"type\":\"scatter\"},{\"line\":{\"color\":\"rgba(55, 128, 191, 1.0)\",\"dash\":\"solid\",\"shape\":\"linear\",\"width\":1.3},\"mode\":\"lines\",\"name\":\"B\",\"text\":\"\",\"x\":[0,1,2,3,4,5,6,7,8,9,10,11,12,13,14,15,16,17,18,19,20,21,22,23,24,25,26,27,28,29,30,31,32,33,34,35,36,37,38,39,40,41,42,43,44,45,46,47,48,49,50,51,52,53,54,55,56,57,58,59,60,61,62,63,64,65,66,67,68,69,70,71,72,73,74,75,76,77,78,79,80,81,82,83,84,85,86,87,88,89,90,91,92,93,94,95,96,97,98,99],\"y\":[0.4280706362665727,0.7180418134509058,0.039018123521560956,-2.223254471201788,-0.875572466427057,0.31082962918417856,0.04164485460440668,-1.3375954608338874,-1.3405437149873514,0.8572242598587281,-0.16188928162123553,-0.7187491678629951,0.3999681853251334,-0.8651274609324161,1.9398556052996982,0.37170042818699983,-1.2034611707274985,0.8393246337713155,0.41155942561230474,0.00033315878116852473,-1.6639121984076959,-1.2939308121993591,0.2302461943473713,-1.1860250330934174,-1.1250630573271623,0.3411966117332432,-0.08281182615268948,0.41842194008398625,-1.7521218805724776,1.8722464063131021,0.9523448471366392,0.5797894008773923,0.28708326315953325,-3.0335772092969595,0.12008245165224005,-0.9692412532879529,1.236861712762151,-1.813670708984641,-0.6640423586276856,2.0857608212633116,0.07078185544215489,0.13316552342725502,1.118793257633992,0.22109987484931612,0.4816167266503535,0.9007965084713055,0.23136190333438797,-0.6211815746593071,1.1791990907833874,-1.0184759389708393,0.7935063885328861,0.4739578995446759,-0.22569428492832613,2.1111501661267114,0.5805731683953766,-1.1774151325024085,0.4804288376175385,0.9389295688799837,1.3394547064736422,0.09157486827855868,0.32021176932753054,0.1508485044753879,0.0678145670140172,0.5951231144203691,-1.6454252033113301,-1.2999466345158284,0.30014825283198915,-0.9261425193798055,-0.7233485416807636,-0.3357183086594954,0.7741014105468014,-0.9680340081985276,-0.6843133483970795,0.2208022680602893,-0.7041034231797588,1.2476835296624578,0.36575625493327446,-0.7078241513496009,0.006963710275013258,-0.16294101108078116,1.5251683930463749,-0.52052292400051,0.09330851367827822,0.1980403455685616,0.16031321326067646,0.4522372122430764,1.288266420667494,-0.08501136423912654,-0.537993634388944,0.18898741128953095,-0.6879271077969086,-0.8118986993420849,-0.5951301224776799,0.849275846698981,0.48172786564149733,1.389259766341688,-0.02855002125459373,0.824790991786847,0.702338016465698,1.2060183630123236],\"type\":\"scatter\"},{\"connectgaps\":false,\"fill\":\"tozeroy\",\"line\":{\"color\":\"green\",\"dash\":\"solid\",\"shape\":\"linear\",\"width\":0.5},\"mode\":\"lines\",\"name\":\"Spread\",\"showlegend\":false,\"x\":[0,1,2,3,4,5,6,7,8,9,10,11,12,13,14,15,16,17,18,19,20,21,22,23,24,25,26,27,28,29,30,31,32,33,34,35,36,37,38,39,40,41,42,43,44,45,46,47,48,49,50,51,52,53,54,55,56,57,58,59,60,61,62,63,64,65,66,67,68,69,70,71,72,73,74,75,76,77,78,79,80,81,82,83,84,85,86,87,88,89,90,91,92,93,94,95,96,97,98,99],\"xaxis\":\"x2\",\"y\":[0.011441361430081787,\"\",\"\",1.6833281394646162,\"\",0.5058361275596333,\"\",2.068484895804983,2.060863002897587,\"\",\"\",1.0386030054269877,\"\",1.514003191567719,\"\",\"\",0.5471030374618664,\"\",1.8891292961218438,\"\",1.2223542073702396,1.2403298505391722,\"\",0.8706215742285629,0.028479014263767866,\"\",\"\",\"\",3.656429856622185,\"\",\"\",\"\",\"\",1.3752141269684883,0.6958678541493377,0.7174291750239121,\"\",1.1876147987526555,0.34408508997982734,\"\",\"\",\"\",\"\",\"\",0.964976334500256,\"\",\"\",0.07685236017163355,0.6883966390673022,1.6171320681992123,\"\",\"\",\"\",\"\",\"\",1.3424848559837037,\"\",\"\",\"\",0.37792966954957297,0.5606388980152048,\"\",\"\",\"\",2.155816446342759,0.7307977449428623,\"\",2.618871163866203,2.1028290273409973,1.3591246230987755,\"\",0.7443804768028004,0.055679026997401015,\"\",0.8382522924887722,\"\",1.283328175196537,\"\",1.3378911245307907,\"\",\"\",0.679682044938101,0.9277583468080607,\"\",\"\",\"\",\"\",0.03376993101447587,0.6210289320354474,0.720254497736557,\"\",\"\",\"\",\"\",\"\",\"\",1.1453888314537695,\"\",\"\",\"\"],\"yaxis\":\"y2\",\"type\":\"scatter\"},{\"connectgaps\":false,\"fill\":\"tozeroy\",\"line\":{\"color\":\"red\",\"dash\":\"solid\",\"shape\":\"linear\",\"width\":0.5},\"mode\":\"lines\",\"name\":\"Spread\",\"showlegend\":false,\"x\":[0,1,2,3,4,5,6,7,8,9,10,11,12,13,14,15,16,17,18,19,20,21,22,23,24,25,26,27,28,29,30,31,32,33,34,35,36,37,38,39,40,41,42,43,44,45,46,47,48,49,50,51,52,53,54,55,56,57,58,59,60,61,62,63,64,65,66,67,68,69,70,71,72,73,74,75,76,77,78,79,80,81,82,83,84,85,86,87,88,89,90,91,92,93,94,95,96,97,98,99],\"xaxis\":\"x2\",\"y\":[\"\",-0.6978892325620232,-0.4130925379658628,\"\",-0.26594122227654937,\"\",-0.664074608221257,\"\",\"\",-2.230989024689098,-1.0693008121606145,\"\",-0.13648168296944985,\"\",-1.94714151245604,-1.1282437868732873,\"\",-1.111144448795167,\"\",-0.001968599449398365,\"\",\"\",-0.0820016144812192,\"\",\"\",-0.2347876429423006,-0.5242678706206,-0.645757039275417,\"\",-1.7146609580142218,-1.7991005956714394,-0.6339491645850552,-1.2658844230144575,\"\",\"\",\"\",-2.069335108923566,\"\",\"\",-0.9008556956023741,-0.3554502925956229,-1.4882697100662527,-1.5610687628053834,-0.8775603903638426,\"\",-0.8757281344840184,-0.9983225803504427,\"\",\"\",\"\",-2.207693877304772,-0.6960280720662924,-0.3300704071779007,-2.0873547447591307,-0.32143171605000853,\"\",-2.1799775104016983,-0.4430318574931027,-3.5011834496551923,\"\",\"\",-0.4358349449799708,-1.4505804457676634,-2.5038660498825878,\"\",\"\",-0.6959817091457647,\"\",\"\",\"\",-1.652786203355806,\"\",\"\",-0.035570714903866096,\"\",-2.8623670430641193,\"\",-0.8472044279298798,\"\",-1.051055226074554,-3.378072961707962,\"\",\"\",-0.7804439399971159,-0.07470773656631052,-0.8209145869923772,-0.07354819639046606,\"\",\"\",\"\",-0.3739085318384613,-0.5613913885652293,-1.156088366231186,-0.9831564632664758,-0.30140611192914285,-1.6137256708721197,\"\",-1.3819719799077612,-2.2800704958197793,-0.8033031263468786],\"yaxis\":\"y2\",\"type\":\"scatter\"}],                        {\"hovermode\":\"x\",\"legend\":{\"bgcolor\":\"#F5F6F9\",\"font\":{\"color\":\"#4D5663\"}},\"paper_bgcolor\":\"#F5F6F9\",\"plot_bgcolor\":\"#F5F6F9\",\"template\":{\"data\":{\"barpolar\":[{\"marker\":{\"line\":{\"color\":\"#E5ECF6\",\"width\":0.5},\"pattern\":{\"fillmode\":\"overlay\",\"size\":10,\"solidity\":0.2}},\"type\":\"barpolar\"}],\"bar\":[{\"error_x\":{\"color\":\"#2a3f5f\"},\"error_y\":{\"color\":\"#2a3f5f\"},\"marker\":{\"line\":{\"color\":\"#E5ECF6\",\"width\":0.5},\"pattern\":{\"fillmode\":\"overlay\",\"size\":10,\"solidity\":0.2}},\"type\":\"bar\"}],\"carpet\":[{\"aaxis\":{\"endlinecolor\":\"#2a3f5f\",\"gridcolor\":\"white\",\"linecolor\":\"white\",\"minorgridcolor\":\"white\",\"startlinecolor\":\"#2a3f5f\"},\"baxis\":{\"endlinecolor\":\"#2a3f5f\",\"gridcolor\":\"white\",\"linecolor\":\"white\",\"minorgridcolor\":\"white\",\"startlinecolor\":\"#2a3f5f\"},\"type\":\"carpet\"}],\"choropleth\":[{\"colorbar\":{\"outlinewidth\":0,\"ticks\":\"\"},\"type\":\"choropleth\"}],\"contourcarpet\":[{\"colorbar\":{\"outlinewidth\":0,\"ticks\":\"\"},\"type\":\"contourcarpet\"}],\"contour\":[{\"colorbar\":{\"outlinewidth\":0,\"ticks\":\"\"},\"colorscale\":[[0.0,\"#0d0887\"],[0.1111111111111111,\"#46039f\"],[0.2222222222222222,\"#7201a8\"],[0.3333333333333333,\"#9c179e\"],[0.4444444444444444,\"#bd3786\"],[0.5555555555555556,\"#d8576b\"],[0.6666666666666666,\"#ed7953\"],[0.7777777777777778,\"#fb9f3a\"],[0.8888888888888888,\"#fdca26\"],[1.0,\"#f0f921\"]],\"type\":\"contour\"}],\"heatmapgl\":[{\"colorbar\":{\"outlinewidth\":0,\"ticks\":\"\"},\"colorscale\":[[0.0,\"#0d0887\"],[0.1111111111111111,\"#46039f\"],[0.2222222222222222,\"#7201a8\"],[0.3333333333333333,\"#9c179e\"],[0.4444444444444444,\"#bd3786\"],[0.5555555555555556,\"#d8576b\"],[0.6666666666666666,\"#ed7953\"],[0.7777777777777778,\"#fb9f3a\"],[0.8888888888888888,\"#fdca26\"],[1.0,\"#f0f921\"]],\"type\":\"heatmapgl\"}],\"heatmap\":[{\"colorbar\":{\"outlinewidth\":0,\"ticks\":\"\"},\"colorscale\":[[0.0,\"#0d0887\"],[0.1111111111111111,\"#46039f\"],[0.2222222222222222,\"#7201a8\"],[0.3333333333333333,\"#9c179e\"],[0.4444444444444444,\"#bd3786\"],[0.5555555555555556,\"#d8576b\"],[0.6666666666666666,\"#ed7953\"],[0.7777777777777778,\"#fb9f3a\"],[0.8888888888888888,\"#fdca26\"],[1.0,\"#f0f921\"]],\"type\":\"heatmap\"}],\"histogram2dcontour\":[{\"colorbar\":{\"outlinewidth\":0,\"ticks\":\"\"},\"colorscale\":[[0.0,\"#0d0887\"],[0.1111111111111111,\"#46039f\"],[0.2222222222222222,\"#7201a8\"],[0.3333333333333333,\"#9c179e\"],[0.4444444444444444,\"#bd3786\"],[0.5555555555555556,\"#d8576b\"],[0.6666666666666666,\"#ed7953\"],[0.7777777777777778,\"#fb9f3a\"],[0.8888888888888888,\"#fdca26\"],[1.0,\"#f0f921\"]],\"type\":\"histogram2dcontour\"}],\"histogram2d\":[{\"colorbar\":{\"outlinewidth\":0,\"ticks\":\"\"},\"colorscale\":[[0.0,\"#0d0887\"],[0.1111111111111111,\"#46039f\"],[0.2222222222222222,\"#7201a8\"],[0.3333333333333333,\"#9c179e\"],[0.4444444444444444,\"#bd3786\"],[0.5555555555555556,\"#d8576b\"],[0.6666666666666666,\"#ed7953\"],[0.7777777777777778,\"#fb9f3a\"],[0.8888888888888888,\"#fdca26\"],[1.0,\"#f0f921\"]],\"type\":\"histogram2d\"}],\"histogram\":[{\"marker\":{\"pattern\":{\"fillmode\":\"overlay\",\"size\":10,\"solidity\":0.2}},\"type\":\"histogram\"}],\"mesh3d\":[{\"colorbar\":{\"outlinewidth\":0,\"ticks\":\"\"},\"type\":\"mesh3d\"}],\"parcoords\":[{\"line\":{\"colorbar\":{\"outlinewidth\":0,\"ticks\":\"\"}},\"type\":\"parcoords\"}],\"pie\":[{\"automargin\":true,\"type\":\"pie\"}],\"scatter3d\":[{\"line\":{\"colorbar\":{\"outlinewidth\":0,\"ticks\":\"\"}},\"marker\":{\"colorbar\":{\"outlinewidth\":0,\"ticks\":\"\"}},\"type\":\"scatter3d\"}],\"scattercarpet\":[{\"marker\":{\"colorbar\":{\"outlinewidth\":0,\"ticks\":\"\"}},\"type\":\"scattercarpet\"}],\"scattergeo\":[{\"marker\":{\"colorbar\":{\"outlinewidth\":0,\"ticks\":\"\"}},\"type\":\"scattergeo\"}],\"scattergl\":[{\"marker\":{\"colorbar\":{\"outlinewidth\":0,\"ticks\":\"\"}},\"type\":\"scattergl\"}],\"scattermapbox\":[{\"marker\":{\"colorbar\":{\"outlinewidth\":0,\"ticks\":\"\"}},\"type\":\"scattermapbox\"}],\"scatterpolargl\":[{\"marker\":{\"colorbar\":{\"outlinewidth\":0,\"ticks\":\"\"}},\"type\":\"scatterpolargl\"}],\"scatterpolar\":[{\"marker\":{\"colorbar\":{\"outlinewidth\":0,\"ticks\":\"\"}},\"type\":\"scatterpolar\"}],\"scatter\":[{\"marker\":{\"colorbar\":{\"outlinewidth\":0,\"ticks\":\"\"}},\"type\":\"scatter\"}],\"scatterternary\":[{\"marker\":{\"colorbar\":{\"outlinewidth\":0,\"ticks\":\"\"}},\"type\":\"scatterternary\"}],\"surface\":[{\"colorbar\":{\"outlinewidth\":0,\"ticks\":\"\"},\"colorscale\":[[0.0,\"#0d0887\"],[0.1111111111111111,\"#46039f\"],[0.2222222222222222,\"#7201a8\"],[0.3333333333333333,\"#9c179e\"],[0.4444444444444444,\"#bd3786\"],[0.5555555555555556,\"#d8576b\"],[0.6666666666666666,\"#ed7953\"],[0.7777777777777778,\"#fb9f3a\"],[0.8888888888888888,\"#fdca26\"],[1.0,\"#f0f921\"]],\"type\":\"surface\"}],\"table\":[{\"cells\":{\"fill\":{\"color\":\"#EBF0F8\"},\"line\":{\"color\":\"white\"}},\"header\":{\"fill\":{\"color\":\"#C8D4E3\"},\"line\":{\"color\":\"white\"}},\"type\":\"table\"}]},\"layout\":{\"annotationdefaults\":{\"arrowcolor\":\"#2a3f5f\",\"arrowhead\":0,\"arrowwidth\":1},\"autotypenumbers\":\"strict\",\"coloraxis\":{\"colorbar\":{\"outlinewidth\":0,\"ticks\":\"\"}},\"colorscale\":{\"diverging\":[[0,\"#8e0152\"],[0.1,\"#c51b7d\"],[0.2,\"#de77ae\"],[0.3,\"#f1b6da\"],[0.4,\"#fde0ef\"],[0.5,\"#f7f7f7\"],[0.6,\"#e6f5d0\"],[0.7,\"#b8e186\"],[0.8,\"#7fbc41\"],[0.9,\"#4d9221\"],[1,\"#276419\"]],\"sequential\":[[0.0,\"#0d0887\"],[0.1111111111111111,\"#46039f\"],[0.2222222222222222,\"#7201a8\"],[0.3333333333333333,\"#9c179e\"],[0.4444444444444444,\"#bd3786\"],[0.5555555555555556,\"#d8576b\"],[0.6666666666666666,\"#ed7953\"],[0.7777777777777778,\"#fb9f3a\"],[0.8888888888888888,\"#fdca26\"],[1.0,\"#f0f921\"]],\"sequentialminus\":[[0.0,\"#0d0887\"],[0.1111111111111111,\"#46039f\"],[0.2222222222222222,\"#7201a8\"],[0.3333333333333333,\"#9c179e\"],[0.4444444444444444,\"#bd3786\"],[0.5555555555555556,\"#d8576b\"],[0.6666666666666666,\"#ed7953\"],[0.7777777777777778,\"#fb9f3a\"],[0.8888888888888888,\"#fdca26\"],[1.0,\"#f0f921\"]]},\"colorway\":[\"#636efa\",\"#EF553B\",\"#00cc96\",\"#ab63fa\",\"#FFA15A\",\"#19d3f3\",\"#FF6692\",\"#B6E880\",\"#FF97FF\",\"#FECB52\"],\"font\":{\"color\":\"#2a3f5f\"},\"geo\":{\"bgcolor\":\"white\",\"lakecolor\":\"white\",\"landcolor\":\"#E5ECF6\",\"showlakes\":true,\"showland\":true,\"subunitcolor\":\"white\"},\"hoverlabel\":{\"align\":\"left\"},\"hovermode\":\"closest\",\"mapbox\":{\"style\":\"light\"},\"paper_bgcolor\":\"white\",\"plot_bgcolor\":\"#E5ECF6\",\"polar\":{\"angularaxis\":{\"gridcolor\":\"white\",\"linecolor\":\"white\",\"ticks\":\"\"},\"bgcolor\":\"#E5ECF6\",\"radialaxis\":{\"gridcolor\":\"white\",\"linecolor\":\"white\",\"ticks\":\"\"}},\"scene\":{\"xaxis\":{\"backgroundcolor\":\"#E5ECF6\",\"gridcolor\":\"white\",\"gridwidth\":2,\"linecolor\":\"white\",\"showbackground\":true,\"ticks\":\"\",\"zerolinecolor\":\"white\"},\"yaxis\":{\"backgroundcolor\":\"#E5ECF6\",\"gridcolor\":\"white\",\"gridwidth\":2,\"linecolor\":\"white\",\"showbackground\":true,\"ticks\":\"\",\"zerolinecolor\":\"white\"},\"zaxis\":{\"backgroundcolor\":\"#E5ECF6\",\"gridcolor\":\"white\",\"gridwidth\":2,\"linecolor\":\"white\",\"showbackground\":true,\"ticks\":\"\",\"zerolinecolor\":\"white\"}},\"shapedefaults\":{\"line\":{\"color\":\"#2a3f5f\"}},\"ternary\":{\"aaxis\":{\"gridcolor\":\"white\",\"linecolor\":\"white\",\"ticks\":\"\"},\"baxis\":{\"gridcolor\":\"white\",\"linecolor\":\"white\",\"ticks\":\"\"},\"bgcolor\":\"#E5ECF6\",\"caxis\":{\"gridcolor\":\"white\",\"linecolor\":\"white\",\"ticks\":\"\"}},\"title\":{\"x\":0.05},\"xaxis\":{\"automargin\":true,\"gridcolor\":\"white\",\"linecolor\":\"white\",\"ticks\":\"\",\"title\":{\"standoff\":15},\"zerolinecolor\":\"white\",\"zerolinewidth\":2},\"yaxis\":{\"automargin\":true,\"gridcolor\":\"white\",\"linecolor\":\"white\",\"ticks\":\"\",\"title\":{\"standoff\":15},\"zerolinecolor\":\"white\",\"zerolinewidth\":2}}},\"title\":{\"font\":{\"color\":\"#4D5663\"}},\"xaxis\":{\"gridcolor\":\"#E1E5ED\",\"showgrid\":true,\"tickfont\":{\"color\":\"#4D5663\"},\"title\":{\"font\":{\"color\":\"#4D5663\"},\"text\":\"\"},\"zerolinecolor\":\"#E1E5ED\"},\"yaxis\":{\"domain\":[0.3,1],\"gridcolor\":\"#E1E5ED\",\"showgrid\":true,\"tickfont\":{\"color\":\"#4D5663\"},\"title\":{\"font\":{\"color\":\"#4D5663\"},\"text\":\"\"},\"zerolinecolor\":\"#E1E5ED\"},\"yaxis2\":{\"domain\":[0,0.25],\"gridcolor\":\"#E1E5ED\",\"showgrid\":true,\"tickfont\":{\"color\":\"#4D5663\"},\"title\":{\"font\":{\"color\":\"#4D5663\"},\"text\":\"Spread\"},\"zerolinecolor\":\"#E1E5ED\"},\"xaxis2\":{\"anchor\":\"y2\",\"gridcolor\":\"#E1E5ED\",\"showgrid\":true,\"showticklabels\":false,\"tickfont\":{\"color\":\"#4D5663\"},\"title\":{\"font\":{\"color\":\"#4D5663\"},\"text\":\"\"},\"zerolinecolor\":\"#E1E5ED\"}},                        {\"showLink\": true, \"linkText\": \"Export to plot.ly\", \"plotlyServerURL\": \"https://plot.ly\", \"responsive\": true}                    ).then(function(){\n",
       "                            \n",
       "var gd = document.getElementById('543fbe55-87f7-4fc2-8376-2a86fd58de5f');\n",
       "var x = new MutationObserver(function (mutations, observer) {{\n",
       "        var display = window.getComputedStyle(gd).display;\n",
       "        if (!display || display === 'none') {{\n",
       "            console.log([gd, 'removed!']);\n",
       "            Plotly.purge(gd);\n",
       "            observer.disconnect();\n",
       "        }}\n",
       "}});\n",
       "\n",
       "// Listen for the removal of the full notebook cells\n",
       "var notebookContainer = gd.closest('#notebook-container');\n",
       "if (notebookContainer) {{\n",
       "    x.observe(notebookContainer, {childList: true});\n",
       "}}\n",
       "\n",
       "// Listen for the clearing of the current output cell\n",
       "var outputEl = gd.closest('.output');\n",
       "if (outputEl) {{\n",
       "    x.observe(outputEl, {childList: true});\n",
       "}}\n",
       "\n",
       "                        })                };                });            </script>        </div>"
      ]
     },
     "metadata": {},
     "output_type": "display_data"
    }
   ],
   "source": [
    "df[['A','B']].iplot(kind='spread')"
   ]
  },
  {
   "cell_type": "markdown",
   "metadata": {},
   "source": [
    "## histogram"
   ]
  },
  {
   "cell_type": "code",
   "execution_count": 16,
   "metadata": {},
   "outputs": [
    {
     "data": {
      "application/vnd.plotly.v1+json": {
       "config": {
        "linkText": "Export to plot.ly",
        "plotlyServerURL": "https://plot.ly",
        "showLink": true
       },
       "data": [
        {
         "histfunc": "count",
         "histnorm": "",
         "marker": {
          "color": "rgba(255, 153, 51, 1.0)",
          "line": {
           "color": "#4D5663",
           "width": 1.3
          }
         },
         "name": "A",
         "nbinsx": 25,
         "opacity": 0.8,
         "orientation": "v",
         "type": "histogram",
         "x": [
          0.4395119976966545,
          0.020152580888882565,
          -0.37407441444430184,
          -0.539926331737172,
          -1.1415136887036064,
          0.8166657567438118,
          -0.6224297536168503,
          0.7308894349710953,
          0.7203192879102357,
          -1.3737647648303697,
          -1.23119009378185,
          0.3198538375639925,
          0.26348650235568355,
          0.6488757306353029,
          -0.00728590715634182,
          -0.7565433586862875,
          -0.6563581332656321,
          -0.2718198150238515,
          2.3006887217341485,
          -0.0016354406682298403,
          -0.44155799103745624,
          -0.05360096166018684,
          0.1482445798661521,
          -0.31540345886485455,
          -1.0965840430633944,
          0.10640896879094265,
          -0.6070796967732894,
          -0.22733509919143075,
          1.9043079760497075,
          0.15758544829888035,
          -0.8467557485348001,
          -0.05415976370766293,
          -0.9788011598549242,
          -1.6583630823284712,
          0.8159503058015778,
          -0.25181207826404073,
          -0.8324733961614146,
          -0.6260559102319855,
          -0.31995726864785823,
          1.1849051256609375,
          -0.284668437153468,
          -1.3551041866389977,
          -0.44227550517139147,
          -0.6564605155145264,
          1.4465930611506095,
          0.025068373987287135,
          -0.7669606770160547,
          -0.5443292144876736,
          1.8675957298506896,
          0.598656129228373,
          -1.4141874887718855,
          -0.22207017252161643,
          -0.5557646921062268,
          0.023795421367580435,
          0.2591414523453681,
          0.16506972348129514,
          -1.6995486727841598,
          0.495897711386881,
          -2.16172874318155,
          0.4695045378281316,
          0.8808506673427354,
          -0.2849864405045829,
          -1.3827658787536463,
          -1.9087429354622187,
          0.5103912430314287,
          -0.569148889572966,
          -0.39583345631377553,
          1.6927286444863971,
          1.3794804856602336,
          1.02340631443928,
          -0.8786847928090047,
          -0.22365353139572725,
          -0.6286343213996785,
          0.1852315531564232,
          0.13414886930901337,
          -1.6146835134016613,
          1.6490844301298115,
          -1.5550285792794807,
          1.344854834805804,
          -1.2139962371553352,
          -1.8529045686615873,
          0.159159120937591,
          1.0210668604863389,
          -0.5824035944285543,
          0.08560547669436594,
          -0.3686773747493008,
          1.214718224277028,
          -0.051241433224650676,
          0.08303529764650347,
          0.9092419090260879,
          -1.0618356396353699,
          -1.3732900879073142,
          -1.751218488708866,
          -0.13388061656749478,
          0.18032175371235448,
          -0.2244659045304318,
          1.1168388101991757,
          -0.5571809881209141,
          -1.577732479354081,
          0.4027152366654449
         ]
        }
       ],
       "layout": {
        "barmode": "overlay",
        "legend": {
         "bgcolor": "#F5F6F9",
         "font": {
          "color": "#4D5663"
         }
        },
        "paper_bgcolor": "#F5F6F9",
        "plot_bgcolor": "#F5F6F9",
        "template": {
         "data": {
          "bar": [
           {
            "error_x": {
             "color": "#2a3f5f"
            },
            "error_y": {
             "color": "#2a3f5f"
            },
            "marker": {
             "line": {
              "color": "#E5ECF6",
              "width": 0.5
             },
             "pattern": {
              "fillmode": "overlay",
              "size": 10,
              "solidity": 0.2
             }
            },
            "type": "bar"
           }
          ],
          "barpolar": [
           {
            "marker": {
             "line": {
              "color": "#E5ECF6",
              "width": 0.5
             },
             "pattern": {
              "fillmode": "overlay",
              "size": 10,
              "solidity": 0.2
             }
            },
            "type": "barpolar"
           }
          ],
          "carpet": [
           {
            "aaxis": {
             "endlinecolor": "#2a3f5f",
             "gridcolor": "white",
             "linecolor": "white",
             "minorgridcolor": "white",
             "startlinecolor": "#2a3f5f"
            },
            "baxis": {
             "endlinecolor": "#2a3f5f",
             "gridcolor": "white",
             "linecolor": "white",
             "minorgridcolor": "white",
             "startlinecolor": "#2a3f5f"
            },
            "type": "carpet"
           }
          ],
          "choropleth": [
           {
            "colorbar": {
             "outlinewidth": 0,
             "ticks": ""
            },
            "type": "choropleth"
           }
          ],
          "contour": [
           {
            "colorbar": {
             "outlinewidth": 0,
             "ticks": ""
            },
            "colorscale": [
             [
              0,
              "#0d0887"
             ],
             [
              0.1111111111111111,
              "#46039f"
             ],
             [
              0.2222222222222222,
              "#7201a8"
             ],
             [
              0.3333333333333333,
              "#9c179e"
             ],
             [
              0.4444444444444444,
              "#bd3786"
             ],
             [
              0.5555555555555556,
              "#d8576b"
             ],
             [
              0.6666666666666666,
              "#ed7953"
             ],
             [
              0.7777777777777778,
              "#fb9f3a"
             ],
             [
              0.8888888888888888,
              "#fdca26"
             ],
             [
              1,
              "#f0f921"
             ]
            ],
            "type": "contour"
           }
          ],
          "contourcarpet": [
           {
            "colorbar": {
             "outlinewidth": 0,
             "ticks": ""
            },
            "type": "contourcarpet"
           }
          ],
          "heatmap": [
           {
            "colorbar": {
             "outlinewidth": 0,
             "ticks": ""
            },
            "colorscale": [
             [
              0,
              "#0d0887"
             ],
             [
              0.1111111111111111,
              "#46039f"
             ],
             [
              0.2222222222222222,
              "#7201a8"
             ],
             [
              0.3333333333333333,
              "#9c179e"
             ],
             [
              0.4444444444444444,
              "#bd3786"
             ],
             [
              0.5555555555555556,
              "#d8576b"
             ],
             [
              0.6666666666666666,
              "#ed7953"
             ],
             [
              0.7777777777777778,
              "#fb9f3a"
             ],
             [
              0.8888888888888888,
              "#fdca26"
             ],
             [
              1,
              "#f0f921"
             ]
            ],
            "type": "heatmap"
           }
          ],
          "heatmapgl": [
           {
            "colorbar": {
             "outlinewidth": 0,
             "ticks": ""
            },
            "colorscale": [
             [
              0,
              "#0d0887"
             ],
             [
              0.1111111111111111,
              "#46039f"
             ],
             [
              0.2222222222222222,
              "#7201a8"
             ],
             [
              0.3333333333333333,
              "#9c179e"
             ],
             [
              0.4444444444444444,
              "#bd3786"
             ],
             [
              0.5555555555555556,
              "#d8576b"
             ],
             [
              0.6666666666666666,
              "#ed7953"
             ],
             [
              0.7777777777777778,
              "#fb9f3a"
             ],
             [
              0.8888888888888888,
              "#fdca26"
             ],
             [
              1,
              "#f0f921"
             ]
            ],
            "type": "heatmapgl"
           }
          ],
          "histogram": [
           {
            "marker": {
             "pattern": {
              "fillmode": "overlay",
              "size": 10,
              "solidity": 0.2
             }
            },
            "type": "histogram"
           }
          ],
          "histogram2d": [
           {
            "colorbar": {
             "outlinewidth": 0,
             "ticks": ""
            },
            "colorscale": [
             [
              0,
              "#0d0887"
             ],
             [
              0.1111111111111111,
              "#46039f"
             ],
             [
              0.2222222222222222,
              "#7201a8"
             ],
             [
              0.3333333333333333,
              "#9c179e"
             ],
             [
              0.4444444444444444,
              "#bd3786"
             ],
             [
              0.5555555555555556,
              "#d8576b"
             ],
             [
              0.6666666666666666,
              "#ed7953"
             ],
             [
              0.7777777777777778,
              "#fb9f3a"
             ],
             [
              0.8888888888888888,
              "#fdca26"
             ],
             [
              1,
              "#f0f921"
             ]
            ],
            "type": "histogram2d"
           }
          ],
          "histogram2dcontour": [
           {
            "colorbar": {
             "outlinewidth": 0,
             "ticks": ""
            },
            "colorscale": [
             [
              0,
              "#0d0887"
             ],
             [
              0.1111111111111111,
              "#46039f"
             ],
             [
              0.2222222222222222,
              "#7201a8"
             ],
             [
              0.3333333333333333,
              "#9c179e"
             ],
             [
              0.4444444444444444,
              "#bd3786"
             ],
             [
              0.5555555555555556,
              "#d8576b"
             ],
             [
              0.6666666666666666,
              "#ed7953"
             ],
             [
              0.7777777777777778,
              "#fb9f3a"
             ],
             [
              0.8888888888888888,
              "#fdca26"
             ],
             [
              1,
              "#f0f921"
             ]
            ],
            "type": "histogram2dcontour"
           }
          ],
          "mesh3d": [
           {
            "colorbar": {
             "outlinewidth": 0,
             "ticks": ""
            },
            "type": "mesh3d"
           }
          ],
          "parcoords": [
           {
            "line": {
             "colorbar": {
              "outlinewidth": 0,
              "ticks": ""
             }
            },
            "type": "parcoords"
           }
          ],
          "pie": [
           {
            "automargin": true,
            "type": "pie"
           }
          ],
          "scatter": [
           {
            "marker": {
             "colorbar": {
              "outlinewidth": 0,
              "ticks": ""
             }
            },
            "type": "scatter"
           }
          ],
          "scatter3d": [
           {
            "line": {
             "colorbar": {
              "outlinewidth": 0,
              "ticks": ""
             }
            },
            "marker": {
             "colorbar": {
              "outlinewidth": 0,
              "ticks": ""
             }
            },
            "type": "scatter3d"
           }
          ],
          "scattercarpet": [
           {
            "marker": {
             "colorbar": {
              "outlinewidth": 0,
              "ticks": ""
             }
            },
            "type": "scattercarpet"
           }
          ],
          "scattergeo": [
           {
            "marker": {
             "colorbar": {
              "outlinewidth": 0,
              "ticks": ""
             }
            },
            "type": "scattergeo"
           }
          ],
          "scattergl": [
           {
            "marker": {
             "colorbar": {
              "outlinewidth": 0,
              "ticks": ""
             }
            },
            "type": "scattergl"
           }
          ],
          "scattermapbox": [
           {
            "marker": {
             "colorbar": {
              "outlinewidth": 0,
              "ticks": ""
             }
            },
            "type": "scattermapbox"
           }
          ],
          "scatterpolar": [
           {
            "marker": {
             "colorbar": {
              "outlinewidth": 0,
              "ticks": ""
             }
            },
            "type": "scatterpolar"
           }
          ],
          "scatterpolargl": [
           {
            "marker": {
             "colorbar": {
              "outlinewidth": 0,
              "ticks": ""
             }
            },
            "type": "scatterpolargl"
           }
          ],
          "scatterternary": [
           {
            "marker": {
             "colorbar": {
              "outlinewidth": 0,
              "ticks": ""
             }
            },
            "type": "scatterternary"
           }
          ],
          "surface": [
           {
            "colorbar": {
             "outlinewidth": 0,
             "ticks": ""
            },
            "colorscale": [
             [
              0,
              "#0d0887"
             ],
             [
              0.1111111111111111,
              "#46039f"
             ],
             [
              0.2222222222222222,
              "#7201a8"
             ],
             [
              0.3333333333333333,
              "#9c179e"
             ],
             [
              0.4444444444444444,
              "#bd3786"
             ],
             [
              0.5555555555555556,
              "#d8576b"
             ],
             [
              0.6666666666666666,
              "#ed7953"
             ],
             [
              0.7777777777777778,
              "#fb9f3a"
             ],
             [
              0.8888888888888888,
              "#fdca26"
             ],
             [
              1,
              "#f0f921"
             ]
            ],
            "type": "surface"
           }
          ],
          "table": [
           {
            "cells": {
             "fill": {
              "color": "#EBF0F8"
             },
             "line": {
              "color": "white"
             }
            },
            "header": {
             "fill": {
              "color": "#C8D4E3"
             },
             "line": {
              "color": "white"
             }
            },
            "type": "table"
           }
          ]
         },
         "layout": {
          "annotationdefaults": {
           "arrowcolor": "#2a3f5f",
           "arrowhead": 0,
           "arrowwidth": 1
          },
          "autotypenumbers": "strict",
          "coloraxis": {
           "colorbar": {
            "outlinewidth": 0,
            "ticks": ""
           }
          },
          "colorscale": {
           "diverging": [
            [
             0,
             "#8e0152"
            ],
            [
             0.1,
             "#c51b7d"
            ],
            [
             0.2,
             "#de77ae"
            ],
            [
             0.3,
             "#f1b6da"
            ],
            [
             0.4,
             "#fde0ef"
            ],
            [
             0.5,
             "#f7f7f7"
            ],
            [
             0.6,
             "#e6f5d0"
            ],
            [
             0.7,
             "#b8e186"
            ],
            [
             0.8,
             "#7fbc41"
            ],
            [
             0.9,
             "#4d9221"
            ],
            [
             1,
             "#276419"
            ]
           ],
           "sequential": [
            [
             0,
             "#0d0887"
            ],
            [
             0.1111111111111111,
             "#46039f"
            ],
            [
             0.2222222222222222,
             "#7201a8"
            ],
            [
             0.3333333333333333,
             "#9c179e"
            ],
            [
             0.4444444444444444,
             "#bd3786"
            ],
            [
             0.5555555555555556,
             "#d8576b"
            ],
            [
             0.6666666666666666,
             "#ed7953"
            ],
            [
             0.7777777777777778,
             "#fb9f3a"
            ],
            [
             0.8888888888888888,
             "#fdca26"
            ],
            [
             1,
             "#f0f921"
            ]
           ],
           "sequentialminus": [
            [
             0,
             "#0d0887"
            ],
            [
             0.1111111111111111,
             "#46039f"
            ],
            [
             0.2222222222222222,
             "#7201a8"
            ],
            [
             0.3333333333333333,
             "#9c179e"
            ],
            [
             0.4444444444444444,
             "#bd3786"
            ],
            [
             0.5555555555555556,
             "#d8576b"
            ],
            [
             0.6666666666666666,
             "#ed7953"
            ],
            [
             0.7777777777777778,
             "#fb9f3a"
            ],
            [
             0.8888888888888888,
             "#fdca26"
            ],
            [
             1,
             "#f0f921"
            ]
           ]
          },
          "colorway": [
           "#636efa",
           "#EF553B",
           "#00cc96",
           "#ab63fa",
           "#FFA15A",
           "#19d3f3",
           "#FF6692",
           "#B6E880",
           "#FF97FF",
           "#FECB52"
          ],
          "font": {
           "color": "#2a3f5f"
          },
          "geo": {
           "bgcolor": "white",
           "lakecolor": "white",
           "landcolor": "#E5ECF6",
           "showlakes": true,
           "showland": true,
           "subunitcolor": "white"
          },
          "hoverlabel": {
           "align": "left"
          },
          "hovermode": "closest",
          "mapbox": {
           "style": "light"
          },
          "paper_bgcolor": "white",
          "plot_bgcolor": "#E5ECF6",
          "polar": {
           "angularaxis": {
            "gridcolor": "white",
            "linecolor": "white",
            "ticks": ""
           },
           "bgcolor": "#E5ECF6",
           "radialaxis": {
            "gridcolor": "white",
            "linecolor": "white",
            "ticks": ""
           }
          },
          "scene": {
           "xaxis": {
            "backgroundcolor": "#E5ECF6",
            "gridcolor": "white",
            "gridwidth": 2,
            "linecolor": "white",
            "showbackground": true,
            "ticks": "",
            "zerolinecolor": "white"
           },
           "yaxis": {
            "backgroundcolor": "#E5ECF6",
            "gridcolor": "white",
            "gridwidth": 2,
            "linecolor": "white",
            "showbackground": true,
            "ticks": "",
            "zerolinecolor": "white"
           },
           "zaxis": {
            "backgroundcolor": "#E5ECF6",
            "gridcolor": "white",
            "gridwidth": 2,
            "linecolor": "white",
            "showbackground": true,
            "ticks": "",
            "zerolinecolor": "white"
           }
          },
          "shapedefaults": {
           "line": {
            "color": "#2a3f5f"
           }
          },
          "ternary": {
           "aaxis": {
            "gridcolor": "white",
            "linecolor": "white",
            "ticks": ""
           },
           "baxis": {
            "gridcolor": "white",
            "linecolor": "white",
            "ticks": ""
           },
           "bgcolor": "#E5ECF6",
           "caxis": {
            "gridcolor": "white",
            "linecolor": "white",
            "ticks": ""
           }
          },
          "title": {
           "x": 0.05
          },
          "xaxis": {
           "automargin": true,
           "gridcolor": "white",
           "linecolor": "white",
           "ticks": "",
           "title": {
            "standoff": 15
           },
           "zerolinecolor": "white",
           "zerolinewidth": 2
          },
          "yaxis": {
           "automargin": true,
           "gridcolor": "white",
           "linecolor": "white",
           "ticks": "",
           "title": {
            "standoff": 15
           },
           "zerolinecolor": "white",
           "zerolinewidth": 2
          }
         }
        },
        "title": {
         "font": {
          "color": "#4D5663"
         }
        },
        "xaxis": {
         "gridcolor": "#E1E5ED",
         "showgrid": true,
         "tickfont": {
          "color": "#4D5663"
         },
         "title": {
          "font": {
           "color": "#4D5663"
          },
          "text": ""
         },
         "zerolinecolor": "#E1E5ED"
        },
        "yaxis": {
         "gridcolor": "#E1E5ED",
         "showgrid": true,
         "tickfont": {
          "color": "#4D5663"
         },
         "title": {
          "font": {
           "color": "#4D5663"
          },
          "text": ""
         },
         "zerolinecolor": "#E1E5ED"
        }
       }
      },
      "text/html": [
       "<div>                            <div id=\"a975ac9d-e151-4ab0-903e-baec1df580b0\" class=\"plotly-graph-div\" style=\"height:525px; width:100%;\"></div>            <script type=\"text/javascript\">                require([\"plotly\"], function(Plotly) {                    window.PLOTLYENV=window.PLOTLYENV || {};\n",
       "                    window.PLOTLYENV.BASE_URL='https://plot.ly';                                    if (document.getElementById(\"a975ac9d-e151-4ab0-903e-baec1df580b0\")) {                    Plotly.newPlot(                        \"a975ac9d-e151-4ab0-903e-baec1df580b0\",                        [{\"histfunc\":\"count\",\"histnorm\":\"\",\"marker\":{\"color\":\"rgba(255, 153, 51, 1.0)\",\"line\":{\"color\":\"#4D5663\",\"width\":1.3}},\"name\":\"A\",\"nbinsx\":25,\"opacity\":0.8,\"orientation\":\"v\",\"x\":[0.4395119976966545,0.020152580888882565,-0.37407441444430184,-0.539926331737172,-1.1415136887036064,0.8166657567438118,-0.6224297536168503,0.7308894349710953,0.7203192879102357,-1.3737647648303697,-1.23119009378185,0.3198538375639925,0.26348650235568355,0.6488757306353029,-0.00728590715634182,-0.7565433586862875,-0.6563581332656321,-0.2718198150238515,2.3006887217341485,-0.0016354406682298403,-0.44155799103745624,-0.05360096166018684,0.1482445798661521,-0.31540345886485455,-1.0965840430633944,0.10640896879094265,-0.6070796967732894,-0.22733509919143075,1.9043079760497075,0.15758544829888035,-0.8467557485348001,-0.05415976370766293,-0.9788011598549242,-1.6583630823284712,0.8159503058015778,-0.25181207826404073,-0.8324733961614146,-0.6260559102319855,-0.31995726864785823,1.1849051256609375,-0.284668437153468,-1.3551041866389977,-0.44227550517139147,-0.6564605155145264,1.4465930611506095,0.025068373987287135,-0.7669606770160547,-0.5443292144876736,1.8675957298506896,0.598656129228373,-1.4141874887718855,-0.22207017252161643,-0.5557646921062268,0.023795421367580435,0.2591414523453681,0.16506972348129514,-1.6995486727841598,0.495897711386881,-2.16172874318155,0.4695045378281316,0.8808506673427354,-0.2849864405045829,-1.3827658787536463,-1.9087429354622187,0.5103912430314287,-0.569148889572966,-0.39583345631377553,1.6927286444863971,1.3794804856602336,1.02340631443928,-0.8786847928090047,-0.22365353139572725,-0.6286343213996785,0.1852315531564232,0.13414886930901337,-1.6146835134016613,1.6490844301298115,-1.5550285792794807,1.344854834805804,-1.2139962371553352,-1.8529045686615873,0.159159120937591,1.0210668604863389,-0.5824035944285543,0.08560547669436594,-0.3686773747493008,1.214718224277028,-0.051241433224650676,0.08303529764650347,0.9092419090260879,-1.0618356396353699,-1.3732900879073142,-1.751218488708866,-0.13388061656749478,0.18032175371235448,-0.2244659045304318,1.1168388101991757,-0.5571809881209141,-1.577732479354081,0.4027152366654449],\"type\":\"histogram\"}],                        {\"barmode\":\"overlay\",\"legend\":{\"bgcolor\":\"#F5F6F9\",\"font\":{\"color\":\"#4D5663\"}},\"paper_bgcolor\":\"#F5F6F9\",\"plot_bgcolor\":\"#F5F6F9\",\"template\":{\"data\":{\"barpolar\":[{\"marker\":{\"line\":{\"color\":\"#E5ECF6\",\"width\":0.5},\"pattern\":{\"fillmode\":\"overlay\",\"size\":10,\"solidity\":0.2}},\"type\":\"barpolar\"}],\"bar\":[{\"error_x\":{\"color\":\"#2a3f5f\"},\"error_y\":{\"color\":\"#2a3f5f\"},\"marker\":{\"line\":{\"color\":\"#E5ECF6\",\"width\":0.5},\"pattern\":{\"fillmode\":\"overlay\",\"size\":10,\"solidity\":0.2}},\"type\":\"bar\"}],\"carpet\":[{\"aaxis\":{\"endlinecolor\":\"#2a3f5f\",\"gridcolor\":\"white\",\"linecolor\":\"white\",\"minorgridcolor\":\"white\",\"startlinecolor\":\"#2a3f5f\"},\"baxis\":{\"endlinecolor\":\"#2a3f5f\",\"gridcolor\":\"white\",\"linecolor\":\"white\",\"minorgridcolor\":\"white\",\"startlinecolor\":\"#2a3f5f\"},\"type\":\"carpet\"}],\"choropleth\":[{\"colorbar\":{\"outlinewidth\":0,\"ticks\":\"\"},\"type\":\"choropleth\"}],\"contourcarpet\":[{\"colorbar\":{\"outlinewidth\":0,\"ticks\":\"\"},\"type\":\"contourcarpet\"}],\"contour\":[{\"colorbar\":{\"outlinewidth\":0,\"ticks\":\"\"},\"colorscale\":[[0.0,\"#0d0887\"],[0.1111111111111111,\"#46039f\"],[0.2222222222222222,\"#7201a8\"],[0.3333333333333333,\"#9c179e\"],[0.4444444444444444,\"#bd3786\"],[0.5555555555555556,\"#d8576b\"],[0.6666666666666666,\"#ed7953\"],[0.7777777777777778,\"#fb9f3a\"],[0.8888888888888888,\"#fdca26\"],[1.0,\"#f0f921\"]],\"type\":\"contour\"}],\"heatmapgl\":[{\"colorbar\":{\"outlinewidth\":0,\"ticks\":\"\"},\"colorscale\":[[0.0,\"#0d0887\"],[0.1111111111111111,\"#46039f\"],[0.2222222222222222,\"#7201a8\"],[0.3333333333333333,\"#9c179e\"],[0.4444444444444444,\"#bd3786\"],[0.5555555555555556,\"#d8576b\"],[0.6666666666666666,\"#ed7953\"],[0.7777777777777778,\"#fb9f3a\"],[0.8888888888888888,\"#fdca26\"],[1.0,\"#f0f921\"]],\"type\":\"heatmapgl\"}],\"heatmap\":[{\"colorbar\":{\"outlinewidth\":0,\"ticks\":\"\"},\"colorscale\":[[0.0,\"#0d0887\"],[0.1111111111111111,\"#46039f\"],[0.2222222222222222,\"#7201a8\"],[0.3333333333333333,\"#9c179e\"],[0.4444444444444444,\"#bd3786\"],[0.5555555555555556,\"#d8576b\"],[0.6666666666666666,\"#ed7953\"],[0.7777777777777778,\"#fb9f3a\"],[0.8888888888888888,\"#fdca26\"],[1.0,\"#f0f921\"]],\"type\":\"heatmap\"}],\"histogram2dcontour\":[{\"colorbar\":{\"outlinewidth\":0,\"ticks\":\"\"},\"colorscale\":[[0.0,\"#0d0887\"],[0.1111111111111111,\"#46039f\"],[0.2222222222222222,\"#7201a8\"],[0.3333333333333333,\"#9c179e\"],[0.4444444444444444,\"#bd3786\"],[0.5555555555555556,\"#d8576b\"],[0.6666666666666666,\"#ed7953\"],[0.7777777777777778,\"#fb9f3a\"],[0.8888888888888888,\"#fdca26\"],[1.0,\"#f0f921\"]],\"type\":\"histogram2dcontour\"}],\"histogram2d\":[{\"colorbar\":{\"outlinewidth\":0,\"ticks\":\"\"},\"colorscale\":[[0.0,\"#0d0887\"],[0.1111111111111111,\"#46039f\"],[0.2222222222222222,\"#7201a8\"],[0.3333333333333333,\"#9c179e\"],[0.4444444444444444,\"#bd3786\"],[0.5555555555555556,\"#d8576b\"],[0.6666666666666666,\"#ed7953\"],[0.7777777777777778,\"#fb9f3a\"],[0.8888888888888888,\"#fdca26\"],[1.0,\"#f0f921\"]],\"type\":\"histogram2d\"}],\"histogram\":[{\"marker\":{\"pattern\":{\"fillmode\":\"overlay\",\"size\":10,\"solidity\":0.2}},\"type\":\"histogram\"}],\"mesh3d\":[{\"colorbar\":{\"outlinewidth\":0,\"ticks\":\"\"},\"type\":\"mesh3d\"}],\"parcoords\":[{\"line\":{\"colorbar\":{\"outlinewidth\":0,\"ticks\":\"\"}},\"type\":\"parcoords\"}],\"pie\":[{\"automargin\":true,\"type\":\"pie\"}],\"scatter3d\":[{\"line\":{\"colorbar\":{\"outlinewidth\":0,\"ticks\":\"\"}},\"marker\":{\"colorbar\":{\"outlinewidth\":0,\"ticks\":\"\"}},\"type\":\"scatter3d\"}],\"scattercarpet\":[{\"marker\":{\"colorbar\":{\"outlinewidth\":0,\"ticks\":\"\"}},\"type\":\"scattercarpet\"}],\"scattergeo\":[{\"marker\":{\"colorbar\":{\"outlinewidth\":0,\"ticks\":\"\"}},\"type\":\"scattergeo\"}],\"scattergl\":[{\"marker\":{\"colorbar\":{\"outlinewidth\":0,\"ticks\":\"\"}},\"type\":\"scattergl\"}],\"scattermapbox\":[{\"marker\":{\"colorbar\":{\"outlinewidth\":0,\"ticks\":\"\"}},\"type\":\"scattermapbox\"}],\"scatterpolargl\":[{\"marker\":{\"colorbar\":{\"outlinewidth\":0,\"ticks\":\"\"}},\"type\":\"scatterpolargl\"}],\"scatterpolar\":[{\"marker\":{\"colorbar\":{\"outlinewidth\":0,\"ticks\":\"\"}},\"type\":\"scatterpolar\"}],\"scatter\":[{\"marker\":{\"colorbar\":{\"outlinewidth\":0,\"ticks\":\"\"}},\"type\":\"scatter\"}],\"scatterternary\":[{\"marker\":{\"colorbar\":{\"outlinewidth\":0,\"ticks\":\"\"}},\"type\":\"scatterternary\"}],\"surface\":[{\"colorbar\":{\"outlinewidth\":0,\"ticks\":\"\"},\"colorscale\":[[0.0,\"#0d0887\"],[0.1111111111111111,\"#46039f\"],[0.2222222222222222,\"#7201a8\"],[0.3333333333333333,\"#9c179e\"],[0.4444444444444444,\"#bd3786\"],[0.5555555555555556,\"#d8576b\"],[0.6666666666666666,\"#ed7953\"],[0.7777777777777778,\"#fb9f3a\"],[0.8888888888888888,\"#fdca26\"],[1.0,\"#f0f921\"]],\"type\":\"surface\"}],\"table\":[{\"cells\":{\"fill\":{\"color\":\"#EBF0F8\"},\"line\":{\"color\":\"white\"}},\"header\":{\"fill\":{\"color\":\"#C8D4E3\"},\"line\":{\"color\":\"white\"}},\"type\":\"table\"}]},\"layout\":{\"annotationdefaults\":{\"arrowcolor\":\"#2a3f5f\",\"arrowhead\":0,\"arrowwidth\":1},\"autotypenumbers\":\"strict\",\"coloraxis\":{\"colorbar\":{\"outlinewidth\":0,\"ticks\":\"\"}},\"colorscale\":{\"diverging\":[[0,\"#8e0152\"],[0.1,\"#c51b7d\"],[0.2,\"#de77ae\"],[0.3,\"#f1b6da\"],[0.4,\"#fde0ef\"],[0.5,\"#f7f7f7\"],[0.6,\"#e6f5d0\"],[0.7,\"#b8e186\"],[0.8,\"#7fbc41\"],[0.9,\"#4d9221\"],[1,\"#276419\"]],\"sequential\":[[0.0,\"#0d0887\"],[0.1111111111111111,\"#46039f\"],[0.2222222222222222,\"#7201a8\"],[0.3333333333333333,\"#9c179e\"],[0.4444444444444444,\"#bd3786\"],[0.5555555555555556,\"#d8576b\"],[0.6666666666666666,\"#ed7953\"],[0.7777777777777778,\"#fb9f3a\"],[0.8888888888888888,\"#fdca26\"],[1.0,\"#f0f921\"]],\"sequentialminus\":[[0.0,\"#0d0887\"],[0.1111111111111111,\"#46039f\"],[0.2222222222222222,\"#7201a8\"],[0.3333333333333333,\"#9c179e\"],[0.4444444444444444,\"#bd3786\"],[0.5555555555555556,\"#d8576b\"],[0.6666666666666666,\"#ed7953\"],[0.7777777777777778,\"#fb9f3a\"],[0.8888888888888888,\"#fdca26\"],[1.0,\"#f0f921\"]]},\"colorway\":[\"#636efa\",\"#EF553B\",\"#00cc96\",\"#ab63fa\",\"#FFA15A\",\"#19d3f3\",\"#FF6692\",\"#B6E880\",\"#FF97FF\",\"#FECB52\"],\"font\":{\"color\":\"#2a3f5f\"},\"geo\":{\"bgcolor\":\"white\",\"lakecolor\":\"white\",\"landcolor\":\"#E5ECF6\",\"showlakes\":true,\"showland\":true,\"subunitcolor\":\"white\"},\"hoverlabel\":{\"align\":\"left\"},\"hovermode\":\"closest\",\"mapbox\":{\"style\":\"light\"},\"paper_bgcolor\":\"white\",\"plot_bgcolor\":\"#E5ECF6\",\"polar\":{\"angularaxis\":{\"gridcolor\":\"white\",\"linecolor\":\"white\",\"ticks\":\"\"},\"bgcolor\":\"#E5ECF6\",\"radialaxis\":{\"gridcolor\":\"white\",\"linecolor\":\"white\",\"ticks\":\"\"}},\"scene\":{\"xaxis\":{\"backgroundcolor\":\"#E5ECF6\",\"gridcolor\":\"white\",\"gridwidth\":2,\"linecolor\":\"white\",\"showbackground\":true,\"ticks\":\"\",\"zerolinecolor\":\"white\"},\"yaxis\":{\"backgroundcolor\":\"#E5ECF6\",\"gridcolor\":\"white\",\"gridwidth\":2,\"linecolor\":\"white\",\"showbackground\":true,\"ticks\":\"\",\"zerolinecolor\":\"white\"},\"zaxis\":{\"backgroundcolor\":\"#E5ECF6\",\"gridcolor\":\"white\",\"gridwidth\":2,\"linecolor\":\"white\",\"showbackground\":true,\"ticks\":\"\",\"zerolinecolor\":\"white\"}},\"shapedefaults\":{\"line\":{\"color\":\"#2a3f5f\"}},\"ternary\":{\"aaxis\":{\"gridcolor\":\"white\",\"linecolor\":\"white\",\"ticks\":\"\"},\"baxis\":{\"gridcolor\":\"white\",\"linecolor\":\"white\",\"ticks\":\"\"},\"bgcolor\":\"#E5ECF6\",\"caxis\":{\"gridcolor\":\"white\",\"linecolor\":\"white\",\"ticks\":\"\"}},\"title\":{\"x\":0.05},\"xaxis\":{\"automargin\":true,\"gridcolor\":\"white\",\"linecolor\":\"white\",\"ticks\":\"\",\"title\":{\"standoff\":15},\"zerolinecolor\":\"white\",\"zerolinewidth\":2},\"yaxis\":{\"automargin\":true,\"gridcolor\":\"white\",\"linecolor\":\"white\",\"ticks\":\"\",\"title\":{\"standoff\":15},\"zerolinecolor\":\"white\",\"zerolinewidth\":2}}},\"title\":{\"font\":{\"color\":\"#4D5663\"}},\"xaxis\":{\"gridcolor\":\"#E1E5ED\",\"showgrid\":true,\"tickfont\":{\"color\":\"#4D5663\"},\"title\":{\"font\":{\"color\":\"#4D5663\"},\"text\":\"\"},\"zerolinecolor\":\"#E1E5ED\"},\"yaxis\":{\"gridcolor\":\"#E1E5ED\",\"showgrid\":true,\"tickfont\":{\"color\":\"#4D5663\"},\"title\":{\"font\":{\"color\":\"#4D5663\"},\"text\":\"\"},\"zerolinecolor\":\"#E1E5ED\"}},                        {\"showLink\": true, \"linkText\": \"Export to plot.ly\", \"plotlyServerURL\": \"https://plot.ly\", \"responsive\": true}                    ).then(function(){\n",
       "                            \n",
       "var gd = document.getElementById('a975ac9d-e151-4ab0-903e-baec1df580b0');\n",
       "var x = new MutationObserver(function (mutations, observer) {{\n",
       "        var display = window.getComputedStyle(gd).display;\n",
       "        if (!display || display === 'none') {{\n",
       "            console.log([gd, 'removed!']);\n",
       "            Plotly.purge(gd);\n",
       "            observer.disconnect();\n",
       "        }}\n",
       "}});\n",
       "\n",
       "// Listen for the removal of the full notebook cells\n",
       "var notebookContainer = gd.closest('#notebook-container');\n",
       "if (notebookContainer) {{\n",
       "    x.observe(notebookContainer, {childList: true});\n",
       "}}\n",
       "\n",
       "// Listen for the clearing of the current output cell\n",
       "var outputEl = gd.closest('.output');\n",
       "if (outputEl) {{\n",
       "    x.observe(outputEl, {childList: true});\n",
       "}}\n",
       "\n",
       "                        })                };                });            </script>        </div>"
      ]
     },
     "metadata": {},
     "output_type": "display_data"
    }
   ],
   "source": [
    "df['A'].iplot(kind='hist',bins=25)"
   ]
  },
  {
   "cell_type": "code",
   "execution_count": 17,
   "metadata": {},
   "outputs": [
    {
     "data": {
      "application/vnd.plotly.v1+json": {
       "config": {
        "linkText": "Export to plot.ly",
        "plotlyServerURL": "https://plot.ly",
        "showLink": true
       },
       "data": [
        {
         "histfunc": "count",
         "histnorm": "",
         "marker": {
          "color": "rgba(255, 153, 51, 1.0)",
          "line": {
           "color": "#4D5663",
           "width": 1.3
          }
         },
         "name": "A",
         "nbinsx": 25,
         "opacity": 0.8,
         "orientation": "v",
         "type": "histogram",
         "x": [
          0.4395119976966545,
          0.020152580888882565,
          -0.37407441444430184,
          -0.539926331737172,
          -1.1415136887036064,
          0.8166657567438118,
          -0.6224297536168503,
          0.7308894349710953,
          0.7203192879102357,
          -1.3737647648303697,
          -1.23119009378185,
          0.3198538375639925,
          0.26348650235568355,
          0.6488757306353029,
          -0.00728590715634182,
          -0.7565433586862875,
          -0.6563581332656321,
          -0.2718198150238515,
          2.3006887217341485,
          -0.0016354406682298403,
          -0.44155799103745624,
          -0.05360096166018684,
          0.1482445798661521,
          -0.31540345886485455,
          -1.0965840430633944,
          0.10640896879094265,
          -0.6070796967732894,
          -0.22733509919143075,
          1.9043079760497075,
          0.15758544829888035,
          -0.8467557485348001,
          -0.05415976370766293,
          -0.9788011598549242,
          -1.6583630823284712,
          0.8159503058015778,
          -0.25181207826404073,
          -0.8324733961614146,
          -0.6260559102319855,
          -0.31995726864785823,
          1.1849051256609375,
          -0.284668437153468,
          -1.3551041866389977,
          -0.44227550517139147,
          -0.6564605155145264,
          1.4465930611506095,
          0.025068373987287135,
          -0.7669606770160547,
          -0.5443292144876736,
          1.8675957298506896,
          0.598656129228373,
          -1.4141874887718855,
          -0.22207017252161643,
          -0.5557646921062268,
          0.023795421367580435,
          0.2591414523453681,
          0.16506972348129514,
          -1.6995486727841598,
          0.495897711386881,
          -2.16172874318155,
          0.4695045378281316,
          0.8808506673427354,
          -0.2849864405045829,
          -1.3827658787536463,
          -1.9087429354622187,
          0.5103912430314287,
          -0.569148889572966,
          -0.39583345631377553,
          1.6927286444863971,
          1.3794804856602336,
          1.02340631443928,
          -0.8786847928090047,
          -0.22365353139572725,
          -0.6286343213996785,
          0.1852315531564232,
          0.13414886930901337,
          -1.6146835134016613,
          1.6490844301298115,
          -1.5550285792794807,
          1.344854834805804,
          -1.2139962371553352,
          -1.8529045686615873,
          0.159159120937591,
          1.0210668604863389,
          -0.5824035944285543,
          0.08560547669436594,
          -0.3686773747493008,
          1.214718224277028,
          -0.051241433224650676,
          0.08303529764650347,
          0.9092419090260879,
          -1.0618356396353699,
          -1.3732900879073142,
          -1.751218488708866,
          -0.13388061656749478,
          0.18032175371235448,
          -0.2244659045304318,
          1.1168388101991757,
          -0.5571809881209141,
          -1.577732479354081,
          0.4027152366654449
         ]
        },
        {
         "histfunc": "count",
         "histnorm": "",
         "marker": {
          "color": "rgba(55, 128, 191, 1.0)",
          "line": {
           "color": "#4D5663",
           "width": 1.3
          }
         },
         "name": "B",
         "nbinsx": 25,
         "opacity": 0.8,
         "orientation": "v",
         "type": "histogram",
         "x": [
          0.4280706362665727,
          0.7180418134509058,
          0.039018123521560956,
          -2.223254471201788,
          -0.875572466427057,
          0.31082962918417856,
          0.04164485460440668,
          -1.3375954608338874,
          -1.3405437149873514,
          0.8572242598587281,
          -0.16188928162123553,
          -0.7187491678629951,
          0.3999681853251334,
          -0.8651274609324161,
          1.9398556052996982,
          0.37170042818699983,
          -1.2034611707274985,
          0.8393246337713155,
          0.41155942561230474,
          0.00033315878116852473,
          -1.6639121984076959,
          -1.2939308121993591,
          0.2302461943473713,
          -1.1860250330934174,
          -1.1250630573271623,
          0.3411966117332432,
          -0.08281182615268948,
          0.41842194008398625,
          -1.7521218805724776,
          1.8722464063131021,
          0.9523448471366392,
          0.5797894008773923,
          0.28708326315953325,
          -3.0335772092969595,
          0.12008245165224005,
          -0.9692412532879529,
          1.236861712762151,
          -1.813670708984641,
          -0.6640423586276856,
          2.0857608212633116,
          0.07078185544215489,
          0.13316552342725502,
          1.118793257633992,
          0.22109987484931612,
          0.4816167266503535,
          0.9007965084713055,
          0.23136190333438797,
          -0.6211815746593071,
          1.1791990907833874,
          -1.0184759389708393,
          0.7935063885328861,
          0.4739578995446759,
          -0.22569428492832613,
          2.1111501661267114,
          0.5805731683953766,
          -1.1774151325024085,
          0.4804288376175385,
          0.9389295688799837,
          1.3394547064736422,
          0.09157486827855868,
          0.32021176932753054,
          0.1508485044753879,
          0.0678145670140172,
          0.5951231144203691,
          -1.6454252033113301,
          -1.2999466345158284,
          0.30014825283198915,
          -0.9261425193798055,
          -0.7233485416807636,
          -0.3357183086594954,
          0.7741014105468014,
          -0.9680340081985276,
          -0.6843133483970795,
          0.2208022680602893,
          -0.7041034231797588,
          1.2476835296624578,
          0.36575625493327446,
          -0.7078241513496009,
          0.006963710275013258,
          -0.16294101108078116,
          1.5251683930463749,
          -0.52052292400051,
          0.09330851367827822,
          0.1980403455685616,
          0.16031321326067646,
          0.4522372122430764,
          1.288266420667494,
          -0.08501136423912654,
          -0.537993634388944,
          0.18898741128953095,
          -0.6879271077969086,
          -0.8118986993420849,
          -0.5951301224776799,
          0.849275846698981,
          0.48172786564149733,
          1.389259766341688,
          -0.02855002125459373,
          0.824790991786847,
          0.702338016465698,
          1.2060183630123236
         ]
        },
        {
         "histfunc": "count",
         "histnorm": "",
         "marker": {
          "color": "rgba(50, 171, 96, 1.0)",
          "line": {
           "color": "#4D5663",
           "width": 1.3
          }
         },
         "name": "C",
         "nbinsx": 25,
         "opacity": 0.8,
         "orientation": "v",
         "type": "histogram",
         "x": [
          -1.3787152783508723,
          -0.7261164047389449,
          0.2224364093928684,
          1.1477624692750603,
          -1.43775668031013,
          0.03134895951287714,
          0.5744870610575307,
          -1.266687721886195,
          -0.19289617140422258,
          1.511559448278765,
          -0.5119282086892993,
          -2.2392587865674574,
          -0.6209115834293467,
          1.1137304776579646,
          1.0742908031611498,
          0.2037310729229849,
          -0.747303255099262,
          -0.9692202000526821,
          -1.089312084525815,
          -0.8833887607330014,
          0.13506777324616978,
          0.0707313620850424,
          1.823478001044083,
          0.0017497707721843754,
          0.8812661765541764,
          1.0235957674378207,
          0.23657683002359883,
          0.3550476835109541,
          1.4749191367053716,
          -0.5724932191421319,
          -0.6151418387655972,
          -0.785001406471968,
          -0.06993434253506313,
          -0.21535988326079006,
          0.47982251383891333,
          0.9716315951462331,
          -0.15185219545189366,
          1.9164780515109556,
          0.5987294120376846,
          -0.22795902511024854,
          -0.5585658480008592,
          -1.6913077332985833,
          0.25352182758564246,
          0.11803801505601494,
          0.7879975858188688,
          -0.5032812994273885,
          -1.7239067650251179,
          -0.5218210287612856,
          1.3743061449298846,
          0.9563603916667522,
          -0.10302531350948356,
          -1.0078148568916971,
          0.8530414622148793,
          0.3267258270809262,
          2.3855970082680136,
          -1.2679195947325799,
          -0.7032649912550678,
          0.6859312164945162,
          -0.11386304522157245,
          -1.0909068628349752,
          -0.13485185096848448,
          0.3129069963160951,
          0.3251879215144967,
          -2.464840591968921,
          -0.4136242042591343,
          -0.31016615436486994,
          -1.4840374002833763,
          -1.2562717159180883,
          -0.1916699473663112,
          0.29825808080300975,
          0.8299314382112951,
          -2.679638974552658,
          -1.4593854710372014,
          0.02556938465970596,
          1.0089076132913224,
          -0.2562859582883714,
          -0.05081801986273233,
          -0.7239080962437932,
          1.4006042469358264,
          0.26662768618565924,
          0.07141262901645731,
          -1.1891995815160468,
          -0.8464327135962876,
          -0.1493251183698699,
          0.20426726621922955,
          -0.014680966834019888,
          -0.6686931887825628,
          0.7801346385676716,
          1.3176659548439453,
          -1.2567470968963135,
          0.5083603229557176,
          -1.210794346863032,
          0.49075215782348397,
          -0.23425557424750665,
          -0.491208269335909,
          -0.41090303463772354,
          0.1253723206034941,
          -0.1770910238483198,
          0.64196514060045,
          -0.7382162956891389
         ]
        },
        {
         "histfunc": "count",
         "histnorm": "",
         "marker": {
          "color": "rgba(128, 0, 128, 1.0)",
          "line": {
           "color": "#4D5663",
           "width": 1.3
          }
         },
         "name": "D",
         "nbinsx": 25,
         "opacity": 0.8,
         "orientation": "v",
         "type": "histogram",
         "x": [
          -1.1967289396768255,
          1.2084432000283791,
          0.8933907011808402,
          -0.8370158225021228,
          0.054950493197835515,
          0.5860648950484921,
          -1.206159653786153,
          -1.3367167539770204,
          2.8497056325844543,
          0.9956369394940869,
          0.6540089889820164,
          0.9585317492454164,
          0.3019461375428145,
          0.19767604148168808,
          -0.4960146597360244,
          1.0756165309549053,
          -0.8027153007638427,
          -0.08034286733634763,
          -1.204866882713637,
          -0.41572374720294475,
          -0.5287185888597782,
          -1.14707233465738,
          1.3446654002925569,
          0.2568536330956374,
          -0.5323714140329171,
          1.2398961931457892,
          1.4442012086018585,
          1.069815796772237,
          0.5253046744459509,
          0.36848600823081673,
          -1.1847475275339265,
          0.18463520870993408,
          -0.7335492239208102,
          -0.6608140230403634,
          0.5541255252479335,
          -0.6511684460602217,
          1.3966857462767777,
          -1.2765360716787524,
          -0.5152702421444836,
          1.9961919196856333,
          -0.039022698835690046,
          -0.2711135131224415,
          0.8157118601985619,
          -0.5444507317925322,
          2.1148452807225313,
          0.7065047348761125,
          -0.4122010677180778,
          0.9562033334417854,
          -0.3343863542874556,
          1.0635811975822256,
          -0.8901113319022214,
          -0.9707319048907495,
          0.11750305277438047,
          0.5125801934010197,
          0.8820371120292264,
          -1.5127005028648477,
          -1.3452836762709413,
          -1.9690238357572543,
          0.3724814484372588,
          -1.8661858341078816,
          0.7366606002034869,
          0.6041716774061525,
          0.2879542430778189,
          -0.6754479161116611,
          0.26904873586986455,
          0.06412280548588511,
          0.06204911990921217,
          0.0738620732575893,
          -0.04608161944249293,
          1.5052820485557334,
          -0.558234092678066,
          1.694079222413143,
          -0.9859262016838821,
          -0.5568580147130638,
          -0.5628776136903292,
          -1.7797469095823264,
          2.336554074194825,
          1.2159567018224806,
          3.0013639387321267,
          -0.6690431278261364,
          0.5831165054421106,
          -0.17957168727507763,
          -1.05408682762937,
          1.054388650493122,
          0.8090774739975908,
          -0.6579767901037481,
          -0.9504732356908544,
          -0.5229477945471815,
          -1.597724701485542,
          -0.6646905240051703,
          2.6778532402627384,
          -0.7649615732126199,
          -0.48474264712567455,
          1.9086937085617424,
          -0.5947555058493647,
          -1.9752792336692437,
          0.07151503161795482,
          -0.1619635020316879,
          0.28942867811686473,
          0.418738043076987
         ]
        }
       ],
       "layout": {
        "barmode": "overlay",
        "legend": {
         "bgcolor": "#F5F6F9",
         "font": {
          "color": "#4D5663"
         }
        },
        "paper_bgcolor": "#F5F6F9",
        "plot_bgcolor": "#F5F6F9",
        "template": {
         "data": {
          "bar": [
           {
            "error_x": {
             "color": "#2a3f5f"
            },
            "error_y": {
             "color": "#2a3f5f"
            },
            "marker": {
             "line": {
              "color": "#E5ECF6",
              "width": 0.5
             },
             "pattern": {
              "fillmode": "overlay",
              "size": 10,
              "solidity": 0.2
             }
            },
            "type": "bar"
           }
          ],
          "barpolar": [
           {
            "marker": {
             "line": {
              "color": "#E5ECF6",
              "width": 0.5
             },
             "pattern": {
              "fillmode": "overlay",
              "size": 10,
              "solidity": 0.2
             }
            },
            "type": "barpolar"
           }
          ],
          "carpet": [
           {
            "aaxis": {
             "endlinecolor": "#2a3f5f",
             "gridcolor": "white",
             "linecolor": "white",
             "minorgridcolor": "white",
             "startlinecolor": "#2a3f5f"
            },
            "baxis": {
             "endlinecolor": "#2a3f5f",
             "gridcolor": "white",
             "linecolor": "white",
             "minorgridcolor": "white",
             "startlinecolor": "#2a3f5f"
            },
            "type": "carpet"
           }
          ],
          "choropleth": [
           {
            "colorbar": {
             "outlinewidth": 0,
             "ticks": ""
            },
            "type": "choropleth"
           }
          ],
          "contour": [
           {
            "colorbar": {
             "outlinewidth": 0,
             "ticks": ""
            },
            "colorscale": [
             [
              0,
              "#0d0887"
             ],
             [
              0.1111111111111111,
              "#46039f"
             ],
             [
              0.2222222222222222,
              "#7201a8"
             ],
             [
              0.3333333333333333,
              "#9c179e"
             ],
             [
              0.4444444444444444,
              "#bd3786"
             ],
             [
              0.5555555555555556,
              "#d8576b"
             ],
             [
              0.6666666666666666,
              "#ed7953"
             ],
             [
              0.7777777777777778,
              "#fb9f3a"
             ],
             [
              0.8888888888888888,
              "#fdca26"
             ],
             [
              1,
              "#f0f921"
             ]
            ],
            "type": "contour"
           }
          ],
          "contourcarpet": [
           {
            "colorbar": {
             "outlinewidth": 0,
             "ticks": ""
            },
            "type": "contourcarpet"
           }
          ],
          "heatmap": [
           {
            "colorbar": {
             "outlinewidth": 0,
             "ticks": ""
            },
            "colorscale": [
             [
              0,
              "#0d0887"
             ],
             [
              0.1111111111111111,
              "#46039f"
             ],
             [
              0.2222222222222222,
              "#7201a8"
             ],
             [
              0.3333333333333333,
              "#9c179e"
             ],
             [
              0.4444444444444444,
              "#bd3786"
             ],
             [
              0.5555555555555556,
              "#d8576b"
             ],
             [
              0.6666666666666666,
              "#ed7953"
             ],
             [
              0.7777777777777778,
              "#fb9f3a"
             ],
             [
              0.8888888888888888,
              "#fdca26"
             ],
             [
              1,
              "#f0f921"
             ]
            ],
            "type": "heatmap"
           }
          ],
          "heatmapgl": [
           {
            "colorbar": {
             "outlinewidth": 0,
             "ticks": ""
            },
            "colorscale": [
             [
              0,
              "#0d0887"
             ],
             [
              0.1111111111111111,
              "#46039f"
             ],
             [
              0.2222222222222222,
              "#7201a8"
             ],
             [
              0.3333333333333333,
              "#9c179e"
             ],
             [
              0.4444444444444444,
              "#bd3786"
             ],
             [
              0.5555555555555556,
              "#d8576b"
             ],
             [
              0.6666666666666666,
              "#ed7953"
             ],
             [
              0.7777777777777778,
              "#fb9f3a"
             ],
             [
              0.8888888888888888,
              "#fdca26"
             ],
             [
              1,
              "#f0f921"
             ]
            ],
            "type": "heatmapgl"
           }
          ],
          "histogram": [
           {
            "marker": {
             "pattern": {
              "fillmode": "overlay",
              "size": 10,
              "solidity": 0.2
             }
            },
            "type": "histogram"
           }
          ],
          "histogram2d": [
           {
            "colorbar": {
             "outlinewidth": 0,
             "ticks": ""
            },
            "colorscale": [
             [
              0,
              "#0d0887"
             ],
             [
              0.1111111111111111,
              "#46039f"
             ],
             [
              0.2222222222222222,
              "#7201a8"
             ],
             [
              0.3333333333333333,
              "#9c179e"
             ],
             [
              0.4444444444444444,
              "#bd3786"
             ],
             [
              0.5555555555555556,
              "#d8576b"
             ],
             [
              0.6666666666666666,
              "#ed7953"
             ],
             [
              0.7777777777777778,
              "#fb9f3a"
             ],
             [
              0.8888888888888888,
              "#fdca26"
             ],
             [
              1,
              "#f0f921"
             ]
            ],
            "type": "histogram2d"
           }
          ],
          "histogram2dcontour": [
           {
            "colorbar": {
             "outlinewidth": 0,
             "ticks": ""
            },
            "colorscale": [
             [
              0,
              "#0d0887"
             ],
             [
              0.1111111111111111,
              "#46039f"
             ],
             [
              0.2222222222222222,
              "#7201a8"
             ],
             [
              0.3333333333333333,
              "#9c179e"
             ],
             [
              0.4444444444444444,
              "#bd3786"
             ],
             [
              0.5555555555555556,
              "#d8576b"
             ],
             [
              0.6666666666666666,
              "#ed7953"
             ],
             [
              0.7777777777777778,
              "#fb9f3a"
             ],
             [
              0.8888888888888888,
              "#fdca26"
             ],
             [
              1,
              "#f0f921"
             ]
            ],
            "type": "histogram2dcontour"
           }
          ],
          "mesh3d": [
           {
            "colorbar": {
             "outlinewidth": 0,
             "ticks": ""
            },
            "type": "mesh3d"
           }
          ],
          "parcoords": [
           {
            "line": {
             "colorbar": {
              "outlinewidth": 0,
              "ticks": ""
             }
            },
            "type": "parcoords"
           }
          ],
          "pie": [
           {
            "automargin": true,
            "type": "pie"
           }
          ],
          "scatter": [
           {
            "marker": {
             "colorbar": {
              "outlinewidth": 0,
              "ticks": ""
             }
            },
            "type": "scatter"
           }
          ],
          "scatter3d": [
           {
            "line": {
             "colorbar": {
              "outlinewidth": 0,
              "ticks": ""
             }
            },
            "marker": {
             "colorbar": {
              "outlinewidth": 0,
              "ticks": ""
             }
            },
            "type": "scatter3d"
           }
          ],
          "scattercarpet": [
           {
            "marker": {
             "colorbar": {
              "outlinewidth": 0,
              "ticks": ""
             }
            },
            "type": "scattercarpet"
           }
          ],
          "scattergeo": [
           {
            "marker": {
             "colorbar": {
              "outlinewidth": 0,
              "ticks": ""
             }
            },
            "type": "scattergeo"
           }
          ],
          "scattergl": [
           {
            "marker": {
             "colorbar": {
              "outlinewidth": 0,
              "ticks": ""
             }
            },
            "type": "scattergl"
           }
          ],
          "scattermapbox": [
           {
            "marker": {
             "colorbar": {
              "outlinewidth": 0,
              "ticks": ""
             }
            },
            "type": "scattermapbox"
           }
          ],
          "scatterpolar": [
           {
            "marker": {
             "colorbar": {
              "outlinewidth": 0,
              "ticks": ""
             }
            },
            "type": "scatterpolar"
           }
          ],
          "scatterpolargl": [
           {
            "marker": {
             "colorbar": {
              "outlinewidth": 0,
              "ticks": ""
             }
            },
            "type": "scatterpolargl"
           }
          ],
          "scatterternary": [
           {
            "marker": {
             "colorbar": {
              "outlinewidth": 0,
              "ticks": ""
             }
            },
            "type": "scatterternary"
           }
          ],
          "surface": [
           {
            "colorbar": {
             "outlinewidth": 0,
             "ticks": ""
            },
            "colorscale": [
             [
              0,
              "#0d0887"
             ],
             [
              0.1111111111111111,
              "#46039f"
             ],
             [
              0.2222222222222222,
              "#7201a8"
             ],
             [
              0.3333333333333333,
              "#9c179e"
             ],
             [
              0.4444444444444444,
              "#bd3786"
             ],
             [
              0.5555555555555556,
              "#d8576b"
             ],
             [
              0.6666666666666666,
              "#ed7953"
             ],
             [
              0.7777777777777778,
              "#fb9f3a"
             ],
             [
              0.8888888888888888,
              "#fdca26"
             ],
             [
              1,
              "#f0f921"
             ]
            ],
            "type": "surface"
           }
          ],
          "table": [
           {
            "cells": {
             "fill": {
              "color": "#EBF0F8"
             },
             "line": {
              "color": "white"
             }
            },
            "header": {
             "fill": {
              "color": "#C8D4E3"
             },
             "line": {
              "color": "white"
             }
            },
            "type": "table"
           }
          ]
         },
         "layout": {
          "annotationdefaults": {
           "arrowcolor": "#2a3f5f",
           "arrowhead": 0,
           "arrowwidth": 1
          },
          "autotypenumbers": "strict",
          "coloraxis": {
           "colorbar": {
            "outlinewidth": 0,
            "ticks": ""
           }
          },
          "colorscale": {
           "diverging": [
            [
             0,
             "#8e0152"
            ],
            [
             0.1,
             "#c51b7d"
            ],
            [
             0.2,
             "#de77ae"
            ],
            [
             0.3,
             "#f1b6da"
            ],
            [
             0.4,
             "#fde0ef"
            ],
            [
             0.5,
             "#f7f7f7"
            ],
            [
             0.6,
             "#e6f5d0"
            ],
            [
             0.7,
             "#b8e186"
            ],
            [
             0.8,
             "#7fbc41"
            ],
            [
             0.9,
             "#4d9221"
            ],
            [
             1,
             "#276419"
            ]
           ],
           "sequential": [
            [
             0,
             "#0d0887"
            ],
            [
             0.1111111111111111,
             "#46039f"
            ],
            [
             0.2222222222222222,
             "#7201a8"
            ],
            [
             0.3333333333333333,
             "#9c179e"
            ],
            [
             0.4444444444444444,
             "#bd3786"
            ],
            [
             0.5555555555555556,
             "#d8576b"
            ],
            [
             0.6666666666666666,
             "#ed7953"
            ],
            [
             0.7777777777777778,
             "#fb9f3a"
            ],
            [
             0.8888888888888888,
             "#fdca26"
            ],
            [
             1,
             "#f0f921"
            ]
           ],
           "sequentialminus": [
            [
             0,
             "#0d0887"
            ],
            [
             0.1111111111111111,
             "#46039f"
            ],
            [
             0.2222222222222222,
             "#7201a8"
            ],
            [
             0.3333333333333333,
             "#9c179e"
            ],
            [
             0.4444444444444444,
             "#bd3786"
            ],
            [
             0.5555555555555556,
             "#d8576b"
            ],
            [
             0.6666666666666666,
             "#ed7953"
            ],
            [
             0.7777777777777778,
             "#fb9f3a"
            ],
            [
             0.8888888888888888,
             "#fdca26"
            ],
            [
             1,
             "#f0f921"
            ]
           ]
          },
          "colorway": [
           "#636efa",
           "#EF553B",
           "#00cc96",
           "#ab63fa",
           "#FFA15A",
           "#19d3f3",
           "#FF6692",
           "#B6E880",
           "#FF97FF",
           "#FECB52"
          ],
          "font": {
           "color": "#2a3f5f"
          },
          "geo": {
           "bgcolor": "white",
           "lakecolor": "white",
           "landcolor": "#E5ECF6",
           "showlakes": true,
           "showland": true,
           "subunitcolor": "white"
          },
          "hoverlabel": {
           "align": "left"
          },
          "hovermode": "closest",
          "mapbox": {
           "style": "light"
          },
          "paper_bgcolor": "white",
          "plot_bgcolor": "#E5ECF6",
          "polar": {
           "angularaxis": {
            "gridcolor": "white",
            "linecolor": "white",
            "ticks": ""
           },
           "bgcolor": "#E5ECF6",
           "radialaxis": {
            "gridcolor": "white",
            "linecolor": "white",
            "ticks": ""
           }
          },
          "scene": {
           "xaxis": {
            "backgroundcolor": "#E5ECF6",
            "gridcolor": "white",
            "gridwidth": 2,
            "linecolor": "white",
            "showbackground": true,
            "ticks": "",
            "zerolinecolor": "white"
           },
           "yaxis": {
            "backgroundcolor": "#E5ECF6",
            "gridcolor": "white",
            "gridwidth": 2,
            "linecolor": "white",
            "showbackground": true,
            "ticks": "",
            "zerolinecolor": "white"
           },
           "zaxis": {
            "backgroundcolor": "#E5ECF6",
            "gridcolor": "white",
            "gridwidth": 2,
            "linecolor": "white",
            "showbackground": true,
            "ticks": "",
            "zerolinecolor": "white"
           }
          },
          "shapedefaults": {
           "line": {
            "color": "#2a3f5f"
           }
          },
          "ternary": {
           "aaxis": {
            "gridcolor": "white",
            "linecolor": "white",
            "ticks": ""
           },
           "baxis": {
            "gridcolor": "white",
            "linecolor": "white",
            "ticks": ""
           },
           "bgcolor": "#E5ECF6",
           "caxis": {
            "gridcolor": "white",
            "linecolor": "white",
            "ticks": ""
           }
          },
          "title": {
           "x": 0.05
          },
          "xaxis": {
           "automargin": true,
           "gridcolor": "white",
           "linecolor": "white",
           "ticks": "",
           "title": {
            "standoff": 15
           },
           "zerolinecolor": "white",
           "zerolinewidth": 2
          },
          "yaxis": {
           "automargin": true,
           "gridcolor": "white",
           "linecolor": "white",
           "ticks": "",
           "title": {
            "standoff": 15
           },
           "zerolinecolor": "white",
           "zerolinewidth": 2
          }
         }
        },
        "title": {
         "font": {
          "color": "#4D5663"
         }
        },
        "xaxis": {
         "gridcolor": "#E1E5ED",
         "showgrid": true,
         "tickfont": {
          "color": "#4D5663"
         },
         "title": {
          "font": {
           "color": "#4D5663"
          },
          "text": ""
         },
         "zerolinecolor": "#E1E5ED"
        },
        "yaxis": {
         "gridcolor": "#E1E5ED",
         "showgrid": true,
         "tickfont": {
          "color": "#4D5663"
         },
         "title": {
          "font": {
           "color": "#4D5663"
          },
          "text": ""
         },
         "zerolinecolor": "#E1E5ED"
        }
       }
      },
      "text/html": [
       "<div>                            <div id=\"13f5ed93-ba5a-45eb-b05d-3e439af0f638\" class=\"plotly-graph-div\" style=\"height:525px; width:100%;\"></div>            <script type=\"text/javascript\">                require([\"plotly\"], function(Plotly) {                    window.PLOTLYENV=window.PLOTLYENV || {};\n",
       "                    window.PLOTLYENV.BASE_URL='https://plot.ly';                                    if (document.getElementById(\"13f5ed93-ba5a-45eb-b05d-3e439af0f638\")) {                    Plotly.newPlot(                        \"13f5ed93-ba5a-45eb-b05d-3e439af0f638\",                        [{\"histfunc\":\"count\",\"histnorm\":\"\",\"marker\":{\"color\":\"rgba(255, 153, 51, 1.0)\",\"line\":{\"color\":\"#4D5663\",\"width\":1.3}},\"name\":\"A\",\"nbinsx\":25,\"opacity\":0.8,\"orientation\":\"v\",\"x\":[0.4395119976966545,0.020152580888882565,-0.37407441444430184,-0.539926331737172,-1.1415136887036064,0.8166657567438118,-0.6224297536168503,0.7308894349710953,0.7203192879102357,-1.3737647648303697,-1.23119009378185,0.3198538375639925,0.26348650235568355,0.6488757306353029,-0.00728590715634182,-0.7565433586862875,-0.6563581332656321,-0.2718198150238515,2.3006887217341485,-0.0016354406682298403,-0.44155799103745624,-0.05360096166018684,0.1482445798661521,-0.31540345886485455,-1.0965840430633944,0.10640896879094265,-0.6070796967732894,-0.22733509919143075,1.9043079760497075,0.15758544829888035,-0.8467557485348001,-0.05415976370766293,-0.9788011598549242,-1.6583630823284712,0.8159503058015778,-0.25181207826404073,-0.8324733961614146,-0.6260559102319855,-0.31995726864785823,1.1849051256609375,-0.284668437153468,-1.3551041866389977,-0.44227550517139147,-0.6564605155145264,1.4465930611506095,0.025068373987287135,-0.7669606770160547,-0.5443292144876736,1.8675957298506896,0.598656129228373,-1.4141874887718855,-0.22207017252161643,-0.5557646921062268,0.023795421367580435,0.2591414523453681,0.16506972348129514,-1.6995486727841598,0.495897711386881,-2.16172874318155,0.4695045378281316,0.8808506673427354,-0.2849864405045829,-1.3827658787536463,-1.9087429354622187,0.5103912430314287,-0.569148889572966,-0.39583345631377553,1.6927286444863971,1.3794804856602336,1.02340631443928,-0.8786847928090047,-0.22365353139572725,-0.6286343213996785,0.1852315531564232,0.13414886930901337,-1.6146835134016613,1.6490844301298115,-1.5550285792794807,1.344854834805804,-1.2139962371553352,-1.8529045686615873,0.159159120937591,1.0210668604863389,-0.5824035944285543,0.08560547669436594,-0.3686773747493008,1.214718224277028,-0.051241433224650676,0.08303529764650347,0.9092419090260879,-1.0618356396353699,-1.3732900879073142,-1.751218488708866,-0.13388061656749478,0.18032175371235448,-0.2244659045304318,1.1168388101991757,-0.5571809881209141,-1.577732479354081,0.4027152366654449],\"type\":\"histogram\"},{\"histfunc\":\"count\",\"histnorm\":\"\",\"marker\":{\"color\":\"rgba(55, 128, 191, 1.0)\",\"line\":{\"color\":\"#4D5663\",\"width\":1.3}},\"name\":\"B\",\"nbinsx\":25,\"opacity\":0.8,\"orientation\":\"v\",\"x\":[0.4280706362665727,0.7180418134509058,0.039018123521560956,-2.223254471201788,-0.875572466427057,0.31082962918417856,0.04164485460440668,-1.3375954608338874,-1.3405437149873514,0.8572242598587281,-0.16188928162123553,-0.7187491678629951,0.3999681853251334,-0.8651274609324161,1.9398556052996982,0.37170042818699983,-1.2034611707274985,0.8393246337713155,0.41155942561230474,0.00033315878116852473,-1.6639121984076959,-1.2939308121993591,0.2302461943473713,-1.1860250330934174,-1.1250630573271623,0.3411966117332432,-0.08281182615268948,0.41842194008398625,-1.7521218805724776,1.8722464063131021,0.9523448471366392,0.5797894008773923,0.28708326315953325,-3.0335772092969595,0.12008245165224005,-0.9692412532879529,1.236861712762151,-1.813670708984641,-0.6640423586276856,2.0857608212633116,0.07078185544215489,0.13316552342725502,1.118793257633992,0.22109987484931612,0.4816167266503535,0.9007965084713055,0.23136190333438797,-0.6211815746593071,1.1791990907833874,-1.0184759389708393,0.7935063885328861,0.4739578995446759,-0.22569428492832613,2.1111501661267114,0.5805731683953766,-1.1774151325024085,0.4804288376175385,0.9389295688799837,1.3394547064736422,0.09157486827855868,0.32021176932753054,0.1508485044753879,0.0678145670140172,0.5951231144203691,-1.6454252033113301,-1.2999466345158284,0.30014825283198915,-0.9261425193798055,-0.7233485416807636,-0.3357183086594954,0.7741014105468014,-0.9680340081985276,-0.6843133483970795,0.2208022680602893,-0.7041034231797588,1.2476835296624578,0.36575625493327446,-0.7078241513496009,0.006963710275013258,-0.16294101108078116,1.5251683930463749,-0.52052292400051,0.09330851367827822,0.1980403455685616,0.16031321326067646,0.4522372122430764,1.288266420667494,-0.08501136423912654,-0.537993634388944,0.18898741128953095,-0.6879271077969086,-0.8118986993420849,-0.5951301224776799,0.849275846698981,0.48172786564149733,1.389259766341688,-0.02855002125459373,0.824790991786847,0.702338016465698,1.2060183630123236],\"type\":\"histogram\"},{\"histfunc\":\"count\",\"histnorm\":\"\",\"marker\":{\"color\":\"rgba(50, 171, 96, 1.0)\",\"line\":{\"color\":\"#4D5663\",\"width\":1.3}},\"name\":\"C\",\"nbinsx\":25,\"opacity\":0.8,\"orientation\":\"v\",\"x\":[-1.3787152783508723,-0.7261164047389449,0.2224364093928684,1.1477624692750603,-1.43775668031013,0.03134895951287714,0.5744870610575307,-1.266687721886195,-0.19289617140422258,1.511559448278765,-0.5119282086892993,-2.2392587865674574,-0.6209115834293467,1.1137304776579646,1.0742908031611498,0.2037310729229849,-0.747303255099262,-0.9692202000526821,-1.089312084525815,-0.8833887607330014,0.13506777324616978,0.0707313620850424,1.823478001044083,0.0017497707721843754,0.8812661765541764,1.0235957674378207,0.23657683002359883,0.3550476835109541,1.4749191367053716,-0.5724932191421319,-0.6151418387655972,-0.785001406471968,-0.06993434253506313,-0.21535988326079006,0.47982251383891333,0.9716315951462331,-0.15185219545189366,1.9164780515109556,0.5987294120376846,-0.22795902511024854,-0.5585658480008592,-1.6913077332985833,0.25352182758564246,0.11803801505601494,0.7879975858188688,-0.5032812994273885,-1.7239067650251179,-0.5218210287612856,1.3743061449298846,0.9563603916667522,-0.10302531350948356,-1.0078148568916971,0.8530414622148793,0.3267258270809262,2.3855970082680136,-1.2679195947325799,-0.7032649912550678,0.6859312164945162,-0.11386304522157245,-1.0909068628349752,-0.13485185096848448,0.3129069963160951,0.3251879215144967,-2.464840591968921,-0.4136242042591343,-0.31016615436486994,-1.4840374002833763,-1.2562717159180883,-0.1916699473663112,0.29825808080300975,0.8299314382112951,-2.679638974552658,-1.4593854710372014,0.02556938465970596,1.0089076132913224,-0.2562859582883714,-0.05081801986273233,-0.7239080962437932,1.4006042469358264,0.26662768618565924,0.07141262901645731,-1.1891995815160468,-0.8464327135962876,-0.1493251183698699,0.20426726621922955,-0.014680966834019888,-0.6686931887825628,0.7801346385676716,1.3176659548439453,-1.2567470968963135,0.5083603229557176,-1.210794346863032,0.49075215782348397,-0.23425557424750665,-0.491208269335909,-0.41090303463772354,0.1253723206034941,-0.1770910238483198,0.64196514060045,-0.7382162956891389],\"type\":\"histogram\"},{\"histfunc\":\"count\",\"histnorm\":\"\",\"marker\":{\"color\":\"rgba(128, 0, 128, 1.0)\",\"line\":{\"color\":\"#4D5663\",\"width\":1.3}},\"name\":\"D\",\"nbinsx\":25,\"opacity\":0.8,\"orientation\":\"v\",\"x\":[-1.1967289396768255,1.2084432000283791,0.8933907011808402,-0.8370158225021228,0.054950493197835515,0.5860648950484921,-1.206159653786153,-1.3367167539770204,2.8497056325844543,0.9956369394940869,0.6540089889820164,0.9585317492454164,0.3019461375428145,0.19767604148168808,-0.4960146597360244,1.0756165309549053,-0.8027153007638427,-0.08034286733634763,-1.204866882713637,-0.41572374720294475,-0.5287185888597782,-1.14707233465738,1.3446654002925569,0.2568536330956374,-0.5323714140329171,1.2398961931457892,1.4442012086018585,1.069815796772237,0.5253046744459509,0.36848600823081673,-1.1847475275339265,0.18463520870993408,-0.7335492239208102,-0.6608140230403634,0.5541255252479335,-0.6511684460602217,1.3966857462767777,-1.2765360716787524,-0.5152702421444836,1.9961919196856333,-0.039022698835690046,-0.2711135131224415,0.8157118601985619,-0.5444507317925322,2.1148452807225313,0.7065047348761125,-0.4122010677180778,0.9562033334417854,-0.3343863542874556,1.0635811975822256,-0.8901113319022214,-0.9707319048907495,0.11750305277438047,0.5125801934010197,0.8820371120292264,-1.5127005028648477,-1.3452836762709413,-1.9690238357572543,0.3724814484372588,-1.8661858341078816,0.7366606002034869,0.6041716774061525,0.2879542430778189,-0.6754479161116611,0.26904873586986455,0.06412280548588511,0.06204911990921217,0.0738620732575893,-0.04608161944249293,1.5052820485557334,-0.558234092678066,1.694079222413143,-0.9859262016838821,-0.5568580147130638,-0.5628776136903292,-1.7797469095823264,2.336554074194825,1.2159567018224806,3.0013639387321267,-0.6690431278261364,0.5831165054421106,-0.17957168727507763,-1.05408682762937,1.054388650493122,0.8090774739975908,-0.6579767901037481,-0.9504732356908544,-0.5229477945471815,-1.597724701485542,-0.6646905240051703,2.6778532402627384,-0.7649615732126199,-0.48474264712567455,1.9086937085617424,-0.5947555058493647,-1.9752792336692437,0.07151503161795482,-0.1619635020316879,0.28942867811686473,0.418738043076987],\"type\":\"histogram\"}],                        {\"barmode\":\"overlay\",\"legend\":{\"bgcolor\":\"#F5F6F9\",\"font\":{\"color\":\"#4D5663\"}},\"paper_bgcolor\":\"#F5F6F9\",\"plot_bgcolor\":\"#F5F6F9\",\"template\":{\"data\":{\"barpolar\":[{\"marker\":{\"line\":{\"color\":\"#E5ECF6\",\"width\":0.5},\"pattern\":{\"fillmode\":\"overlay\",\"size\":10,\"solidity\":0.2}},\"type\":\"barpolar\"}],\"bar\":[{\"error_x\":{\"color\":\"#2a3f5f\"},\"error_y\":{\"color\":\"#2a3f5f\"},\"marker\":{\"line\":{\"color\":\"#E5ECF6\",\"width\":0.5},\"pattern\":{\"fillmode\":\"overlay\",\"size\":10,\"solidity\":0.2}},\"type\":\"bar\"}],\"carpet\":[{\"aaxis\":{\"endlinecolor\":\"#2a3f5f\",\"gridcolor\":\"white\",\"linecolor\":\"white\",\"minorgridcolor\":\"white\",\"startlinecolor\":\"#2a3f5f\"},\"baxis\":{\"endlinecolor\":\"#2a3f5f\",\"gridcolor\":\"white\",\"linecolor\":\"white\",\"minorgridcolor\":\"white\",\"startlinecolor\":\"#2a3f5f\"},\"type\":\"carpet\"}],\"choropleth\":[{\"colorbar\":{\"outlinewidth\":0,\"ticks\":\"\"},\"type\":\"choropleth\"}],\"contourcarpet\":[{\"colorbar\":{\"outlinewidth\":0,\"ticks\":\"\"},\"type\":\"contourcarpet\"}],\"contour\":[{\"colorbar\":{\"outlinewidth\":0,\"ticks\":\"\"},\"colorscale\":[[0.0,\"#0d0887\"],[0.1111111111111111,\"#46039f\"],[0.2222222222222222,\"#7201a8\"],[0.3333333333333333,\"#9c179e\"],[0.4444444444444444,\"#bd3786\"],[0.5555555555555556,\"#d8576b\"],[0.6666666666666666,\"#ed7953\"],[0.7777777777777778,\"#fb9f3a\"],[0.8888888888888888,\"#fdca26\"],[1.0,\"#f0f921\"]],\"type\":\"contour\"}],\"heatmapgl\":[{\"colorbar\":{\"outlinewidth\":0,\"ticks\":\"\"},\"colorscale\":[[0.0,\"#0d0887\"],[0.1111111111111111,\"#46039f\"],[0.2222222222222222,\"#7201a8\"],[0.3333333333333333,\"#9c179e\"],[0.4444444444444444,\"#bd3786\"],[0.5555555555555556,\"#d8576b\"],[0.6666666666666666,\"#ed7953\"],[0.7777777777777778,\"#fb9f3a\"],[0.8888888888888888,\"#fdca26\"],[1.0,\"#f0f921\"]],\"type\":\"heatmapgl\"}],\"heatmap\":[{\"colorbar\":{\"outlinewidth\":0,\"ticks\":\"\"},\"colorscale\":[[0.0,\"#0d0887\"],[0.1111111111111111,\"#46039f\"],[0.2222222222222222,\"#7201a8\"],[0.3333333333333333,\"#9c179e\"],[0.4444444444444444,\"#bd3786\"],[0.5555555555555556,\"#d8576b\"],[0.6666666666666666,\"#ed7953\"],[0.7777777777777778,\"#fb9f3a\"],[0.8888888888888888,\"#fdca26\"],[1.0,\"#f0f921\"]],\"type\":\"heatmap\"}],\"histogram2dcontour\":[{\"colorbar\":{\"outlinewidth\":0,\"ticks\":\"\"},\"colorscale\":[[0.0,\"#0d0887\"],[0.1111111111111111,\"#46039f\"],[0.2222222222222222,\"#7201a8\"],[0.3333333333333333,\"#9c179e\"],[0.4444444444444444,\"#bd3786\"],[0.5555555555555556,\"#d8576b\"],[0.6666666666666666,\"#ed7953\"],[0.7777777777777778,\"#fb9f3a\"],[0.8888888888888888,\"#fdca26\"],[1.0,\"#f0f921\"]],\"type\":\"histogram2dcontour\"}],\"histogram2d\":[{\"colorbar\":{\"outlinewidth\":0,\"ticks\":\"\"},\"colorscale\":[[0.0,\"#0d0887\"],[0.1111111111111111,\"#46039f\"],[0.2222222222222222,\"#7201a8\"],[0.3333333333333333,\"#9c179e\"],[0.4444444444444444,\"#bd3786\"],[0.5555555555555556,\"#d8576b\"],[0.6666666666666666,\"#ed7953\"],[0.7777777777777778,\"#fb9f3a\"],[0.8888888888888888,\"#fdca26\"],[1.0,\"#f0f921\"]],\"type\":\"histogram2d\"}],\"histogram\":[{\"marker\":{\"pattern\":{\"fillmode\":\"overlay\",\"size\":10,\"solidity\":0.2}},\"type\":\"histogram\"}],\"mesh3d\":[{\"colorbar\":{\"outlinewidth\":0,\"ticks\":\"\"},\"type\":\"mesh3d\"}],\"parcoords\":[{\"line\":{\"colorbar\":{\"outlinewidth\":0,\"ticks\":\"\"}},\"type\":\"parcoords\"}],\"pie\":[{\"automargin\":true,\"type\":\"pie\"}],\"scatter3d\":[{\"line\":{\"colorbar\":{\"outlinewidth\":0,\"ticks\":\"\"}},\"marker\":{\"colorbar\":{\"outlinewidth\":0,\"ticks\":\"\"}},\"type\":\"scatter3d\"}],\"scattercarpet\":[{\"marker\":{\"colorbar\":{\"outlinewidth\":0,\"ticks\":\"\"}},\"type\":\"scattercarpet\"}],\"scattergeo\":[{\"marker\":{\"colorbar\":{\"outlinewidth\":0,\"ticks\":\"\"}},\"type\":\"scattergeo\"}],\"scattergl\":[{\"marker\":{\"colorbar\":{\"outlinewidth\":0,\"ticks\":\"\"}},\"type\":\"scattergl\"}],\"scattermapbox\":[{\"marker\":{\"colorbar\":{\"outlinewidth\":0,\"ticks\":\"\"}},\"type\":\"scattermapbox\"}],\"scatterpolargl\":[{\"marker\":{\"colorbar\":{\"outlinewidth\":0,\"ticks\":\"\"}},\"type\":\"scatterpolargl\"}],\"scatterpolar\":[{\"marker\":{\"colorbar\":{\"outlinewidth\":0,\"ticks\":\"\"}},\"type\":\"scatterpolar\"}],\"scatter\":[{\"marker\":{\"colorbar\":{\"outlinewidth\":0,\"ticks\":\"\"}},\"type\":\"scatter\"}],\"scatterternary\":[{\"marker\":{\"colorbar\":{\"outlinewidth\":0,\"ticks\":\"\"}},\"type\":\"scatterternary\"}],\"surface\":[{\"colorbar\":{\"outlinewidth\":0,\"ticks\":\"\"},\"colorscale\":[[0.0,\"#0d0887\"],[0.1111111111111111,\"#46039f\"],[0.2222222222222222,\"#7201a8\"],[0.3333333333333333,\"#9c179e\"],[0.4444444444444444,\"#bd3786\"],[0.5555555555555556,\"#d8576b\"],[0.6666666666666666,\"#ed7953\"],[0.7777777777777778,\"#fb9f3a\"],[0.8888888888888888,\"#fdca26\"],[1.0,\"#f0f921\"]],\"type\":\"surface\"}],\"table\":[{\"cells\":{\"fill\":{\"color\":\"#EBF0F8\"},\"line\":{\"color\":\"white\"}},\"header\":{\"fill\":{\"color\":\"#C8D4E3\"},\"line\":{\"color\":\"white\"}},\"type\":\"table\"}]},\"layout\":{\"annotationdefaults\":{\"arrowcolor\":\"#2a3f5f\",\"arrowhead\":0,\"arrowwidth\":1},\"autotypenumbers\":\"strict\",\"coloraxis\":{\"colorbar\":{\"outlinewidth\":0,\"ticks\":\"\"}},\"colorscale\":{\"diverging\":[[0,\"#8e0152\"],[0.1,\"#c51b7d\"],[0.2,\"#de77ae\"],[0.3,\"#f1b6da\"],[0.4,\"#fde0ef\"],[0.5,\"#f7f7f7\"],[0.6,\"#e6f5d0\"],[0.7,\"#b8e186\"],[0.8,\"#7fbc41\"],[0.9,\"#4d9221\"],[1,\"#276419\"]],\"sequential\":[[0.0,\"#0d0887\"],[0.1111111111111111,\"#46039f\"],[0.2222222222222222,\"#7201a8\"],[0.3333333333333333,\"#9c179e\"],[0.4444444444444444,\"#bd3786\"],[0.5555555555555556,\"#d8576b\"],[0.6666666666666666,\"#ed7953\"],[0.7777777777777778,\"#fb9f3a\"],[0.8888888888888888,\"#fdca26\"],[1.0,\"#f0f921\"]],\"sequentialminus\":[[0.0,\"#0d0887\"],[0.1111111111111111,\"#46039f\"],[0.2222222222222222,\"#7201a8\"],[0.3333333333333333,\"#9c179e\"],[0.4444444444444444,\"#bd3786\"],[0.5555555555555556,\"#d8576b\"],[0.6666666666666666,\"#ed7953\"],[0.7777777777777778,\"#fb9f3a\"],[0.8888888888888888,\"#fdca26\"],[1.0,\"#f0f921\"]]},\"colorway\":[\"#636efa\",\"#EF553B\",\"#00cc96\",\"#ab63fa\",\"#FFA15A\",\"#19d3f3\",\"#FF6692\",\"#B6E880\",\"#FF97FF\",\"#FECB52\"],\"font\":{\"color\":\"#2a3f5f\"},\"geo\":{\"bgcolor\":\"white\",\"lakecolor\":\"white\",\"landcolor\":\"#E5ECF6\",\"showlakes\":true,\"showland\":true,\"subunitcolor\":\"white\"},\"hoverlabel\":{\"align\":\"left\"},\"hovermode\":\"closest\",\"mapbox\":{\"style\":\"light\"},\"paper_bgcolor\":\"white\",\"plot_bgcolor\":\"#E5ECF6\",\"polar\":{\"angularaxis\":{\"gridcolor\":\"white\",\"linecolor\":\"white\",\"ticks\":\"\"},\"bgcolor\":\"#E5ECF6\",\"radialaxis\":{\"gridcolor\":\"white\",\"linecolor\":\"white\",\"ticks\":\"\"}},\"scene\":{\"xaxis\":{\"backgroundcolor\":\"#E5ECF6\",\"gridcolor\":\"white\",\"gridwidth\":2,\"linecolor\":\"white\",\"showbackground\":true,\"ticks\":\"\",\"zerolinecolor\":\"white\"},\"yaxis\":{\"backgroundcolor\":\"#E5ECF6\",\"gridcolor\":\"white\",\"gridwidth\":2,\"linecolor\":\"white\",\"showbackground\":true,\"ticks\":\"\",\"zerolinecolor\":\"white\"},\"zaxis\":{\"backgroundcolor\":\"#E5ECF6\",\"gridcolor\":\"white\",\"gridwidth\":2,\"linecolor\":\"white\",\"showbackground\":true,\"ticks\":\"\",\"zerolinecolor\":\"white\"}},\"shapedefaults\":{\"line\":{\"color\":\"#2a3f5f\"}},\"ternary\":{\"aaxis\":{\"gridcolor\":\"white\",\"linecolor\":\"white\",\"ticks\":\"\"},\"baxis\":{\"gridcolor\":\"white\",\"linecolor\":\"white\",\"ticks\":\"\"},\"bgcolor\":\"#E5ECF6\",\"caxis\":{\"gridcolor\":\"white\",\"linecolor\":\"white\",\"ticks\":\"\"}},\"title\":{\"x\":0.05},\"xaxis\":{\"automargin\":true,\"gridcolor\":\"white\",\"linecolor\":\"white\",\"ticks\":\"\",\"title\":{\"standoff\":15},\"zerolinecolor\":\"white\",\"zerolinewidth\":2},\"yaxis\":{\"automargin\":true,\"gridcolor\":\"white\",\"linecolor\":\"white\",\"ticks\":\"\",\"title\":{\"standoff\":15},\"zerolinecolor\":\"white\",\"zerolinewidth\":2}}},\"title\":{\"font\":{\"color\":\"#4D5663\"}},\"xaxis\":{\"gridcolor\":\"#E1E5ED\",\"showgrid\":true,\"tickfont\":{\"color\":\"#4D5663\"},\"title\":{\"font\":{\"color\":\"#4D5663\"},\"text\":\"\"},\"zerolinecolor\":\"#E1E5ED\"},\"yaxis\":{\"gridcolor\":\"#E1E5ED\",\"showgrid\":true,\"tickfont\":{\"color\":\"#4D5663\"},\"title\":{\"font\":{\"color\":\"#4D5663\"},\"text\":\"\"},\"zerolinecolor\":\"#E1E5ED\"}},                        {\"showLink\": true, \"linkText\": \"Export to plot.ly\", \"plotlyServerURL\": \"https://plot.ly\", \"responsive\": true}                    ).then(function(){\n",
       "                            \n",
       "var gd = document.getElementById('13f5ed93-ba5a-45eb-b05d-3e439af0f638');\n",
       "var x = new MutationObserver(function (mutations, observer) {{\n",
       "        var display = window.getComputedStyle(gd).display;\n",
       "        if (!display || display === 'none') {{\n",
       "            console.log([gd, 'removed!']);\n",
       "            Plotly.purge(gd);\n",
       "            observer.disconnect();\n",
       "        }}\n",
       "}});\n",
       "\n",
       "// Listen for the removal of the full notebook cells\n",
       "var notebookContainer = gd.closest('#notebook-container');\n",
       "if (notebookContainer) {{\n",
       "    x.observe(notebookContainer, {childList: true});\n",
       "}}\n",
       "\n",
       "// Listen for the clearing of the current output cell\n",
       "var outputEl = gd.closest('.output');\n",
       "if (outputEl) {{\n",
       "    x.observe(outputEl, {childList: true});\n",
       "}}\n",
       "\n",
       "                        })                };                });            </script>        </div>"
      ]
     },
     "metadata": {},
     "output_type": "display_data"
    }
   ],
   "source": [
    "df.iplot(kind = 'hist',bins = 25)"
   ]
  },
  {
   "cell_type": "code",
   "execution_count": 18,
   "metadata": {},
   "outputs": [
    {
     "data": {
      "application/vnd.plotly.v1+json": {
       "config": {
        "linkText": "Export to plot.ly",
        "plotlyServerURL": "https://plot.ly",
        "showLink": true
       },
       "data": [
        {
         "marker": {
          "color": [
           "rgb(255, 153, 51)",
           "rgb(55, 128, 191)",
           "rgb(50, 171, 96)",
           "rgb(128, 0, 128)",
           "rgb(219, 64, 82)",
           "rgb(0, 128, 128)",
           "rgb(255, 255, 51)",
           "rgb(128, 128, 0)",
           "rgb(251, 128, 114)",
           "rgb(128, 177, 211)"
          ],
          "line": {
           "width": 1.3
          },
          "size": [
           37,
           50,
           69,
           87,
           36,
           65,
           76,
           39,
           61,
           94,
           54,
           20,
           52,
           86,
           86,
           68,
           50,
           45,
           43,
           47,
           67,
           66,
           100,
           64,
           82,
           85,
           69,
           71,
           94,
           53,
           52,
           49,
           63,
           60,
           74,
           84,
           61,
           102,
           76,
           60,
           53,
           31,
           69,
           67,
           80,
           54,
           30,
           54,
           92,
           83,
           62,
           45,
           81,
           71,
           112,
           39,
           51,
           78,
           62,
           43,
           62,
           71,
           71,
           16,
           56,
           58,
           35,
           40,
           61,
           70,
           81,
           12,
           36,
           65,
           84,
           59,
           63,
           50,
           92,
           70,
           66,
           41,
           48,
           61,
           68,
           64,
           51,
           80,
           90,
           40,
           74,
           40,
           74,
           60,
           55,
           56,
           67,
           61,
           77,
           50
          ],
          "symbol": "circle"
         },
         "mode": "markers",
         "text": "",
         "type": "scatter",
         "x": [
          0.4395119976966545,
          0.020152580888882565,
          -0.37407441444430184,
          -0.539926331737172,
          -1.1415136887036064,
          0.8166657567438118,
          -0.6224297536168503,
          0.7308894349710953,
          0.7203192879102357,
          -1.3737647648303697,
          -1.23119009378185,
          0.3198538375639925,
          0.26348650235568355,
          0.6488757306353029,
          -0.00728590715634182,
          -0.7565433586862875,
          -0.6563581332656321,
          -0.2718198150238515,
          2.3006887217341485,
          -0.0016354406682298403,
          -0.44155799103745624,
          -0.05360096166018684,
          0.1482445798661521,
          -0.31540345886485455,
          -1.0965840430633944,
          0.10640896879094265,
          -0.6070796967732894,
          -0.22733509919143075,
          1.9043079760497075,
          0.15758544829888035,
          -0.8467557485348001,
          -0.05415976370766293,
          -0.9788011598549242,
          -1.6583630823284712,
          0.8159503058015778,
          -0.25181207826404073,
          -0.8324733961614146,
          -0.6260559102319855,
          -0.31995726864785823,
          1.1849051256609375,
          -0.284668437153468,
          -1.3551041866389977,
          -0.44227550517139147,
          -0.6564605155145264,
          1.4465930611506095,
          0.025068373987287135,
          -0.7669606770160547,
          -0.5443292144876736,
          1.8675957298506896,
          0.598656129228373,
          -1.4141874887718855,
          -0.22207017252161643,
          -0.5557646921062268,
          0.023795421367580435,
          0.2591414523453681,
          0.16506972348129514,
          -1.6995486727841598,
          0.495897711386881,
          -2.16172874318155,
          0.4695045378281316,
          0.8808506673427354,
          -0.2849864405045829,
          -1.3827658787536463,
          -1.9087429354622187,
          0.5103912430314287,
          -0.569148889572966,
          -0.39583345631377553,
          1.6927286444863971,
          1.3794804856602336,
          1.02340631443928,
          -0.8786847928090047,
          -0.22365353139572725,
          -0.6286343213996785,
          0.1852315531564232,
          0.13414886930901337,
          -1.6146835134016613,
          1.6490844301298115,
          -1.5550285792794807,
          1.344854834805804,
          -1.2139962371553352,
          -1.8529045686615873,
          0.159159120937591,
          1.0210668604863389,
          -0.5824035944285543,
          0.08560547669436594,
          -0.3686773747493008,
          1.214718224277028,
          -0.051241433224650676,
          0.08303529764650347,
          0.9092419090260879,
          -1.0618356396353699,
          -1.3732900879073142,
          -1.751218488708866,
          -0.13388061656749478,
          0.18032175371235448,
          -0.2244659045304318,
          1.1168388101991757,
          -0.5571809881209141,
          -1.577732479354081,
          0.4027152366654449
         ],
         "y": [
          0.4280706362665727,
          0.7180418134509058,
          0.039018123521560956,
          -2.223254471201788,
          -0.875572466427057,
          0.31082962918417856,
          0.04164485460440668,
          -1.3375954608338874,
          -1.3405437149873514,
          0.8572242598587281,
          -0.16188928162123553,
          -0.7187491678629951,
          0.3999681853251334,
          -0.8651274609324161,
          1.9398556052996982,
          0.37170042818699983,
          -1.2034611707274985,
          0.8393246337713155,
          0.41155942561230474,
          0.00033315878116852473,
          -1.6639121984076959,
          -1.2939308121993591,
          0.2302461943473713,
          -1.1860250330934174,
          -1.1250630573271623,
          0.3411966117332432,
          -0.08281182615268948,
          0.41842194008398625,
          -1.7521218805724776,
          1.8722464063131021,
          0.9523448471366392,
          0.5797894008773923,
          0.28708326315953325,
          -3.0335772092969595,
          0.12008245165224005,
          -0.9692412532879529,
          1.236861712762151,
          -1.813670708984641,
          -0.6640423586276856,
          2.0857608212633116,
          0.07078185544215489,
          0.13316552342725502,
          1.118793257633992,
          0.22109987484931612,
          0.4816167266503535,
          0.9007965084713055,
          0.23136190333438797,
          -0.6211815746593071,
          1.1791990907833874,
          -1.0184759389708393,
          0.7935063885328861,
          0.4739578995446759,
          -0.22569428492832613,
          2.1111501661267114,
          0.5805731683953766,
          -1.1774151325024085,
          0.4804288376175385,
          0.9389295688799837,
          1.3394547064736422,
          0.09157486827855868,
          0.32021176932753054,
          0.1508485044753879,
          0.0678145670140172,
          0.5951231144203691,
          -1.6454252033113301,
          -1.2999466345158284,
          0.30014825283198915,
          -0.9261425193798055,
          -0.7233485416807636,
          -0.3357183086594954,
          0.7741014105468014,
          -0.9680340081985276,
          -0.6843133483970795,
          0.2208022680602893,
          -0.7041034231797588,
          1.2476835296624578,
          0.36575625493327446,
          -0.7078241513496009,
          0.006963710275013258,
          -0.16294101108078116,
          1.5251683930463749,
          -0.52052292400051,
          0.09330851367827822,
          0.1980403455685616,
          0.16031321326067646,
          0.4522372122430764,
          1.288266420667494,
          -0.08501136423912654,
          -0.537993634388944,
          0.18898741128953095,
          -0.6879271077969086,
          -0.8118986993420849,
          -0.5951301224776799,
          0.849275846698981,
          0.48172786564149733,
          1.389259766341688,
          -0.02855002125459373,
          0.824790991786847,
          0.702338016465698,
          1.2060183630123236
         ]
        }
       ],
       "layout": {
        "legend": {
         "bgcolor": "#F5F6F9",
         "font": {
          "color": "#4D5663"
         }
        },
        "paper_bgcolor": "#F5F6F9",
        "plot_bgcolor": "#F5F6F9",
        "template": {
         "data": {
          "bar": [
           {
            "error_x": {
             "color": "#2a3f5f"
            },
            "error_y": {
             "color": "#2a3f5f"
            },
            "marker": {
             "line": {
              "color": "#E5ECF6",
              "width": 0.5
             },
             "pattern": {
              "fillmode": "overlay",
              "size": 10,
              "solidity": 0.2
             }
            },
            "type": "bar"
           }
          ],
          "barpolar": [
           {
            "marker": {
             "line": {
              "color": "#E5ECF6",
              "width": 0.5
             },
             "pattern": {
              "fillmode": "overlay",
              "size": 10,
              "solidity": 0.2
             }
            },
            "type": "barpolar"
           }
          ],
          "carpet": [
           {
            "aaxis": {
             "endlinecolor": "#2a3f5f",
             "gridcolor": "white",
             "linecolor": "white",
             "minorgridcolor": "white",
             "startlinecolor": "#2a3f5f"
            },
            "baxis": {
             "endlinecolor": "#2a3f5f",
             "gridcolor": "white",
             "linecolor": "white",
             "minorgridcolor": "white",
             "startlinecolor": "#2a3f5f"
            },
            "type": "carpet"
           }
          ],
          "choropleth": [
           {
            "colorbar": {
             "outlinewidth": 0,
             "ticks": ""
            },
            "type": "choropleth"
           }
          ],
          "contour": [
           {
            "colorbar": {
             "outlinewidth": 0,
             "ticks": ""
            },
            "colorscale": [
             [
              0,
              "#0d0887"
             ],
             [
              0.1111111111111111,
              "#46039f"
             ],
             [
              0.2222222222222222,
              "#7201a8"
             ],
             [
              0.3333333333333333,
              "#9c179e"
             ],
             [
              0.4444444444444444,
              "#bd3786"
             ],
             [
              0.5555555555555556,
              "#d8576b"
             ],
             [
              0.6666666666666666,
              "#ed7953"
             ],
             [
              0.7777777777777778,
              "#fb9f3a"
             ],
             [
              0.8888888888888888,
              "#fdca26"
             ],
             [
              1,
              "#f0f921"
             ]
            ],
            "type": "contour"
           }
          ],
          "contourcarpet": [
           {
            "colorbar": {
             "outlinewidth": 0,
             "ticks": ""
            },
            "type": "contourcarpet"
           }
          ],
          "heatmap": [
           {
            "colorbar": {
             "outlinewidth": 0,
             "ticks": ""
            },
            "colorscale": [
             [
              0,
              "#0d0887"
             ],
             [
              0.1111111111111111,
              "#46039f"
             ],
             [
              0.2222222222222222,
              "#7201a8"
             ],
             [
              0.3333333333333333,
              "#9c179e"
             ],
             [
              0.4444444444444444,
              "#bd3786"
             ],
             [
              0.5555555555555556,
              "#d8576b"
             ],
             [
              0.6666666666666666,
              "#ed7953"
             ],
             [
              0.7777777777777778,
              "#fb9f3a"
             ],
             [
              0.8888888888888888,
              "#fdca26"
             ],
             [
              1,
              "#f0f921"
             ]
            ],
            "type": "heatmap"
           }
          ],
          "heatmapgl": [
           {
            "colorbar": {
             "outlinewidth": 0,
             "ticks": ""
            },
            "colorscale": [
             [
              0,
              "#0d0887"
             ],
             [
              0.1111111111111111,
              "#46039f"
             ],
             [
              0.2222222222222222,
              "#7201a8"
             ],
             [
              0.3333333333333333,
              "#9c179e"
             ],
             [
              0.4444444444444444,
              "#bd3786"
             ],
             [
              0.5555555555555556,
              "#d8576b"
             ],
             [
              0.6666666666666666,
              "#ed7953"
             ],
             [
              0.7777777777777778,
              "#fb9f3a"
             ],
             [
              0.8888888888888888,
              "#fdca26"
             ],
             [
              1,
              "#f0f921"
             ]
            ],
            "type": "heatmapgl"
           }
          ],
          "histogram": [
           {
            "marker": {
             "pattern": {
              "fillmode": "overlay",
              "size": 10,
              "solidity": 0.2
             }
            },
            "type": "histogram"
           }
          ],
          "histogram2d": [
           {
            "colorbar": {
             "outlinewidth": 0,
             "ticks": ""
            },
            "colorscale": [
             [
              0,
              "#0d0887"
             ],
             [
              0.1111111111111111,
              "#46039f"
             ],
             [
              0.2222222222222222,
              "#7201a8"
             ],
             [
              0.3333333333333333,
              "#9c179e"
             ],
             [
              0.4444444444444444,
              "#bd3786"
             ],
             [
              0.5555555555555556,
              "#d8576b"
             ],
             [
              0.6666666666666666,
              "#ed7953"
             ],
             [
              0.7777777777777778,
              "#fb9f3a"
             ],
             [
              0.8888888888888888,
              "#fdca26"
             ],
             [
              1,
              "#f0f921"
             ]
            ],
            "type": "histogram2d"
           }
          ],
          "histogram2dcontour": [
           {
            "colorbar": {
             "outlinewidth": 0,
             "ticks": ""
            },
            "colorscale": [
             [
              0,
              "#0d0887"
             ],
             [
              0.1111111111111111,
              "#46039f"
             ],
             [
              0.2222222222222222,
              "#7201a8"
             ],
             [
              0.3333333333333333,
              "#9c179e"
             ],
             [
              0.4444444444444444,
              "#bd3786"
             ],
             [
              0.5555555555555556,
              "#d8576b"
             ],
             [
              0.6666666666666666,
              "#ed7953"
             ],
             [
              0.7777777777777778,
              "#fb9f3a"
             ],
             [
              0.8888888888888888,
              "#fdca26"
             ],
             [
              1,
              "#f0f921"
             ]
            ],
            "type": "histogram2dcontour"
           }
          ],
          "mesh3d": [
           {
            "colorbar": {
             "outlinewidth": 0,
             "ticks": ""
            },
            "type": "mesh3d"
           }
          ],
          "parcoords": [
           {
            "line": {
             "colorbar": {
              "outlinewidth": 0,
              "ticks": ""
             }
            },
            "type": "parcoords"
           }
          ],
          "pie": [
           {
            "automargin": true,
            "type": "pie"
           }
          ],
          "scatter": [
           {
            "marker": {
             "colorbar": {
              "outlinewidth": 0,
              "ticks": ""
             }
            },
            "type": "scatter"
           }
          ],
          "scatter3d": [
           {
            "line": {
             "colorbar": {
              "outlinewidth": 0,
              "ticks": ""
             }
            },
            "marker": {
             "colorbar": {
              "outlinewidth": 0,
              "ticks": ""
             }
            },
            "type": "scatter3d"
           }
          ],
          "scattercarpet": [
           {
            "marker": {
             "colorbar": {
              "outlinewidth": 0,
              "ticks": ""
             }
            },
            "type": "scattercarpet"
           }
          ],
          "scattergeo": [
           {
            "marker": {
             "colorbar": {
              "outlinewidth": 0,
              "ticks": ""
             }
            },
            "type": "scattergeo"
           }
          ],
          "scattergl": [
           {
            "marker": {
             "colorbar": {
              "outlinewidth": 0,
              "ticks": ""
             }
            },
            "type": "scattergl"
           }
          ],
          "scattermapbox": [
           {
            "marker": {
             "colorbar": {
              "outlinewidth": 0,
              "ticks": ""
             }
            },
            "type": "scattermapbox"
           }
          ],
          "scatterpolar": [
           {
            "marker": {
             "colorbar": {
              "outlinewidth": 0,
              "ticks": ""
             }
            },
            "type": "scatterpolar"
           }
          ],
          "scatterpolargl": [
           {
            "marker": {
             "colorbar": {
              "outlinewidth": 0,
              "ticks": ""
             }
            },
            "type": "scatterpolargl"
           }
          ],
          "scatterternary": [
           {
            "marker": {
             "colorbar": {
              "outlinewidth": 0,
              "ticks": ""
             }
            },
            "type": "scatterternary"
           }
          ],
          "surface": [
           {
            "colorbar": {
             "outlinewidth": 0,
             "ticks": ""
            },
            "colorscale": [
             [
              0,
              "#0d0887"
             ],
             [
              0.1111111111111111,
              "#46039f"
             ],
             [
              0.2222222222222222,
              "#7201a8"
             ],
             [
              0.3333333333333333,
              "#9c179e"
             ],
             [
              0.4444444444444444,
              "#bd3786"
             ],
             [
              0.5555555555555556,
              "#d8576b"
             ],
             [
              0.6666666666666666,
              "#ed7953"
             ],
             [
              0.7777777777777778,
              "#fb9f3a"
             ],
             [
              0.8888888888888888,
              "#fdca26"
             ],
             [
              1,
              "#f0f921"
             ]
            ],
            "type": "surface"
           }
          ],
          "table": [
           {
            "cells": {
             "fill": {
              "color": "#EBF0F8"
             },
             "line": {
              "color": "white"
             }
            },
            "header": {
             "fill": {
              "color": "#C8D4E3"
             },
             "line": {
              "color": "white"
             }
            },
            "type": "table"
           }
          ]
         },
         "layout": {
          "annotationdefaults": {
           "arrowcolor": "#2a3f5f",
           "arrowhead": 0,
           "arrowwidth": 1
          },
          "autotypenumbers": "strict",
          "coloraxis": {
           "colorbar": {
            "outlinewidth": 0,
            "ticks": ""
           }
          },
          "colorscale": {
           "diverging": [
            [
             0,
             "#8e0152"
            ],
            [
             0.1,
             "#c51b7d"
            ],
            [
             0.2,
             "#de77ae"
            ],
            [
             0.3,
             "#f1b6da"
            ],
            [
             0.4,
             "#fde0ef"
            ],
            [
             0.5,
             "#f7f7f7"
            ],
            [
             0.6,
             "#e6f5d0"
            ],
            [
             0.7,
             "#b8e186"
            ],
            [
             0.8,
             "#7fbc41"
            ],
            [
             0.9,
             "#4d9221"
            ],
            [
             1,
             "#276419"
            ]
           ],
           "sequential": [
            [
             0,
             "#0d0887"
            ],
            [
             0.1111111111111111,
             "#46039f"
            ],
            [
             0.2222222222222222,
             "#7201a8"
            ],
            [
             0.3333333333333333,
             "#9c179e"
            ],
            [
             0.4444444444444444,
             "#bd3786"
            ],
            [
             0.5555555555555556,
             "#d8576b"
            ],
            [
             0.6666666666666666,
             "#ed7953"
            ],
            [
             0.7777777777777778,
             "#fb9f3a"
            ],
            [
             0.8888888888888888,
             "#fdca26"
            ],
            [
             1,
             "#f0f921"
            ]
           ],
           "sequentialminus": [
            [
             0,
             "#0d0887"
            ],
            [
             0.1111111111111111,
             "#46039f"
            ],
            [
             0.2222222222222222,
             "#7201a8"
            ],
            [
             0.3333333333333333,
             "#9c179e"
            ],
            [
             0.4444444444444444,
             "#bd3786"
            ],
            [
             0.5555555555555556,
             "#d8576b"
            ],
            [
             0.6666666666666666,
             "#ed7953"
            ],
            [
             0.7777777777777778,
             "#fb9f3a"
            ],
            [
             0.8888888888888888,
             "#fdca26"
            ],
            [
             1,
             "#f0f921"
            ]
           ]
          },
          "colorway": [
           "#636efa",
           "#EF553B",
           "#00cc96",
           "#ab63fa",
           "#FFA15A",
           "#19d3f3",
           "#FF6692",
           "#B6E880",
           "#FF97FF",
           "#FECB52"
          ],
          "font": {
           "color": "#2a3f5f"
          },
          "geo": {
           "bgcolor": "white",
           "lakecolor": "white",
           "landcolor": "#E5ECF6",
           "showlakes": true,
           "showland": true,
           "subunitcolor": "white"
          },
          "hoverlabel": {
           "align": "left"
          },
          "hovermode": "closest",
          "mapbox": {
           "style": "light"
          },
          "paper_bgcolor": "white",
          "plot_bgcolor": "#E5ECF6",
          "polar": {
           "angularaxis": {
            "gridcolor": "white",
            "linecolor": "white",
            "ticks": ""
           },
           "bgcolor": "#E5ECF6",
           "radialaxis": {
            "gridcolor": "white",
            "linecolor": "white",
            "ticks": ""
           }
          },
          "scene": {
           "xaxis": {
            "backgroundcolor": "#E5ECF6",
            "gridcolor": "white",
            "gridwidth": 2,
            "linecolor": "white",
            "showbackground": true,
            "ticks": "",
            "zerolinecolor": "white"
           },
           "yaxis": {
            "backgroundcolor": "#E5ECF6",
            "gridcolor": "white",
            "gridwidth": 2,
            "linecolor": "white",
            "showbackground": true,
            "ticks": "",
            "zerolinecolor": "white"
           },
           "zaxis": {
            "backgroundcolor": "#E5ECF6",
            "gridcolor": "white",
            "gridwidth": 2,
            "linecolor": "white",
            "showbackground": true,
            "ticks": "",
            "zerolinecolor": "white"
           }
          },
          "shapedefaults": {
           "line": {
            "color": "#2a3f5f"
           }
          },
          "ternary": {
           "aaxis": {
            "gridcolor": "white",
            "linecolor": "white",
            "ticks": ""
           },
           "baxis": {
            "gridcolor": "white",
            "linecolor": "white",
            "ticks": ""
           },
           "bgcolor": "#E5ECF6",
           "caxis": {
            "gridcolor": "white",
            "linecolor": "white",
            "ticks": ""
           }
          },
          "title": {
           "x": 0.05
          },
          "xaxis": {
           "automargin": true,
           "gridcolor": "white",
           "linecolor": "white",
           "ticks": "",
           "title": {
            "standoff": 15
           },
           "zerolinecolor": "white",
           "zerolinewidth": 2
          },
          "yaxis": {
           "automargin": true,
           "gridcolor": "white",
           "linecolor": "white",
           "ticks": "",
           "title": {
            "standoff": 15
           },
           "zerolinecolor": "white",
           "zerolinewidth": 2
          }
         }
        },
        "title": {
         "font": {
          "color": "#4D5663"
         }
        },
        "xaxis": {
         "gridcolor": "#E1E5ED",
         "showgrid": true,
         "tickfont": {
          "color": "#4D5663"
         },
         "title": {
          "font": {
           "color": "#4D5663"
          },
          "text": ""
         },
         "zerolinecolor": "#E1E5ED"
        },
        "yaxis": {
         "gridcolor": "#E1E5ED",
         "showgrid": true,
         "tickfont": {
          "color": "#4D5663"
         },
         "title": {
          "font": {
           "color": "#4D5663"
          },
          "text": ""
         },
         "zerolinecolor": "#E1E5ED"
        }
       }
      },
      "text/html": [
       "<div>                            <div id=\"70b083e8-9725-4e81-8682-a2c95d19c82e\" class=\"plotly-graph-div\" style=\"height:525px; width:100%;\"></div>            <script type=\"text/javascript\">                require([\"plotly\"], function(Plotly) {                    window.PLOTLYENV=window.PLOTLYENV || {};\n",
       "                    window.PLOTLYENV.BASE_URL='https://plot.ly';                                    if (document.getElementById(\"70b083e8-9725-4e81-8682-a2c95d19c82e\")) {                    Plotly.newPlot(                        \"70b083e8-9725-4e81-8682-a2c95d19c82e\",                        [{\"marker\":{\"color\":[\"rgb(255, 153, 51)\",\"rgb(55, 128, 191)\",\"rgb(50, 171, 96)\",\"rgb(128, 0, 128)\",\"rgb(219, 64, 82)\",\"rgb(0, 128, 128)\",\"rgb(255, 255, 51)\",\"rgb(128, 128, 0)\",\"rgb(251, 128, 114)\",\"rgb(128, 177, 211)\"],\"line\":{\"width\":1.3},\"size\":[37,50,69,87,36,65,76,39,61,94,54,20,52,86,86,68,50,45,43,47,67,66,100,64,82,85,69,71,94,53,52,49,63,60,74,84,61,102,76,60,53,31,69,67,80,54,30,54,92,83,62,45,81,71,112,39,51,78,62,43,62,71,71,16,56,58,35,40,61,70,81,12,36,65,84,59,63,50,92,70,66,41,48,61,68,64,51,80,90,40,74,40,74,60,55,56,67,61,77,50],\"symbol\":\"circle\"},\"mode\":\"markers\",\"text\":\"\",\"x\":[0.4395119976966545,0.020152580888882565,-0.37407441444430184,-0.539926331737172,-1.1415136887036064,0.8166657567438118,-0.6224297536168503,0.7308894349710953,0.7203192879102357,-1.3737647648303697,-1.23119009378185,0.3198538375639925,0.26348650235568355,0.6488757306353029,-0.00728590715634182,-0.7565433586862875,-0.6563581332656321,-0.2718198150238515,2.3006887217341485,-0.0016354406682298403,-0.44155799103745624,-0.05360096166018684,0.1482445798661521,-0.31540345886485455,-1.0965840430633944,0.10640896879094265,-0.6070796967732894,-0.22733509919143075,1.9043079760497075,0.15758544829888035,-0.8467557485348001,-0.05415976370766293,-0.9788011598549242,-1.6583630823284712,0.8159503058015778,-0.25181207826404073,-0.8324733961614146,-0.6260559102319855,-0.31995726864785823,1.1849051256609375,-0.284668437153468,-1.3551041866389977,-0.44227550517139147,-0.6564605155145264,1.4465930611506095,0.025068373987287135,-0.7669606770160547,-0.5443292144876736,1.8675957298506896,0.598656129228373,-1.4141874887718855,-0.22207017252161643,-0.5557646921062268,0.023795421367580435,0.2591414523453681,0.16506972348129514,-1.6995486727841598,0.495897711386881,-2.16172874318155,0.4695045378281316,0.8808506673427354,-0.2849864405045829,-1.3827658787536463,-1.9087429354622187,0.5103912430314287,-0.569148889572966,-0.39583345631377553,1.6927286444863971,1.3794804856602336,1.02340631443928,-0.8786847928090047,-0.22365353139572725,-0.6286343213996785,0.1852315531564232,0.13414886930901337,-1.6146835134016613,1.6490844301298115,-1.5550285792794807,1.344854834805804,-1.2139962371553352,-1.8529045686615873,0.159159120937591,1.0210668604863389,-0.5824035944285543,0.08560547669436594,-0.3686773747493008,1.214718224277028,-0.051241433224650676,0.08303529764650347,0.9092419090260879,-1.0618356396353699,-1.3732900879073142,-1.751218488708866,-0.13388061656749478,0.18032175371235448,-0.2244659045304318,1.1168388101991757,-0.5571809881209141,-1.577732479354081,0.4027152366654449],\"y\":[0.4280706362665727,0.7180418134509058,0.039018123521560956,-2.223254471201788,-0.875572466427057,0.31082962918417856,0.04164485460440668,-1.3375954608338874,-1.3405437149873514,0.8572242598587281,-0.16188928162123553,-0.7187491678629951,0.3999681853251334,-0.8651274609324161,1.9398556052996982,0.37170042818699983,-1.2034611707274985,0.8393246337713155,0.41155942561230474,0.00033315878116852473,-1.6639121984076959,-1.2939308121993591,0.2302461943473713,-1.1860250330934174,-1.1250630573271623,0.3411966117332432,-0.08281182615268948,0.41842194008398625,-1.7521218805724776,1.8722464063131021,0.9523448471366392,0.5797894008773923,0.28708326315953325,-3.0335772092969595,0.12008245165224005,-0.9692412532879529,1.236861712762151,-1.813670708984641,-0.6640423586276856,2.0857608212633116,0.07078185544215489,0.13316552342725502,1.118793257633992,0.22109987484931612,0.4816167266503535,0.9007965084713055,0.23136190333438797,-0.6211815746593071,1.1791990907833874,-1.0184759389708393,0.7935063885328861,0.4739578995446759,-0.22569428492832613,2.1111501661267114,0.5805731683953766,-1.1774151325024085,0.4804288376175385,0.9389295688799837,1.3394547064736422,0.09157486827855868,0.32021176932753054,0.1508485044753879,0.0678145670140172,0.5951231144203691,-1.6454252033113301,-1.2999466345158284,0.30014825283198915,-0.9261425193798055,-0.7233485416807636,-0.3357183086594954,0.7741014105468014,-0.9680340081985276,-0.6843133483970795,0.2208022680602893,-0.7041034231797588,1.2476835296624578,0.36575625493327446,-0.7078241513496009,0.006963710275013258,-0.16294101108078116,1.5251683930463749,-0.52052292400051,0.09330851367827822,0.1980403455685616,0.16031321326067646,0.4522372122430764,1.288266420667494,-0.08501136423912654,-0.537993634388944,0.18898741128953095,-0.6879271077969086,-0.8118986993420849,-0.5951301224776799,0.849275846698981,0.48172786564149733,1.389259766341688,-0.02855002125459373,0.824790991786847,0.702338016465698,1.2060183630123236],\"type\":\"scatter\"}],                        {\"legend\":{\"bgcolor\":\"#F5F6F9\",\"font\":{\"color\":\"#4D5663\"}},\"paper_bgcolor\":\"#F5F6F9\",\"plot_bgcolor\":\"#F5F6F9\",\"template\":{\"data\":{\"barpolar\":[{\"marker\":{\"line\":{\"color\":\"#E5ECF6\",\"width\":0.5},\"pattern\":{\"fillmode\":\"overlay\",\"size\":10,\"solidity\":0.2}},\"type\":\"barpolar\"}],\"bar\":[{\"error_x\":{\"color\":\"#2a3f5f\"},\"error_y\":{\"color\":\"#2a3f5f\"},\"marker\":{\"line\":{\"color\":\"#E5ECF6\",\"width\":0.5},\"pattern\":{\"fillmode\":\"overlay\",\"size\":10,\"solidity\":0.2}},\"type\":\"bar\"}],\"carpet\":[{\"aaxis\":{\"endlinecolor\":\"#2a3f5f\",\"gridcolor\":\"white\",\"linecolor\":\"white\",\"minorgridcolor\":\"white\",\"startlinecolor\":\"#2a3f5f\"},\"baxis\":{\"endlinecolor\":\"#2a3f5f\",\"gridcolor\":\"white\",\"linecolor\":\"white\",\"minorgridcolor\":\"white\",\"startlinecolor\":\"#2a3f5f\"},\"type\":\"carpet\"}],\"choropleth\":[{\"colorbar\":{\"outlinewidth\":0,\"ticks\":\"\"},\"type\":\"choropleth\"}],\"contourcarpet\":[{\"colorbar\":{\"outlinewidth\":0,\"ticks\":\"\"},\"type\":\"contourcarpet\"}],\"contour\":[{\"colorbar\":{\"outlinewidth\":0,\"ticks\":\"\"},\"colorscale\":[[0.0,\"#0d0887\"],[0.1111111111111111,\"#46039f\"],[0.2222222222222222,\"#7201a8\"],[0.3333333333333333,\"#9c179e\"],[0.4444444444444444,\"#bd3786\"],[0.5555555555555556,\"#d8576b\"],[0.6666666666666666,\"#ed7953\"],[0.7777777777777778,\"#fb9f3a\"],[0.8888888888888888,\"#fdca26\"],[1.0,\"#f0f921\"]],\"type\":\"contour\"}],\"heatmapgl\":[{\"colorbar\":{\"outlinewidth\":0,\"ticks\":\"\"},\"colorscale\":[[0.0,\"#0d0887\"],[0.1111111111111111,\"#46039f\"],[0.2222222222222222,\"#7201a8\"],[0.3333333333333333,\"#9c179e\"],[0.4444444444444444,\"#bd3786\"],[0.5555555555555556,\"#d8576b\"],[0.6666666666666666,\"#ed7953\"],[0.7777777777777778,\"#fb9f3a\"],[0.8888888888888888,\"#fdca26\"],[1.0,\"#f0f921\"]],\"type\":\"heatmapgl\"}],\"heatmap\":[{\"colorbar\":{\"outlinewidth\":0,\"ticks\":\"\"},\"colorscale\":[[0.0,\"#0d0887\"],[0.1111111111111111,\"#46039f\"],[0.2222222222222222,\"#7201a8\"],[0.3333333333333333,\"#9c179e\"],[0.4444444444444444,\"#bd3786\"],[0.5555555555555556,\"#d8576b\"],[0.6666666666666666,\"#ed7953\"],[0.7777777777777778,\"#fb9f3a\"],[0.8888888888888888,\"#fdca26\"],[1.0,\"#f0f921\"]],\"type\":\"heatmap\"}],\"histogram2dcontour\":[{\"colorbar\":{\"outlinewidth\":0,\"ticks\":\"\"},\"colorscale\":[[0.0,\"#0d0887\"],[0.1111111111111111,\"#46039f\"],[0.2222222222222222,\"#7201a8\"],[0.3333333333333333,\"#9c179e\"],[0.4444444444444444,\"#bd3786\"],[0.5555555555555556,\"#d8576b\"],[0.6666666666666666,\"#ed7953\"],[0.7777777777777778,\"#fb9f3a\"],[0.8888888888888888,\"#fdca26\"],[1.0,\"#f0f921\"]],\"type\":\"histogram2dcontour\"}],\"histogram2d\":[{\"colorbar\":{\"outlinewidth\":0,\"ticks\":\"\"},\"colorscale\":[[0.0,\"#0d0887\"],[0.1111111111111111,\"#46039f\"],[0.2222222222222222,\"#7201a8\"],[0.3333333333333333,\"#9c179e\"],[0.4444444444444444,\"#bd3786\"],[0.5555555555555556,\"#d8576b\"],[0.6666666666666666,\"#ed7953\"],[0.7777777777777778,\"#fb9f3a\"],[0.8888888888888888,\"#fdca26\"],[1.0,\"#f0f921\"]],\"type\":\"histogram2d\"}],\"histogram\":[{\"marker\":{\"pattern\":{\"fillmode\":\"overlay\",\"size\":10,\"solidity\":0.2}},\"type\":\"histogram\"}],\"mesh3d\":[{\"colorbar\":{\"outlinewidth\":0,\"ticks\":\"\"},\"type\":\"mesh3d\"}],\"parcoords\":[{\"line\":{\"colorbar\":{\"outlinewidth\":0,\"ticks\":\"\"}},\"type\":\"parcoords\"}],\"pie\":[{\"automargin\":true,\"type\":\"pie\"}],\"scatter3d\":[{\"line\":{\"colorbar\":{\"outlinewidth\":0,\"ticks\":\"\"}},\"marker\":{\"colorbar\":{\"outlinewidth\":0,\"ticks\":\"\"}},\"type\":\"scatter3d\"}],\"scattercarpet\":[{\"marker\":{\"colorbar\":{\"outlinewidth\":0,\"ticks\":\"\"}},\"type\":\"scattercarpet\"}],\"scattergeo\":[{\"marker\":{\"colorbar\":{\"outlinewidth\":0,\"ticks\":\"\"}},\"type\":\"scattergeo\"}],\"scattergl\":[{\"marker\":{\"colorbar\":{\"outlinewidth\":0,\"ticks\":\"\"}},\"type\":\"scattergl\"}],\"scattermapbox\":[{\"marker\":{\"colorbar\":{\"outlinewidth\":0,\"ticks\":\"\"}},\"type\":\"scattermapbox\"}],\"scatterpolargl\":[{\"marker\":{\"colorbar\":{\"outlinewidth\":0,\"ticks\":\"\"}},\"type\":\"scatterpolargl\"}],\"scatterpolar\":[{\"marker\":{\"colorbar\":{\"outlinewidth\":0,\"ticks\":\"\"}},\"type\":\"scatterpolar\"}],\"scatter\":[{\"marker\":{\"colorbar\":{\"outlinewidth\":0,\"ticks\":\"\"}},\"type\":\"scatter\"}],\"scatterternary\":[{\"marker\":{\"colorbar\":{\"outlinewidth\":0,\"ticks\":\"\"}},\"type\":\"scatterternary\"}],\"surface\":[{\"colorbar\":{\"outlinewidth\":0,\"ticks\":\"\"},\"colorscale\":[[0.0,\"#0d0887\"],[0.1111111111111111,\"#46039f\"],[0.2222222222222222,\"#7201a8\"],[0.3333333333333333,\"#9c179e\"],[0.4444444444444444,\"#bd3786\"],[0.5555555555555556,\"#d8576b\"],[0.6666666666666666,\"#ed7953\"],[0.7777777777777778,\"#fb9f3a\"],[0.8888888888888888,\"#fdca26\"],[1.0,\"#f0f921\"]],\"type\":\"surface\"}],\"table\":[{\"cells\":{\"fill\":{\"color\":\"#EBF0F8\"},\"line\":{\"color\":\"white\"}},\"header\":{\"fill\":{\"color\":\"#C8D4E3\"},\"line\":{\"color\":\"white\"}},\"type\":\"table\"}]},\"layout\":{\"annotationdefaults\":{\"arrowcolor\":\"#2a3f5f\",\"arrowhead\":0,\"arrowwidth\":1},\"autotypenumbers\":\"strict\",\"coloraxis\":{\"colorbar\":{\"outlinewidth\":0,\"ticks\":\"\"}},\"colorscale\":{\"diverging\":[[0,\"#8e0152\"],[0.1,\"#c51b7d\"],[0.2,\"#de77ae\"],[0.3,\"#f1b6da\"],[0.4,\"#fde0ef\"],[0.5,\"#f7f7f7\"],[0.6,\"#e6f5d0\"],[0.7,\"#b8e186\"],[0.8,\"#7fbc41\"],[0.9,\"#4d9221\"],[1,\"#276419\"]],\"sequential\":[[0.0,\"#0d0887\"],[0.1111111111111111,\"#46039f\"],[0.2222222222222222,\"#7201a8\"],[0.3333333333333333,\"#9c179e\"],[0.4444444444444444,\"#bd3786\"],[0.5555555555555556,\"#d8576b\"],[0.6666666666666666,\"#ed7953\"],[0.7777777777777778,\"#fb9f3a\"],[0.8888888888888888,\"#fdca26\"],[1.0,\"#f0f921\"]],\"sequentialminus\":[[0.0,\"#0d0887\"],[0.1111111111111111,\"#46039f\"],[0.2222222222222222,\"#7201a8\"],[0.3333333333333333,\"#9c179e\"],[0.4444444444444444,\"#bd3786\"],[0.5555555555555556,\"#d8576b\"],[0.6666666666666666,\"#ed7953\"],[0.7777777777777778,\"#fb9f3a\"],[0.8888888888888888,\"#fdca26\"],[1.0,\"#f0f921\"]]},\"colorway\":[\"#636efa\",\"#EF553B\",\"#00cc96\",\"#ab63fa\",\"#FFA15A\",\"#19d3f3\",\"#FF6692\",\"#B6E880\",\"#FF97FF\",\"#FECB52\"],\"font\":{\"color\":\"#2a3f5f\"},\"geo\":{\"bgcolor\":\"white\",\"lakecolor\":\"white\",\"landcolor\":\"#E5ECF6\",\"showlakes\":true,\"showland\":true,\"subunitcolor\":\"white\"},\"hoverlabel\":{\"align\":\"left\"},\"hovermode\":\"closest\",\"mapbox\":{\"style\":\"light\"},\"paper_bgcolor\":\"white\",\"plot_bgcolor\":\"#E5ECF6\",\"polar\":{\"angularaxis\":{\"gridcolor\":\"white\",\"linecolor\":\"white\",\"ticks\":\"\"},\"bgcolor\":\"#E5ECF6\",\"radialaxis\":{\"gridcolor\":\"white\",\"linecolor\":\"white\",\"ticks\":\"\"}},\"scene\":{\"xaxis\":{\"backgroundcolor\":\"#E5ECF6\",\"gridcolor\":\"white\",\"gridwidth\":2,\"linecolor\":\"white\",\"showbackground\":true,\"ticks\":\"\",\"zerolinecolor\":\"white\"},\"yaxis\":{\"backgroundcolor\":\"#E5ECF6\",\"gridcolor\":\"white\",\"gridwidth\":2,\"linecolor\":\"white\",\"showbackground\":true,\"ticks\":\"\",\"zerolinecolor\":\"white\"},\"zaxis\":{\"backgroundcolor\":\"#E5ECF6\",\"gridcolor\":\"white\",\"gridwidth\":2,\"linecolor\":\"white\",\"showbackground\":true,\"ticks\":\"\",\"zerolinecolor\":\"white\"}},\"shapedefaults\":{\"line\":{\"color\":\"#2a3f5f\"}},\"ternary\":{\"aaxis\":{\"gridcolor\":\"white\",\"linecolor\":\"white\",\"ticks\":\"\"},\"baxis\":{\"gridcolor\":\"white\",\"linecolor\":\"white\",\"ticks\":\"\"},\"bgcolor\":\"#E5ECF6\",\"caxis\":{\"gridcolor\":\"white\",\"linecolor\":\"white\",\"ticks\":\"\"}},\"title\":{\"x\":0.05},\"xaxis\":{\"automargin\":true,\"gridcolor\":\"white\",\"linecolor\":\"white\",\"ticks\":\"\",\"title\":{\"standoff\":15},\"zerolinecolor\":\"white\",\"zerolinewidth\":2},\"yaxis\":{\"automargin\":true,\"gridcolor\":\"white\",\"linecolor\":\"white\",\"ticks\":\"\",\"title\":{\"standoff\":15},\"zerolinecolor\":\"white\",\"zerolinewidth\":2}}},\"title\":{\"font\":{\"color\":\"#4D5663\"}},\"xaxis\":{\"gridcolor\":\"#E1E5ED\",\"showgrid\":true,\"tickfont\":{\"color\":\"#4D5663\"},\"title\":{\"font\":{\"color\":\"#4D5663\"},\"text\":\"\"},\"zerolinecolor\":\"#E1E5ED\"},\"yaxis\":{\"gridcolor\":\"#E1E5ED\",\"showgrid\":true,\"tickfont\":{\"color\":\"#4D5663\"},\"title\":{\"font\":{\"color\":\"#4D5663\"},\"text\":\"\"},\"zerolinecolor\":\"#E1E5ED\"}},                        {\"showLink\": true, \"linkText\": \"Export to plot.ly\", \"plotlyServerURL\": \"https://plot.ly\", \"responsive\": true}                    ).then(function(){\n",
       "                            \n",
       "var gd = document.getElementById('70b083e8-9725-4e81-8682-a2c95d19c82e');\n",
       "var x = new MutationObserver(function (mutations, observer) {{\n",
       "        var display = window.getComputedStyle(gd).display;\n",
       "        if (!display || display === 'none') {{\n",
       "            console.log([gd, 'removed!']);\n",
       "            Plotly.purge(gd);\n",
       "            observer.disconnect();\n",
       "        }}\n",
       "}});\n",
       "\n",
       "// Listen for the removal of the full notebook cells\n",
       "var notebookContainer = gd.closest('#notebook-container');\n",
       "if (notebookContainer) {{\n",
       "    x.observe(notebookContainer, {childList: true});\n",
       "}}\n",
       "\n",
       "// Listen for the clearing of the current output cell\n",
       "var outputEl = gd.closest('.output');\n",
       "if (outputEl) {{\n",
       "    x.observe(outputEl, {childList: true});\n",
       "}}\n",
       "\n",
       "                        })                };                });            </script>        </div>"
      ]
     },
     "metadata": {},
     "output_type": "display_data"
    }
   ],
   "source": [
    "df.iplot(kind='bubble',x='A',y='B',size='C')"
   ]
  },
  {
   "cell_type": "markdown",
   "metadata": {},
   "source": [
    "## scatter_matrix()\n",
    "\n",
    "Similar to sns.pairplot()"
   ]
  },
  {
   "cell_type": "code",
   "execution_count": 19,
   "metadata": {},
   "outputs": [
    {
     "data": {
      "application/vnd.plotly.v1+json": {
       "config": {
        "linkText": "Export to plot.ly",
        "plotlyServerURL": "https://plot.ly",
        "showLink": true
       },
       "data": [
        {
         "histfunc": "count",
         "histnorm": "",
         "marker": {
          "color": "rgba(255, 153, 51, 1.0)",
          "line": {
           "color": "#4D5663",
           "width": 1.3
          }
         },
         "name": "A",
         "nbinsx": 10,
         "opacity": 0.8,
         "orientation": "v",
         "type": "histogram",
         "x": [
          0.4395119976966545,
          0.020152580888882565,
          -0.37407441444430184,
          -0.539926331737172,
          -1.1415136887036064,
          0.8166657567438118,
          -0.6224297536168503,
          0.7308894349710953,
          0.7203192879102357,
          -1.3737647648303697,
          -1.23119009378185,
          0.3198538375639925,
          0.26348650235568355,
          0.6488757306353029,
          -0.00728590715634182,
          -0.7565433586862875,
          -0.6563581332656321,
          -0.2718198150238515,
          2.3006887217341485,
          -0.0016354406682298403,
          -0.44155799103745624,
          -0.05360096166018684,
          0.1482445798661521,
          -0.31540345886485455,
          -1.0965840430633944,
          0.10640896879094265,
          -0.6070796967732894,
          -0.22733509919143075,
          1.9043079760497075,
          0.15758544829888035,
          -0.8467557485348001,
          -0.05415976370766293,
          -0.9788011598549242,
          -1.6583630823284712,
          0.8159503058015778,
          -0.25181207826404073,
          -0.8324733961614146,
          -0.6260559102319855,
          -0.31995726864785823,
          1.1849051256609375,
          -0.284668437153468,
          -1.3551041866389977,
          -0.44227550517139147,
          -0.6564605155145264,
          1.4465930611506095,
          0.025068373987287135,
          -0.7669606770160547,
          -0.5443292144876736,
          1.8675957298506896,
          0.598656129228373,
          -1.4141874887718855,
          -0.22207017252161643,
          -0.5557646921062268,
          0.023795421367580435,
          0.2591414523453681,
          0.16506972348129514,
          -1.6995486727841598,
          0.495897711386881,
          -2.16172874318155,
          0.4695045378281316,
          0.8808506673427354,
          -0.2849864405045829,
          -1.3827658787536463,
          -1.9087429354622187,
          0.5103912430314287,
          -0.569148889572966,
          -0.39583345631377553,
          1.6927286444863971,
          1.3794804856602336,
          1.02340631443928,
          -0.8786847928090047,
          -0.22365353139572725,
          -0.6286343213996785,
          0.1852315531564232,
          0.13414886930901337,
          -1.6146835134016613,
          1.6490844301298115,
          -1.5550285792794807,
          1.344854834805804,
          -1.2139962371553352,
          -1.8529045686615873,
          0.159159120937591,
          1.0210668604863389,
          -0.5824035944285543,
          0.08560547669436594,
          -0.3686773747493008,
          1.214718224277028,
          -0.051241433224650676,
          0.08303529764650347,
          0.9092419090260879,
          -1.0618356396353699,
          -1.3732900879073142,
          -1.751218488708866,
          -0.13388061656749478,
          0.18032175371235448,
          -0.2244659045304318,
          1.1168388101991757,
          -0.5571809881209141,
          -1.577732479354081,
          0.4027152366654449
         ],
         "xaxis": "x",
         "yaxis": "y"
        },
        {
         "line": {
          "color": "rgba(128, 128, 128, 1.0)",
          "dash": "solid",
          "shape": "linear",
          "width": 1.3
         },
         "marker": {
          "size": 2,
          "symbol": "circle"
         },
         "mode": "markers",
         "name": "A",
         "text": "",
         "type": "scatter",
         "x": [
          0.4280706362665727,
          0.7180418134509058,
          0.039018123521560956,
          -2.223254471201788,
          -0.875572466427057,
          0.31082962918417856,
          0.04164485460440668,
          -1.3375954608338874,
          -1.3405437149873514,
          0.8572242598587281,
          -0.16188928162123553,
          -0.7187491678629951,
          0.3999681853251334,
          -0.8651274609324161,
          1.9398556052996982,
          0.37170042818699983,
          -1.2034611707274985,
          0.8393246337713155,
          0.41155942561230474,
          0.00033315878116852473,
          -1.6639121984076959,
          -1.2939308121993591,
          0.2302461943473713,
          -1.1860250330934174,
          -1.1250630573271623,
          0.3411966117332432,
          -0.08281182615268948,
          0.41842194008398625,
          -1.7521218805724776,
          1.8722464063131021,
          0.9523448471366392,
          0.5797894008773923,
          0.28708326315953325,
          -3.0335772092969595,
          0.12008245165224005,
          -0.9692412532879529,
          1.236861712762151,
          -1.813670708984641,
          -0.6640423586276856,
          2.0857608212633116,
          0.07078185544215489,
          0.13316552342725502,
          1.118793257633992,
          0.22109987484931612,
          0.4816167266503535,
          0.9007965084713055,
          0.23136190333438797,
          -0.6211815746593071,
          1.1791990907833874,
          -1.0184759389708393,
          0.7935063885328861,
          0.4739578995446759,
          -0.22569428492832613,
          2.1111501661267114,
          0.5805731683953766,
          -1.1774151325024085,
          0.4804288376175385,
          0.9389295688799837,
          1.3394547064736422,
          0.09157486827855868,
          0.32021176932753054,
          0.1508485044753879,
          0.0678145670140172,
          0.5951231144203691,
          -1.6454252033113301,
          -1.2999466345158284,
          0.30014825283198915,
          -0.9261425193798055,
          -0.7233485416807636,
          -0.3357183086594954,
          0.7741014105468014,
          -0.9680340081985276,
          -0.6843133483970795,
          0.2208022680602893,
          -0.7041034231797588,
          1.2476835296624578,
          0.36575625493327446,
          -0.7078241513496009,
          0.006963710275013258,
          -0.16294101108078116,
          1.5251683930463749,
          -0.52052292400051,
          0.09330851367827822,
          0.1980403455685616,
          0.16031321326067646,
          0.4522372122430764,
          1.288266420667494,
          -0.08501136423912654,
          -0.537993634388944,
          0.18898741128953095,
          -0.6879271077969086,
          -0.8118986993420849,
          -0.5951301224776799,
          0.849275846698981,
          0.48172786564149733,
          1.389259766341688,
          -0.02855002125459373,
          0.824790991786847,
          0.702338016465698,
          1.2060183630123236
         ],
         "xaxis": "x2",
         "y": [
          0.4395119976966545,
          0.020152580888882565,
          -0.37407441444430184,
          -0.539926331737172,
          -1.1415136887036064,
          0.8166657567438118,
          -0.6224297536168503,
          0.7308894349710953,
          0.7203192879102357,
          -1.3737647648303697,
          -1.23119009378185,
          0.3198538375639925,
          0.26348650235568355,
          0.6488757306353029,
          -0.00728590715634182,
          -0.7565433586862875,
          -0.6563581332656321,
          -0.2718198150238515,
          2.3006887217341485,
          -0.0016354406682298403,
          -0.44155799103745624,
          -0.05360096166018684,
          0.1482445798661521,
          -0.31540345886485455,
          -1.0965840430633944,
          0.10640896879094265,
          -0.6070796967732894,
          -0.22733509919143075,
          1.9043079760497075,
          0.15758544829888035,
          -0.8467557485348001,
          -0.05415976370766293,
          -0.9788011598549242,
          -1.6583630823284712,
          0.8159503058015778,
          -0.25181207826404073,
          -0.8324733961614146,
          -0.6260559102319855,
          -0.31995726864785823,
          1.1849051256609375,
          -0.284668437153468,
          -1.3551041866389977,
          -0.44227550517139147,
          -0.6564605155145264,
          1.4465930611506095,
          0.025068373987287135,
          -0.7669606770160547,
          -0.5443292144876736,
          1.8675957298506896,
          0.598656129228373,
          -1.4141874887718855,
          -0.22207017252161643,
          -0.5557646921062268,
          0.023795421367580435,
          0.2591414523453681,
          0.16506972348129514,
          -1.6995486727841598,
          0.495897711386881,
          -2.16172874318155,
          0.4695045378281316,
          0.8808506673427354,
          -0.2849864405045829,
          -1.3827658787536463,
          -1.9087429354622187,
          0.5103912430314287,
          -0.569148889572966,
          -0.39583345631377553,
          1.6927286444863971,
          1.3794804856602336,
          1.02340631443928,
          -0.8786847928090047,
          -0.22365353139572725,
          -0.6286343213996785,
          0.1852315531564232,
          0.13414886930901337,
          -1.6146835134016613,
          1.6490844301298115,
          -1.5550285792794807,
          1.344854834805804,
          -1.2139962371553352,
          -1.8529045686615873,
          0.159159120937591,
          1.0210668604863389,
          -0.5824035944285543,
          0.08560547669436594,
          -0.3686773747493008,
          1.214718224277028,
          -0.051241433224650676,
          0.08303529764650347,
          0.9092419090260879,
          -1.0618356396353699,
          -1.3732900879073142,
          -1.751218488708866,
          -0.13388061656749478,
          0.18032175371235448,
          -0.2244659045304318,
          1.1168388101991757,
          -0.5571809881209141,
          -1.577732479354081,
          0.4027152366654449
         ],
         "yaxis": "y2"
        },
        {
         "line": {
          "color": "rgba(128, 128, 128, 1.0)",
          "dash": "solid",
          "shape": "linear",
          "width": 1.3
         },
         "marker": {
          "size": 2,
          "symbol": "circle"
         },
         "mode": "markers",
         "name": "A",
         "text": "",
         "type": "scatter",
         "x": [
          -1.3787152783508723,
          -0.7261164047389449,
          0.2224364093928684,
          1.1477624692750603,
          -1.43775668031013,
          0.03134895951287714,
          0.5744870610575307,
          -1.266687721886195,
          -0.19289617140422258,
          1.511559448278765,
          -0.5119282086892993,
          -2.2392587865674574,
          -0.6209115834293467,
          1.1137304776579646,
          1.0742908031611498,
          0.2037310729229849,
          -0.747303255099262,
          -0.9692202000526821,
          -1.089312084525815,
          -0.8833887607330014,
          0.13506777324616978,
          0.0707313620850424,
          1.823478001044083,
          0.0017497707721843754,
          0.8812661765541764,
          1.0235957674378207,
          0.23657683002359883,
          0.3550476835109541,
          1.4749191367053716,
          -0.5724932191421319,
          -0.6151418387655972,
          -0.785001406471968,
          -0.06993434253506313,
          -0.21535988326079006,
          0.47982251383891333,
          0.9716315951462331,
          -0.15185219545189366,
          1.9164780515109556,
          0.5987294120376846,
          -0.22795902511024854,
          -0.5585658480008592,
          -1.6913077332985833,
          0.25352182758564246,
          0.11803801505601494,
          0.7879975858188688,
          -0.5032812994273885,
          -1.7239067650251179,
          -0.5218210287612856,
          1.3743061449298846,
          0.9563603916667522,
          -0.10302531350948356,
          -1.0078148568916971,
          0.8530414622148793,
          0.3267258270809262,
          2.3855970082680136,
          -1.2679195947325799,
          -0.7032649912550678,
          0.6859312164945162,
          -0.11386304522157245,
          -1.0909068628349752,
          -0.13485185096848448,
          0.3129069963160951,
          0.3251879215144967,
          -2.464840591968921,
          -0.4136242042591343,
          -0.31016615436486994,
          -1.4840374002833763,
          -1.2562717159180883,
          -0.1916699473663112,
          0.29825808080300975,
          0.8299314382112951,
          -2.679638974552658,
          -1.4593854710372014,
          0.02556938465970596,
          1.0089076132913224,
          -0.2562859582883714,
          -0.05081801986273233,
          -0.7239080962437932,
          1.4006042469358264,
          0.26662768618565924,
          0.07141262901645731,
          -1.1891995815160468,
          -0.8464327135962876,
          -0.1493251183698699,
          0.20426726621922955,
          -0.014680966834019888,
          -0.6686931887825628,
          0.7801346385676716,
          1.3176659548439453,
          -1.2567470968963135,
          0.5083603229557176,
          -1.210794346863032,
          0.49075215782348397,
          -0.23425557424750665,
          -0.491208269335909,
          -0.41090303463772354,
          0.1253723206034941,
          -0.1770910238483198,
          0.64196514060045,
          -0.7382162956891389
         ],
         "xaxis": "x3",
         "y": [
          0.4395119976966545,
          0.020152580888882565,
          -0.37407441444430184,
          -0.539926331737172,
          -1.1415136887036064,
          0.8166657567438118,
          -0.6224297536168503,
          0.7308894349710953,
          0.7203192879102357,
          -1.3737647648303697,
          -1.23119009378185,
          0.3198538375639925,
          0.26348650235568355,
          0.6488757306353029,
          -0.00728590715634182,
          -0.7565433586862875,
          -0.6563581332656321,
          -0.2718198150238515,
          2.3006887217341485,
          -0.0016354406682298403,
          -0.44155799103745624,
          -0.05360096166018684,
          0.1482445798661521,
          -0.31540345886485455,
          -1.0965840430633944,
          0.10640896879094265,
          -0.6070796967732894,
          -0.22733509919143075,
          1.9043079760497075,
          0.15758544829888035,
          -0.8467557485348001,
          -0.05415976370766293,
          -0.9788011598549242,
          -1.6583630823284712,
          0.8159503058015778,
          -0.25181207826404073,
          -0.8324733961614146,
          -0.6260559102319855,
          -0.31995726864785823,
          1.1849051256609375,
          -0.284668437153468,
          -1.3551041866389977,
          -0.44227550517139147,
          -0.6564605155145264,
          1.4465930611506095,
          0.025068373987287135,
          -0.7669606770160547,
          -0.5443292144876736,
          1.8675957298506896,
          0.598656129228373,
          -1.4141874887718855,
          -0.22207017252161643,
          -0.5557646921062268,
          0.023795421367580435,
          0.2591414523453681,
          0.16506972348129514,
          -1.6995486727841598,
          0.495897711386881,
          -2.16172874318155,
          0.4695045378281316,
          0.8808506673427354,
          -0.2849864405045829,
          -1.3827658787536463,
          -1.9087429354622187,
          0.5103912430314287,
          -0.569148889572966,
          -0.39583345631377553,
          1.6927286444863971,
          1.3794804856602336,
          1.02340631443928,
          -0.8786847928090047,
          -0.22365353139572725,
          -0.6286343213996785,
          0.1852315531564232,
          0.13414886930901337,
          -1.6146835134016613,
          1.6490844301298115,
          -1.5550285792794807,
          1.344854834805804,
          -1.2139962371553352,
          -1.8529045686615873,
          0.159159120937591,
          1.0210668604863389,
          -0.5824035944285543,
          0.08560547669436594,
          -0.3686773747493008,
          1.214718224277028,
          -0.051241433224650676,
          0.08303529764650347,
          0.9092419090260879,
          -1.0618356396353699,
          -1.3732900879073142,
          -1.751218488708866,
          -0.13388061656749478,
          0.18032175371235448,
          -0.2244659045304318,
          1.1168388101991757,
          -0.5571809881209141,
          -1.577732479354081,
          0.4027152366654449
         ],
         "yaxis": "y3"
        },
        {
         "line": {
          "color": "rgba(128, 128, 128, 1.0)",
          "dash": "solid",
          "shape": "linear",
          "width": 1.3
         },
         "marker": {
          "size": 2,
          "symbol": "circle"
         },
         "mode": "markers",
         "name": "A",
         "text": "",
         "type": "scatter",
         "x": [
          -1.1967289396768255,
          1.2084432000283791,
          0.8933907011808402,
          -0.8370158225021228,
          0.054950493197835515,
          0.5860648950484921,
          -1.206159653786153,
          -1.3367167539770204,
          2.8497056325844543,
          0.9956369394940869,
          0.6540089889820164,
          0.9585317492454164,
          0.3019461375428145,
          0.19767604148168808,
          -0.4960146597360244,
          1.0756165309549053,
          -0.8027153007638427,
          -0.08034286733634763,
          -1.204866882713637,
          -0.41572374720294475,
          -0.5287185888597782,
          -1.14707233465738,
          1.3446654002925569,
          0.2568536330956374,
          -0.5323714140329171,
          1.2398961931457892,
          1.4442012086018585,
          1.069815796772237,
          0.5253046744459509,
          0.36848600823081673,
          -1.1847475275339265,
          0.18463520870993408,
          -0.7335492239208102,
          -0.6608140230403634,
          0.5541255252479335,
          -0.6511684460602217,
          1.3966857462767777,
          -1.2765360716787524,
          -0.5152702421444836,
          1.9961919196856333,
          -0.039022698835690046,
          -0.2711135131224415,
          0.8157118601985619,
          -0.5444507317925322,
          2.1148452807225313,
          0.7065047348761125,
          -0.4122010677180778,
          0.9562033334417854,
          -0.3343863542874556,
          1.0635811975822256,
          -0.8901113319022214,
          -0.9707319048907495,
          0.11750305277438047,
          0.5125801934010197,
          0.8820371120292264,
          -1.5127005028648477,
          -1.3452836762709413,
          -1.9690238357572543,
          0.3724814484372588,
          -1.8661858341078816,
          0.7366606002034869,
          0.6041716774061525,
          0.2879542430778189,
          -0.6754479161116611,
          0.26904873586986455,
          0.06412280548588511,
          0.06204911990921217,
          0.0738620732575893,
          -0.04608161944249293,
          1.5052820485557334,
          -0.558234092678066,
          1.694079222413143,
          -0.9859262016838821,
          -0.5568580147130638,
          -0.5628776136903292,
          -1.7797469095823264,
          2.336554074194825,
          1.2159567018224806,
          3.0013639387321267,
          -0.6690431278261364,
          0.5831165054421106,
          -0.17957168727507763,
          -1.05408682762937,
          1.054388650493122,
          0.8090774739975908,
          -0.6579767901037481,
          -0.9504732356908544,
          -0.5229477945471815,
          -1.597724701485542,
          -0.6646905240051703,
          2.6778532402627384,
          -0.7649615732126199,
          -0.48474264712567455,
          1.9086937085617424,
          -0.5947555058493647,
          -1.9752792336692437,
          0.07151503161795482,
          -0.1619635020316879,
          0.28942867811686473,
          0.418738043076987
         ],
         "xaxis": "x4",
         "y": [
          0.4395119976966545,
          0.020152580888882565,
          -0.37407441444430184,
          -0.539926331737172,
          -1.1415136887036064,
          0.8166657567438118,
          -0.6224297536168503,
          0.7308894349710953,
          0.7203192879102357,
          -1.3737647648303697,
          -1.23119009378185,
          0.3198538375639925,
          0.26348650235568355,
          0.6488757306353029,
          -0.00728590715634182,
          -0.7565433586862875,
          -0.6563581332656321,
          -0.2718198150238515,
          2.3006887217341485,
          -0.0016354406682298403,
          -0.44155799103745624,
          -0.05360096166018684,
          0.1482445798661521,
          -0.31540345886485455,
          -1.0965840430633944,
          0.10640896879094265,
          -0.6070796967732894,
          -0.22733509919143075,
          1.9043079760497075,
          0.15758544829888035,
          -0.8467557485348001,
          -0.05415976370766293,
          -0.9788011598549242,
          -1.6583630823284712,
          0.8159503058015778,
          -0.25181207826404073,
          -0.8324733961614146,
          -0.6260559102319855,
          -0.31995726864785823,
          1.1849051256609375,
          -0.284668437153468,
          -1.3551041866389977,
          -0.44227550517139147,
          -0.6564605155145264,
          1.4465930611506095,
          0.025068373987287135,
          -0.7669606770160547,
          -0.5443292144876736,
          1.8675957298506896,
          0.598656129228373,
          -1.4141874887718855,
          -0.22207017252161643,
          -0.5557646921062268,
          0.023795421367580435,
          0.2591414523453681,
          0.16506972348129514,
          -1.6995486727841598,
          0.495897711386881,
          -2.16172874318155,
          0.4695045378281316,
          0.8808506673427354,
          -0.2849864405045829,
          -1.3827658787536463,
          -1.9087429354622187,
          0.5103912430314287,
          -0.569148889572966,
          -0.39583345631377553,
          1.6927286444863971,
          1.3794804856602336,
          1.02340631443928,
          -0.8786847928090047,
          -0.22365353139572725,
          -0.6286343213996785,
          0.1852315531564232,
          0.13414886930901337,
          -1.6146835134016613,
          1.6490844301298115,
          -1.5550285792794807,
          1.344854834805804,
          -1.2139962371553352,
          -1.8529045686615873,
          0.159159120937591,
          1.0210668604863389,
          -0.5824035944285543,
          0.08560547669436594,
          -0.3686773747493008,
          1.214718224277028,
          -0.051241433224650676,
          0.08303529764650347,
          0.9092419090260879,
          -1.0618356396353699,
          -1.3732900879073142,
          -1.751218488708866,
          -0.13388061656749478,
          0.18032175371235448,
          -0.2244659045304318,
          1.1168388101991757,
          -0.5571809881209141,
          -1.577732479354081,
          0.4027152366654449
         ],
         "yaxis": "y4"
        },
        {
         "line": {
          "color": "rgba(128, 128, 128, 1.0)",
          "dash": "solid",
          "shape": "linear",
          "width": 1.3
         },
         "marker": {
          "size": 2,
          "symbol": "circle"
         },
         "mode": "markers",
         "name": "B",
         "text": "",
         "type": "scatter",
         "x": [
          0.4395119976966545,
          0.020152580888882565,
          -0.37407441444430184,
          -0.539926331737172,
          -1.1415136887036064,
          0.8166657567438118,
          -0.6224297536168503,
          0.7308894349710953,
          0.7203192879102357,
          -1.3737647648303697,
          -1.23119009378185,
          0.3198538375639925,
          0.26348650235568355,
          0.6488757306353029,
          -0.00728590715634182,
          -0.7565433586862875,
          -0.6563581332656321,
          -0.2718198150238515,
          2.3006887217341485,
          -0.0016354406682298403,
          -0.44155799103745624,
          -0.05360096166018684,
          0.1482445798661521,
          -0.31540345886485455,
          -1.0965840430633944,
          0.10640896879094265,
          -0.6070796967732894,
          -0.22733509919143075,
          1.9043079760497075,
          0.15758544829888035,
          -0.8467557485348001,
          -0.05415976370766293,
          -0.9788011598549242,
          -1.6583630823284712,
          0.8159503058015778,
          -0.25181207826404073,
          -0.8324733961614146,
          -0.6260559102319855,
          -0.31995726864785823,
          1.1849051256609375,
          -0.284668437153468,
          -1.3551041866389977,
          -0.44227550517139147,
          -0.6564605155145264,
          1.4465930611506095,
          0.025068373987287135,
          -0.7669606770160547,
          -0.5443292144876736,
          1.8675957298506896,
          0.598656129228373,
          -1.4141874887718855,
          -0.22207017252161643,
          -0.5557646921062268,
          0.023795421367580435,
          0.2591414523453681,
          0.16506972348129514,
          -1.6995486727841598,
          0.495897711386881,
          -2.16172874318155,
          0.4695045378281316,
          0.8808506673427354,
          -0.2849864405045829,
          -1.3827658787536463,
          -1.9087429354622187,
          0.5103912430314287,
          -0.569148889572966,
          -0.39583345631377553,
          1.6927286444863971,
          1.3794804856602336,
          1.02340631443928,
          -0.8786847928090047,
          -0.22365353139572725,
          -0.6286343213996785,
          0.1852315531564232,
          0.13414886930901337,
          -1.6146835134016613,
          1.6490844301298115,
          -1.5550285792794807,
          1.344854834805804,
          -1.2139962371553352,
          -1.8529045686615873,
          0.159159120937591,
          1.0210668604863389,
          -0.5824035944285543,
          0.08560547669436594,
          -0.3686773747493008,
          1.214718224277028,
          -0.051241433224650676,
          0.08303529764650347,
          0.9092419090260879,
          -1.0618356396353699,
          -1.3732900879073142,
          -1.751218488708866,
          -0.13388061656749478,
          0.18032175371235448,
          -0.2244659045304318,
          1.1168388101991757,
          -0.5571809881209141,
          -1.577732479354081,
          0.4027152366654449
         ],
         "xaxis": "x5",
         "y": [
          0.4280706362665727,
          0.7180418134509058,
          0.039018123521560956,
          -2.223254471201788,
          -0.875572466427057,
          0.31082962918417856,
          0.04164485460440668,
          -1.3375954608338874,
          -1.3405437149873514,
          0.8572242598587281,
          -0.16188928162123553,
          -0.7187491678629951,
          0.3999681853251334,
          -0.8651274609324161,
          1.9398556052996982,
          0.37170042818699983,
          -1.2034611707274985,
          0.8393246337713155,
          0.41155942561230474,
          0.00033315878116852473,
          -1.6639121984076959,
          -1.2939308121993591,
          0.2302461943473713,
          -1.1860250330934174,
          -1.1250630573271623,
          0.3411966117332432,
          -0.08281182615268948,
          0.41842194008398625,
          -1.7521218805724776,
          1.8722464063131021,
          0.9523448471366392,
          0.5797894008773923,
          0.28708326315953325,
          -3.0335772092969595,
          0.12008245165224005,
          -0.9692412532879529,
          1.236861712762151,
          -1.813670708984641,
          -0.6640423586276856,
          2.0857608212633116,
          0.07078185544215489,
          0.13316552342725502,
          1.118793257633992,
          0.22109987484931612,
          0.4816167266503535,
          0.9007965084713055,
          0.23136190333438797,
          -0.6211815746593071,
          1.1791990907833874,
          -1.0184759389708393,
          0.7935063885328861,
          0.4739578995446759,
          -0.22569428492832613,
          2.1111501661267114,
          0.5805731683953766,
          -1.1774151325024085,
          0.4804288376175385,
          0.9389295688799837,
          1.3394547064736422,
          0.09157486827855868,
          0.32021176932753054,
          0.1508485044753879,
          0.0678145670140172,
          0.5951231144203691,
          -1.6454252033113301,
          -1.2999466345158284,
          0.30014825283198915,
          -0.9261425193798055,
          -0.7233485416807636,
          -0.3357183086594954,
          0.7741014105468014,
          -0.9680340081985276,
          -0.6843133483970795,
          0.2208022680602893,
          -0.7041034231797588,
          1.2476835296624578,
          0.36575625493327446,
          -0.7078241513496009,
          0.006963710275013258,
          -0.16294101108078116,
          1.5251683930463749,
          -0.52052292400051,
          0.09330851367827822,
          0.1980403455685616,
          0.16031321326067646,
          0.4522372122430764,
          1.288266420667494,
          -0.08501136423912654,
          -0.537993634388944,
          0.18898741128953095,
          -0.6879271077969086,
          -0.8118986993420849,
          -0.5951301224776799,
          0.849275846698981,
          0.48172786564149733,
          1.389259766341688,
          -0.02855002125459373,
          0.824790991786847,
          0.702338016465698,
          1.2060183630123236
         ],
         "yaxis": "y5"
        },
        {
         "histfunc": "count",
         "histnorm": "",
         "marker": {
          "color": "rgba(55, 128, 191, 1.0)",
          "line": {
           "color": "#4D5663",
           "width": 1.3
          }
         },
         "name": "B",
         "nbinsx": 10,
         "opacity": 0.8,
         "orientation": "v",
         "type": "histogram",
         "x": [
          0.4280706362665727,
          0.7180418134509058,
          0.039018123521560956,
          -2.223254471201788,
          -0.875572466427057,
          0.31082962918417856,
          0.04164485460440668,
          -1.3375954608338874,
          -1.3405437149873514,
          0.8572242598587281,
          -0.16188928162123553,
          -0.7187491678629951,
          0.3999681853251334,
          -0.8651274609324161,
          1.9398556052996982,
          0.37170042818699983,
          -1.2034611707274985,
          0.8393246337713155,
          0.41155942561230474,
          0.00033315878116852473,
          -1.6639121984076959,
          -1.2939308121993591,
          0.2302461943473713,
          -1.1860250330934174,
          -1.1250630573271623,
          0.3411966117332432,
          -0.08281182615268948,
          0.41842194008398625,
          -1.7521218805724776,
          1.8722464063131021,
          0.9523448471366392,
          0.5797894008773923,
          0.28708326315953325,
          -3.0335772092969595,
          0.12008245165224005,
          -0.9692412532879529,
          1.236861712762151,
          -1.813670708984641,
          -0.6640423586276856,
          2.0857608212633116,
          0.07078185544215489,
          0.13316552342725502,
          1.118793257633992,
          0.22109987484931612,
          0.4816167266503535,
          0.9007965084713055,
          0.23136190333438797,
          -0.6211815746593071,
          1.1791990907833874,
          -1.0184759389708393,
          0.7935063885328861,
          0.4739578995446759,
          -0.22569428492832613,
          2.1111501661267114,
          0.5805731683953766,
          -1.1774151325024085,
          0.4804288376175385,
          0.9389295688799837,
          1.3394547064736422,
          0.09157486827855868,
          0.32021176932753054,
          0.1508485044753879,
          0.0678145670140172,
          0.5951231144203691,
          -1.6454252033113301,
          -1.2999466345158284,
          0.30014825283198915,
          -0.9261425193798055,
          -0.7233485416807636,
          -0.3357183086594954,
          0.7741014105468014,
          -0.9680340081985276,
          -0.6843133483970795,
          0.2208022680602893,
          -0.7041034231797588,
          1.2476835296624578,
          0.36575625493327446,
          -0.7078241513496009,
          0.006963710275013258,
          -0.16294101108078116,
          1.5251683930463749,
          -0.52052292400051,
          0.09330851367827822,
          0.1980403455685616,
          0.16031321326067646,
          0.4522372122430764,
          1.288266420667494,
          -0.08501136423912654,
          -0.537993634388944,
          0.18898741128953095,
          -0.6879271077969086,
          -0.8118986993420849,
          -0.5951301224776799,
          0.849275846698981,
          0.48172786564149733,
          1.389259766341688,
          -0.02855002125459373,
          0.824790991786847,
          0.702338016465698,
          1.2060183630123236
         ],
         "xaxis": "x6",
         "yaxis": "y6"
        },
        {
         "line": {
          "color": "rgba(128, 128, 128, 1.0)",
          "dash": "solid",
          "shape": "linear",
          "width": 1.3
         },
         "marker": {
          "size": 2,
          "symbol": "circle"
         },
         "mode": "markers",
         "name": "B",
         "text": "",
         "type": "scatter",
         "x": [
          -1.3787152783508723,
          -0.7261164047389449,
          0.2224364093928684,
          1.1477624692750603,
          -1.43775668031013,
          0.03134895951287714,
          0.5744870610575307,
          -1.266687721886195,
          -0.19289617140422258,
          1.511559448278765,
          -0.5119282086892993,
          -2.2392587865674574,
          -0.6209115834293467,
          1.1137304776579646,
          1.0742908031611498,
          0.2037310729229849,
          -0.747303255099262,
          -0.9692202000526821,
          -1.089312084525815,
          -0.8833887607330014,
          0.13506777324616978,
          0.0707313620850424,
          1.823478001044083,
          0.0017497707721843754,
          0.8812661765541764,
          1.0235957674378207,
          0.23657683002359883,
          0.3550476835109541,
          1.4749191367053716,
          -0.5724932191421319,
          -0.6151418387655972,
          -0.785001406471968,
          -0.06993434253506313,
          -0.21535988326079006,
          0.47982251383891333,
          0.9716315951462331,
          -0.15185219545189366,
          1.9164780515109556,
          0.5987294120376846,
          -0.22795902511024854,
          -0.5585658480008592,
          -1.6913077332985833,
          0.25352182758564246,
          0.11803801505601494,
          0.7879975858188688,
          -0.5032812994273885,
          -1.7239067650251179,
          -0.5218210287612856,
          1.3743061449298846,
          0.9563603916667522,
          -0.10302531350948356,
          -1.0078148568916971,
          0.8530414622148793,
          0.3267258270809262,
          2.3855970082680136,
          -1.2679195947325799,
          -0.7032649912550678,
          0.6859312164945162,
          -0.11386304522157245,
          -1.0909068628349752,
          -0.13485185096848448,
          0.3129069963160951,
          0.3251879215144967,
          -2.464840591968921,
          -0.4136242042591343,
          -0.31016615436486994,
          -1.4840374002833763,
          -1.2562717159180883,
          -0.1916699473663112,
          0.29825808080300975,
          0.8299314382112951,
          -2.679638974552658,
          -1.4593854710372014,
          0.02556938465970596,
          1.0089076132913224,
          -0.2562859582883714,
          -0.05081801986273233,
          -0.7239080962437932,
          1.4006042469358264,
          0.26662768618565924,
          0.07141262901645731,
          -1.1891995815160468,
          -0.8464327135962876,
          -0.1493251183698699,
          0.20426726621922955,
          -0.014680966834019888,
          -0.6686931887825628,
          0.7801346385676716,
          1.3176659548439453,
          -1.2567470968963135,
          0.5083603229557176,
          -1.210794346863032,
          0.49075215782348397,
          -0.23425557424750665,
          -0.491208269335909,
          -0.41090303463772354,
          0.1253723206034941,
          -0.1770910238483198,
          0.64196514060045,
          -0.7382162956891389
         ],
         "xaxis": "x7",
         "y": [
          0.4280706362665727,
          0.7180418134509058,
          0.039018123521560956,
          -2.223254471201788,
          -0.875572466427057,
          0.31082962918417856,
          0.04164485460440668,
          -1.3375954608338874,
          -1.3405437149873514,
          0.8572242598587281,
          -0.16188928162123553,
          -0.7187491678629951,
          0.3999681853251334,
          -0.8651274609324161,
          1.9398556052996982,
          0.37170042818699983,
          -1.2034611707274985,
          0.8393246337713155,
          0.41155942561230474,
          0.00033315878116852473,
          -1.6639121984076959,
          -1.2939308121993591,
          0.2302461943473713,
          -1.1860250330934174,
          -1.1250630573271623,
          0.3411966117332432,
          -0.08281182615268948,
          0.41842194008398625,
          -1.7521218805724776,
          1.8722464063131021,
          0.9523448471366392,
          0.5797894008773923,
          0.28708326315953325,
          -3.0335772092969595,
          0.12008245165224005,
          -0.9692412532879529,
          1.236861712762151,
          -1.813670708984641,
          -0.6640423586276856,
          2.0857608212633116,
          0.07078185544215489,
          0.13316552342725502,
          1.118793257633992,
          0.22109987484931612,
          0.4816167266503535,
          0.9007965084713055,
          0.23136190333438797,
          -0.6211815746593071,
          1.1791990907833874,
          -1.0184759389708393,
          0.7935063885328861,
          0.4739578995446759,
          -0.22569428492832613,
          2.1111501661267114,
          0.5805731683953766,
          -1.1774151325024085,
          0.4804288376175385,
          0.9389295688799837,
          1.3394547064736422,
          0.09157486827855868,
          0.32021176932753054,
          0.1508485044753879,
          0.0678145670140172,
          0.5951231144203691,
          -1.6454252033113301,
          -1.2999466345158284,
          0.30014825283198915,
          -0.9261425193798055,
          -0.7233485416807636,
          -0.3357183086594954,
          0.7741014105468014,
          -0.9680340081985276,
          -0.6843133483970795,
          0.2208022680602893,
          -0.7041034231797588,
          1.2476835296624578,
          0.36575625493327446,
          -0.7078241513496009,
          0.006963710275013258,
          -0.16294101108078116,
          1.5251683930463749,
          -0.52052292400051,
          0.09330851367827822,
          0.1980403455685616,
          0.16031321326067646,
          0.4522372122430764,
          1.288266420667494,
          -0.08501136423912654,
          -0.537993634388944,
          0.18898741128953095,
          -0.6879271077969086,
          -0.8118986993420849,
          -0.5951301224776799,
          0.849275846698981,
          0.48172786564149733,
          1.389259766341688,
          -0.02855002125459373,
          0.824790991786847,
          0.702338016465698,
          1.2060183630123236
         ],
         "yaxis": "y7"
        },
        {
         "line": {
          "color": "rgba(128, 128, 128, 1.0)",
          "dash": "solid",
          "shape": "linear",
          "width": 1.3
         },
         "marker": {
          "size": 2,
          "symbol": "circle"
         },
         "mode": "markers",
         "name": "B",
         "text": "",
         "type": "scatter",
         "x": [
          -1.1967289396768255,
          1.2084432000283791,
          0.8933907011808402,
          -0.8370158225021228,
          0.054950493197835515,
          0.5860648950484921,
          -1.206159653786153,
          -1.3367167539770204,
          2.8497056325844543,
          0.9956369394940869,
          0.6540089889820164,
          0.9585317492454164,
          0.3019461375428145,
          0.19767604148168808,
          -0.4960146597360244,
          1.0756165309549053,
          -0.8027153007638427,
          -0.08034286733634763,
          -1.204866882713637,
          -0.41572374720294475,
          -0.5287185888597782,
          -1.14707233465738,
          1.3446654002925569,
          0.2568536330956374,
          -0.5323714140329171,
          1.2398961931457892,
          1.4442012086018585,
          1.069815796772237,
          0.5253046744459509,
          0.36848600823081673,
          -1.1847475275339265,
          0.18463520870993408,
          -0.7335492239208102,
          -0.6608140230403634,
          0.5541255252479335,
          -0.6511684460602217,
          1.3966857462767777,
          -1.2765360716787524,
          -0.5152702421444836,
          1.9961919196856333,
          -0.039022698835690046,
          -0.2711135131224415,
          0.8157118601985619,
          -0.5444507317925322,
          2.1148452807225313,
          0.7065047348761125,
          -0.4122010677180778,
          0.9562033334417854,
          -0.3343863542874556,
          1.0635811975822256,
          -0.8901113319022214,
          -0.9707319048907495,
          0.11750305277438047,
          0.5125801934010197,
          0.8820371120292264,
          -1.5127005028648477,
          -1.3452836762709413,
          -1.9690238357572543,
          0.3724814484372588,
          -1.8661858341078816,
          0.7366606002034869,
          0.6041716774061525,
          0.2879542430778189,
          -0.6754479161116611,
          0.26904873586986455,
          0.06412280548588511,
          0.06204911990921217,
          0.0738620732575893,
          -0.04608161944249293,
          1.5052820485557334,
          -0.558234092678066,
          1.694079222413143,
          -0.9859262016838821,
          -0.5568580147130638,
          -0.5628776136903292,
          -1.7797469095823264,
          2.336554074194825,
          1.2159567018224806,
          3.0013639387321267,
          -0.6690431278261364,
          0.5831165054421106,
          -0.17957168727507763,
          -1.05408682762937,
          1.054388650493122,
          0.8090774739975908,
          -0.6579767901037481,
          -0.9504732356908544,
          -0.5229477945471815,
          -1.597724701485542,
          -0.6646905240051703,
          2.6778532402627384,
          -0.7649615732126199,
          -0.48474264712567455,
          1.9086937085617424,
          -0.5947555058493647,
          -1.9752792336692437,
          0.07151503161795482,
          -0.1619635020316879,
          0.28942867811686473,
          0.418738043076987
         ],
         "xaxis": "x8",
         "y": [
          0.4280706362665727,
          0.7180418134509058,
          0.039018123521560956,
          -2.223254471201788,
          -0.875572466427057,
          0.31082962918417856,
          0.04164485460440668,
          -1.3375954608338874,
          -1.3405437149873514,
          0.8572242598587281,
          -0.16188928162123553,
          -0.7187491678629951,
          0.3999681853251334,
          -0.8651274609324161,
          1.9398556052996982,
          0.37170042818699983,
          -1.2034611707274985,
          0.8393246337713155,
          0.41155942561230474,
          0.00033315878116852473,
          -1.6639121984076959,
          -1.2939308121993591,
          0.2302461943473713,
          -1.1860250330934174,
          -1.1250630573271623,
          0.3411966117332432,
          -0.08281182615268948,
          0.41842194008398625,
          -1.7521218805724776,
          1.8722464063131021,
          0.9523448471366392,
          0.5797894008773923,
          0.28708326315953325,
          -3.0335772092969595,
          0.12008245165224005,
          -0.9692412532879529,
          1.236861712762151,
          -1.813670708984641,
          -0.6640423586276856,
          2.0857608212633116,
          0.07078185544215489,
          0.13316552342725502,
          1.118793257633992,
          0.22109987484931612,
          0.4816167266503535,
          0.9007965084713055,
          0.23136190333438797,
          -0.6211815746593071,
          1.1791990907833874,
          -1.0184759389708393,
          0.7935063885328861,
          0.4739578995446759,
          -0.22569428492832613,
          2.1111501661267114,
          0.5805731683953766,
          -1.1774151325024085,
          0.4804288376175385,
          0.9389295688799837,
          1.3394547064736422,
          0.09157486827855868,
          0.32021176932753054,
          0.1508485044753879,
          0.0678145670140172,
          0.5951231144203691,
          -1.6454252033113301,
          -1.2999466345158284,
          0.30014825283198915,
          -0.9261425193798055,
          -0.7233485416807636,
          -0.3357183086594954,
          0.7741014105468014,
          -0.9680340081985276,
          -0.6843133483970795,
          0.2208022680602893,
          -0.7041034231797588,
          1.2476835296624578,
          0.36575625493327446,
          -0.7078241513496009,
          0.006963710275013258,
          -0.16294101108078116,
          1.5251683930463749,
          -0.52052292400051,
          0.09330851367827822,
          0.1980403455685616,
          0.16031321326067646,
          0.4522372122430764,
          1.288266420667494,
          -0.08501136423912654,
          -0.537993634388944,
          0.18898741128953095,
          -0.6879271077969086,
          -0.8118986993420849,
          -0.5951301224776799,
          0.849275846698981,
          0.48172786564149733,
          1.389259766341688,
          -0.02855002125459373,
          0.824790991786847,
          0.702338016465698,
          1.2060183630123236
         ],
         "yaxis": "y8"
        },
        {
         "line": {
          "color": "rgba(128, 128, 128, 1.0)",
          "dash": "solid",
          "shape": "linear",
          "width": 1.3
         },
         "marker": {
          "size": 2,
          "symbol": "circle"
         },
         "mode": "markers",
         "name": "C",
         "text": "",
         "type": "scatter",
         "x": [
          0.4395119976966545,
          0.020152580888882565,
          -0.37407441444430184,
          -0.539926331737172,
          -1.1415136887036064,
          0.8166657567438118,
          -0.6224297536168503,
          0.7308894349710953,
          0.7203192879102357,
          -1.3737647648303697,
          -1.23119009378185,
          0.3198538375639925,
          0.26348650235568355,
          0.6488757306353029,
          -0.00728590715634182,
          -0.7565433586862875,
          -0.6563581332656321,
          -0.2718198150238515,
          2.3006887217341485,
          -0.0016354406682298403,
          -0.44155799103745624,
          -0.05360096166018684,
          0.1482445798661521,
          -0.31540345886485455,
          -1.0965840430633944,
          0.10640896879094265,
          -0.6070796967732894,
          -0.22733509919143075,
          1.9043079760497075,
          0.15758544829888035,
          -0.8467557485348001,
          -0.05415976370766293,
          -0.9788011598549242,
          -1.6583630823284712,
          0.8159503058015778,
          -0.25181207826404073,
          -0.8324733961614146,
          -0.6260559102319855,
          -0.31995726864785823,
          1.1849051256609375,
          -0.284668437153468,
          -1.3551041866389977,
          -0.44227550517139147,
          -0.6564605155145264,
          1.4465930611506095,
          0.025068373987287135,
          -0.7669606770160547,
          -0.5443292144876736,
          1.8675957298506896,
          0.598656129228373,
          -1.4141874887718855,
          -0.22207017252161643,
          -0.5557646921062268,
          0.023795421367580435,
          0.2591414523453681,
          0.16506972348129514,
          -1.6995486727841598,
          0.495897711386881,
          -2.16172874318155,
          0.4695045378281316,
          0.8808506673427354,
          -0.2849864405045829,
          -1.3827658787536463,
          -1.9087429354622187,
          0.5103912430314287,
          -0.569148889572966,
          -0.39583345631377553,
          1.6927286444863971,
          1.3794804856602336,
          1.02340631443928,
          -0.8786847928090047,
          -0.22365353139572725,
          -0.6286343213996785,
          0.1852315531564232,
          0.13414886930901337,
          -1.6146835134016613,
          1.6490844301298115,
          -1.5550285792794807,
          1.344854834805804,
          -1.2139962371553352,
          -1.8529045686615873,
          0.159159120937591,
          1.0210668604863389,
          -0.5824035944285543,
          0.08560547669436594,
          -0.3686773747493008,
          1.214718224277028,
          -0.051241433224650676,
          0.08303529764650347,
          0.9092419090260879,
          -1.0618356396353699,
          -1.3732900879073142,
          -1.751218488708866,
          -0.13388061656749478,
          0.18032175371235448,
          -0.2244659045304318,
          1.1168388101991757,
          -0.5571809881209141,
          -1.577732479354081,
          0.4027152366654449
         ],
         "xaxis": "x9",
         "y": [
          -1.3787152783508723,
          -0.7261164047389449,
          0.2224364093928684,
          1.1477624692750603,
          -1.43775668031013,
          0.03134895951287714,
          0.5744870610575307,
          -1.266687721886195,
          -0.19289617140422258,
          1.511559448278765,
          -0.5119282086892993,
          -2.2392587865674574,
          -0.6209115834293467,
          1.1137304776579646,
          1.0742908031611498,
          0.2037310729229849,
          -0.747303255099262,
          -0.9692202000526821,
          -1.089312084525815,
          -0.8833887607330014,
          0.13506777324616978,
          0.0707313620850424,
          1.823478001044083,
          0.0017497707721843754,
          0.8812661765541764,
          1.0235957674378207,
          0.23657683002359883,
          0.3550476835109541,
          1.4749191367053716,
          -0.5724932191421319,
          -0.6151418387655972,
          -0.785001406471968,
          -0.06993434253506313,
          -0.21535988326079006,
          0.47982251383891333,
          0.9716315951462331,
          -0.15185219545189366,
          1.9164780515109556,
          0.5987294120376846,
          -0.22795902511024854,
          -0.5585658480008592,
          -1.6913077332985833,
          0.25352182758564246,
          0.11803801505601494,
          0.7879975858188688,
          -0.5032812994273885,
          -1.7239067650251179,
          -0.5218210287612856,
          1.3743061449298846,
          0.9563603916667522,
          -0.10302531350948356,
          -1.0078148568916971,
          0.8530414622148793,
          0.3267258270809262,
          2.3855970082680136,
          -1.2679195947325799,
          -0.7032649912550678,
          0.6859312164945162,
          -0.11386304522157245,
          -1.0909068628349752,
          -0.13485185096848448,
          0.3129069963160951,
          0.3251879215144967,
          -2.464840591968921,
          -0.4136242042591343,
          -0.31016615436486994,
          -1.4840374002833763,
          -1.2562717159180883,
          -0.1916699473663112,
          0.29825808080300975,
          0.8299314382112951,
          -2.679638974552658,
          -1.4593854710372014,
          0.02556938465970596,
          1.0089076132913224,
          -0.2562859582883714,
          -0.05081801986273233,
          -0.7239080962437932,
          1.4006042469358264,
          0.26662768618565924,
          0.07141262901645731,
          -1.1891995815160468,
          -0.8464327135962876,
          -0.1493251183698699,
          0.20426726621922955,
          -0.014680966834019888,
          -0.6686931887825628,
          0.7801346385676716,
          1.3176659548439453,
          -1.2567470968963135,
          0.5083603229557176,
          -1.210794346863032,
          0.49075215782348397,
          -0.23425557424750665,
          -0.491208269335909,
          -0.41090303463772354,
          0.1253723206034941,
          -0.1770910238483198,
          0.64196514060045,
          -0.7382162956891389
         ],
         "yaxis": "y9"
        },
        {
         "line": {
          "color": "rgba(128, 128, 128, 1.0)",
          "dash": "solid",
          "shape": "linear",
          "width": 1.3
         },
         "marker": {
          "size": 2,
          "symbol": "circle"
         },
         "mode": "markers",
         "name": "C",
         "text": "",
         "type": "scatter",
         "x": [
          0.4280706362665727,
          0.7180418134509058,
          0.039018123521560956,
          -2.223254471201788,
          -0.875572466427057,
          0.31082962918417856,
          0.04164485460440668,
          -1.3375954608338874,
          -1.3405437149873514,
          0.8572242598587281,
          -0.16188928162123553,
          -0.7187491678629951,
          0.3999681853251334,
          -0.8651274609324161,
          1.9398556052996982,
          0.37170042818699983,
          -1.2034611707274985,
          0.8393246337713155,
          0.41155942561230474,
          0.00033315878116852473,
          -1.6639121984076959,
          -1.2939308121993591,
          0.2302461943473713,
          -1.1860250330934174,
          -1.1250630573271623,
          0.3411966117332432,
          -0.08281182615268948,
          0.41842194008398625,
          -1.7521218805724776,
          1.8722464063131021,
          0.9523448471366392,
          0.5797894008773923,
          0.28708326315953325,
          -3.0335772092969595,
          0.12008245165224005,
          -0.9692412532879529,
          1.236861712762151,
          -1.813670708984641,
          -0.6640423586276856,
          2.0857608212633116,
          0.07078185544215489,
          0.13316552342725502,
          1.118793257633992,
          0.22109987484931612,
          0.4816167266503535,
          0.9007965084713055,
          0.23136190333438797,
          -0.6211815746593071,
          1.1791990907833874,
          -1.0184759389708393,
          0.7935063885328861,
          0.4739578995446759,
          -0.22569428492832613,
          2.1111501661267114,
          0.5805731683953766,
          -1.1774151325024085,
          0.4804288376175385,
          0.9389295688799837,
          1.3394547064736422,
          0.09157486827855868,
          0.32021176932753054,
          0.1508485044753879,
          0.0678145670140172,
          0.5951231144203691,
          -1.6454252033113301,
          -1.2999466345158284,
          0.30014825283198915,
          -0.9261425193798055,
          -0.7233485416807636,
          -0.3357183086594954,
          0.7741014105468014,
          -0.9680340081985276,
          -0.6843133483970795,
          0.2208022680602893,
          -0.7041034231797588,
          1.2476835296624578,
          0.36575625493327446,
          -0.7078241513496009,
          0.006963710275013258,
          -0.16294101108078116,
          1.5251683930463749,
          -0.52052292400051,
          0.09330851367827822,
          0.1980403455685616,
          0.16031321326067646,
          0.4522372122430764,
          1.288266420667494,
          -0.08501136423912654,
          -0.537993634388944,
          0.18898741128953095,
          -0.6879271077969086,
          -0.8118986993420849,
          -0.5951301224776799,
          0.849275846698981,
          0.48172786564149733,
          1.389259766341688,
          -0.02855002125459373,
          0.824790991786847,
          0.702338016465698,
          1.2060183630123236
         ],
         "xaxis": "x10",
         "y": [
          -1.3787152783508723,
          -0.7261164047389449,
          0.2224364093928684,
          1.1477624692750603,
          -1.43775668031013,
          0.03134895951287714,
          0.5744870610575307,
          -1.266687721886195,
          -0.19289617140422258,
          1.511559448278765,
          -0.5119282086892993,
          -2.2392587865674574,
          -0.6209115834293467,
          1.1137304776579646,
          1.0742908031611498,
          0.2037310729229849,
          -0.747303255099262,
          -0.9692202000526821,
          -1.089312084525815,
          -0.8833887607330014,
          0.13506777324616978,
          0.0707313620850424,
          1.823478001044083,
          0.0017497707721843754,
          0.8812661765541764,
          1.0235957674378207,
          0.23657683002359883,
          0.3550476835109541,
          1.4749191367053716,
          -0.5724932191421319,
          -0.6151418387655972,
          -0.785001406471968,
          -0.06993434253506313,
          -0.21535988326079006,
          0.47982251383891333,
          0.9716315951462331,
          -0.15185219545189366,
          1.9164780515109556,
          0.5987294120376846,
          -0.22795902511024854,
          -0.5585658480008592,
          -1.6913077332985833,
          0.25352182758564246,
          0.11803801505601494,
          0.7879975858188688,
          -0.5032812994273885,
          -1.7239067650251179,
          -0.5218210287612856,
          1.3743061449298846,
          0.9563603916667522,
          -0.10302531350948356,
          -1.0078148568916971,
          0.8530414622148793,
          0.3267258270809262,
          2.3855970082680136,
          -1.2679195947325799,
          -0.7032649912550678,
          0.6859312164945162,
          -0.11386304522157245,
          -1.0909068628349752,
          -0.13485185096848448,
          0.3129069963160951,
          0.3251879215144967,
          -2.464840591968921,
          -0.4136242042591343,
          -0.31016615436486994,
          -1.4840374002833763,
          -1.2562717159180883,
          -0.1916699473663112,
          0.29825808080300975,
          0.8299314382112951,
          -2.679638974552658,
          -1.4593854710372014,
          0.02556938465970596,
          1.0089076132913224,
          -0.2562859582883714,
          -0.05081801986273233,
          -0.7239080962437932,
          1.4006042469358264,
          0.26662768618565924,
          0.07141262901645731,
          -1.1891995815160468,
          -0.8464327135962876,
          -0.1493251183698699,
          0.20426726621922955,
          -0.014680966834019888,
          -0.6686931887825628,
          0.7801346385676716,
          1.3176659548439453,
          -1.2567470968963135,
          0.5083603229557176,
          -1.210794346863032,
          0.49075215782348397,
          -0.23425557424750665,
          -0.491208269335909,
          -0.41090303463772354,
          0.1253723206034941,
          -0.1770910238483198,
          0.64196514060045,
          -0.7382162956891389
         ],
         "yaxis": "y10"
        },
        {
         "histfunc": "count",
         "histnorm": "",
         "marker": {
          "color": "rgba(50, 171, 96, 1.0)",
          "line": {
           "color": "#4D5663",
           "width": 1.3
          }
         },
         "name": "C",
         "nbinsx": 10,
         "opacity": 0.8,
         "orientation": "v",
         "type": "histogram",
         "x": [
          -1.3787152783508723,
          -0.7261164047389449,
          0.2224364093928684,
          1.1477624692750603,
          -1.43775668031013,
          0.03134895951287714,
          0.5744870610575307,
          -1.266687721886195,
          -0.19289617140422258,
          1.511559448278765,
          -0.5119282086892993,
          -2.2392587865674574,
          -0.6209115834293467,
          1.1137304776579646,
          1.0742908031611498,
          0.2037310729229849,
          -0.747303255099262,
          -0.9692202000526821,
          -1.089312084525815,
          -0.8833887607330014,
          0.13506777324616978,
          0.0707313620850424,
          1.823478001044083,
          0.0017497707721843754,
          0.8812661765541764,
          1.0235957674378207,
          0.23657683002359883,
          0.3550476835109541,
          1.4749191367053716,
          -0.5724932191421319,
          -0.6151418387655972,
          -0.785001406471968,
          -0.06993434253506313,
          -0.21535988326079006,
          0.47982251383891333,
          0.9716315951462331,
          -0.15185219545189366,
          1.9164780515109556,
          0.5987294120376846,
          -0.22795902511024854,
          -0.5585658480008592,
          -1.6913077332985833,
          0.25352182758564246,
          0.11803801505601494,
          0.7879975858188688,
          -0.5032812994273885,
          -1.7239067650251179,
          -0.5218210287612856,
          1.3743061449298846,
          0.9563603916667522,
          -0.10302531350948356,
          -1.0078148568916971,
          0.8530414622148793,
          0.3267258270809262,
          2.3855970082680136,
          -1.2679195947325799,
          -0.7032649912550678,
          0.6859312164945162,
          -0.11386304522157245,
          -1.0909068628349752,
          -0.13485185096848448,
          0.3129069963160951,
          0.3251879215144967,
          -2.464840591968921,
          -0.4136242042591343,
          -0.31016615436486994,
          -1.4840374002833763,
          -1.2562717159180883,
          -0.1916699473663112,
          0.29825808080300975,
          0.8299314382112951,
          -2.679638974552658,
          -1.4593854710372014,
          0.02556938465970596,
          1.0089076132913224,
          -0.2562859582883714,
          -0.05081801986273233,
          -0.7239080962437932,
          1.4006042469358264,
          0.26662768618565924,
          0.07141262901645731,
          -1.1891995815160468,
          -0.8464327135962876,
          -0.1493251183698699,
          0.20426726621922955,
          -0.014680966834019888,
          -0.6686931887825628,
          0.7801346385676716,
          1.3176659548439453,
          -1.2567470968963135,
          0.5083603229557176,
          -1.210794346863032,
          0.49075215782348397,
          -0.23425557424750665,
          -0.491208269335909,
          -0.41090303463772354,
          0.1253723206034941,
          -0.1770910238483198,
          0.64196514060045,
          -0.7382162956891389
         ],
         "xaxis": "x11",
         "yaxis": "y11"
        },
        {
         "line": {
          "color": "rgba(128, 128, 128, 1.0)",
          "dash": "solid",
          "shape": "linear",
          "width": 1.3
         },
         "marker": {
          "size": 2,
          "symbol": "circle"
         },
         "mode": "markers",
         "name": "C",
         "text": "",
         "type": "scatter",
         "x": [
          -1.1967289396768255,
          1.2084432000283791,
          0.8933907011808402,
          -0.8370158225021228,
          0.054950493197835515,
          0.5860648950484921,
          -1.206159653786153,
          -1.3367167539770204,
          2.8497056325844543,
          0.9956369394940869,
          0.6540089889820164,
          0.9585317492454164,
          0.3019461375428145,
          0.19767604148168808,
          -0.4960146597360244,
          1.0756165309549053,
          -0.8027153007638427,
          -0.08034286733634763,
          -1.204866882713637,
          -0.41572374720294475,
          -0.5287185888597782,
          -1.14707233465738,
          1.3446654002925569,
          0.2568536330956374,
          -0.5323714140329171,
          1.2398961931457892,
          1.4442012086018585,
          1.069815796772237,
          0.5253046744459509,
          0.36848600823081673,
          -1.1847475275339265,
          0.18463520870993408,
          -0.7335492239208102,
          -0.6608140230403634,
          0.5541255252479335,
          -0.6511684460602217,
          1.3966857462767777,
          -1.2765360716787524,
          -0.5152702421444836,
          1.9961919196856333,
          -0.039022698835690046,
          -0.2711135131224415,
          0.8157118601985619,
          -0.5444507317925322,
          2.1148452807225313,
          0.7065047348761125,
          -0.4122010677180778,
          0.9562033334417854,
          -0.3343863542874556,
          1.0635811975822256,
          -0.8901113319022214,
          -0.9707319048907495,
          0.11750305277438047,
          0.5125801934010197,
          0.8820371120292264,
          -1.5127005028648477,
          -1.3452836762709413,
          -1.9690238357572543,
          0.3724814484372588,
          -1.8661858341078816,
          0.7366606002034869,
          0.6041716774061525,
          0.2879542430778189,
          -0.6754479161116611,
          0.26904873586986455,
          0.06412280548588511,
          0.06204911990921217,
          0.0738620732575893,
          -0.04608161944249293,
          1.5052820485557334,
          -0.558234092678066,
          1.694079222413143,
          -0.9859262016838821,
          -0.5568580147130638,
          -0.5628776136903292,
          -1.7797469095823264,
          2.336554074194825,
          1.2159567018224806,
          3.0013639387321267,
          -0.6690431278261364,
          0.5831165054421106,
          -0.17957168727507763,
          -1.05408682762937,
          1.054388650493122,
          0.8090774739975908,
          -0.6579767901037481,
          -0.9504732356908544,
          -0.5229477945471815,
          -1.597724701485542,
          -0.6646905240051703,
          2.6778532402627384,
          -0.7649615732126199,
          -0.48474264712567455,
          1.9086937085617424,
          -0.5947555058493647,
          -1.9752792336692437,
          0.07151503161795482,
          -0.1619635020316879,
          0.28942867811686473,
          0.418738043076987
         ],
         "xaxis": "x12",
         "y": [
          -1.3787152783508723,
          -0.7261164047389449,
          0.2224364093928684,
          1.1477624692750603,
          -1.43775668031013,
          0.03134895951287714,
          0.5744870610575307,
          -1.266687721886195,
          -0.19289617140422258,
          1.511559448278765,
          -0.5119282086892993,
          -2.2392587865674574,
          -0.6209115834293467,
          1.1137304776579646,
          1.0742908031611498,
          0.2037310729229849,
          -0.747303255099262,
          -0.9692202000526821,
          -1.089312084525815,
          -0.8833887607330014,
          0.13506777324616978,
          0.0707313620850424,
          1.823478001044083,
          0.0017497707721843754,
          0.8812661765541764,
          1.0235957674378207,
          0.23657683002359883,
          0.3550476835109541,
          1.4749191367053716,
          -0.5724932191421319,
          -0.6151418387655972,
          -0.785001406471968,
          -0.06993434253506313,
          -0.21535988326079006,
          0.47982251383891333,
          0.9716315951462331,
          -0.15185219545189366,
          1.9164780515109556,
          0.5987294120376846,
          -0.22795902511024854,
          -0.5585658480008592,
          -1.6913077332985833,
          0.25352182758564246,
          0.11803801505601494,
          0.7879975858188688,
          -0.5032812994273885,
          -1.7239067650251179,
          -0.5218210287612856,
          1.3743061449298846,
          0.9563603916667522,
          -0.10302531350948356,
          -1.0078148568916971,
          0.8530414622148793,
          0.3267258270809262,
          2.3855970082680136,
          -1.2679195947325799,
          -0.7032649912550678,
          0.6859312164945162,
          -0.11386304522157245,
          -1.0909068628349752,
          -0.13485185096848448,
          0.3129069963160951,
          0.3251879215144967,
          -2.464840591968921,
          -0.4136242042591343,
          -0.31016615436486994,
          -1.4840374002833763,
          -1.2562717159180883,
          -0.1916699473663112,
          0.29825808080300975,
          0.8299314382112951,
          -2.679638974552658,
          -1.4593854710372014,
          0.02556938465970596,
          1.0089076132913224,
          -0.2562859582883714,
          -0.05081801986273233,
          -0.7239080962437932,
          1.4006042469358264,
          0.26662768618565924,
          0.07141262901645731,
          -1.1891995815160468,
          -0.8464327135962876,
          -0.1493251183698699,
          0.20426726621922955,
          -0.014680966834019888,
          -0.6686931887825628,
          0.7801346385676716,
          1.3176659548439453,
          -1.2567470968963135,
          0.5083603229557176,
          -1.210794346863032,
          0.49075215782348397,
          -0.23425557424750665,
          -0.491208269335909,
          -0.41090303463772354,
          0.1253723206034941,
          -0.1770910238483198,
          0.64196514060045,
          -0.7382162956891389
         ],
         "yaxis": "y12"
        },
        {
         "line": {
          "color": "rgba(128, 128, 128, 1.0)",
          "dash": "solid",
          "shape": "linear",
          "width": 1.3
         },
         "marker": {
          "size": 2,
          "symbol": "circle"
         },
         "mode": "markers",
         "name": "D",
         "text": "",
         "type": "scatter",
         "x": [
          0.4395119976966545,
          0.020152580888882565,
          -0.37407441444430184,
          -0.539926331737172,
          -1.1415136887036064,
          0.8166657567438118,
          -0.6224297536168503,
          0.7308894349710953,
          0.7203192879102357,
          -1.3737647648303697,
          -1.23119009378185,
          0.3198538375639925,
          0.26348650235568355,
          0.6488757306353029,
          -0.00728590715634182,
          -0.7565433586862875,
          -0.6563581332656321,
          -0.2718198150238515,
          2.3006887217341485,
          -0.0016354406682298403,
          -0.44155799103745624,
          -0.05360096166018684,
          0.1482445798661521,
          -0.31540345886485455,
          -1.0965840430633944,
          0.10640896879094265,
          -0.6070796967732894,
          -0.22733509919143075,
          1.9043079760497075,
          0.15758544829888035,
          -0.8467557485348001,
          -0.05415976370766293,
          -0.9788011598549242,
          -1.6583630823284712,
          0.8159503058015778,
          -0.25181207826404073,
          -0.8324733961614146,
          -0.6260559102319855,
          -0.31995726864785823,
          1.1849051256609375,
          -0.284668437153468,
          -1.3551041866389977,
          -0.44227550517139147,
          -0.6564605155145264,
          1.4465930611506095,
          0.025068373987287135,
          -0.7669606770160547,
          -0.5443292144876736,
          1.8675957298506896,
          0.598656129228373,
          -1.4141874887718855,
          -0.22207017252161643,
          -0.5557646921062268,
          0.023795421367580435,
          0.2591414523453681,
          0.16506972348129514,
          -1.6995486727841598,
          0.495897711386881,
          -2.16172874318155,
          0.4695045378281316,
          0.8808506673427354,
          -0.2849864405045829,
          -1.3827658787536463,
          -1.9087429354622187,
          0.5103912430314287,
          -0.569148889572966,
          -0.39583345631377553,
          1.6927286444863971,
          1.3794804856602336,
          1.02340631443928,
          -0.8786847928090047,
          -0.22365353139572725,
          -0.6286343213996785,
          0.1852315531564232,
          0.13414886930901337,
          -1.6146835134016613,
          1.6490844301298115,
          -1.5550285792794807,
          1.344854834805804,
          -1.2139962371553352,
          -1.8529045686615873,
          0.159159120937591,
          1.0210668604863389,
          -0.5824035944285543,
          0.08560547669436594,
          -0.3686773747493008,
          1.214718224277028,
          -0.051241433224650676,
          0.08303529764650347,
          0.9092419090260879,
          -1.0618356396353699,
          -1.3732900879073142,
          -1.751218488708866,
          -0.13388061656749478,
          0.18032175371235448,
          -0.2244659045304318,
          1.1168388101991757,
          -0.5571809881209141,
          -1.577732479354081,
          0.4027152366654449
         ],
         "xaxis": "x13",
         "y": [
          -1.1967289396768255,
          1.2084432000283791,
          0.8933907011808402,
          -0.8370158225021228,
          0.054950493197835515,
          0.5860648950484921,
          -1.206159653786153,
          -1.3367167539770204,
          2.8497056325844543,
          0.9956369394940869,
          0.6540089889820164,
          0.9585317492454164,
          0.3019461375428145,
          0.19767604148168808,
          -0.4960146597360244,
          1.0756165309549053,
          -0.8027153007638427,
          -0.08034286733634763,
          -1.204866882713637,
          -0.41572374720294475,
          -0.5287185888597782,
          -1.14707233465738,
          1.3446654002925569,
          0.2568536330956374,
          -0.5323714140329171,
          1.2398961931457892,
          1.4442012086018585,
          1.069815796772237,
          0.5253046744459509,
          0.36848600823081673,
          -1.1847475275339265,
          0.18463520870993408,
          -0.7335492239208102,
          -0.6608140230403634,
          0.5541255252479335,
          -0.6511684460602217,
          1.3966857462767777,
          -1.2765360716787524,
          -0.5152702421444836,
          1.9961919196856333,
          -0.039022698835690046,
          -0.2711135131224415,
          0.8157118601985619,
          -0.5444507317925322,
          2.1148452807225313,
          0.7065047348761125,
          -0.4122010677180778,
          0.9562033334417854,
          -0.3343863542874556,
          1.0635811975822256,
          -0.8901113319022214,
          -0.9707319048907495,
          0.11750305277438047,
          0.5125801934010197,
          0.8820371120292264,
          -1.5127005028648477,
          -1.3452836762709413,
          -1.9690238357572543,
          0.3724814484372588,
          -1.8661858341078816,
          0.7366606002034869,
          0.6041716774061525,
          0.2879542430778189,
          -0.6754479161116611,
          0.26904873586986455,
          0.06412280548588511,
          0.06204911990921217,
          0.0738620732575893,
          -0.04608161944249293,
          1.5052820485557334,
          -0.558234092678066,
          1.694079222413143,
          -0.9859262016838821,
          -0.5568580147130638,
          -0.5628776136903292,
          -1.7797469095823264,
          2.336554074194825,
          1.2159567018224806,
          3.0013639387321267,
          -0.6690431278261364,
          0.5831165054421106,
          -0.17957168727507763,
          -1.05408682762937,
          1.054388650493122,
          0.8090774739975908,
          -0.6579767901037481,
          -0.9504732356908544,
          -0.5229477945471815,
          -1.597724701485542,
          -0.6646905240051703,
          2.6778532402627384,
          -0.7649615732126199,
          -0.48474264712567455,
          1.9086937085617424,
          -0.5947555058493647,
          -1.9752792336692437,
          0.07151503161795482,
          -0.1619635020316879,
          0.28942867811686473,
          0.418738043076987
         ],
         "yaxis": "y13"
        },
        {
         "line": {
          "color": "rgba(128, 128, 128, 1.0)",
          "dash": "solid",
          "shape": "linear",
          "width": 1.3
         },
         "marker": {
          "size": 2,
          "symbol": "circle"
         },
         "mode": "markers",
         "name": "D",
         "text": "",
         "type": "scatter",
         "x": [
          0.4280706362665727,
          0.7180418134509058,
          0.039018123521560956,
          -2.223254471201788,
          -0.875572466427057,
          0.31082962918417856,
          0.04164485460440668,
          -1.3375954608338874,
          -1.3405437149873514,
          0.8572242598587281,
          -0.16188928162123553,
          -0.7187491678629951,
          0.3999681853251334,
          -0.8651274609324161,
          1.9398556052996982,
          0.37170042818699983,
          -1.2034611707274985,
          0.8393246337713155,
          0.41155942561230474,
          0.00033315878116852473,
          -1.6639121984076959,
          -1.2939308121993591,
          0.2302461943473713,
          -1.1860250330934174,
          -1.1250630573271623,
          0.3411966117332432,
          -0.08281182615268948,
          0.41842194008398625,
          -1.7521218805724776,
          1.8722464063131021,
          0.9523448471366392,
          0.5797894008773923,
          0.28708326315953325,
          -3.0335772092969595,
          0.12008245165224005,
          -0.9692412532879529,
          1.236861712762151,
          -1.813670708984641,
          -0.6640423586276856,
          2.0857608212633116,
          0.07078185544215489,
          0.13316552342725502,
          1.118793257633992,
          0.22109987484931612,
          0.4816167266503535,
          0.9007965084713055,
          0.23136190333438797,
          -0.6211815746593071,
          1.1791990907833874,
          -1.0184759389708393,
          0.7935063885328861,
          0.4739578995446759,
          -0.22569428492832613,
          2.1111501661267114,
          0.5805731683953766,
          -1.1774151325024085,
          0.4804288376175385,
          0.9389295688799837,
          1.3394547064736422,
          0.09157486827855868,
          0.32021176932753054,
          0.1508485044753879,
          0.0678145670140172,
          0.5951231144203691,
          -1.6454252033113301,
          -1.2999466345158284,
          0.30014825283198915,
          -0.9261425193798055,
          -0.7233485416807636,
          -0.3357183086594954,
          0.7741014105468014,
          -0.9680340081985276,
          -0.6843133483970795,
          0.2208022680602893,
          -0.7041034231797588,
          1.2476835296624578,
          0.36575625493327446,
          -0.7078241513496009,
          0.006963710275013258,
          -0.16294101108078116,
          1.5251683930463749,
          -0.52052292400051,
          0.09330851367827822,
          0.1980403455685616,
          0.16031321326067646,
          0.4522372122430764,
          1.288266420667494,
          -0.08501136423912654,
          -0.537993634388944,
          0.18898741128953095,
          -0.6879271077969086,
          -0.8118986993420849,
          -0.5951301224776799,
          0.849275846698981,
          0.48172786564149733,
          1.389259766341688,
          -0.02855002125459373,
          0.824790991786847,
          0.702338016465698,
          1.2060183630123236
         ],
         "xaxis": "x14",
         "y": [
          -1.1967289396768255,
          1.2084432000283791,
          0.8933907011808402,
          -0.8370158225021228,
          0.054950493197835515,
          0.5860648950484921,
          -1.206159653786153,
          -1.3367167539770204,
          2.8497056325844543,
          0.9956369394940869,
          0.6540089889820164,
          0.9585317492454164,
          0.3019461375428145,
          0.19767604148168808,
          -0.4960146597360244,
          1.0756165309549053,
          -0.8027153007638427,
          -0.08034286733634763,
          -1.204866882713637,
          -0.41572374720294475,
          -0.5287185888597782,
          -1.14707233465738,
          1.3446654002925569,
          0.2568536330956374,
          -0.5323714140329171,
          1.2398961931457892,
          1.4442012086018585,
          1.069815796772237,
          0.5253046744459509,
          0.36848600823081673,
          -1.1847475275339265,
          0.18463520870993408,
          -0.7335492239208102,
          -0.6608140230403634,
          0.5541255252479335,
          -0.6511684460602217,
          1.3966857462767777,
          -1.2765360716787524,
          -0.5152702421444836,
          1.9961919196856333,
          -0.039022698835690046,
          -0.2711135131224415,
          0.8157118601985619,
          -0.5444507317925322,
          2.1148452807225313,
          0.7065047348761125,
          -0.4122010677180778,
          0.9562033334417854,
          -0.3343863542874556,
          1.0635811975822256,
          -0.8901113319022214,
          -0.9707319048907495,
          0.11750305277438047,
          0.5125801934010197,
          0.8820371120292264,
          -1.5127005028648477,
          -1.3452836762709413,
          -1.9690238357572543,
          0.3724814484372588,
          -1.8661858341078816,
          0.7366606002034869,
          0.6041716774061525,
          0.2879542430778189,
          -0.6754479161116611,
          0.26904873586986455,
          0.06412280548588511,
          0.06204911990921217,
          0.0738620732575893,
          -0.04608161944249293,
          1.5052820485557334,
          -0.558234092678066,
          1.694079222413143,
          -0.9859262016838821,
          -0.5568580147130638,
          -0.5628776136903292,
          -1.7797469095823264,
          2.336554074194825,
          1.2159567018224806,
          3.0013639387321267,
          -0.6690431278261364,
          0.5831165054421106,
          -0.17957168727507763,
          -1.05408682762937,
          1.054388650493122,
          0.8090774739975908,
          -0.6579767901037481,
          -0.9504732356908544,
          -0.5229477945471815,
          -1.597724701485542,
          -0.6646905240051703,
          2.6778532402627384,
          -0.7649615732126199,
          -0.48474264712567455,
          1.9086937085617424,
          -0.5947555058493647,
          -1.9752792336692437,
          0.07151503161795482,
          -0.1619635020316879,
          0.28942867811686473,
          0.418738043076987
         ],
         "yaxis": "y14"
        },
        {
         "line": {
          "color": "rgba(128, 128, 128, 1.0)",
          "dash": "solid",
          "shape": "linear",
          "width": 1.3
         },
         "marker": {
          "size": 2,
          "symbol": "circle"
         },
         "mode": "markers",
         "name": "D",
         "text": "",
         "type": "scatter",
         "x": [
          -1.3787152783508723,
          -0.7261164047389449,
          0.2224364093928684,
          1.1477624692750603,
          -1.43775668031013,
          0.03134895951287714,
          0.5744870610575307,
          -1.266687721886195,
          -0.19289617140422258,
          1.511559448278765,
          -0.5119282086892993,
          -2.2392587865674574,
          -0.6209115834293467,
          1.1137304776579646,
          1.0742908031611498,
          0.2037310729229849,
          -0.747303255099262,
          -0.9692202000526821,
          -1.089312084525815,
          -0.8833887607330014,
          0.13506777324616978,
          0.0707313620850424,
          1.823478001044083,
          0.0017497707721843754,
          0.8812661765541764,
          1.0235957674378207,
          0.23657683002359883,
          0.3550476835109541,
          1.4749191367053716,
          -0.5724932191421319,
          -0.6151418387655972,
          -0.785001406471968,
          -0.06993434253506313,
          -0.21535988326079006,
          0.47982251383891333,
          0.9716315951462331,
          -0.15185219545189366,
          1.9164780515109556,
          0.5987294120376846,
          -0.22795902511024854,
          -0.5585658480008592,
          -1.6913077332985833,
          0.25352182758564246,
          0.11803801505601494,
          0.7879975858188688,
          -0.5032812994273885,
          -1.7239067650251179,
          -0.5218210287612856,
          1.3743061449298846,
          0.9563603916667522,
          -0.10302531350948356,
          -1.0078148568916971,
          0.8530414622148793,
          0.3267258270809262,
          2.3855970082680136,
          -1.2679195947325799,
          -0.7032649912550678,
          0.6859312164945162,
          -0.11386304522157245,
          -1.0909068628349752,
          -0.13485185096848448,
          0.3129069963160951,
          0.3251879215144967,
          -2.464840591968921,
          -0.4136242042591343,
          -0.31016615436486994,
          -1.4840374002833763,
          -1.2562717159180883,
          -0.1916699473663112,
          0.29825808080300975,
          0.8299314382112951,
          -2.679638974552658,
          -1.4593854710372014,
          0.02556938465970596,
          1.0089076132913224,
          -0.2562859582883714,
          -0.05081801986273233,
          -0.7239080962437932,
          1.4006042469358264,
          0.26662768618565924,
          0.07141262901645731,
          -1.1891995815160468,
          -0.8464327135962876,
          -0.1493251183698699,
          0.20426726621922955,
          -0.014680966834019888,
          -0.6686931887825628,
          0.7801346385676716,
          1.3176659548439453,
          -1.2567470968963135,
          0.5083603229557176,
          -1.210794346863032,
          0.49075215782348397,
          -0.23425557424750665,
          -0.491208269335909,
          -0.41090303463772354,
          0.1253723206034941,
          -0.1770910238483198,
          0.64196514060045,
          -0.7382162956891389
         ],
         "xaxis": "x15",
         "y": [
          -1.1967289396768255,
          1.2084432000283791,
          0.8933907011808402,
          -0.8370158225021228,
          0.054950493197835515,
          0.5860648950484921,
          -1.206159653786153,
          -1.3367167539770204,
          2.8497056325844543,
          0.9956369394940869,
          0.6540089889820164,
          0.9585317492454164,
          0.3019461375428145,
          0.19767604148168808,
          -0.4960146597360244,
          1.0756165309549053,
          -0.8027153007638427,
          -0.08034286733634763,
          -1.204866882713637,
          -0.41572374720294475,
          -0.5287185888597782,
          -1.14707233465738,
          1.3446654002925569,
          0.2568536330956374,
          -0.5323714140329171,
          1.2398961931457892,
          1.4442012086018585,
          1.069815796772237,
          0.5253046744459509,
          0.36848600823081673,
          -1.1847475275339265,
          0.18463520870993408,
          -0.7335492239208102,
          -0.6608140230403634,
          0.5541255252479335,
          -0.6511684460602217,
          1.3966857462767777,
          -1.2765360716787524,
          -0.5152702421444836,
          1.9961919196856333,
          -0.039022698835690046,
          -0.2711135131224415,
          0.8157118601985619,
          -0.5444507317925322,
          2.1148452807225313,
          0.7065047348761125,
          -0.4122010677180778,
          0.9562033334417854,
          -0.3343863542874556,
          1.0635811975822256,
          -0.8901113319022214,
          -0.9707319048907495,
          0.11750305277438047,
          0.5125801934010197,
          0.8820371120292264,
          -1.5127005028648477,
          -1.3452836762709413,
          -1.9690238357572543,
          0.3724814484372588,
          -1.8661858341078816,
          0.7366606002034869,
          0.6041716774061525,
          0.2879542430778189,
          -0.6754479161116611,
          0.26904873586986455,
          0.06412280548588511,
          0.06204911990921217,
          0.0738620732575893,
          -0.04608161944249293,
          1.5052820485557334,
          -0.558234092678066,
          1.694079222413143,
          -0.9859262016838821,
          -0.5568580147130638,
          -0.5628776136903292,
          -1.7797469095823264,
          2.336554074194825,
          1.2159567018224806,
          3.0013639387321267,
          -0.6690431278261364,
          0.5831165054421106,
          -0.17957168727507763,
          -1.05408682762937,
          1.054388650493122,
          0.8090774739975908,
          -0.6579767901037481,
          -0.9504732356908544,
          -0.5229477945471815,
          -1.597724701485542,
          -0.6646905240051703,
          2.6778532402627384,
          -0.7649615732126199,
          -0.48474264712567455,
          1.9086937085617424,
          -0.5947555058493647,
          -1.9752792336692437,
          0.07151503161795482,
          -0.1619635020316879,
          0.28942867811686473,
          0.418738043076987
         ],
         "yaxis": "y15"
        },
        {
         "histfunc": "count",
         "histnorm": "",
         "marker": {
          "color": "rgba(128, 0, 128, 1.0)",
          "line": {
           "color": "#4D5663",
           "width": 1.3
          }
         },
         "name": "D",
         "nbinsx": 10,
         "opacity": 0.8,
         "orientation": "v",
         "type": "histogram",
         "x": [
          -1.1967289396768255,
          1.2084432000283791,
          0.8933907011808402,
          -0.8370158225021228,
          0.054950493197835515,
          0.5860648950484921,
          -1.206159653786153,
          -1.3367167539770204,
          2.8497056325844543,
          0.9956369394940869,
          0.6540089889820164,
          0.9585317492454164,
          0.3019461375428145,
          0.19767604148168808,
          -0.4960146597360244,
          1.0756165309549053,
          -0.8027153007638427,
          -0.08034286733634763,
          -1.204866882713637,
          -0.41572374720294475,
          -0.5287185888597782,
          -1.14707233465738,
          1.3446654002925569,
          0.2568536330956374,
          -0.5323714140329171,
          1.2398961931457892,
          1.4442012086018585,
          1.069815796772237,
          0.5253046744459509,
          0.36848600823081673,
          -1.1847475275339265,
          0.18463520870993408,
          -0.7335492239208102,
          -0.6608140230403634,
          0.5541255252479335,
          -0.6511684460602217,
          1.3966857462767777,
          -1.2765360716787524,
          -0.5152702421444836,
          1.9961919196856333,
          -0.039022698835690046,
          -0.2711135131224415,
          0.8157118601985619,
          -0.5444507317925322,
          2.1148452807225313,
          0.7065047348761125,
          -0.4122010677180778,
          0.9562033334417854,
          -0.3343863542874556,
          1.0635811975822256,
          -0.8901113319022214,
          -0.9707319048907495,
          0.11750305277438047,
          0.5125801934010197,
          0.8820371120292264,
          -1.5127005028648477,
          -1.3452836762709413,
          -1.9690238357572543,
          0.3724814484372588,
          -1.8661858341078816,
          0.7366606002034869,
          0.6041716774061525,
          0.2879542430778189,
          -0.6754479161116611,
          0.26904873586986455,
          0.06412280548588511,
          0.06204911990921217,
          0.0738620732575893,
          -0.04608161944249293,
          1.5052820485557334,
          -0.558234092678066,
          1.694079222413143,
          -0.9859262016838821,
          -0.5568580147130638,
          -0.5628776136903292,
          -1.7797469095823264,
          2.336554074194825,
          1.2159567018224806,
          3.0013639387321267,
          -0.6690431278261364,
          0.5831165054421106,
          -0.17957168727507763,
          -1.05408682762937,
          1.054388650493122,
          0.8090774739975908,
          -0.6579767901037481,
          -0.9504732356908544,
          -0.5229477945471815,
          -1.597724701485542,
          -0.6646905240051703,
          2.6778532402627384,
          -0.7649615732126199,
          -0.48474264712567455,
          1.9086937085617424,
          -0.5947555058493647,
          -1.9752792336692437,
          0.07151503161795482,
          -0.1619635020316879,
          0.28942867811686473,
          0.418738043076987
         ],
         "xaxis": "x16",
         "yaxis": "y16"
        }
       ],
       "layout": {
        "bargap": 0.02,
        "legend": {
         "bgcolor": "#F5F6F9",
         "font": {
          "color": "#4D5663"
         }
        },
        "paper_bgcolor": "#F5F6F9",
        "plot_bgcolor": "#F5F6F9",
        "showlegend": false,
        "template": {
         "data": {
          "bar": [
           {
            "error_x": {
             "color": "#2a3f5f"
            },
            "error_y": {
             "color": "#2a3f5f"
            },
            "marker": {
             "line": {
              "color": "#E5ECF6",
              "width": 0.5
             },
             "pattern": {
              "fillmode": "overlay",
              "size": 10,
              "solidity": 0.2
             }
            },
            "type": "bar"
           }
          ],
          "barpolar": [
           {
            "marker": {
             "line": {
              "color": "#E5ECF6",
              "width": 0.5
             },
             "pattern": {
              "fillmode": "overlay",
              "size": 10,
              "solidity": 0.2
             }
            },
            "type": "barpolar"
           }
          ],
          "carpet": [
           {
            "aaxis": {
             "endlinecolor": "#2a3f5f",
             "gridcolor": "white",
             "linecolor": "white",
             "minorgridcolor": "white",
             "startlinecolor": "#2a3f5f"
            },
            "baxis": {
             "endlinecolor": "#2a3f5f",
             "gridcolor": "white",
             "linecolor": "white",
             "minorgridcolor": "white",
             "startlinecolor": "#2a3f5f"
            },
            "type": "carpet"
           }
          ],
          "choropleth": [
           {
            "colorbar": {
             "outlinewidth": 0,
             "ticks": ""
            },
            "type": "choropleth"
           }
          ],
          "contour": [
           {
            "colorbar": {
             "outlinewidth": 0,
             "ticks": ""
            },
            "colorscale": [
             [
              0,
              "#0d0887"
             ],
             [
              0.1111111111111111,
              "#46039f"
             ],
             [
              0.2222222222222222,
              "#7201a8"
             ],
             [
              0.3333333333333333,
              "#9c179e"
             ],
             [
              0.4444444444444444,
              "#bd3786"
             ],
             [
              0.5555555555555556,
              "#d8576b"
             ],
             [
              0.6666666666666666,
              "#ed7953"
             ],
             [
              0.7777777777777778,
              "#fb9f3a"
             ],
             [
              0.8888888888888888,
              "#fdca26"
             ],
             [
              1,
              "#f0f921"
             ]
            ],
            "type": "contour"
           }
          ],
          "contourcarpet": [
           {
            "colorbar": {
             "outlinewidth": 0,
             "ticks": ""
            },
            "type": "contourcarpet"
           }
          ],
          "heatmap": [
           {
            "colorbar": {
             "outlinewidth": 0,
             "ticks": ""
            },
            "colorscale": [
             [
              0,
              "#0d0887"
             ],
             [
              0.1111111111111111,
              "#46039f"
             ],
             [
              0.2222222222222222,
              "#7201a8"
             ],
             [
              0.3333333333333333,
              "#9c179e"
             ],
             [
              0.4444444444444444,
              "#bd3786"
             ],
             [
              0.5555555555555556,
              "#d8576b"
             ],
             [
              0.6666666666666666,
              "#ed7953"
             ],
             [
              0.7777777777777778,
              "#fb9f3a"
             ],
             [
              0.8888888888888888,
              "#fdca26"
             ],
             [
              1,
              "#f0f921"
             ]
            ],
            "type": "heatmap"
           }
          ],
          "heatmapgl": [
           {
            "colorbar": {
             "outlinewidth": 0,
             "ticks": ""
            },
            "colorscale": [
             [
              0,
              "#0d0887"
             ],
             [
              0.1111111111111111,
              "#46039f"
             ],
             [
              0.2222222222222222,
              "#7201a8"
             ],
             [
              0.3333333333333333,
              "#9c179e"
             ],
             [
              0.4444444444444444,
              "#bd3786"
             ],
             [
              0.5555555555555556,
              "#d8576b"
             ],
             [
              0.6666666666666666,
              "#ed7953"
             ],
             [
              0.7777777777777778,
              "#fb9f3a"
             ],
             [
              0.8888888888888888,
              "#fdca26"
             ],
             [
              1,
              "#f0f921"
             ]
            ],
            "type": "heatmapgl"
           }
          ],
          "histogram": [
           {
            "marker": {
             "pattern": {
              "fillmode": "overlay",
              "size": 10,
              "solidity": 0.2
             }
            },
            "type": "histogram"
           }
          ],
          "histogram2d": [
           {
            "colorbar": {
             "outlinewidth": 0,
             "ticks": ""
            },
            "colorscale": [
             [
              0,
              "#0d0887"
             ],
             [
              0.1111111111111111,
              "#46039f"
             ],
             [
              0.2222222222222222,
              "#7201a8"
             ],
             [
              0.3333333333333333,
              "#9c179e"
             ],
             [
              0.4444444444444444,
              "#bd3786"
             ],
             [
              0.5555555555555556,
              "#d8576b"
             ],
             [
              0.6666666666666666,
              "#ed7953"
             ],
             [
              0.7777777777777778,
              "#fb9f3a"
             ],
             [
              0.8888888888888888,
              "#fdca26"
             ],
             [
              1,
              "#f0f921"
             ]
            ],
            "type": "histogram2d"
           }
          ],
          "histogram2dcontour": [
           {
            "colorbar": {
             "outlinewidth": 0,
             "ticks": ""
            },
            "colorscale": [
             [
              0,
              "#0d0887"
             ],
             [
              0.1111111111111111,
              "#46039f"
             ],
             [
              0.2222222222222222,
              "#7201a8"
             ],
             [
              0.3333333333333333,
              "#9c179e"
             ],
             [
              0.4444444444444444,
              "#bd3786"
             ],
             [
              0.5555555555555556,
              "#d8576b"
             ],
             [
              0.6666666666666666,
              "#ed7953"
             ],
             [
              0.7777777777777778,
              "#fb9f3a"
             ],
             [
              0.8888888888888888,
              "#fdca26"
             ],
             [
              1,
              "#f0f921"
             ]
            ],
            "type": "histogram2dcontour"
           }
          ],
          "mesh3d": [
           {
            "colorbar": {
             "outlinewidth": 0,
             "ticks": ""
            },
            "type": "mesh3d"
           }
          ],
          "parcoords": [
           {
            "line": {
             "colorbar": {
              "outlinewidth": 0,
              "ticks": ""
             }
            },
            "type": "parcoords"
           }
          ],
          "pie": [
           {
            "automargin": true,
            "type": "pie"
           }
          ],
          "scatter": [
           {
            "marker": {
             "colorbar": {
              "outlinewidth": 0,
              "ticks": ""
             }
            },
            "type": "scatter"
           }
          ],
          "scatter3d": [
           {
            "line": {
             "colorbar": {
              "outlinewidth": 0,
              "ticks": ""
             }
            },
            "marker": {
             "colorbar": {
              "outlinewidth": 0,
              "ticks": ""
             }
            },
            "type": "scatter3d"
           }
          ],
          "scattercarpet": [
           {
            "marker": {
             "colorbar": {
              "outlinewidth": 0,
              "ticks": ""
             }
            },
            "type": "scattercarpet"
           }
          ],
          "scattergeo": [
           {
            "marker": {
             "colorbar": {
              "outlinewidth": 0,
              "ticks": ""
             }
            },
            "type": "scattergeo"
           }
          ],
          "scattergl": [
           {
            "marker": {
             "colorbar": {
              "outlinewidth": 0,
              "ticks": ""
             }
            },
            "type": "scattergl"
           }
          ],
          "scattermapbox": [
           {
            "marker": {
             "colorbar": {
              "outlinewidth": 0,
              "ticks": ""
             }
            },
            "type": "scattermapbox"
           }
          ],
          "scatterpolar": [
           {
            "marker": {
             "colorbar": {
              "outlinewidth": 0,
              "ticks": ""
             }
            },
            "type": "scatterpolar"
           }
          ],
          "scatterpolargl": [
           {
            "marker": {
             "colorbar": {
              "outlinewidth": 0,
              "ticks": ""
             }
            },
            "type": "scatterpolargl"
           }
          ],
          "scatterternary": [
           {
            "marker": {
             "colorbar": {
              "outlinewidth": 0,
              "ticks": ""
             }
            },
            "type": "scatterternary"
           }
          ],
          "surface": [
           {
            "colorbar": {
             "outlinewidth": 0,
             "ticks": ""
            },
            "colorscale": [
             [
              0,
              "#0d0887"
             ],
             [
              0.1111111111111111,
              "#46039f"
             ],
             [
              0.2222222222222222,
              "#7201a8"
             ],
             [
              0.3333333333333333,
              "#9c179e"
             ],
             [
              0.4444444444444444,
              "#bd3786"
             ],
             [
              0.5555555555555556,
              "#d8576b"
             ],
             [
              0.6666666666666666,
              "#ed7953"
             ],
             [
              0.7777777777777778,
              "#fb9f3a"
             ],
             [
              0.8888888888888888,
              "#fdca26"
             ],
             [
              1,
              "#f0f921"
             ]
            ],
            "type": "surface"
           }
          ],
          "table": [
           {
            "cells": {
             "fill": {
              "color": "#EBF0F8"
             },
             "line": {
              "color": "white"
             }
            },
            "header": {
             "fill": {
              "color": "#C8D4E3"
             },
             "line": {
              "color": "white"
             }
            },
            "type": "table"
           }
          ]
         },
         "layout": {
          "annotationdefaults": {
           "arrowcolor": "#2a3f5f",
           "arrowhead": 0,
           "arrowwidth": 1
          },
          "autotypenumbers": "strict",
          "coloraxis": {
           "colorbar": {
            "outlinewidth": 0,
            "ticks": ""
           }
          },
          "colorscale": {
           "diverging": [
            [
             0,
             "#8e0152"
            ],
            [
             0.1,
             "#c51b7d"
            ],
            [
             0.2,
             "#de77ae"
            ],
            [
             0.3,
             "#f1b6da"
            ],
            [
             0.4,
             "#fde0ef"
            ],
            [
             0.5,
             "#f7f7f7"
            ],
            [
             0.6,
             "#e6f5d0"
            ],
            [
             0.7,
             "#b8e186"
            ],
            [
             0.8,
             "#7fbc41"
            ],
            [
             0.9,
             "#4d9221"
            ],
            [
             1,
             "#276419"
            ]
           ],
           "sequential": [
            [
             0,
             "#0d0887"
            ],
            [
             0.1111111111111111,
             "#46039f"
            ],
            [
             0.2222222222222222,
             "#7201a8"
            ],
            [
             0.3333333333333333,
             "#9c179e"
            ],
            [
             0.4444444444444444,
             "#bd3786"
            ],
            [
             0.5555555555555556,
             "#d8576b"
            ],
            [
             0.6666666666666666,
             "#ed7953"
            ],
            [
             0.7777777777777778,
             "#fb9f3a"
            ],
            [
             0.8888888888888888,
             "#fdca26"
            ],
            [
             1,
             "#f0f921"
            ]
           ],
           "sequentialminus": [
            [
             0,
             "#0d0887"
            ],
            [
             0.1111111111111111,
             "#46039f"
            ],
            [
             0.2222222222222222,
             "#7201a8"
            ],
            [
             0.3333333333333333,
             "#9c179e"
            ],
            [
             0.4444444444444444,
             "#bd3786"
            ],
            [
             0.5555555555555556,
             "#d8576b"
            ],
            [
             0.6666666666666666,
             "#ed7953"
            ],
            [
             0.7777777777777778,
             "#fb9f3a"
            ],
            [
             0.8888888888888888,
             "#fdca26"
            ],
            [
             1,
             "#f0f921"
            ]
           ]
          },
          "colorway": [
           "#636efa",
           "#EF553B",
           "#00cc96",
           "#ab63fa",
           "#FFA15A",
           "#19d3f3",
           "#FF6692",
           "#B6E880",
           "#FF97FF",
           "#FECB52"
          ],
          "font": {
           "color": "#2a3f5f"
          },
          "geo": {
           "bgcolor": "white",
           "lakecolor": "white",
           "landcolor": "#E5ECF6",
           "showlakes": true,
           "showland": true,
           "subunitcolor": "white"
          },
          "hoverlabel": {
           "align": "left"
          },
          "hovermode": "closest",
          "mapbox": {
           "style": "light"
          },
          "paper_bgcolor": "white",
          "plot_bgcolor": "#E5ECF6",
          "polar": {
           "angularaxis": {
            "gridcolor": "white",
            "linecolor": "white",
            "ticks": ""
           },
           "bgcolor": "#E5ECF6",
           "radialaxis": {
            "gridcolor": "white",
            "linecolor": "white",
            "ticks": ""
           }
          },
          "scene": {
           "xaxis": {
            "backgroundcolor": "#E5ECF6",
            "gridcolor": "white",
            "gridwidth": 2,
            "linecolor": "white",
            "showbackground": true,
            "ticks": "",
            "zerolinecolor": "white"
           },
           "yaxis": {
            "backgroundcolor": "#E5ECF6",
            "gridcolor": "white",
            "gridwidth": 2,
            "linecolor": "white",
            "showbackground": true,
            "ticks": "",
            "zerolinecolor": "white"
           },
           "zaxis": {
            "backgroundcolor": "#E5ECF6",
            "gridcolor": "white",
            "gridwidth": 2,
            "linecolor": "white",
            "showbackground": true,
            "ticks": "",
            "zerolinecolor": "white"
           }
          },
          "shapedefaults": {
           "line": {
            "color": "#2a3f5f"
           }
          },
          "ternary": {
           "aaxis": {
            "gridcolor": "white",
            "linecolor": "white",
            "ticks": ""
           },
           "baxis": {
            "gridcolor": "white",
            "linecolor": "white",
            "ticks": ""
           },
           "bgcolor": "#E5ECF6",
           "caxis": {
            "gridcolor": "white",
            "linecolor": "white",
            "ticks": ""
           }
          },
          "title": {
           "x": 0.05
          },
          "xaxis": {
           "automargin": true,
           "gridcolor": "white",
           "linecolor": "white",
           "ticks": "",
           "title": {
            "standoff": 15
           },
           "zerolinecolor": "white",
           "zerolinewidth": 2
          },
          "yaxis": {
           "automargin": true,
           "gridcolor": "white",
           "linecolor": "white",
           "ticks": "",
           "title": {
            "standoff": 15
           },
           "zerolinecolor": "white",
           "zerolinewidth": 2
          }
         }
        },
        "title": {
         "font": {
          "color": "#4D5663"
         }
        },
        "xaxis": {
         "anchor": "y",
         "domain": [
          0,
          0.2125
         ],
         "gridcolor": "#E1E5ED",
         "showgrid": false,
         "tickfont": {
          "color": "#4D5663"
         },
         "title": {
          "font": {
           "color": "#4D5663"
          },
          "text": ""
         },
         "zerolinecolor": "#E1E5ED"
        },
        "xaxis10": {
         "anchor": "y10",
         "domain": [
          0.2625,
          0.475
         ],
         "gridcolor": "#E1E5ED",
         "showgrid": false,
         "tickfont": {
          "color": "#4D5663"
         },
         "title": {
          "font": {
           "color": "#4D5663"
          },
          "text": ""
         },
         "zerolinecolor": "#E1E5ED"
        },
        "xaxis11": {
         "anchor": "y11",
         "domain": [
          0.525,
          0.7375
         ],
         "gridcolor": "#E1E5ED",
         "showgrid": false,
         "tickfont": {
          "color": "#4D5663"
         },
         "title": {
          "font": {
           "color": "#4D5663"
          },
          "text": ""
         },
         "zerolinecolor": "#E1E5ED"
        },
        "xaxis12": {
         "anchor": "y12",
         "domain": [
          0.7875,
          1
         ],
         "gridcolor": "#E1E5ED",
         "showgrid": false,
         "tickfont": {
          "color": "#4D5663"
         },
         "title": {
          "font": {
           "color": "#4D5663"
          },
          "text": ""
         },
         "zerolinecolor": "#E1E5ED"
        },
        "xaxis13": {
         "anchor": "y13",
         "domain": [
          0,
          0.2125
         ],
         "gridcolor": "#E1E5ED",
         "showgrid": false,
         "tickfont": {
          "color": "#4D5663"
         },
         "title": {
          "font": {
           "color": "#4D5663"
          },
          "text": ""
         },
         "zerolinecolor": "#E1E5ED"
        },
        "xaxis14": {
         "anchor": "y14",
         "domain": [
          0.2625,
          0.475
         ],
         "gridcolor": "#E1E5ED",
         "showgrid": false,
         "tickfont": {
          "color": "#4D5663"
         },
         "title": {
          "font": {
           "color": "#4D5663"
          },
          "text": ""
         },
         "zerolinecolor": "#E1E5ED"
        },
        "xaxis15": {
         "anchor": "y15",
         "domain": [
          0.525,
          0.7375
         ],
         "gridcolor": "#E1E5ED",
         "showgrid": false,
         "tickfont": {
          "color": "#4D5663"
         },
         "title": {
          "font": {
           "color": "#4D5663"
          },
          "text": ""
         },
         "zerolinecolor": "#E1E5ED"
        },
        "xaxis16": {
         "anchor": "y16",
         "domain": [
          0.7875,
          1
         ],
         "gridcolor": "#E1E5ED",
         "showgrid": false,
         "tickfont": {
          "color": "#4D5663"
         },
         "title": {
          "font": {
           "color": "#4D5663"
          },
          "text": ""
         },
         "zerolinecolor": "#E1E5ED"
        },
        "xaxis2": {
         "anchor": "y2",
         "domain": [
          0.2625,
          0.475
         ],
         "gridcolor": "#E1E5ED",
         "showgrid": false,
         "tickfont": {
          "color": "#4D5663"
         },
         "title": {
          "font": {
           "color": "#4D5663"
          },
          "text": ""
         },
         "zerolinecolor": "#E1E5ED"
        },
        "xaxis3": {
         "anchor": "y3",
         "domain": [
          0.525,
          0.7375
         ],
         "gridcolor": "#E1E5ED",
         "showgrid": false,
         "tickfont": {
          "color": "#4D5663"
         },
         "title": {
          "font": {
           "color": "#4D5663"
          },
          "text": ""
         },
         "zerolinecolor": "#E1E5ED"
        },
        "xaxis4": {
         "anchor": "y4",
         "domain": [
          0.7875,
          1
         ],
         "gridcolor": "#E1E5ED",
         "showgrid": false,
         "tickfont": {
          "color": "#4D5663"
         },
         "title": {
          "font": {
           "color": "#4D5663"
          },
          "text": ""
         },
         "zerolinecolor": "#E1E5ED"
        },
        "xaxis5": {
         "anchor": "y5",
         "domain": [
          0,
          0.2125
         ],
         "gridcolor": "#E1E5ED",
         "showgrid": false,
         "tickfont": {
          "color": "#4D5663"
         },
         "title": {
          "font": {
           "color": "#4D5663"
          },
          "text": ""
         },
         "zerolinecolor": "#E1E5ED"
        },
        "xaxis6": {
         "anchor": "y6",
         "domain": [
          0.2625,
          0.475
         ],
         "gridcolor": "#E1E5ED",
         "showgrid": false,
         "tickfont": {
          "color": "#4D5663"
         },
         "title": {
          "font": {
           "color": "#4D5663"
          },
          "text": ""
         },
         "zerolinecolor": "#E1E5ED"
        },
        "xaxis7": {
         "anchor": "y7",
         "domain": [
          0.525,
          0.7375
         ],
         "gridcolor": "#E1E5ED",
         "showgrid": false,
         "tickfont": {
          "color": "#4D5663"
         },
         "title": {
          "font": {
           "color": "#4D5663"
          },
          "text": ""
         },
         "zerolinecolor": "#E1E5ED"
        },
        "xaxis8": {
         "anchor": "y8",
         "domain": [
          0.7875,
          1
         ],
         "gridcolor": "#E1E5ED",
         "showgrid": false,
         "tickfont": {
          "color": "#4D5663"
         },
         "title": {
          "font": {
           "color": "#4D5663"
          },
          "text": ""
         },
         "zerolinecolor": "#E1E5ED"
        },
        "xaxis9": {
         "anchor": "y9",
         "domain": [
          0,
          0.2125
         ],
         "gridcolor": "#E1E5ED",
         "showgrid": false,
         "tickfont": {
          "color": "#4D5663"
         },
         "title": {
          "font": {
           "color": "#4D5663"
          },
          "text": ""
         },
         "zerolinecolor": "#E1E5ED"
        },
        "yaxis": {
         "anchor": "x",
         "domain": [
          0.8025,
          1
         ],
         "gridcolor": "#E1E5ED",
         "showgrid": false,
         "tickfont": {
          "color": "#4D5663"
         },
         "title": {
          "font": {
           "color": "#4D5663"
          },
          "text": ""
         },
         "zerolinecolor": "#E1E5ED"
        },
        "yaxis10": {
         "anchor": "x10",
         "domain": [
          0.2675,
          0.465
         ],
         "gridcolor": "#E1E5ED",
         "showgrid": false,
         "tickfont": {
          "color": "#4D5663"
         },
         "title": {
          "font": {
           "color": "#4D5663"
          },
          "text": ""
         },
         "zerolinecolor": "#E1E5ED"
        },
        "yaxis11": {
         "anchor": "x11",
         "domain": [
          0.2675,
          0.465
         ],
         "gridcolor": "#E1E5ED",
         "showgrid": false,
         "tickfont": {
          "color": "#4D5663"
         },
         "title": {
          "font": {
           "color": "#4D5663"
          },
          "text": ""
         },
         "zerolinecolor": "#E1E5ED"
        },
        "yaxis12": {
         "anchor": "x12",
         "domain": [
          0.2675,
          0.465
         ],
         "gridcolor": "#E1E5ED",
         "showgrid": false,
         "tickfont": {
          "color": "#4D5663"
         },
         "title": {
          "font": {
           "color": "#4D5663"
          },
          "text": ""
         },
         "zerolinecolor": "#E1E5ED"
        },
        "yaxis13": {
         "anchor": "x13",
         "domain": [
          0,
          0.1975
         ],
         "gridcolor": "#E1E5ED",
         "showgrid": false,
         "tickfont": {
          "color": "#4D5663"
         },
         "title": {
          "font": {
           "color": "#4D5663"
          },
          "text": ""
         },
         "zerolinecolor": "#E1E5ED"
        },
        "yaxis14": {
         "anchor": "x14",
         "domain": [
          0,
          0.1975
         ],
         "gridcolor": "#E1E5ED",
         "showgrid": false,
         "tickfont": {
          "color": "#4D5663"
         },
         "title": {
          "font": {
           "color": "#4D5663"
          },
          "text": ""
         },
         "zerolinecolor": "#E1E5ED"
        },
        "yaxis15": {
         "anchor": "x15",
         "domain": [
          0,
          0.1975
         ],
         "gridcolor": "#E1E5ED",
         "showgrid": false,
         "tickfont": {
          "color": "#4D5663"
         },
         "title": {
          "font": {
           "color": "#4D5663"
          },
          "text": ""
         },
         "zerolinecolor": "#E1E5ED"
        },
        "yaxis16": {
         "anchor": "x16",
         "domain": [
          0,
          0.1975
         ],
         "gridcolor": "#E1E5ED",
         "showgrid": false,
         "tickfont": {
          "color": "#4D5663"
         },
         "title": {
          "font": {
           "color": "#4D5663"
          },
          "text": ""
         },
         "zerolinecolor": "#E1E5ED"
        },
        "yaxis2": {
         "anchor": "x2",
         "domain": [
          0.8025,
          1
         ],
         "gridcolor": "#E1E5ED",
         "showgrid": false,
         "tickfont": {
          "color": "#4D5663"
         },
         "title": {
          "font": {
           "color": "#4D5663"
          },
          "text": ""
         },
         "zerolinecolor": "#E1E5ED"
        },
        "yaxis3": {
         "anchor": "x3",
         "domain": [
          0.8025,
          1
         ],
         "gridcolor": "#E1E5ED",
         "showgrid": false,
         "tickfont": {
          "color": "#4D5663"
         },
         "title": {
          "font": {
           "color": "#4D5663"
          },
          "text": ""
         },
         "zerolinecolor": "#E1E5ED"
        },
        "yaxis4": {
         "anchor": "x4",
         "domain": [
          0.8025,
          1
         ],
         "gridcolor": "#E1E5ED",
         "showgrid": false,
         "tickfont": {
          "color": "#4D5663"
         },
         "title": {
          "font": {
           "color": "#4D5663"
          },
          "text": ""
         },
         "zerolinecolor": "#E1E5ED"
        },
        "yaxis5": {
         "anchor": "x5",
         "domain": [
          0.535,
          0.7325
         ],
         "gridcolor": "#E1E5ED",
         "showgrid": false,
         "tickfont": {
          "color": "#4D5663"
         },
         "title": {
          "font": {
           "color": "#4D5663"
          },
          "text": ""
         },
         "zerolinecolor": "#E1E5ED"
        },
        "yaxis6": {
         "anchor": "x6",
         "domain": [
          0.535,
          0.7325
         ],
         "gridcolor": "#E1E5ED",
         "showgrid": false,
         "tickfont": {
          "color": "#4D5663"
         },
         "title": {
          "font": {
           "color": "#4D5663"
          },
          "text": ""
         },
         "zerolinecolor": "#E1E5ED"
        },
        "yaxis7": {
         "anchor": "x7",
         "domain": [
          0.535,
          0.7325
         ],
         "gridcolor": "#E1E5ED",
         "showgrid": false,
         "tickfont": {
          "color": "#4D5663"
         },
         "title": {
          "font": {
           "color": "#4D5663"
          },
          "text": ""
         },
         "zerolinecolor": "#E1E5ED"
        },
        "yaxis8": {
         "anchor": "x8",
         "domain": [
          0.535,
          0.7325
         ],
         "gridcolor": "#E1E5ED",
         "showgrid": false,
         "tickfont": {
          "color": "#4D5663"
         },
         "title": {
          "font": {
           "color": "#4D5663"
          },
          "text": ""
         },
         "zerolinecolor": "#E1E5ED"
        },
        "yaxis9": {
         "anchor": "x9",
         "domain": [
          0.2675,
          0.465
         ],
         "gridcolor": "#E1E5ED",
         "showgrid": false,
         "tickfont": {
          "color": "#4D5663"
         },
         "title": {
          "font": {
           "color": "#4D5663"
          },
          "text": ""
         },
         "zerolinecolor": "#E1E5ED"
        }
       }
      },
      "text/html": [
       "<div>                            <div id=\"86638550-dc8c-4d1b-b1e5-67500521560e\" class=\"plotly-graph-div\" style=\"height:525px; width:100%;\"></div>            <script type=\"text/javascript\">                require([\"plotly\"], function(Plotly) {                    window.PLOTLYENV=window.PLOTLYENV || {};\n",
       "                    window.PLOTLYENV.BASE_URL='https://plot.ly';                                    if (document.getElementById(\"86638550-dc8c-4d1b-b1e5-67500521560e\")) {                    Plotly.newPlot(                        \"86638550-dc8c-4d1b-b1e5-67500521560e\",                        [{\"histfunc\":\"count\",\"histnorm\":\"\",\"marker\":{\"color\":\"rgba(255, 153, 51, 1.0)\",\"line\":{\"color\":\"#4D5663\",\"width\":1.3}},\"name\":\"A\",\"nbinsx\":10,\"opacity\":0.8,\"orientation\":\"v\",\"x\":[0.4395119976966545,0.020152580888882565,-0.37407441444430184,-0.539926331737172,-1.1415136887036064,0.8166657567438118,-0.6224297536168503,0.7308894349710953,0.7203192879102357,-1.3737647648303697,-1.23119009378185,0.3198538375639925,0.26348650235568355,0.6488757306353029,-0.00728590715634182,-0.7565433586862875,-0.6563581332656321,-0.2718198150238515,2.3006887217341485,-0.0016354406682298403,-0.44155799103745624,-0.05360096166018684,0.1482445798661521,-0.31540345886485455,-1.0965840430633944,0.10640896879094265,-0.6070796967732894,-0.22733509919143075,1.9043079760497075,0.15758544829888035,-0.8467557485348001,-0.05415976370766293,-0.9788011598549242,-1.6583630823284712,0.8159503058015778,-0.25181207826404073,-0.8324733961614146,-0.6260559102319855,-0.31995726864785823,1.1849051256609375,-0.284668437153468,-1.3551041866389977,-0.44227550517139147,-0.6564605155145264,1.4465930611506095,0.025068373987287135,-0.7669606770160547,-0.5443292144876736,1.8675957298506896,0.598656129228373,-1.4141874887718855,-0.22207017252161643,-0.5557646921062268,0.023795421367580435,0.2591414523453681,0.16506972348129514,-1.6995486727841598,0.495897711386881,-2.16172874318155,0.4695045378281316,0.8808506673427354,-0.2849864405045829,-1.3827658787536463,-1.9087429354622187,0.5103912430314287,-0.569148889572966,-0.39583345631377553,1.6927286444863971,1.3794804856602336,1.02340631443928,-0.8786847928090047,-0.22365353139572725,-0.6286343213996785,0.1852315531564232,0.13414886930901337,-1.6146835134016613,1.6490844301298115,-1.5550285792794807,1.344854834805804,-1.2139962371553352,-1.8529045686615873,0.159159120937591,1.0210668604863389,-0.5824035944285543,0.08560547669436594,-0.3686773747493008,1.214718224277028,-0.051241433224650676,0.08303529764650347,0.9092419090260879,-1.0618356396353699,-1.3732900879073142,-1.751218488708866,-0.13388061656749478,0.18032175371235448,-0.2244659045304318,1.1168388101991757,-0.5571809881209141,-1.577732479354081,0.4027152366654449],\"xaxis\":\"x\",\"yaxis\":\"y\",\"type\":\"histogram\"},{\"line\":{\"color\":\"rgba(128, 128, 128, 1.0)\",\"dash\":\"solid\",\"shape\":\"linear\",\"width\":1.3},\"marker\":{\"size\":2,\"symbol\":\"circle\"},\"mode\":\"markers\",\"name\":\"A\",\"text\":\"\",\"x\":[0.4280706362665727,0.7180418134509058,0.039018123521560956,-2.223254471201788,-0.875572466427057,0.31082962918417856,0.04164485460440668,-1.3375954608338874,-1.3405437149873514,0.8572242598587281,-0.16188928162123553,-0.7187491678629951,0.3999681853251334,-0.8651274609324161,1.9398556052996982,0.37170042818699983,-1.2034611707274985,0.8393246337713155,0.41155942561230474,0.00033315878116852473,-1.6639121984076959,-1.2939308121993591,0.2302461943473713,-1.1860250330934174,-1.1250630573271623,0.3411966117332432,-0.08281182615268948,0.41842194008398625,-1.7521218805724776,1.8722464063131021,0.9523448471366392,0.5797894008773923,0.28708326315953325,-3.0335772092969595,0.12008245165224005,-0.9692412532879529,1.236861712762151,-1.813670708984641,-0.6640423586276856,2.0857608212633116,0.07078185544215489,0.13316552342725502,1.118793257633992,0.22109987484931612,0.4816167266503535,0.9007965084713055,0.23136190333438797,-0.6211815746593071,1.1791990907833874,-1.0184759389708393,0.7935063885328861,0.4739578995446759,-0.22569428492832613,2.1111501661267114,0.5805731683953766,-1.1774151325024085,0.4804288376175385,0.9389295688799837,1.3394547064736422,0.09157486827855868,0.32021176932753054,0.1508485044753879,0.0678145670140172,0.5951231144203691,-1.6454252033113301,-1.2999466345158284,0.30014825283198915,-0.9261425193798055,-0.7233485416807636,-0.3357183086594954,0.7741014105468014,-0.9680340081985276,-0.6843133483970795,0.2208022680602893,-0.7041034231797588,1.2476835296624578,0.36575625493327446,-0.7078241513496009,0.006963710275013258,-0.16294101108078116,1.5251683930463749,-0.52052292400051,0.09330851367827822,0.1980403455685616,0.16031321326067646,0.4522372122430764,1.288266420667494,-0.08501136423912654,-0.537993634388944,0.18898741128953095,-0.6879271077969086,-0.8118986993420849,-0.5951301224776799,0.849275846698981,0.48172786564149733,1.389259766341688,-0.02855002125459373,0.824790991786847,0.702338016465698,1.2060183630123236],\"xaxis\":\"x2\",\"y\":[0.4395119976966545,0.020152580888882565,-0.37407441444430184,-0.539926331737172,-1.1415136887036064,0.8166657567438118,-0.6224297536168503,0.7308894349710953,0.7203192879102357,-1.3737647648303697,-1.23119009378185,0.3198538375639925,0.26348650235568355,0.6488757306353029,-0.00728590715634182,-0.7565433586862875,-0.6563581332656321,-0.2718198150238515,2.3006887217341485,-0.0016354406682298403,-0.44155799103745624,-0.05360096166018684,0.1482445798661521,-0.31540345886485455,-1.0965840430633944,0.10640896879094265,-0.6070796967732894,-0.22733509919143075,1.9043079760497075,0.15758544829888035,-0.8467557485348001,-0.05415976370766293,-0.9788011598549242,-1.6583630823284712,0.8159503058015778,-0.25181207826404073,-0.8324733961614146,-0.6260559102319855,-0.31995726864785823,1.1849051256609375,-0.284668437153468,-1.3551041866389977,-0.44227550517139147,-0.6564605155145264,1.4465930611506095,0.025068373987287135,-0.7669606770160547,-0.5443292144876736,1.8675957298506896,0.598656129228373,-1.4141874887718855,-0.22207017252161643,-0.5557646921062268,0.023795421367580435,0.2591414523453681,0.16506972348129514,-1.6995486727841598,0.495897711386881,-2.16172874318155,0.4695045378281316,0.8808506673427354,-0.2849864405045829,-1.3827658787536463,-1.9087429354622187,0.5103912430314287,-0.569148889572966,-0.39583345631377553,1.6927286444863971,1.3794804856602336,1.02340631443928,-0.8786847928090047,-0.22365353139572725,-0.6286343213996785,0.1852315531564232,0.13414886930901337,-1.6146835134016613,1.6490844301298115,-1.5550285792794807,1.344854834805804,-1.2139962371553352,-1.8529045686615873,0.159159120937591,1.0210668604863389,-0.5824035944285543,0.08560547669436594,-0.3686773747493008,1.214718224277028,-0.051241433224650676,0.08303529764650347,0.9092419090260879,-1.0618356396353699,-1.3732900879073142,-1.751218488708866,-0.13388061656749478,0.18032175371235448,-0.2244659045304318,1.1168388101991757,-0.5571809881209141,-1.577732479354081,0.4027152366654449],\"yaxis\":\"y2\",\"type\":\"scatter\"},{\"line\":{\"color\":\"rgba(128, 128, 128, 1.0)\",\"dash\":\"solid\",\"shape\":\"linear\",\"width\":1.3},\"marker\":{\"size\":2,\"symbol\":\"circle\"},\"mode\":\"markers\",\"name\":\"A\",\"text\":\"\",\"x\":[-1.3787152783508723,-0.7261164047389449,0.2224364093928684,1.1477624692750603,-1.43775668031013,0.03134895951287714,0.5744870610575307,-1.266687721886195,-0.19289617140422258,1.511559448278765,-0.5119282086892993,-2.2392587865674574,-0.6209115834293467,1.1137304776579646,1.0742908031611498,0.2037310729229849,-0.747303255099262,-0.9692202000526821,-1.089312084525815,-0.8833887607330014,0.13506777324616978,0.0707313620850424,1.823478001044083,0.0017497707721843754,0.8812661765541764,1.0235957674378207,0.23657683002359883,0.3550476835109541,1.4749191367053716,-0.5724932191421319,-0.6151418387655972,-0.785001406471968,-0.06993434253506313,-0.21535988326079006,0.47982251383891333,0.9716315951462331,-0.15185219545189366,1.9164780515109556,0.5987294120376846,-0.22795902511024854,-0.5585658480008592,-1.6913077332985833,0.25352182758564246,0.11803801505601494,0.7879975858188688,-0.5032812994273885,-1.7239067650251179,-0.5218210287612856,1.3743061449298846,0.9563603916667522,-0.10302531350948356,-1.0078148568916971,0.8530414622148793,0.3267258270809262,2.3855970082680136,-1.2679195947325799,-0.7032649912550678,0.6859312164945162,-0.11386304522157245,-1.0909068628349752,-0.13485185096848448,0.3129069963160951,0.3251879215144967,-2.464840591968921,-0.4136242042591343,-0.31016615436486994,-1.4840374002833763,-1.2562717159180883,-0.1916699473663112,0.29825808080300975,0.8299314382112951,-2.679638974552658,-1.4593854710372014,0.02556938465970596,1.0089076132913224,-0.2562859582883714,-0.05081801986273233,-0.7239080962437932,1.4006042469358264,0.26662768618565924,0.07141262901645731,-1.1891995815160468,-0.8464327135962876,-0.1493251183698699,0.20426726621922955,-0.014680966834019888,-0.6686931887825628,0.7801346385676716,1.3176659548439453,-1.2567470968963135,0.5083603229557176,-1.210794346863032,0.49075215782348397,-0.23425557424750665,-0.491208269335909,-0.41090303463772354,0.1253723206034941,-0.1770910238483198,0.64196514060045,-0.7382162956891389],\"xaxis\":\"x3\",\"y\":[0.4395119976966545,0.020152580888882565,-0.37407441444430184,-0.539926331737172,-1.1415136887036064,0.8166657567438118,-0.6224297536168503,0.7308894349710953,0.7203192879102357,-1.3737647648303697,-1.23119009378185,0.3198538375639925,0.26348650235568355,0.6488757306353029,-0.00728590715634182,-0.7565433586862875,-0.6563581332656321,-0.2718198150238515,2.3006887217341485,-0.0016354406682298403,-0.44155799103745624,-0.05360096166018684,0.1482445798661521,-0.31540345886485455,-1.0965840430633944,0.10640896879094265,-0.6070796967732894,-0.22733509919143075,1.9043079760497075,0.15758544829888035,-0.8467557485348001,-0.05415976370766293,-0.9788011598549242,-1.6583630823284712,0.8159503058015778,-0.25181207826404073,-0.8324733961614146,-0.6260559102319855,-0.31995726864785823,1.1849051256609375,-0.284668437153468,-1.3551041866389977,-0.44227550517139147,-0.6564605155145264,1.4465930611506095,0.025068373987287135,-0.7669606770160547,-0.5443292144876736,1.8675957298506896,0.598656129228373,-1.4141874887718855,-0.22207017252161643,-0.5557646921062268,0.023795421367580435,0.2591414523453681,0.16506972348129514,-1.6995486727841598,0.495897711386881,-2.16172874318155,0.4695045378281316,0.8808506673427354,-0.2849864405045829,-1.3827658787536463,-1.9087429354622187,0.5103912430314287,-0.569148889572966,-0.39583345631377553,1.6927286444863971,1.3794804856602336,1.02340631443928,-0.8786847928090047,-0.22365353139572725,-0.6286343213996785,0.1852315531564232,0.13414886930901337,-1.6146835134016613,1.6490844301298115,-1.5550285792794807,1.344854834805804,-1.2139962371553352,-1.8529045686615873,0.159159120937591,1.0210668604863389,-0.5824035944285543,0.08560547669436594,-0.3686773747493008,1.214718224277028,-0.051241433224650676,0.08303529764650347,0.9092419090260879,-1.0618356396353699,-1.3732900879073142,-1.751218488708866,-0.13388061656749478,0.18032175371235448,-0.2244659045304318,1.1168388101991757,-0.5571809881209141,-1.577732479354081,0.4027152366654449],\"yaxis\":\"y3\",\"type\":\"scatter\"},{\"line\":{\"color\":\"rgba(128, 128, 128, 1.0)\",\"dash\":\"solid\",\"shape\":\"linear\",\"width\":1.3},\"marker\":{\"size\":2,\"symbol\":\"circle\"},\"mode\":\"markers\",\"name\":\"A\",\"text\":\"\",\"x\":[-1.1967289396768255,1.2084432000283791,0.8933907011808402,-0.8370158225021228,0.054950493197835515,0.5860648950484921,-1.206159653786153,-1.3367167539770204,2.8497056325844543,0.9956369394940869,0.6540089889820164,0.9585317492454164,0.3019461375428145,0.19767604148168808,-0.4960146597360244,1.0756165309549053,-0.8027153007638427,-0.08034286733634763,-1.204866882713637,-0.41572374720294475,-0.5287185888597782,-1.14707233465738,1.3446654002925569,0.2568536330956374,-0.5323714140329171,1.2398961931457892,1.4442012086018585,1.069815796772237,0.5253046744459509,0.36848600823081673,-1.1847475275339265,0.18463520870993408,-0.7335492239208102,-0.6608140230403634,0.5541255252479335,-0.6511684460602217,1.3966857462767777,-1.2765360716787524,-0.5152702421444836,1.9961919196856333,-0.039022698835690046,-0.2711135131224415,0.8157118601985619,-0.5444507317925322,2.1148452807225313,0.7065047348761125,-0.4122010677180778,0.9562033334417854,-0.3343863542874556,1.0635811975822256,-0.8901113319022214,-0.9707319048907495,0.11750305277438047,0.5125801934010197,0.8820371120292264,-1.5127005028648477,-1.3452836762709413,-1.9690238357572543,0.3724814484372588,-1.8661858341078816,0.7366606002034869,0.6041716774061525,0.2879542430778189,-0.6754479161116611,0.26904873586986455,0.06412280548588511,0.06204911990921217,0.0738620732575893,-0.04608161944249293,1.5052820485557334,-0.558234092678066,1.694079222413143,-0.9859262016838821,-0.5568580147130638,-0.5628776136903292,-1.7797469095823264,2.336554074194825,1.2159567018224806,3.0013639387321267,-0.6690431278261364,0.5831165054421106,-0.17957168727507763,-1.05408682762937,1.054388650493122,0.8090774739975908,-0.6579767901037481,-0.9504732356908544,-0.5229477945471815,-1.597724701485542,-0.6646905240051703,2.6778532402627384,-0.7649615732126199,-0.48474264712567455,1.9086937085617424,-0.5947555058493647,-1.9752792336692437,0.07151503161795482,-0.1619635020316879,0.28942867811686473,0.418738043076987],\"xaxis\":\"x4\",\"y\":[0.4395119976966545,0.020152580888882565,-0.37407441444430184,-0.539926331737172,-1.1415136887036064,0.8166657567438118,-0.6224297536168503,0.7308894349710953,0.7203192879102357,-1.3737647648303697,-1.23119009378185,0.3198538375639925,0.26348650235568355,0.6488757306353029,-0.00728590715634182,-0.7565433586862875,-0.6563581332656321,-0.2718198150238515,2.3006887217341485,-0.0016354406682298403,-0.44155799103745624,-0.05360096166018684,0.1482445798661521,-0.31540345886485455,-1.0965840430633944,0.10640896879094265,-0.6070796967732894,-0.22733509919143075,1.9043079760497075,0.15758544829888035,-0.8467557485348001,-0.05415976370766293,-0.9788011598549242,-1.6583630823284712,0.8159503058015778,-0.25181207826404073,-0.8324733961614146,-0.6260559102319855,-0.31995726864785823,1.1849051256609375,-0.284668437153468,-1.3551041866389977,-0.44227550517139147,-0.6564605155145264,1.4465930611506095,0.025068373987287135,-0.7669606770160547,-0.5443292144876736,1.8675957298506896,0.598656129228373,-1.4141874887718855,-0.22207017252161643,-0.5557646921062268,0.023795421367580435,0.2591414523453681,0.16506972348129514,-1.6995486727841598,0.495897711386881,-2.16172874318155,0.4695045378281316,0.8808506673427354,-0.2849864405045829,-1.3827658787536463,-1.9087429354622187,0.5103912430314287,-0.569148889572966,-0.39583345631377553,1.6927286444863971,1.3794804856602336,1.02340631443928,-0.8786847928090047,-0.22365353139572725,-0.6286343213996785,0.1852315531564232,0.13414886930901337,-1.6146835134016613,1.6490844301298115,-1.5550285792794807,1.344854834805804,-1.2139962371553352,-1.8529045686615873,0.159159120937591,1.0210668604863389,-0.5824035944285543,0.08560547669436594,-0.3686773747493008,1.214718224277028,-0.051241433224650676,0.08303529764650347,0.9092419090260879,-1.0618356396353699,-1.3732900879073142,-1.751218488708866,-0.13388061656749478,0.18032175371235448,-0.2244659045304318,1.1168388101991757,-0.5571809881209141,-1.577732479354081,0.4027152366654449],\"yaxis\":\"y4\",\"type\":\"scatter\"},{\"line\":{\"color\":\"rgba(128, 128, 128, 1.0)\",\"dash\":\"solid\",\"shape\":\"linear\",\"width\":1.3},\"marker\":{\"size\":2,\"symbol\":\"circle\"},\"mode\":\"markers\",\"name\":\"B\",\"text\":\"\",\"x\":[0.4395119976966545,0.020152580888882565,-0.37407441444430184,-0.539926331737172,-1.1415136887036064,0.8166657567438118,-0.6224297536168503,0.7308894349710953,0.7203192879102357,-1.3737647648303697,-1.23119009378185,0.3198538375639925,0.26348650235568355,0.6488757306353029,-0.00728590715634182,-0.7565433586862875,-0.6563581332656321,-0.2718198150238515,2.3006887217341485,-0.0016354406682298403,-0.44155799103745624,-0.05360096166018684,0.1482445798661521,-0.31540345886485455,-1.0965840430633944,0.10640896879094265,-0.6070796967732894,-0.22733509919143075,1.9043079760497075,0.15758544829888035,-0.8467557485348001,-0.05415976370766293,-0.9788011598549242,-1.6583630823284712,0.8159503058015778,-0.25181207826404073,-0.8324733961614146,-0.6260559102319855,-0.31995726864785823,1.1849051256609375,-0.284668437153468,-1.3551041866389977,-0.44227550517139147,-0.6564605155145264,1.4465930611506095,0.025068373987287135,-0.7669606770160547,-0.5443292144876736,1.8675957298506896,0.598656129228373,-1.4141874887718855,-0.22207017252161643,-0.5557646921062268,0.023795421367580435,0.2591414523453681,0.16506972348129514,-1.6995486727841598,0.495897711386881,-2.16172874318155,0.4695045378281316,0.8808506673427354,-0.2849864405045829,-1.3827658787536463,-1.9087429354622187,0.5103912430314287,-0.569148889572966,-0.39583345631377553,1.6927286444863971,1.3794804856602336,1.02340631443928,-0.8786847928090047,-0.22365353139572725,-0.6286343213996785,0.1852315531564232,0.13414886930901337,-1.6146835134016613,1.6490844301298115,-1.5550285792794807,1.344854834805804,-1.2139962371553352,-1.8529045686615873,0.159159120937591,1.0210668604863389,-0.5824035944285543,0.08560547669436594,-0.3686773747493008,1.214718224277028,-0.051241433224650676,0.08303529764650347,0.9092419090260879,-1.0618356396353699,-1.3732900879073142,-1.751218488708866,-0.13388061656749478,0.18032175371235448,-0.2244659045304318,1.1168388101991757,-0.5571809881209141,-1.577732479354081,0.4027152366654449],\"xaxis\":\"x5\",\"y\":[0.4280706362665727,0.7180418134509058,0.039018123521560956,-2.223254471201788,-0.875572466427057,0.31082962918417856,0.04164485460440668,-1.3375954608338874,-1.3405437149873514,0.8572242598587281,-0.16188928162123553,-0.7187491678629951,0.3999681853251334,-0.8651274609324161,1.9398556052996982,0.37170042818699983,-1.2034611707274985,0.8393246337713155,0.41155942561230474,0.00033315878116852473,-1.6639121984076959,-1.2939308121993591,0.2302461943473713,-1.1860250330934174,-1.1250630573271623,0.3411966117332432,-0.08281182615268948,0.41842194008398625,-1.7521218805724776,1.8722464063131021,0.9523448471366392,0.5797894008773923,0.28708326315953325,-3.0335772092969595,0.12008245165224005,-0.9692412532879529,1.236861712762151,-1.813670708984641,-0.6640423586276856,2.0857608212633116,0.07078185544215489,0.13316552342725502,1.118793257633992,0.22109987484931612,0.4816167266503535,0.9007965084713055,0.23136190333438797,-0.6211815746593071,1.1791990907833874,-1.0184759389708393,0.7935063885328861,0.4739578995446759,-0.22569428492832613,2.1111501661267114,0.5805731683953766,-1.1774151325024085,0.4804288376175385,0.9389295688799837,1.3394547064736422,0.09157486827855868,0.32021176932753054,0.1508485044753879,0.0678145670140172,0.5951231144203691,-1.6454252033113301,-1.2999466345158284,0.30014825283198915,-0.9261425193798055,-0.7233485416807636,-0.3357183086594954,0.7741014105468014,-0.9680340081985276,-0.6843133483970795,0.2208022680602893,-0.7041034231797588,1.2476835296624578,0.36575625493327446,-0.7078241513496009,0.006963710275013258,-0.16294101108078116,1.5251683930463749,-0.52052292400051,0.09330851367827822,0.1980403455685616,0.16031321326067646,0.4522372122430764,1.288266420667494,-0.08501136423912654,-0.537993634388944,0.18898741128953095,-0.6879271077969086,-0.8118986993420849,-0.5951301224776799,0.849275846698981,0.48172786564149733,1.389259766341688,-0.02855002125459373,0.824790991786847,0.702338016465698,1.2060183630123236],\"yaxis\":\"y5\",\"type\":\"scatter\"},{\"histfunc\":\"count\",\"histnorm\":\"\",\"marker\":{\"color\":\"rgba(55, 128, 191, 1.0)\",\"line\":{\"color\":\"#4D5663\",\"width\":1.3}},\"name\":\"B\",\"nbinsx\":10,\"opacity\":0.8,\"orientation\":\"v\",\"x\":[0.4280706362665727,0.7180418134509058,0.039018123521560956,-2.223254471201788,-0.875572466427057,0.31082962918417856,0.04164485460440668,-1.3375954608338874,-1.3405437149873514,0.8572242598587281,-0.16188928162123553,-0.7187491678629951,0.3999681853251334,-0.8651274609324161,1.9398556052996982,0.37170042818699983,-1.2034611707274985,0.8393246337713155,0.41155942561230474,0.00033315878116852473,-1.6639121984076959,-1.2939308121993591,0.2302461943473713,-1.1860250330934174,-1.1250630573271623,0.3411966117332432,-0.08281182615268948,0.41842194008398625,-1.7521218805724776,1.8722464063131021,0.9523448471366392,0.5797894008773923,0.28708326315953325,-3.0335772092969595,0.12008245165224005,-0.9692412532879529,1.236861712762151,-1.813670708984641,-0.6640423586276856,2.0857608212633116,0.07078185544215489,0.13316552342725502,1.118793257633992,0.22109987484931612,0.4816167266503535,0.9007965084713055,0.23136190333438797,-0.6211815746593071,1.1791990907833874,-1.0184759389708393,0.7935063885328861,0.4739578995446759,-0.22569428492832613,2.1111501661267114,0.5805731683953766,-1.1774151325024085,0.4804288376175385,0.9389295688799837,1.3394547064736422,0.09157486827855868,0.32021176932753054,0.1508485044753879,0.0678145670140172,0.5951231144203691,-1.6454252033113301,-1.2999466345158284,0.30014825283198915,-0.9261425193798055,-0.7233485416807636,-0.3357183086594954,0.7741014105468014,-0.9680340081985276,-0.6843133483970795,0.2208022680602893,-0.7041034231797588,1.2476835296624578,0.36575625493327446,-0.7078241513496009,0.006963710275013258,-0.16294101108078116,1.5251683930463749,-0.52052292400051,0.09330851367827822,0.1980403455685616,0.16031321326067646,0.4522372122430764,1.288266420667494,-0.08501136423912654,-0.537993634388944,0.18898741128953095,-0.6879271077969086,-0.8118986993420849,-0.5951301224776799,0.849275846698981,0.48172786564149733,1.389259766341688,-0.02855002125459373,0.824790991786847,0.702338016465698,1.2060183630123236],\"xaxis\":\"x6\",\"yaxis\":\"y6\",\"type\":\"histogram\"},{\"line\":{\"color\":\"rgba(128, 128, 128, 1.0)\",\"dash\":\"solid\",\"shape\":\"linear\",\"width\":1.3},\"marker\":{\"size\":2,\"symbol\":\"circle\"},\"mode\":\"markers\",\"name\":\"B\",\"text\":\"\",\"x\":[-1.3787152783508723,-0.7261164047389449,0.2224364093928684,1.1477624692750603,-1.43775668031013,0.03134895951287714,0.5744870610575307,-1.266687721886195,-0.19289617140422258,1.511559448278765,-0.5119282086892993,-2.2392587865674574,-0.6209115834293467,1.1137304776579646,1.0742908031611498,0.2037310729229849,-0.747303255099262,-0.9692202000526821,-1.089312084525815,-0.8833887607330014,0.13506777324616978,0.0707313620850424,1.823478001044083,0.0017497707721843754,0.8812661765541764,1.0235957674378207,0.23657683002359883,0.3550476835109541,1.4749191367053716,-0.5724932191421319,-0.6151418387655972,-0.785001406471968,-0.06993434253506313,-0.21535988326079006,0.47982251383891333,0.9716315951462331,-0.15185219545189366,1.9164780515109556,0.5987294120376846,-0.22795902511024854,-0.5585658480008592,-1.6913077332985833,0.25352182758564246,0.11803801505601494,0.7879975858188688,-0.5032812994273885,-1.7239067650251179,-0.5218210287612856,1.3743061449298846,0.9563603916667522,-0.10302531350948356,-1.0078148568916971,0.8530414622148793,0.3267258270809262,2.3855970082680136,-1.2679195947325799,-0.7032649912550678,0.6859312164945162,-0.11386304522157245,-1.0909068628349752,-0.13485185096848448,0.3129069963160951,0.3251879215144967,-2.464840591968921,-0.4136242042591343,-0.31016615436486994,-1.4840374002833763,-1.2562717159180883,-0.1916699473663112,0.29825808080300975,0.8299314382112951,-2.679638974552658,-1.4593854710372014,0.02556938465970596,1.0089076132913224,-0.2562859582883714,-0.05081801986273233,-0.7239080962437932,1.4006042469358264,0.26662768618565924,0.07141262901645731,-1.1891995815160468,-0.8464327135962876,-0.1493251183698699,0.20426726621922955,-0.014680966834019888,-0.6686931887825628,0.7801346385676716,1.3176659548439453,-1.2567470968963135,0.5083603229557176,-1.210794346863032,0.49075215782348397,-0.23425557424750665,-0.491208269335909,-0.41090303463772354,0.1253723206034941,-0.1770910238483198,0.64196514060045,-0.7382162956891389],\"xaxis\":\"x7\",\"y\":[0.4280706362665727,0.7180418134509058,0.039018123521560956,-2.223254471201788,-0.875572466427057,0.31082962918417856,0.04164485460440668,-1.3375954608338874,-1.3405437149873514,0.8572242598587281,-0.16188928162123553,-0.7187491678629951,0.3999681853251334,-0.8651274609324161,1.9398556052996982,0.37170042818699983,-1.2034611707274985,0.8393246337713155,0.41155942561230474,0.00033315878116852473,-1.6639121984076959,-1.2939308121993591,0.2302461943473713,-1.1860250330934174,-1.1250630573271623,0.3411966117332432,-0.08281182615268948,0.41842194008398625,-1.7521218805724776,1.8722464063131021,0.9523448471366392,0.5797894008773923,0.28708326315953325,-3.0335772092969595,0.12008245165224005,-0.9692412532879529,1.236861712762151,-1.813670708984641,-0.6640423586276856,2.0857608212633116,0.07078185544215489,0.13316552342725502,1.118793257633992,0.22109987484931612,0.4816167266503535,0.9007965084713055,0.23136190333438797,-0.6211815746593071,1.1791990907833874,-1.0184759389708393,0.7935063885328861,0.4739578995446759,-0.22569428492832613,2.1111501661267114,0.5805731683953766,-1.1774151325024085,0.4804288376175385,0.9389295688799837,1.3394547064736422,0.09157486827855868,0.32021176932753054,0.1508485044753879,0.0678145670140172,0.5951231144203691,-1.6454252033113301,-1.2999466345158284,0.30014825283198915,-0.9261425193798055,-0.7233485416807636,-0.3357183086594954,0.7741014105468014,-0.9680340081985276,-0.6843133483970795,0.2208022680602893,-0.7041034231797588,1.2476835296624578,0.36575625493327446,-0.7078241513496009,0.006963710275013258,-0.16294101108078116,1.5251683930463749,-0.52052292400051,0.09330851367827822,0.1980403455685616,0.16031321326067646,0.4522372122430764,1.288266420667494,-0.08501136423912654,-0.537993634388944,0.18898741128953095,-0.6879271077969086,-0.8118986993420849,-0.5951301224776799,0.849275846698981,0.48172786564149733,1.389259766341688,-0.02855002125459373,0.824790991786847,0.702338016465698,1.2060183630123236],\"yaxis\":\"y7\",\"type\":\"scatter\"},{\"line\":{\"color\":\"rgba(128, 128, 128, 1.0)\",\"dash\":\"solid\",\"shape\":\"linear\",\"width\":1.3},\"marker\":{\"size\":2,\"symbol\":\"circle\"},\"mode\":\"markers\",\"name\":\"B\",\"text\":\"\",\"x\":[-1.1967289396768255,1.2084432000283791,0.8933907011808402,-0.8370158225021228,0.054950493197835515,0.5860648950484921,-1.206159653786153,-1.3367167539770204,2.8497056325844543,0.9956369394940869,0.6540089889820164,0.9585317492454164,0.3019461375428145,0.19767604148168808,-0.4960146597360244,1.0756165309549053,-0.8027153007638427,-0.08034286733634763,-1.204866882713637,-0.41572374720294475,-0.5287185888597782,-1.14707233465738,1.3446654002925569,0.2568536330956374,-0.5323714140329171,1.2398961931457892,1.4442012086018585,1.069815796772237,0.5253046744459509,0.36848600823081673,-1.1847475275339265,0.18463520870993408,-0.7335492239208102,-0.6608140230403634,0.5541255252479335,-0.6511684460602217,1.3966857462767777,-1.2765360716787524,-0.5152702421444836,1.9961919196856333,-0.039022698835690046,-0.2711135131224415,0.8157118601985619,-0.5444507317925322,2.1148452807225313,0.7065047348761125,-0.4122010677180778,0.9562033334417854,-0.3343863542874556,1.0635811975822256,-0.8901113319022214,-0.9707319048907495,0.11750305277438047,0.5125801934010197,0.8820371120292264,-1.5127005028648477,-1.3452836762709413,-1.9690238357572543,0.3724814484372588,-1.8661858341078816,0.7366606002034869,0.6041716774061525,0.2879542430778189,-0.6754479161116611,0.26904873586986455,0.06412280548588511,0.06204911990921217,0.0738620732575893,-0.04608161944249293,1.5052820485557334,-0.558234092678066,1.694079222413143,-0.9859262016838821,-0.5568580147130638,-0.5628776136903292,-1.7797469095823264,2.336554074194825,1.2159567018224806,3.0013639387321267,-0.6690431278261364,0.5831165054421106,-0.17957168727507763,-1.05408682762937,1.054388650493122,0.8090774739975908,-0.6579767901037481,-0.9504732356908544,-0.5229477945471815,-1.597724701485542,-0.6646905240051703,2.6778532402627384,-0.7649615732126199,-0.48474264712567455,1.9086937085617424,-0.5947555058493647,-1.9752792336692437,0.07151503161795482,-0.1619635020316879,0.28942867811686473,0.418738043076987],\"xaxis\":\"x8\",\"y\":[0.4280706362665727,0.7180418134509058,0.039018123521560956,-2.223254471201788,-0.875572466427057,0.31082962918417856,0.04164485460440668,-1.3375954608338874,-1.3405437149873514,0.8572242598587281,-0.16188928162123553,-0.7187491678629951,0.3999681853251334,-0.8651274609324161,1.9398556052996982,0.37170042818699983,-1.2034611707274985,0.8393246337713155,0.41155942561230474,0.00033315878116852473,-1.6639121984076959,-1.2939308121993591,0.2302461943473713,-1.1860250330934174,-1.1250630573271623,0.3411966117332432,-0.08281182615268948,0.41842194008398625,-1.7521218805724776,1.8722464063131021,0.9523448471366392,0.5797894008773923,0.28708326315953325,-3.0335772092969595,0.12008245165224005,-0.9692412532879529,1.236861712762151,-1.813670708984641,-0.6640423586276856,2.0857608212633116,0.07078185544215489,0.13316552342725502,1.118793257633992,0.22109987484931612,0.4816167266503535,0.9007965084713055,0.23136190333438797,-0.6211815746593071,1.1791990907833874,-1.0184759389708393,0.7935063885328861,0.4739578995446759,-0.22569428492832613,2.1111501661267114,0.5805731683953766,-1.1774151325024085,0.4804288376175385,0.9389295688799837,1.3394547064736422,0.09157486827855868,0.32021176932753054,0.1508485044753879,0.0678145670140172,0.5951231144203691,-1.6454252033113301,-1.2999466345158284,0.30014825283198915,-0.9261425193798055,-0.7233485416807636,-0.3357183086594954,0.7741014105468014,-0.9680340081985276,-0.6843133483970795,0.2208022680602893,-0.7041034231797588,1.2476835296624578,0.36575625493327446,-0.7078241513496009,0.006963710275013258,-0.16294101108078116,1.5251683930463749,-0.52052292400051,0.09330851367827822,0.1980403455685616,0.16031321326067646,0.4522372122430764,1.288266420667494,-0.08501136423912654,-0.537993634388944,0.18898741128953095,-0.6879271077969086,-0.8118986993420849,-0.5951301224776799,0.849275846698981,0.48172786564149733,1.389259766341688,-0.02855002125459373,0.824790991786847,0.702338016465698,1.2060183630123236],\"yaxis\":\"y8\",\"type\":\"scatter\"},{\"line\":{\"color\":\"rgba(128, 128, 128, 1.0)\",\"dash\":\"solid\",\"shape\":\"linear\",\"width\":1.3},\"marker\":{\"size\":2,\"symbol\":\"circle\"},\"mode\":\"markers\",\"name\":\"C\",\"text\":\"\",\"x\":[0.4395119976966545,0.020152580888882565,-0.37407441444430184,-0.539926331737172,-1.1415136887036064,0.8166657567438118,-0.6224297536168503,0.7308894349710953,0.7203192879102357,-1.3737647648303697,-1.23119009378185,0.3198538375639925,0.26348650235568355,0.6488757306353029,-0.00728590715634182,-0.7565433586862875,-0.6563581332656321,-0.2718198150238515,2.3006887217341485,-0.0016354406682298403,-0.44155799103745624,-0.05360096166018684,0.1482445798661521,-0.31540345886485455,-1.0965840430633944,0.10640896879094265,-0.6070796967732894,-0.22733509919143075,1.9043079760497075,0.15758544829888035,-0.8467557485348001,-0.05415976370766293,-0.9788011598549242,-1.6583630823284712,0.8159503058015778,-0.25181207826404073,-0.8324733961614146,-0.6260559102319855,-0.31995726864785823,1.1849051256609375,-0.284668437153468,-1.3551041866389977,-0.44227550517139147,-0.6564605155145264,1.4465930611506095,0.025068373987287135,-0.7669606770160547,-0.5443292144876736,1.8675957298506896,0.598656129228373,-1.4141874887718855,-0.22207017252161643,-0.5557646921062268,0.023795421367580435,0.2591414523453681,0.16506972348129514,-1.6995486727841598,0.495897711386881,-2.16172874318155,0.4695045378281316,0.8808506673427354,-0.2849864405045829,-1.3827658787536463,-1.9087429354622187,0.5103912430314287,-0.569148889572966,-0.39583345631377553,1.6927286444863971,1.3794804856602336,1.02340631443928,-0.8786847928090047,-0.22365353139572725,-0.6286343213996785,0.1852315531564232,0.13414886930901337,-1.6146835134016613,1.6490844301298115,-1.5550285792794807,1.344854834805804,-1.2139962371553352,-1.8529045686615873,0.159159120937591,1.0210668604863389,-0.5824035944285543,0.08560547669436594,-0.3686773747493008,1.214718224277028,-0.051241433224650676,0.08303529764650347,0.9092419090260879,-1.0618356396353699,-1.3732900879073142,-1.751218488708866,-0.13388061656749478,0.18032175371235448,-0.2244659045304318,1.1168388101991757,-0.5571809881209141,-1.577732479354081,0.4027152366654449],\"xaxis\":\"x9\",\"y\":[-1.3787152783508723,-0.7261164047389449,0.2224364093928684,1.1477624692750603,-1.43775668031013,0.03134895951287714,0.5744870610575307,-1.266687721886195,-0.19289617140422258,1.511559448278765,-0.5119282086892993,-2.2392587865674574,-0.6209115834293467,1.1137304776579646,1.0742908031611498,0.2037310729229849,-0.747303255099262,-0.9692202000526821,-1.089312084525815,-0.8833887607330014,0.13506777324616978,0.0707313620850424,1.823478001044083,0.0017497707721843754,0.8812661765541764,1.0235957674378207,0.23657683002359883,0.3550476835109541,1.4749191367053716,-0.5724932191421319,-0.6151418387655972,-0.785001406471968,-0.06993434253506313,-0.21535988326079006,0.47982251383891333,0.9716315951462331,-0.15185219545189366,1.9164780515109556,0.5987294120376846,-0.22795902511024854,-0.5585658480008592,-1.6913077332985833,0.25352182758564246,0.11803801505601494,0.7879975858188688,-0.5032812994273885,-1.7239067650251179,-0.5218210287612856,1.3743061449298846,0.9563603916667522,-0.10302531350948356,-1.0078148568916971,0.8530414622148793,0.3267258270809262,2.3855970082680136,-1.2679195947325799,-0.7032649912550678,0.6859312164945162,-0.11386304522157245,-1.0909068628349752,-0.13485185096848448,0.3129069963160951,0.3251879215144967,-2.464840591968921,-0.4136242042591343,-0.31016615436486994,-1.4840374002833763,-1.2562717159180883,-0.1916699473663112,0.29825808080300975,0.8299314382112951,-2.679638974552658,-1.4593854710372014,0.02556938465970596,1.0089076132913224,-0.2562859582883714,-0.05081801986273233,-0.7239080962437932,1.4006042469358264,0.26662768618565924,0.07141262901645731,-1.1891995815160468,-0.8464327135962876,-0.1493251183698699,0.20426726621922955,-0.014680966834019888,-0.6686931887825628,0.7801346385676716,1.3176659548439453,-1.2567470968963135,0.5083603229557176,-1.210794346863032,0.49075215782348397,-0.23425557424750665,-0.491208269335909,-0.41090303463772354,0.1253723206034941,-0.1770910238483198,0.64196514060045,-0.7382162956891389],\"yaxis\":\"y9\",\"type\":\"scatter\"},{\"line\":{\"color\":\"rgba(128, 128, 128, 1.0)\",\"dash\":\"solid\",\"shape\":\"linear\",\"width\":1.3},\"marker\":{\"size\":2,\"symbol\":\"circle\"},\"mode\":\"markers\",\"name\":\"C\",\"text\":\"\",\"x\":[0.4280706362665727,0.7180418134509058,0.039018123521560956,-2.223254471201788,-0.875572466427057,0.31082962918417856,0.04164485460440668,-1.3375954608338874,-1.3405437149873514,0.8572242598587281,-0.16188928162123553,-0.7187491678629951,0.3999681853251334,-0.8651274609324161,1.9398556052996982,0.37170042818699983,-1.2034611707274985,0.8393246337713155,0.41155942561230474,0.00033315878116852473,-1.6639121984076959,-1.2939308121993591,0.2302461943473713,-1.1860250330934174,-1.1250630573271623,0.3411966117332432,-0.08281182615268948,0.41842194008398625,-1.7521218805724776,1.8722464063131021,0.9523448471366392,0.5797894008773923,0.28708326315953325,-3.0335772092969595,0.12008245165224005,-0.9692412532879529,1.236861712762151,-1.813670708984641,-0.6640423586276856,2.0857608212633116,0.07078185544215489,0.13316552342725502,1.118793257633992,0.22109987484931612,0.4816167266503535,0.9007965084713055,0.23136190333438797,-0.6211815746593071,1.1791990907833874,-1.0184759389708393,0.7935063885328861,0.4739578995446759,-0.22569428492832613,2.1111501661267114,0.5805731683953766,-1.1774151325024085,0.4804288376175385,0.9389295688799837,1.3394547064736422,0.09157486827855868,0.32021176932753054,0.1508485044753879,0.0678145670140172,0.5951231144203691,-1.6454252033113301,-1.2999466345158284,0.30014825283198915,-0.9261425193798055,-0.7233485416807636,-0.3357183086594954,0.7741014105468014,-0.9680340081985276,-0.6843133483970795,0.2208022680602893,-0.7041034231797588,1.2476835296624578,0.36575625493327446,-0.7078241513496009,0.006963710275013258,-0.16294101108078116,1.5251683930463749,-0.52052292400051,0.09330851367827822,0.1980403455685616,0.16031321326067646,0.4522372122430764,1.288266420667494,-0.08501136423912654,-0.537993634388944,0.18898741128953095,-0.6879271077969086,-0.8118986993420849,-0.5951301224776799,0.849275846698981,0.48172786564149733,1.389259766341688,-0.02855002125459373,0.824790991786847,0.702338016465698,1.2060183630123236],\"xaxis\":\"x10\",\"y\":[-1.3787152783508723,-0.7261164047389449,0.2224364093928684,1.1477624692750603,-1.43775668031013,0.03134895951287714,0.5744870610575307,-1.266687721886195,-0.19289617140422258,1.511559448278765,-0.5119282086892993,-2.2392587865674574,-0.6209115834293467,1.1137304776579646,1.0742908031611498,0.2037310729229849,-0.747303255099262,-0.9692202000526821,-1.089312084525815,-0.8833887607330014,0.13506777324616978,0.0707313620850424,1.823478001044083,0.0017497707721843754,0.8812661765541764,1.0235957674378207,0.23657683002359883,0.3550476835109541,1.4749191367053716,-0.5724932191421319,-0.6151418387655972,-0.785001406471968,-0.06993434253506313,-0.21535988326079006,0.47982251383891333,0.9716315951462331,-0.15185219545189366,1.9164780515109556,0.5987294120376846,-0.22795902511024854,-0.5585658480008592,-1.6913077332985833,0.25352182758564246,0.11803801505601494,0.7879975858188688,-0.5032812994273885,-1.7239067650251179,-0.5218210287612856,1.3743061449298846,0.9563603916667522,-0.10302531350948356,-1.0078148568916971,0.8530414622148793,0.3267258270809262,2.3855970082680136,-1.2679195947325799,-0.7032649912550678,0.6859312164945162,-0.11386304522157245,-1.0909068628349752,-0.13485185096848448,0.3129069963160951,0.3251879215144967,-2.464840591968921,-0.4136242042591343,-0.31016615436486994,-1.4840374002833763,-1.2562717159180883,-0.1916699473663112,0.29825808080300975,0.8299314382112951,-2.679638974552658,-1.4593854710372014,0.02556938465970596,1.0089076132913224,-0.2562859582883714,-0.05081801986273233,-0.7239080962437932,1.4006042469358264,0.26662768618565924,0.07141262901645731,-1.1891995815160468,-0.8464327135962876,-0.1493251183698699,0.20426726621922955,-0.014680966834019888,-0.6686931887825628,0.7801346385676716,1.3176659548439453,-1.2567470968963135,0.5083603229557176,-1.210794346863032,0.49075215782348397,-0.23425557424750665,-0.491208269335909,-0.41090303463772354,0.1253723206034941,-0.1770910238483198,0.64196514060045,-0.7382162956891389],\"yaxis\":\"y10\",\"type\":\"scatter\"},{\"histfunc\":\"count\",\"histnorm\":\"\",\"marker\":{\"color\":\"rgba(50, 171, 96, 1.0)\",\"line\":{\"color\":\"#4D5663\",\"width\":1.3}},\"name\":\"C\",\"nbinsx\":10,\"opacity\":0.8,\"orientation\":\"v\",\"x\":[-1.3787152783508723,-0.7261164047389449,0.2224364093928684,1.1477624692750603,-1.43775668031013,0.03134895951287714,0.5744870610575307,-1.266687721886195,-0.19289617140422258,1.511559448278765,-0.5119282086892993,-2.2392587865674574,-0.6209115834293467,1.1137304776579646,1.0742908031611498,0.2037310729229849,-0.747303255099262,-0.9692202000526821,-1.089312084525815,-0.8833887607330014,0.13506777324616978,0.0707313620850424,1.823478001044083,0.0017497707721843754,0.8812661765541764,1.0235957674378207,0.23657683002359883,0.3550476835109541,1.4749191367053716,-0.5724932191421319,-0.6151418387655972,-0.785001406471968,-0.06993434253506313,-0.21535988326079006,0.47982251383891333,0.9716315951462331,-0.15185219545189366,1.9164780515109556,0.5987294120376846,-0.22795902511024854,-0.5585658480008592,-1.6913077332985833,0.25352182758564246,0.11803801505601494,0.7879975858188688,-0.5032812994273885,-1.7239067650251179,-0.5218210287612856,1.3743061449298846,0.9563603916667522,-0.10302531350948356,-1.0078148568916971,0.8530414622148793,0.3267258270809262,2.3855970082680136,-1.2679195947325799,-0.7032649912550678,0.6859312164945162,-0.11386304522157245,-1.0909068628349752,-0.13485185096848448,0.3129069963160951,0.3251879215144967,-2.464840591968921,-0.4136242042591343,-0.31016615436486994,-1.4840374002833763,-1.2562717159180883,-0.1916699473663112,0.29825808080300975,0.8299314382112951,-2.679638974552658,-1.4593854710372014,0.02556938465970596,1.0089076132913224,-0.2562859582883714,-0.05081801986273233,-0.7239080962437932,1.4006042469358264,0.26662768618565924,0.07141262901645731,-1.1891995815160468,-0.8464327135962876,-0.1493251183698699,0.20426726621922955,-0.014680966834019888,-0.6686931887825628,0.7801346385676716,1.3176659548439453,-1.2567470968963135,0.5083603229557176,-1.210794346863032,0.49075215782348397,-0.23425557424750665,-0.491208269335909,-0.41090303463772354,0.1253723206034941,-0.1770910238483198,0.64196514060045,-0.7382162956891389],\"xaxis\":\"x11\",\"yaxis\":\"y11\",\"type\":\"histogram\"},{\"line\":{\"color\":\"rgba(128, 128, 128, 1.0)\",\"dash\":\"solid\",\"shape\":\"linear\",\"width\":1.3},\"marker\":{\"size\":2,\"symbol\":\"circle\"},\"mode\":\"markers\",\"name\":\"C\",\"text\":\"\",\"x\":[-1.1967289396768255,1.2084432000283791,0.8933907011808402,-0.8370158225021228,0.054950493197835515,0.5860648950484921,-1.206159653786153,-1.3367167539770204,2.8497056325844543,0.9956369394940869,0.6540089889820164,0.9585317492454164,0.3019461375428145,0.19767604148168808,-0.4960146597360244,1.0756165309549053,-0.8027153007638427,-0.08034286733634763,-1.204866882713637,-0.41572374720294475,-0.5287185888597782,-1.14707233465738,1.3446654002925569,0.2568536330956374,-0.5323714140329171,1.2398961931457892,1.4442012086018585,1.069815796772237,0.5253046744459509,0.36848600823081673,-1.1847475275339265,0.18463520870993408,-0.7335492239208102,-0.6608140230403634,0.5541255252479335,-0.6511684460602217,1.3966857462767777,-1.2765360716787524,-0.5152702421444836,1.9961919196856333,-0.039022698835690046,-0.2711135131224415,0.8157118601985619,-0.5444507317925322,2.1148452807225313,0.7065047348761125,-0.4122010677180778,0.9562033334417854,-0.3343863542874556,1.0635811975822256,-0.8901113319022214,-0.9707319048907495,0.11750305277438047,0.5125801934010197,0.8820371120292264,-1.5127005028648477,-1.3452836762709413,-1.9690238357572543,0.3724814484372588,-1.8661858341078816,0.7366606002034869,0.6041716774061525,0.2879542430778189,-0.6754479161116611,0.26904873586986455,0.06412280548588511,0.06204911990921217,0.0738620732575893,-0.04608161944249293,1.5052820485557334,-0.558234092678066,1.694079222413143,-0.9859262016838821,-0.5568580147130638,-0.5628776136903292,-1.7797469095823264,2.336554074194825,1.2159567018224806,3.0013639387321267,-0.6690431278261364,0.5831165054421106,-0.17957168727507763,-1.05408682762937,1.054388650493122,0.8090774739975908,-0.6579767901037481,-0.9504732356908544,-0.5229477945471815,-1.597724701485542,-0.6646905240051703,2.6778532402627384,-0.7649615732126199,-0.48474264712567455,1.9086937085617424,-0.5947555058493647,-1.9752792336692437,0.07151503161795482,-0.1619635020316879,0.28942867811686473,0.418738043076987],\"xaxis\":\"x12\",\"y\":[-1.3787152783508723,-0.7261164047389449,0.2224364093928684,1.1477624692750603,-1.43775668031013,0.03134895951287714,0.5744870610575307,-1.266687721886195,-0.19289617140422258,1.511559448278765,-0.5119282086892993,-2.2392587865674574,-0.6209115834293467,1.1137304776579646,1.0742908031611498,0.2037310729229849,-0.747303255099262,-0.9692202000526821,-1.089312084525815,-0.8833887607330014,0.13506777324616978,0.0707313620850424,1.823478001044083,0.0017497707721843754,0.8812661765541764,1.0235957674378207,0.23657683002359883,0.3550476835109541,1.4749191367053716,-0.5724932191421319,-0.6151418387655972,-0.785001406471968,-0.06993434253506313,-0.21535988326079006,0.47982251383891333,0.9716315951462331,-0.15185219545189366,1.9164780515109556,0.5987294120376846,-0.22795902511024854,-0.5585658480008592,-1.6913077332985833,0.25352182758564246,0.11803801505601494,0.7879975858188688,-0.5032812994273885,-1.7239067650251179,-0.5218210287612856,1.3743061449298846,0.9563603916667522,-0.10302531350948356,-1.0078148568916971,0.8530414622148793,0.3267258270809262,2.3855970082680136,-1.2679195947325799,-0.7032649912550678,0.6859312164945162,-0.11386304522157245,-1.0909068628349752,-0.13485185096848448,0.3129069963160951,0.3251879215144967,-2.464840591968921,-0.4136242042591343,-0.31016615436486994,-1.4840374002833763,-1.2562717159180883,-0.1916699473663112,0.29825808080300975,0.8299314382112951,-2.679638974552658,-1.4593854710372014,0.02556938465970596,1.0089076132913224,-0.2562859582883714,-0.05081801986273233,-0.7239080962437932,1.4006042469358264,0.26662768618565924,0.07141262901645731,-1.1891995815160468,-0.8464327135962876,-0.1493251183698699,0.20426726621922955,-0.014680966834019888,-0.6686931887825628,0.7801346385676716,1.3176659548439453,-1.2567470968963135,0.5083603229557176,-1.210794346863032,0.49075215782348397,-0.23425557424750665,-0.491208269335909,-0.41090303463772354,0.1253723206034941,-0.1770910238483198,0.64196514060045,-0.7382162956891389],\"yaxis\":\"y12\",\"type\":\"scatter\"},{\"line\":{\"color\":\"rgba(128, 128, 128, 1.0)\",\"dash\":\"solid\",\"shape\":\"linear\",\"width\":1.3},\"marker\":{\"size\":2,\"symbol\":\"circle\"},\"mode\":\"markers\",\"name\":\"D\",\"text\":\"\",\"x\":[0.4395119976966545,0.020152580888882565,-0.37407441444430184,-0.539926331737172,-1.1415136887036064,0.8166657567438118,-0.6224297536168503,0.7308894349710953,0.7203192879102357,-1.3737647648303697,-1.23119009378185,0.3198538375639925,0.26348650235568355,0.6488757306353029,-0.00728590715634182,-0.7565433586862875,-0.6563581332656321,-0.2718198150238515,2.3006887217341485,-0.0016354406682298403,-0.44155799103745624,-0.05360096166018684,0.1482445798661521,-0.31540345886485455,-1.0965840430633944,0.10640896879094265,-0.6070796967732894,-0.22733509919143075,1.9043079760497075,0.15758544829888035,-0.8467557485348001,-0.05415976370766293,-0.9788011598549242,-1.6583630823284712,0.8159503058015778,-0.25181207826404073,-0.8324733961614146,-0.6260559102319855,-0.31995726864785823,1.1849051256609375,-0.284668437153468,-1.3551041866389977,-0.44227550517139147,-0.6564605155145264,1.4465930611506095,0.025068373987287135,-0.7669606770160547,-0.5443292144876736,1.8675957298506896,0.598656129228373,-1.4141874887718855,-0.22207017252161643,-0.5557646921062268,0.023795421367580435,0.2591414523453681,0.16506972348129514,-1.6995486727841598,0.495897711386881,-2.16172874318155,0.4695045378281316,0.8808506673427354,-0.2849864405045829,-1.3827658787536463,-1.9087429354622187,0.5103912430314287,-0.569148889572966,-0.39583345631377553,1.6927286444863971,1.3794804856602336,1.02340631443928,-0.8786847928090047,-0.22365353139572725,-0.6286343213996785,0.1852315531564232,0.13414886930901337,-1.6146835134016613,1.6490844301298115,-1.5550285792794807,1.344854834805804,-1.2139962371553352,-1.8529045686615873,0.159159120937591,1.0210668604863389,-0.5824035944285543,0.08560547669436594,-0.3686773747493008,1.214718224277028,-0.051241433224650676,0.08303529764650347,0.9092419090260879,-1.0618356396353699,-1.3732900879073142,-1.751218488708866,-0.13388061656749478,0.18032175371235448,-0.2244659045304318,1.1168388101991757,-0.5571809881209141,-1.577732479354081,0.4027152366654449],\"xaxis\":\"x13\",\"y\":[-1.1967289396768255,1.2084432000283791,0.8933907011808402,-0.8370158225021228,0.054950493197835515,0.5860648950484921,-1.206159653786153,-1.3367167539770204,2.8497056325844543,0.9956369394940869,0.6540089889820164,0.9585317492454164,0.3019461375428145,0.19767604148168808,-0.4960146597360244,1.0756165309549053,-0.8027153007638427,-0.08034286733634763,-1.204866882713637,-0.41572374720294475,-0.5287185888597782,-1.14707233465738,1.3446654002925569,0.2568536330956374,-0.5323714140329171,1.2398961931457892,1.4442012086018585,1.069815796772237,0.5253046744459509,0.36848600823081673,-1.1847475275339265,0.18463520870993408,-0.7335492239208102,-0.6608140230403634,0.5541255252479335,-0.6511684460602217,1.3966857462767777,-1.2765360716787524,-0.5152702421444836,1.9961919196856333,-0.039022698835690046,-0.2711135131224415,0.8157118601985619,-0.5444507317925322,2.1148452807225313,0.7065047348761125,-0.4122010677180778,0.9562033334417854,-0.3343863542874556,1.0635811975822256,-0.8901113319022214,-0.9707319048907495,0.11750305277438047,0.5125801934010197,0.8820371120292264,-1.5127005028648477,-1.3452836762709413,-1.9690238357572543,0.3724814484372588,-1.8661858341078816,0.7366606002034869,0.6041716774061525,0.2879542430778189,-0.6754479161116611,0.26904873586986455,0.06412280548588511,0.06204911990921217,0.0738620732575893,-0.04608161944249293,1.5052820485557334,-0.558234092678066,1.694079222413143,-0.9859262016838821,-0.5568580147130638,-0.5628776136903292,-1.7797469095823264,2.336554074194825,1.2159567018224806,3.0013639387321267,-0.6690431278261364,0.5831165054421106,-0.17957168727507763,-1.05408682762937,1.054388650493122,0.8090774739975908,-0.6579767901037481,-0.9504732356908544,-0.5229477945471815,-1.597724701485542,-0.6646905240051703,2.6778532402627384,-0.7649615732126199,-0.48474264712567455,1.9086937085617424,-0.5947555058493647,-1.9752792336692437,0.07151503161795482,-0.1619635020316879,0.28942867811686473,0.418738043076987],\"yaxis\":\"y13\",\"type\":\"scatter\"},{\"line\":{\"color\":\"rgba(128, 128, 128, 1.0)\",\"dash\":\"solid\",\"shape\":\"linear\",\"width\":1.3},\"marker\":{\"size\":2,\"symbol\":\"circle\"},\"mode\":\"markers\",\"name\":\"D\",\"text\":\"\",\"x\":[0.4280706362665727,0.7180418134509058,0.039018123521560956,-2.223254471201788,-0.875572466427057,0.31082962918417856,0.04164485460440668,-1.3375954608338874,-1.3405437149873514,0.8572242598587281,-0.16188928162123553,-0.7187491678629951,0.3999681853251334,-0.8651274609324161,1.9398556052996982,0.37170042818699983,-1.2034611707274985,0.8393246337713155,0.41155942561230474,0.00033315878116852473,-1.6639121984076959,-1.2939308121993591,0.2302461943473713,-1.1860250330934174,-1.1250630573271623,0.3411966117332432,-0.08281182615268948,0.41842194008398625,-1.7521218805724776,1.8722464063131021,0.9523448471366392,0.5797894008773923,0.28708326315953325,-3.0335772092969595,0.12008245165224005,-0.9692412532879529,1.236861712762151,-1.813670708984641,-0.6640423586276856,2.0857608212633116,0.07078185544215489,0.13316552342725502,1.118793257633992,0.22109987484931612,0.4816167266503535,0.9007965084713055,0.23136190333438797,-0.6211815746593071,1.1791990907833874,-1.0184759389708393,0.7935063885328861,0.4739578995446759,-0.22569428492832613,2.1111501661267114,0.5805731683953766,-1.1774151325024085,0.4804288376175385,0.9389295688799837,1.3394547064736422,0.09157486827855868,0.32021176932753054,0.1508485044753879,0.0678145670140172,0.5951231144203691,-1.6454252033113301,-1.2999466345158284,0.30014825283198915,-0.9261425193798055,-0.7233485416807636,-0.3357183086594954,0.7741014105468014,-0.9680340081985276,-0.6843133483970795,0.2208022680602893,-0.7041034231797588,1.2476835296624578,0.36575625493327446,-0.7078241513496009,0.006963710275013258,-0.16294101108078116,1.5251683930463749,-0.52052292400051,0.09330851367827822,0.1980403455685616,0.16031321326067646,0.4522372122430764,1.288266420667494,-0.08501136423912654,-0.537993634388944,0.18898741128953095,-0.6879271077969086,-0.8118986993420849,-0.5951301224776799,0.849275846698981,0.48172786564149733,1.389259766341688,-0.02855002125459373,0.824790991786847,0.702338016465698,1.2060183630123236],\"xaxis\":\"x14\",\"y\":[-1.1967289396768255,1.2084432000283791,0.8933907011808402,-0.8370158225021228,0.054950493197835515,0.5860648950484921,-1.206159653786153,-1.3367167539770204,2.8497056325844543,0.9956369394940869,0.6540089889820164,0.9585317492454164,0.3019461375428145,0.19767604148168808,-0.4960146597360244,1.0756165309549053,-0.8027153007638427,-0.08034286733634763,-1.204866882713637,-0.41572374720294475,-0.5287185888597782,-1.14707233465738,1.3446654002925569,0.2568536330956374,-0.5323714140329171,1.2398961931457892,1.4442012086018585,1.069815796772237,0.5253046744459509,0.36848600823081673,-1.1847475275339265,0.18463520870993408,-0.7335492239208102,-0.6608140230403634,0.5541255252479335,-0.6511684460602217,1.3966857462767777,-1.2765360716787524,-0.5152702421444836,1.9961919196856333,-0.039022698835690046,-0.2711135131224415,0.8157118601985619,-0.5444507317925322,2.1148452807225313,0.7065047348761125,-0.4122010677180778,0.9562033334417854,-0.3343863542874556,1.0635811975822256,-0.8901113319022214,-0.9707319048907495,0.11750305277438047,0.5125801934010197,0.8820371120292264,-1.5127005028648477,-1.3452836762709413,-1.9690238357572543,0.3724814484372588,-1.8661858341078816,0.7366606002034869,0.6041716774061525,0.2879542430778189,-0.6754479161116611,0.26904873586986455,0.06412280548588511,0.06204911990921217,0.0738620732575893,-0.04608161944249293,1.5052820485557334,-0.558234092678066,1.694079222413143,-0.9859262016838821,-0.5568580147130638,-0.5628776136903292,-1.7797469095823264,2.336554074194825,1.2159567018224806,3.0013639387321267,-0.6690431278261364,0.5831165054421106,-0.17957168727507763,-1.05408682762937,1.054388650493122,0.8090774739975908,-0.6579767901037481,-0.9504732356908544,-0.5229477945471815,-1.597724701485542,-0.6646905240051703,2.6778532402627384,-0.7649615732126199,-0.48474264712567455,1.9086937085617424,-0.5947555058493647,-1.9752792336692437,0.07151503161795482,-0.1619635020316879,0.28942867811686473,0.418738043076987],\"yaxis\":\"y14\",\"type\":\"scatter\"},{\"line\":{\"color\":\"rgba(128, 128, 128, 1.0)\",\"dash\":\"solid\",\"shape\":\"linear\",\"width\":1.3},\"marker\":{\"size\":2,\"symbol\":\"circle\"},\"mode\":\"markers\",\"name\":\"D\",\"text\":\"\",\"x\":[-1.3787152783508723,-0.7261164047389449,0.2224364093928684,1.1477624692750603,-1.43775668031013,0.03134895951287714,0.5744870610575307,-1.266687721886195,-0.19289617140422258,1.511559448278765,-0.5119282086892993,-2.2392587865674574,-0.6209115834293467,1.1137304776579646,1.0742908031611498,0.2037310729229849,-0.747303255099262,-0.9692202000526821,-1.089312084525815,-0.8833887607330014,0.13506777324616978,0.0707313620850424,1.823478001044083,0.0017497707721843754,0.8812661765541764,1.0235957674378207,0.23657683002359883,0.3550476835109541,1.4749191367053716,-0.5724932191421319,-0.6151418387655972,-0.785001406471968,-0.06993434253506313,-0.21535988326079006,0.47982251383891333,0.9716315951462331,-0.15185219545189366,1.9164780515109556,0.5987294120376846,-0.22795902511024854,-0.5585658480008592,-1.6913077332985833,0.25352182758564246,0.11803801505601494,0.7879975858188688,-0.5032812994273885,-1.7239067650251179,-0.5218210287612856,1.3743061449298846,0.9563603916667522,-0.10302531350948356,-1.0078148568916971,0.8530414622148793,0.3267258270809262,2.3855970082680136,-1.2679195947325799,-0.7032649912550678,0.6859312164945162,-0.11386304522157245,-1.0909068628349752,-0.13485185096848448,0.3129069963160951,0.3251879215144967,-2.464840591968921,-0.4136242042591343,-0.31016615436486994,-1.4840374002833763,-1.2562717159180883,-0.1916699473663112,0.29825808080300975,0.8299314382112951,-2.679638974552658,-1.4593854710372014,0.02556938465970596,1.0089076132913224,-0.2562859582883714,-0.05081801986273233,-0.7239080962437932,1.4006042469358264,0.26662768618565924,0.07141262901645731,-1.1891995815160468,-0.8464327135962876,-0.1493251183698699,0.20426726621922955,-0.014680966834019888,-0.6686931887825628,0.7801346385676716,1.3176659548439453,-1.2567470968963135,0.5083603229557176,-1.210794346863032,0.49075215782348397,-0.23425557424750665,-0.491208269335909,-0.41090303463772354,0.1253723206034941,-0.1770910238483198,0.64196514060045,-0.7382162956891389],\"xaxis\":\"x15\",\"y\":[-1.1967289396768255,1.2084432000283791,0.8933907011808402,-0.8370158225021228,0.054950493197835515,0.5860648950484921,-1.206159653786153,-1.3367167539770204,2.8497056325844543,0.9956369394940869,0.6540089889820164,0.9585317492454164,0.3019461375428145,0.19767604148168808,-0.4960146597360244,1.0756165309549053,-0.8027153007638427,-0.08034286733634763,-1.204866882713637,-0.41572374720294475,-0.5287185888597782,-1.14707233465738,1.3446654002925569,0.2568536330956374,-0.5323714140329171,1.2398961931457892,1.4442012086018585,1.069815796772237,0.5253046744459509,0.36848600823081673,-1.1847475275339265,0.18463520870993408,-0.7335492239208102,-0.6608140230403634,0.5541255252479335,-0.6511684460602217,1.3966857462767777,-1.2765360716787524,-0.5152702421444836,1.9961919196856333,-0.039022698835690046,-0.2711135131224415,0.8157118601985619,-0.5444507317925322,2.1148452807225313,0.7065047348761125,-0.4122010677180778,0.9562033334417854,-0.3343863542874556,1.0635811975822256,-0.8901113319022214,-0.9707319048907495,0.11750305277438047,0.5125801934010197,0.8820371120292264,-1.5127005028648477,-1.3452836762709413,-1.9690238357572543,0.3724814484372588,-1.8661858341078816,0.7366606002034869,0.6041716774061525,0.2879542430778189,-0.6754479161116611,0.26904873586986455,0.06412280548588511,0.06204911990921217,0.0738620732575893,-0.04608161944249293,1.5052820485557334,-0.558234092678066,1.694079222413143,-0.9859262016838821,-0.5568580147130638,-0.5628776136903292,-1.7797469095823264,2.336554074194825,1.2159567018224806,3.0013639387321267,-0.6690431278261364,0.5831165054421106,-0.17957168727507763,-1.05408682762937,1.054388650493122,0.8090774739975908,-0.6579767901037481,-0.9504732356908544,-0.5229477945471815,-1.597724701485542,-0.6646905240051703,2.6778532402627384,-0.7649615732126199,-0.48474264712567455,1.9086937085617424,-0.5947555058493647,-1.9752792336692437,0.07151503161795482,-0.1619635020316879,0.28942867811686473,0.418738043076987],\"yaxis\":\"y15\",\"type\":\"scatter\"},{\"histfunc\":\"count\",\"histnorm\":\"\",\"marker\":{\"color\":\"rgba(128, 0, 128, 1.0)\",\"line\":{\"color\":\"#4D5663\",\"width\":1.3}},\"name\":\"D\",\"nbinsx\":10,\"opacity\":0.8,\"orientation\":\"v\",\"x\":[-1.1967289396768255,1.2084432000283791,0.8933907011808402,-0.8370158225021228,0.054950493197835515,0.5860648950484921,-1.206159653786153,-1.3367167539770204,2.8497056325844543,0.9956369394940869,0.6540089889820164,0.9585317492454164,0.3019461375428145,0.19767604148168808,-0.4960146597360244,1.0756165309549053,-0.8027153007638427,-0.08034286733634763,-1.204866882713637,-0.41572374720294475,-0.5287185888597782,-1.14707233465738,1.3446654002925569,0.2568536330956374,-0.5323714140329171,1.2398961931457892,1.4442012086018585,1.069815796772237,0.5253046744459509,0.36848600823081673,-1.1847475275339265,0.18463520870993408,-0.7335492239208102,-0.6608140230403634,0.5541255252479335,-0.6511684460602217,1.3966857462767777,-1.2765360716787524,-0.5152702421444836,1.9961919196856333,-0.039022698835690046,-0.2711135131224415,0.8157118601985619,-0.5444507317925322,2.1148452807225313,0.7065047348761125,-0.4122010677180778,0.9562033334417854,-0.3343863542874556,1.0635811975822256,-0.8901113319022214,-0.9707319048907495,0.11750305277438047,0.5125801934010197,0.8820371120292264,-1.5127005028648477,-1.3452836762709413,-1.9690238357572543,0.3724814484372588,-1.8661858341078816,0.7366606002034869,0.6041716774061525,0.2879542430778189,-0.6754479161116611,0.26904873586986455,0.06412280548588511,0.06204911990921217,0.0738620732575893,-0.04608161944249293,1.5052820485557334,-0.558234092678066,1.694079222413143,-0.9859262016838821,-0.5568580147130638,-0.5628776136903292,-1.7797469095823264,2.336554074194825,1.2159567018224806,3.0013639387321267,-0.6690431278261364,0.5831165054421106,-0.17957168727507763,-1.05408682762937,1.054388650493122,0.8090774739975908,-0.6579767901037481,-0.9504732356908544,-0.5229477945471815,-1.597724701485542,-0.6646905240051703,2.6778532402627384,-0.7649615732126199,-0.48474264712567455,1.9086937085617424,-0.5947555058493647,-1.9752792336692437,0.07151503161795482,-0.1619635020316879,0.28942867811686473,0.418738043076987],\"xaxis\":\"x16\",\"yaxis\":\"y16\",\"type\":\"histogram\"}],                        {\"bargap\":0.02,\"legend\":{\"bgcolor\":\"#F5F6F9\",\"font\":{\"color\":\"#4D5663\"}},\"paper_bgcolor\":\"#F5F6F9\",\"plot_bgcolor\":\"#F5F6F9\",\"showlegend\":false,\"template\":{\"data\":{\"barpolar\":[{\"marker\":{\"line\":{\"color\":\"#E5ECF6\",\"width\":0.5},\"pattern\":{\"fillmode\":\"overlay\",\"size\":10,\"solidity\":0.2}},\"type\":\"barpolar\"}],\"bar\":[{\"error_x\":{\"color\":\"#2a3f5f\"},\"error_y\":{\"color\":\"#2a3f5f\"},\"marker\":{\"line\":{\"color\":\"#E5ECF6\",\"width\":0.5},\"pattern\":{\"fillmode\":\"overlay\",\"size\":10,\"solidity\":0.2}},\"type\":\"bar\"}],\"carpet\":[{\"aaxis\":{\"endlinecolor\":\"#2a3f5f\",\"gridcolor\":\"white\",\"linecolor\":\"white\",\"minorgridcolor\":\"white\",\"startlinecolor\":\"#2a3f5f\"},\"baxis\":{\"endlinecolor\":\"#2a3f5f\",\"gridcolor\":\"white\",\"linecolor\":\"white\",\"minorgridcolor\":\"white\",\"startlinecolor\":\"#2a3f5f\"},\"type\":\"carpet\"}],\"choropleth\":[{\"colorbar\":{\"outlinewidth\":0,\"ticks\":\"\"},\"type\":\"choropleth\"}],\"contourcarpet\":[{\"colorbar\":{\"outlinewidth\":0,\"ticks\":\"\"},\"type\":\"contourcarpet\"}],\"contour\":[{\"colorbar\":{\"outlinewidth\":0,\"ticks\":\"\"},\"colorscale\":[[0.0,\"#0d0887\"],[0.1111111111111111,\"#46039f\"],[0.2222222222222222,\"#7201a8\"],[0.3333333333333333,\"#9c179e\"],[0.4444444444444444,\"#bd3786\"],[0.5555555555555556,\"#d8576b\"],[0.6666666666666666,\"#ed7953\"],[0.7777777777777778,\"#fb9f3a\"],[0.8888888888888888,\"#fdca26\"],[1.0,\"#f0f921\"]],\"type\":\"contour\"}],\"heatmapgl\":[{\"colorbar\":{\"outlinewidth\":0,\"ticks\":\"\"},\"colorscale\":[[0.0,\"#0d0887\"],[0.1111111111111111,\"#46039f\"],[0.2222222222222222,\"#7201a8\"],[0.3333333333333333,\"#9c179e\"],[0.4444444444444444,\"#bd3786\"],[0.5555555555555556,\"#d8576b\"],[0.6666666666666666,\"#ed7953\"],[0.7777777777777778,\"#fb9f3a\"],[0.8888888888888888,\"#fdca26\"],[1.0,\"#f0f921\"]],\"type\":\"heatmapgl\"}],\"heatmap\":[{\"colorbar\":{\"outlinewidth\":0,\"ticks\":\"\"},\"colorscale\":[[0.0,\"#0d0887\"],[0.1111111111111111,\"#46039f\"],[0.2222222222222222,\"#7201a8\"],[0.3333333333333333,\"#9c179e\"],[0.4444444444444444,\"#bd3786\"],[0.5555555555555556,\"#d8576b\"],[0.6666666666666666,\"#ed7953\"],[0.7777777777777778,\"#fb9f3a\"],[0.8888888888888888,\"#fdca26\"],[1.0,\"#f0f921\"]],\"type\":\"heatmap\"}],\"histogram2dcontour\":[{\"colorbar\":{\"outlinewidth\":0,\"ticks\":\"\"},\"colorscale\":[[0.0,\"#0d0887\"],[0.1111111111111111,\"#46039f\"],[0.2222222222222222,\"#7201a8\"],[0.3333333333333333,\"#9c179e\"],[0.4444444444444444,\"#bd3786\"],[0.5555555555555556,\"#d8576b\"],[0.6666666666666666,\"#ed7953\"],[0.7777777777777778,\"#fb9f3a\"],[0.8888888888888888,\"#fdca26\"],[1.0,\"#f0f921\"]],\"type\":\"histogram2dcontour\"}],\"histogram2d\":[{\"colorbar\":{\"outlinewidth\":0,\"ticks\":\"\"},\"colorscale\":[[0.0,\"#0d0887\"],[0.1111111111111111,\"#46039f\"],[0.2222222222222222,\"#7201a8\"],[0.3333333333333333,\"#9c179e\"],[0.4444444444444444,\"#bd3786\"],[0.5555555555555556,\"#d8576b\"],[0.6666666666666666,\"#ed7953\"],[0.7777777777777778,\"#fb9f3a\"],[0.8888888888888888,\"#fdca26\"],[1.0,\"#f0f921\"]],\"type\":\"histogram2d\"}],\"histogram\":[{\"marker\":{\"pattern\":{\"fillmode\":\"overlay\",\"size\":10,\"solidity\":0.2}},\"type\":\"histogram\"}],\"mesh3d\":[{\"colorbar\":{\"outlinewidth\":0,\"ticks\":\"\"},\"type\":\"mesh3d\"}],\"parcoords\":[{\"line\":{\"colorbar\":{\"outlinewidth\":0,\"ticks\":\"\"}},\"type\":\"parcoords\"}],\"pie\":[{\"automargin\":true,\"type\":\"pie\"}],\"scatter3d\":[{\"line\":{\"colorbar\":{\"outlinewidth\":0,\"ticks\":\"\"}},\"marker\":{\"colorbar\":{\"outlinewidth\":0,\"ticks\":\"\"}},\"type\":\"scatter3d\"}],\"scattercarpet\":[{\"marker\":{\"colorbar\":{\"outlinewidth\":0,\"ticks\":\"\"}},\"type\":\"scattercarpet\"}],\"scattergeo\":[{\"marker\":{\"colorbar\":{\"outlinewidth\":0,\"ticks\":\"\"}},\"type\":\"scattergeo\"}],\"scattergl\":[{\"marker\":{\"colorbar\":{\"outlinewidth\":0,\"ticks\":\"\"}},\"type\":\"scattergl\"}],\"scattermapbox\":[{\"marker\":{\"colorbar\":{\"outlinewidth\":0,\"ticks\":\"\"}},\"type\":\"scattermapbox\"}],\"scatterpolargl\":[{\"marker\":{\"colorbar\":{\"outlinewidth\":0,\"ticks\":\"\"}},\"type\":\"scatterpolargl\"}],\"scatterpolar\":[{\"marker\":{\"colorbar\":{\"outlinewidth\":0,\"ticks\":\"\"}},\"type\":\"scatterpolar\"}],\"scatter\":[{\"marker\":{\"colorbar\":{\"outlinewidth\":0,\"ticks\":\"\"}},\"type\":\"scatter\"}],\"scatterternary\":[{\"marker\":{\"colorbar\":{\"outlinewidth\":0,\"ticks\":\"\"}},\"type\":\"scatterternary\"}],\"surface\":[{\"colorbar\":{\"outlinewidth\":0,\"ticks\":\"\"},\"colorscale\":[[0.0,\"#0d0887\"],[0.1111111111111111,\"#46039f\"],[0.2222222222222222,\"#7201a8\"],[0.3333333333333333,\"#9c179e\"],[0.4444444444444444,\"#bd3786\"],[0.5555555555555556,\"#d8576b\"],[0.6666666666666666,\"#ed7953\"],[0.7777777777777778,\"#fb9f3a\"],[0.8888888888888888,\"#fdca26\"],[1.0,\"#f0f921\"]],\"type\":\"surface\"}],\"table\":[{\"cells\":{\"fill\":{\"color\":\"#EBF0F8\"},\"line\":{\"color\":\"white\"}},\"header\":{\"fill\":{\"color\":\"#C8D4E3\"},\"line\":{\"color\":\"white\"}},\"type\":\"table\"}]},\"layout\":{\"annotationdefaults\":{\"arrowcolor\":\"#2a3f5f\",\"arrowhead\":0,\"arrowwidth\":1},\"autotypenumbers\":\"strict\",\"coloraxis\":{\"colorbar\":{\"outlinewidth\":0,\"ticks\":\"\"}},\"colorscale\":{\"diverging\":[[0,\"#8e0152\"],[0.1,\"#c51b7d\"],[0.2,\"#de77ae\"],[0.3,\"#f1b6da\"],[0.4,\"#fde0ef\"],[0.5,\"#f7f7f7\"],[0.6,\"#e6f5d0\"],[0.7,\"#b8e186\"],[0.8,\"#7fbc41\"],[0.9,\"#4d9221\"],[1,\"#276419\"]],\"sequential\":[[0.0,\"#0d0887\"],[0.1111111111111111,\"#46039f\"],[0.2222222222222222,\"#7201a8\"],[0.3333333333333333,\"#9c179e\"],[0.4444444444444444,\"#bd3786\"],[0.5555555555555556,\"#d8576b\"],[0.6666666666666666,\"#ed7953\"],[0.7777777777777778,\"#fb9f3a\"],[0.8888888888888888,\"#fdca26\"],[1.0,\"#f0f921\"]],\"sequentialminus\":[[0.0,\"#0d0887\"],[0.1111111111111111,\"#46039f\"],[0.2222222222222222,\"#7201a8\"],[0.3333333333333333,\"#9c179e\"],[0.4444444444444444,\"#bd3786\"],[0.5555555555555556,\"#d8576b\"],[0.6666666666666666,\"#ed7953\"],[0.7777777777777778,\"#fb9f3a\"],[0.8888888888888888,\"#fdca26\"],[1.0,\"#f0f921\"]]},\"colorway\":[\"#636efa\",\"#EF553B\",\"#00cc96\",\"#ab63fa\",\"#FFA15A\",\"#19d3f3\",\"#FF6692\",\"#B6E880\",\"#FF97FF\",\"#FECB52\"],\"font\":{\"color\":\"#2a3f5f\"},\"geo\":{\"bgcolor\":\"white\",\"lakecolor\":\"white\",\"landcolor\":\"#E5ECF6\",\"showlakes\":true,\"showland\":true,\"subunitcolor\":\"white\"},\"hoverlabel\":{\"align\":\"left\"},\"hovermode\":\"closest\",\"mapbox\":{\"style\":\"light\"},\"paper_bgcolor\":\"white\",\"plot_bgcolor\":\"#E5ECF6\",\"polar\":{\"angularaxis\":{\"gridcolor\":\"white\",\"linecolor\":\"white\",\"ticks\":\"\"},\"bgcolor\":\"#E5ECF6\",\"radialaxis\":{\"gridcolor\":\"white\",\"linecolor\":\"white\",\"ticks\":\"\"}},\"scene\":{\"xaxis\":{\"backgroundcolor\":\"#E5ECF6\",\"gridcolor\":\"white\",\"gridwidth\":2,\"linecolor\":\"white\",\"showbackground\":true,\"ticks\":\"\",\"zerolinecolor\":\"white\"},\"yaxis\":{\"backgroundcolor\":\"#E5ECF6\",\"gridcolor\":\"white\",\"gridwidth\":2,\"linecolor\":\"white\",\"showbackground\":true,\"ticks\":\"\",\"zerolinecolor\":\"white\"},\"zaxis\":{\"backgroundcolor\":\"#E5ECF6\",\"gridcolor\":\"white\",\"gridwidth\":2,\"linecolor\":\"white\",\"showbackground\":true,\"ticks\":\"\",\"zerolinecolor\":\"white\"}},\"shapedefaults\":{\"line\":{\"color\":\"#2a3f5f\"}},\"ternary\":{\"aaxis\":{\"gridcolor\":\"white\",\"linecolor\":\"white\",\"ticks\":\"\"},\"baxis\":{\"gridcolor\":\"white\",\"linecolor\":\"white\",\"ticks\":\"\"},\"bgcolor\":\"#E5ECF6\",\"caxis\":{\"gridcolor\":\"white\",\"linecolor\":\"white\",\"ticks\":\"\"}},\"title\":{\"x\":0.05},\"xaxis\":{\"automargin\":true,\"gridcolor\":\"white\",\"linecolor\":\"white\",\"ticks\":\"\",\"title\":{\"standoff\":15},\"zerolinecolor\":\"white\",\"zerolinewidth\":2},\"yaxis\":{\"automargin\":true,\"gridcolor\":\"white\",\"linecolor\":\"white\",\"ticks\":\"\",\"title\":{\"standoff\":15},\"zerolinecolor\":\"white\",\"zerolinewidth\":2}}},\"title\":{\"font\":{\"color\":\"#4D5663\"}},\"xaxis\":{\"anchor\":\"y\",\"domain\":[0.0,0.2125],\"gridcolor\":\"#E1E5ED\",\"showgrid\":false,\"tickfont\":{\"color\":\"#4D5663\"},\"title\":{\"font\":{\"color\":\"#4D5663\"},\"text\":\"\"},\"zerolinecolor\":\"#E1E5ED\"},\"yaxis\":{\"anchor\":\"x\",\"domain\":[0.8025,1.0],\"gridcolor\":\"#E1E5ED\",\"showgrid\":false,\"tickfont\":{\"color\":\"#4D5663\"},\"title\":{\"font\":{\"color\":\"#4D5663\"},\"text\":\"\"},\"zerolinecolor\":\"#E1E5ED\"},\"xaxis2\":{\"anchor\":\"y2\",\"domain\":[0.2625,0.475],\"gridcolor\":\"#E1E5ED\",\"showgrid\":false,\"tickfont\":{\"color\":\"#4D5663\"},\"title\":{\"font\":{\"color\":\"#4D5663\"},\"text\":\"\"},\"zerolinecolor\":\"#E1E5ED\"},\"yaxis2\":{\"anchor\":\"x2\",\"domain\":[0.8025,1.0],\"gridcolor\":\"#E1E5ED\",\"showgrid\":false,\"tickfont\":{\"color\":\"#4D5663\"},\"title\":{\"font\":{\"color\":\"#4D5663\"},\"text\":\"\"},\"zerolinecolor\":\"#E1E5ED\"},\"xaxis3\":{\"anchor\":\"y3\",\"domain\":[0.525,0.7375],\"gridcolor\":\"#E1E5ED\",\"showgrid\":false,\"tickfont\":{\"color\":\"#4D5663\"},\"title\":{\"font\":{\"color\":\"#4D5663\"},\"text\":\"\"},\"zerolinecolor\":\"#E1E5ED\"},\"yaxis3\":{\"anchor\":\"x3\",\"domain\":[0.8025,1.0],\"gridcolor\":\"#E1E5ED\",\"showgrid\":false,\"tickfont\":{\"color\":\"#4D5663\"},\"title\":{\"font\":{\"color\":\"#4D5663\"},\"text\":\"\"},\"zerolinecolor\":\"#E1E5ED\"},\"xaxis4\":{\"anchor\":\"y4\",\"domain\":[0.7875,1.0],\"gridcolor\":\"#E1E5ED\",\"showgrid\":false,\"tickfont\":{\"color\":\"#4D5663\"},\"title\":{\"font\":{\"color\":\"#4D5663\"},\"text\":\"\"},\"zerolinecolor\":\"#E1E5ED\"},\"yaxis4\":{\"anchor\":\"x4\",\"domain\":[0.8025,1.0],\"gridcolor\":\"#E1E5ED\",\"showgrid\":false,\"tickfont\":{\"color\":\"#4D5663\"},\"title\":{\"font\":{\"color\":\"#4D5663\"},\"text\":\"\"},\"zerolinecolor\":\"#E1E5ED\"},\"xaxis5\":{\"anchor\":\"y5\",\"domain\":[0.0,0.2125],\"gridcolor\":\"#E1E5ED\",\"showgrid\":false,\"tickfont\":{\"color\":\"#4D5663\"},\"title\":{\"font\":{\"color\":\"#4D5663\"},\"text\":\"\"},\"zerolinecolor\":\"#E1E5ED\"},\"yaxis5\":{\"anchor\":\"x5\",\"domain\":[0.535,0.7325],\"gridcolor\":\"#E1E5ED\",\"showgrid\":false,\"tickfont\":{\"color\":\"#4D5663\"},\"title\":{\"font\":{\"color\":\"#4D5663\"},\"text\":\"\"},\"zerolinecolor\":\"#E1E5ED\"},\"xaxis6\":{\"anchor\":\"y6\",\"domain\":[0.2625,0.475],\"gridcolor\":\"#E1E5ED\",\"showgrid\":false,\"tickfont\":{\"color\":\"#4D5663\"},\"title\":{\"font\":{\"color\":\"#4D5663\"},\"text\":\"\"},\"zerolinecolor\":\"#E1E5ED\"},\"yaxis6\":{\"anchor\":\"x6\",\"domain\":[0.535,0.7325],\"gridcolor\":\"#E1E5ED\",\"showgrid\":false,\"tickfont\":{\"color\":\"#4D5663\"},\"title\":{\"font\":{\"color\":\"#4D5663\"},\"text\":\"\"},\"zerolinecolor\":\"#E1E5ED\"},\"xaxis7\":{\"anchor\":\"y7\",\"domain\":[0.525,0.7375],\"gridcolor\":\"#E1E5ED\",\"showgrid\":false,\"tickfont\":{\"color\":\"#4D5663\"},\"title\":{\"font\":{\"color\":\"#4D5663\"},\"text\":\"\"},\"zerolinecolor\":\"#E1E5ED\"},\"yaxis7\":{\"anchor\":\"x7\",\"domain\":[0.535,0.7325],\"gridcolor\":\"#E1E5ED\",\"showgrid\":false,\"tickfont\":{\"color\":\"#4D5663\"},\"title\":{\"font\":{\"color\":\"#4D5663\"},\"text\":\"\"},\"zerolinecolor\":\"#E1E5ED\"},\"xaxis8\":{\"anchor\":\"y8\",\"domain\":[0.7875,1.0],\"gridcolor\":\"#E1E5ED\",\"showgrid\":false,\"tickfont\":{\"color\":\"#4D5663\"},\"title\":{\"font\":{\"color\":\"#4D5663\"},\"text\":\"\"},\"zerolinecolor\":\"#E1E5ED\"},\"yaxis8\":{\"anchor\":\"x8\",\"domain\":[0.535,0.7325],\"gridcolor\":\"#E1E5ED\",\"showgrid\":false,\"tickfont\":{\"color\":\"#4D5663\"},\"title\":{\"font\":{\"color\":\"#4D5663\"},\"text\":\"\"},\"zerolinecolor\":\"#E1E5ED\"},\"xaxis9\":{\"anchor\":\"y9\",\"domain\":[0.0,0.2125],\"gridcolor\":\"#E1E5ED\",\"showgrid\":false,\"tickfont\":{\"color\":\"#4D5663\"},\"title\":{\"font\":{\"color\":\"#4D5663\"},\"text\":\"\"},\"zerolinecolor\":\"#E1E5ED\"},\"yaxis9\":{\"anchor\":\"x9\",\"domain\":[0.2675,0.465],\"gridcolor\":\"#E1E5ED\",\"showgrid\":false,\"tickfont\":{\"color\":\"#4D5663\"},\"title\":{\"font\":{\"color\":\"#4D5663\"},\"text\":\"\"},\"zerolinecolor\":\"#E1E5ED\"},\"xaxis10\":{\"anchor\":\"y10\",\"domain\":[0.2625,0.475],\"gridcolor\":\"#E1E5ED\",\"showgrid\":false,\"tickfont\":{\"color\":\"#4D5663\"},\"title\":{\"font\":{\"color\":\"#4D5663\"},\"text\":\"\"},\"zerolinecolor\":\"#E1E5ED\"},\"yaxis10\":{\"anchor\":\"x10\",\"domain\":[0.2675,0.465],\"gridcolor\":\"#E1E5ED\",\"showgrid\":false,\"tickfont\":{\"color\":\"#4D5663\"},\"title\":{\"font\":{\"color\":\"#4D5663\"},\"text\":\"\"},\"zerolinecolor\":\"#E1E5ED\"},\"xaxis11\":{\"anchor\":\"y11\",\"domain\":[0.525,0.7375],\"gridcolor\":\"#E1E5ED\",\"showgrid\":false,\"tickfont\":{\"color\":\"#4D5663\"},\"title\":{\"font\":{\"color\":\"#4D5663\"},\"text\":\"\"},\"zerolinecolor\":\"#E1E5ED\"},\"yaxis11\":{\"anchor\":\"x11\",\"domain\":[0.2675,0.465],\"gridcolor\":\"#E1E5ED\",\"showgrid\":false,\"tickfont\":{\"color\":\"#4D5663\"},\"title\":{\"font\":{\"color\":\"#4D5663\"},\"text\":\"\"},\"zerolinecolor\":\"#E1E5ED\"},\"xaxis12\":{\"anchor\":\"y12\",\"domain\":[0.7875,1.0],\"gridcolor\":\"#E1E5ED\",\"showgrid\":false,\"tickfont\":{\"color\":\"#4D5663\"},\"title\":{\"font\":{\"color\":\"#4D5663\"},\"text\":\"\"},\"zerolinecolor\":\"#E1E5ED\"},\"yaxis12\":{\"anchor\":\"x12\",\"domain\":[0.2675,0.465],\"gridcolor\":\"#E1E5ED\",\"showgrid\":false,\"tickfont\":{\"color\":\"#4D5663\"},\"title\":{\"font\":{\"color\":\"#4D5663\"},\"text\":\"\"},\"zerolinecolor\":\"#E1E5ED\"},\"xaxis13\":{\"anchor\":\"y13\",\"domain\":[0.0,0.2125],\"gridcolor\":\"#E1E5ED\",\"showgrid\":false,\"tickfont\":{\"color\":\"#4D5663\"},\"title\":{\"font\":{\"color\":\"#4D5663\"},\"text\":\"\"},\"zerolinecolor\":\"#E1E5ED\"},\"yaxis13\":{\"anchor\":\"x13\",\"domain\":[0.0,0.1975],\"gridcolor\":\"#E1E5ED\",\"showgrid\":false,\"tickfont\":{\"color\":\"#4D5663\"},\"title\":{\"font\":{\"color\":\"#4D5663\"},\"text\":\"\"},\"zerolinecolor\":\"#E1E5ED\"},\"xaxis14\":{\"anchor\":\"y14\",\"domain\":[0.2625,0.475],\"gridcolor\":\"#E1E5ED\",\"showgrid\":false,\"tickfont\":{\"color\":\"#4D5663\"},\"title\":{\"font\":{\"color\":\"#4D5663\"},\"text\":\"\"},\"zerolinecolor\":\"#E1E5ED\"},\"yaxis14\":{\"anchor\":\"x14\",\"domain\":[0.0,0.1975],\"gridcolor\":\"#E1E5ED\",\"showgrid\":false,\"tickfont\":{\"color\":\"#4D5663\"},\"title\":{\"font\":{\"color\":\"#4D5663\"},\"text\":\"\"},\"zerolinecolor\":\"#E1E5ED\"},\"xaxis15\":{\"anchor\":\"y15\",\"domain\":[0.525,0.7375],\"gridcolor\":\"#E1E5ED\",\"showgrid\":false,\"tickfont\":{\"color\":\"#4D5663\"},\"title\":{\"font\":{\"color\":\"#4D5663\"},\"text\":\"\"},\"zerolinecolor\":\"#E1E5ED\"},\"yaxis15\":{\"anchor\":\"x15\",\"domain\":[0.0,0.1975],\"gridcolor\":\"#E1E5ED\",\"showgrid\":false,\"tickfont\":{\"color\":\"#4D5663\"},\"title\":{\"font\":{\"color\":\"#4D5663\"},\"text\":\"\"},\"zerolinecolor\":\"#E1E5ED\"},\"xaxis16\":{\"anchor\":\"y16\",\"domain\":[0.7875,1.0],\"gridcolor\":\"#E1E5ED\",\"showgrid\":false,\"tickfont\":{\"color\":\"#4D5663\"},\"title\":{\"font\":{\"color\":\"#4D5663\"},\"text\":\"\"},\"zerolinecolor\":\"#E1E5ED\"},\"yaxis16\":{\"anchor\":\"x16\",\"domain\":[0.0,0.1975],\"gridcolor\":\"#E1E5ED\",\"showgrid\":false,\"tickfont\":{\"color\":\"#4D5663\"},\"title\":{\"font\":{\"color\":\"#4D5663\"},\"text\":\"\"},\"zerolinecolor\":\"#E1E5ED\"}},                        {\"showLink\": true, \"linkText\": \"Export to plot.ly\", \"plotlyServerURL\": \"https://plot.ly\", \"responsive\": true}                    ).then(function(){\n",
       "                            \n",
       "var gd = document.getElementById('86638550-dc8c-4d1b-b1e5-67500521560e');\n",
       "var x = new MutationObserver(function (mutations, observer) {{\n",
       "        var display = window.getComputedStyle(gd).display;\n",
       "        if (!display || display === 'none') {{\n",
       "            console.log([gd, 'removed!']);\n",
       "            Plotly.purge(gd);\n",
       "            observer.disconnect();\n",
       "        }}\n",
       "}});\n",
       "\n",
       "// Listen for the removal of the full notebook cells\n",
       "var notebookContainer = gd.closest('#notebook-container');\n",
       "if (notebookContainer) {{\n",
       "    x.observe(notebookContainer, {childList: true});\n",
       "}}\n",
       "\n",
       "// Listen for the clearing of the current output cell\n",
       "var outputEl = gd.closest('.output');\n",
       "if (outputEl) {{\n",
       "    x.observe(outputEl, {childList: true});\n",
       "}}\n",
       "\n",
       "                        })                };                });            </script>        </div>"
      ]
     },
     "metadata": {},
     "output_type": "display_data"
    }
   ],
   "source": [
    "df.scatter_matrix()"
   ]
  }
 ],
 "metadata": {
  "kernelspec": {
   "display_name": "Python 3.11.0 64-bit",
   "language": "python",
   "name": "python3"
  },
  "language_info": {
   "codemirror_mode": {
    "name": "ipython",
    "version": 3
   },
   "file_extension": ".py",
   "mimetype": "text/x-python",
   "name": "python",
   "nbconvert_exporter": "python",
   "pygments_lexer": "ipython3",
   "version": "3.11.0"
  },
  "vscode": {
   "interpreter": {
    "hash": "eb12fd26777115caf58cdd59753ce1b114064c9ca385271f3c13a9a4545ccffa"
   }
  }
 },
 "nbformat": 4,
 "nbformat_minor": 1
}
